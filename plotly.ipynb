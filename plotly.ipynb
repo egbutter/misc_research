{
 "cells": [
  {
   "cell_type": "code",
   "execution_count": 1,
   "metadata": {},
   "outputs": [],
   "source": [
    "#!pip install --user plotly==4.1.0"
   ]
  },
  {
   "cell_type": "code",
   "execution_count": 2,
   "metadata": {},
   "outputs": [],
   "source": [
    "import pandas as pd\n",
    "import numpy as np\n",
    "import qgrid"
   ]
  },
  {
   "cell_type": "code",
   "execution_count": 3,
   "metadata": {},
   "outputs": [],
   "source": [
    "import plotly.graph_objects as go"
   ]
  },
  {
   "cell_type": "code",
   "execution_count": 4,
   "metadata": {},
   "outputs": [],
   "source": [
    "periods = 4000\n",
    "security_1 = np.cumsum(np.random.randn(periods)) + 100.\n",
    "security_2 = security_1 + np.cumsum(np.random.randn(periods))*0.5 \n",
    "dates = pd.date_range(start='06-01-2007', periods=periods, freq='d')\n",
    "df = pd.DataFrame(index=dates, data={'security_1':security_1, 'security_2':security_2})\n"
   ]
  },
  {
   "cell_type": "code",
   "execution_count": 49,
   "metadata": {},
   "outputs": [],
   "source": [
    "colors = np.random.randn(len(df))\n",
    "sizes = np.random.rand(len(df))\n",
    "\n",
    "layout = go.Layout(\n",
    "    plot_bgcolor='Black',\n",
    "    paper_bgcolor='Black',\n",
    "    xaxis = {'showgrid': False, 'zeroline': False, 'showticklabels': False},\n",
    "    yaxis = {'showgrid': False, 'zeroline': False, 'showticklabels': False},\n",
    "    margin = {'l': 10, 'r': 10, 't': 10, 'b': 10},\n",
    ")\n",
    "\n",
    "scatter = go.Scattergl(\n",
    "    x = df['security_1'],\n",
    "    y = df['security_2'],\n",
    "    mode='markers',\n",
    "    hoverinfo='none',\n",
    "    marker = {\n",
    "        'line_width': 0,\n",
    "        'color': colors,\n",
    "        'size': sizes*15,\n",
    "        'showscale': False,\n",
    "        'colorscale': \"Greens\"\n",
    "    }\n",
    ")\n",
    "\n",
    "fig = go.FigureWidget(\n",
    "    data=[scatter],\n",
    "    layout=layout,\n",
    " )\n",
    "\n",
    "def lasso_event_handler(trace, points, state):\n",
    "    inds = np.array(points.point_inds)\n",
    "    qg.df = df.iloc[inds, :]\n",
    "\n",
    "def lasso_unselect_handler(trade, points):\n",
    "    qg.df = pd.DataFrame()\n",
    "    \n",
    "def hover_event_handler(trade, points, state):\n",
    "    inds = np.array(points.point_inds)\n",
    "    print(inds)\n",
    "\n",
    "def click_event_handler(trade, points, state):\n",
    "    inds = np.array(points.point_inds)\n",
    "    print(inds)\n",
    "    \n",
    "#Note: Callbacks will only be triggered when the trace belongs to a\n",
    "#    instance of plotly.graph_objs.FigureWidget and it is displayed in an\n",
    "#    ipywidget context. Callbacks will not be triggered on figures\n",
    "#   that are displayed using plot/iplot.\n",
    "\n",
    "# you need to use FigureWidget and then *not* use .show()\n",
    "s1 = fig.data[0]     # <-- you need to create the figure first, then get scatter back to attach the event handlers\n",
    "s1.on_selection(lasso_event_handler)\n",
    "#s1.on_hover(hover_event_handler)\n",
    "s1.on_click(click_event_handler)\n",
    "s1.on_deselect(lasso_unselect_handler)"
   ]
  },
  {
   "cell_type": "code",
   "execution_count": 50,
   "metadata": {},
   "outputs": [],
   "source": [
    "df_selects = pd.DataFrame()\n",
    "qg = qgrid.show_grid(df_selects)"
   ]
  },
  {
   "cell_type": "code",
   "execution_count": 51,
   "metadata": {},
   "outputs": [],
   "source": [
    "# TODO: make the hover plots\n",
    "# TODO: custom color scale\n",
    "# TODO: node trace and edge trace"
   ]
  },
  {
   "cell_type": "code",
   "execution_count": 52,
   "metadata": {},
   "outputs": [
    {
     "data": {
      "application/vnd.jupyter.widget-view+json": {
       "model_id": "df6cccfa5018436fbeec058e27ae69a9",
       "version_major": 2,
       "version_minor": 0
      },
      "text/plain": [
       "QgridWidget(grid_options={'fullWidthRows': True, 'syncColumnCellResize': True, 'forceFitColumns': True, 'defau…"
      ]
     },
     "metadata": {},
     "output_type": "display_data"
    },
    {
     "name": "stdout",
     "output_type": "stream",
     "text": [
      "New selected row index: 11\n",
      "New selected row index: 10\n",
      "New selected row index: 13\n",
      "New selected row index: 14\n",
      "New selected row index: 12\n",
      "New selected row index: 11\n",
      "New selected row index: 9\n",
      "New selected row index: 14\n",
      "New selected row index: 15\n",
      "New selected row index: 13\n",
      "New selected row index: 9\n",
      "New selected row index: 6\n",
      "New selected row index: 9\n",
      "New selected row index: 13\n"
     ]
    }
   ],
   "source": [
    "qg"
   ]
  },
  {
   "cell_type": "code",
   "execution_count": 82,
   "metadata": {},
   "outputs": [],
   "source": [
    "def on_row_selected(change):\n",
    "    print(f'New selected row index: {change.new[0]}')\n",
    "\n",
    "qg.observe(on_row_selected, names=['_selected_rows'])"
   ]
  },
  {
   "cell_type": "code",
   "execution_count": 53,
   "metadata": {
    "scrolled": false
   },
   "outputs": [
    {
     "data": {
      "application/vnd.jupyter.widget-view+json": {
       "model_id": "cc0eb688011e4d08a39f019361375339",
       "version_major": 2,
       "version_minor": 0
      },
      "text/plain": [
       "FigureWidget({\n",
       "    'data': [{'hoverinfo': 'none',\n",
       "              'marker': {'color': array([-2.19603599, -1.261…"
      ]
     },
     "metadata": {},
     "output_type": "display_data"
    },
    {
     "name": "stdout",
     "output_type": "stream",
     "text": [
      "[3528]\n",
      "[2842]\n",
      "[1116]\n",
      "[1047]\n",
      "[2851]\n",
      "[3646]\n",
      "[231]\n",
      "[234]\n",
      "[289]\n",
      "[1025]\n",
      "[397]\n",
      "[221]\n",
      "[542]\n",
      "[542]\n",
      "[234]\n",
      "[234]\n",
      "[319]\n",
      "[319]\n"
     ]
    }
   ],
   "source": [
    "# Put everything together\n",
    "fig"
   ]
  },
  {
   "cell_type": "code",
   "execution_count": 10,
   "metadata": {},
   "outputs": [],
   "source": [
    "# This will update the figure plot\n",
    "fig.data[0].x = security_1"
   ]
  },
  {
   "cell_type": "markdown",
   "metadata": {},
   "source": [
    "# Network Plot"
   ]
  },
  {
   "cell_type": "code",
   "execution_count": 77,
   "metadata": {},
   "outputs": [],
   "source": [
    "import networkx as nx"
   ]
  },
  {
   "cell_type": "code",
   "execution_count": 89,
   "metadata": {},
   "outputs": [],
   "source": [
    "# tested and works at 5000 nodes, 283k edges\n",
    "G = nx.random_geometric_graph(250, 0.05)"
   ]
  },
  {
   "cell_type": "code",
   "execution_count": 90,
   "metadata": {},
   "outputs": [],
   "source": [
    "edge_x = []\n",
    "edge_y = []\n",
    "for edge in G.edges():\n",
    "    x0, y0 = G.node[edge[0]]['pos']\n",
    "    x1, y1 = G.node[edge[1]]['pos']\n",
    "    edge_x.append(x0)\n",
    "    edge_x.append(x1)\n",
    "    edge_x.append(None)\n",
    "    edge_y.append(y0)\n",
    "    edge_y.append(y1)\n",
    "    edge_y.append(None)\n",
    "\n",
    "edge_trace = go.Scattergl(   # <-- lots of items need webgl\n",
    "    x=edge_x, y=edge_y,\n",
    "    line=dict(width=0.25, color='#888'),\n",
    "    hoverinfo='none',\n",
    "    mode='lines')\n",
    "\n",
    "node_x = []\n",
    "node_y = []\n",
    "for node in G.nodes():\n",
    "    x, y = G.node[node]['pos']\n",
    "    node_x.append(x)\n",
    "    node_y.append(y)\n",
    "\n",
    "    \n",
    "# Hover and Click do not work on scattergl, but we need webgl bc plot is big\n",
    "# Solution: selector populates qgrid; trap row selection, and plot that\n",
    "node_trace = go.Scattergl(\n",
    "    x=node_x, y=node_y,\n",
    "    mode='markers',\n",
    "    hoverinfo='none',\n",
    "    marker=dict(\n",
    "        showscale=True,\n",
    "        # colorscale options\n",
    "        #'Greys' | 'YlGnBu' | 'Greens' | 'YlOrRd' | 'Bluered' | 'RdBu' |\n",
    "        #'Reds' | 'Blues' | 'Picnic' | 'Rainbow' | 'Portland' | 'Jet' |\n",
    "        #'Hot' | 'Blackbody' | 'Earth' | 'Electric' | 'Viridis' |\n",
    "        colorscale='YlGnBu',\n",
    "        reversescale=False,\n",
    "        color=[],\n",
    "        size=10,\n",
    "        colorbar=dict(\n",
    "            thickness=15,\n",
    "            title='Node Connections',\n",
    "            xanchor='left',\n",
    "            titleside='right'\n",
    "        ),\n",
    "        line_width=2)\n",
    ")"
   ]
  },
  {
   "cell_type": "code",
   "execution_count": 91,
   "metadata": {},
   "outputs": [],
   "source": [
    "node_adjacencies = []\n",
    "for node, adjacencies in enumerate(G.adjacency_iter()):\n",
    "    node_adjacencies.append(len(adjacencies[1]))\n",
    "node_trace.marker.color = node_adjacencies"
   ]
  },
  {
   "cell_type": "code",
   "execution_count": 92,
   "metadata": {},
   "outputs": [
    {
     "data": {
      "application/vnd.jupyter.widget-view+json": {
       "model_id": "b0d2c05ddcf147b180b5b13da9cf6f44",
       "version_major": 2,
       "version_minor": 0
      },
      "text/plain": [
       "FigureWidget({\n",
       "    'data': [{'hoverinfo': 'none',\n",
       "              'line': {'color': '#888', 'width': 0.25},\n",
       "    …"
      ]
     },
     "metadata": {},
     "output_type": "display_data"
    }
   ],
   "source": [
    "layout=go.Layout(\n",
    "    showlegend=False,\n",
    "    hovermode='closest',\n",
    "    margin=dict(b=20,l=5,r=5,t=40),\n",
    "    annotations=[ dict(\n",
    "        text=\"Python code: <a href='https://plot.ly/ipython-notebooks/network-graphs/'> https://plot.ly/ipython-notebooks/network-graphs/</a>\",\n",
    "        showarrow=False,\n",
    "        xref=\"paper\", yref=\"paper\",\n",
    "        x=0.005, y=-0.002 ) ],\n",
    "    xaxis=dict(showgrid=False, zeroline=False, showticklabels=False),\n",
    "    yaxis=dict(showgrid=False, zeroline=False, showticklabels=False)\n",
    ")\n",
    "\n",
    "fig_n = go.FigureWidget(data=[edge_trace, node_trace], layout=layout)\n",
    "\n",
    "fig_n"
   ]
  },
  {
   "cell_type": "code",
   "execution_count": 93,
   "metadata": {},
   "outputs": [
    {
     "data": {
      "text/plain": [
       "717"
      ]
     },
     "execution_count": 93,
     "metadata": {},
     "output_type": "execute_result"
    }
   ],
   "source": [
    "len(edge_x)"
   ]
  },
  {
   "cell_type": "code",
   "execution_count": null,
   "metadata": {},
   "outputs": [],
   "source": []
  }
 ],
 "metadata": {
  "kernelspec": {
   "display_name": "Python 3",
   "language": "python",
   "name": "python3"
  },
  "language_info": {
   "codemirror_mode": {
    "name": "ipython",
    "version": 3
   },
   "file_extension": ".py",
   "mimetype": "text/x-python",
   "name": "python",
   "nbconvert_exporter": "python",
   "pygments_lexer": "ipython3",
   "version": "3.6.6"
  }
 },
 "nbformat": 4,
 "nbformat_minor": 2
}
