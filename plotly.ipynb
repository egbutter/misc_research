{
 "cells": [
  {
   "cell_type": "code",
   "execution_count": 1,
   "metadata": {},
   "outputs": [],
   "source": [
    "#!pip install --user plotly==4.1.0"
   ]
  },
  {
   "cell_type": "code",
   "execution_count": 2,
   "metadata": {},
   "outputs": [],
   "source": [
    "import pandas as pd\n",
    "import numpy as np\n",
    "import qgrid"
   ]
  },
  {
   "cell_type": "code",
   "execution_count": null,
   "metadata": {},
   "outputs": [],
   "source": []
  },
  {
   "cell_type": "code",
   "execution_count": 3,
   "metadata": {},
   "outputs": [],
   "source": [
    "import plotly.graph_objects as go"
   ]
  },
  {
   "cell_type": "code",
   "execution_count": 4,
   "metadata": {},
   "outputs": [],
   "source": [
    "periods = 1000\n",
    "security_1 = np.cumsum(np.random.randn(periods)) + 100.\n",
    "security_2 = security_1 + np.cumsum(np.random.randn(periods))*0.5 \n",
    "dates = pd.date_range(start='06-01-2007', periods=periods, freq='d')\n",
    "df = pd.DataFrame(index=dates, data={'security_1':security_1, 'security_2':security_2})\n"
   ]
  },
  {
   "cell_type": "code",
   "execution_count": 8,
   "metadata": {},
   "outputs": [],
   "source": [
    "colors = np.random.randn(len(df))\n",
    "sizes = np.random.rand(len(df))\n",
    "\n",
    "layout = go.Layout(\n",
    "    plot_bgcolor='Black',\n",
    "    paper_bgcolor='Black',\n",
    "    xaxis = {'showgrid': False, 'zeroline': False, 'showticklabels': False},\n",
    "    yaxis = {'showgrid': False, 'zeroline': False, 'showticklabels': False},\n",
    "    margin = {'l': 10, 'r': 10, 't': 10, 'b': 10}\n",
    ")\n",
    "\n",
    "scatter = go.Scattergl(\n",
    "    x = df['security_1'],\n",
    "    y = df['security_2'],\n",
    "    mode='markers',\n",
    "    hoverinfo='none',\n",
    "    marker = {\n",
    "        'color': colors,\n",
    "        'size': sizes*10,\n",
    "        'showscale': False,\n",
    "        'colorscale': \"Greens\"\n",
    "    }\n",
    ")\n",
    "\n",
    "fig = go.FigureWidget(data=[scatter], layout=layout)\n",
    "\n",
    "def lasso_event_handler(trace, points, state):\n",
    "    inds = np.array(points.point_inds)\n",
    "    print(inds)\n",
    "\n",
    "def hover_event_handler(trade, points, state):\n",
    "    inds = np.array(points.point_inds)\n",
    "    print(inds)\n",
    "    \n",
    "    \n",
    "#Note: Callbacks will only be triggered when the trace belongs to a\n",
    "#    instance of plotly.graph_objs.FigureWidget and it is displayed in an\n",
    "#    ipywidget context. Callbacks will not be triggered on figures\n",
    "#   that are displayed using plot/iplot.\n",
    "    \n",
    "s1 = fig.data[0]     # <-- you need to create the figure first, then get scatter back to attach the event\n",
    "s1.on_selection(lasso_event_handler)\n",
    "s1.on_hover(hover_event_handler)"
   ]
  },
  {
   "cell_type": "code",
   "execution_count": null,
   "metadata": {},
   "outputs": [],
   "source": []
  },
  {
   "cell_type": "code",
   "execution_count": null,
   "metadata": {},
   "outputs": [],
   "source": []
  },
  {
   "cell_type": "code",
   "execution_count": 9,
   "metadata": {
    "scrolled": false
   },
   "outputs": [
    {
     "data": {
      "application/vnd.jupyter.widget-view+json": {
       "model_id": "f516ba09f28d42bc9f02288cf076f9c9",
       "version_major": 2,
       "version_minor": 0
      },
      "text/plain": [
       "FigureWidget({\n",
       "    'data': [{'hoverinfo': 'none',\n",
       "              'marker': {'color': array([-0.68400064, -1.181…"
      ]
     },
     "metadata": {},
     "output_type": "display_data"
    },
    {
     "name": "stdout",
     "output_type": "stream",
     "text": [
      "[4]\n",
      "[3]\n",
      "[1]\n",
      "[71]\n",
      "[72]\n",
      "[71]\n",
      "[80]\n",
      "[118]\n",
      "[128]\n",
      "[148]\n",
      "[57]\n",
      "[228]\n",
      "[235]\n",
      "[59]\n",
      "[510]\n",
      "[215]\n",
      "[91]\n",
      "[92]\n",
      "[95]\n",
      "[220]\n",
      "[70]\n",
      "[903]\n",
      "[897]\n",
      "[904]\n",
      "[352 353 359 360 361 362 363 364 365 366 367 368 369 370 371 372 375 377\n",
      " 379 380 381 383 384 385 386 387 388 389 390 391 392 393 394 395 396 397\n",
      " 398 401 402 403 404 477 478 482 483 484 485 486 487 488 489 490 491 492\n",
      " 493 522 523 524 525 526 527 528 532 533 535 536 537 538 539 540 541 542\n",
      " 543 544 545 546 547 548 549 550 551 552 553 554 555 556 557 558 559 560\n",
      " 561 562 563 564 565 566 567 568 569 571 572 573 574 575 576 577 578 579\n",
      " 580 581 582 583 584 585 586 587 588 589 590 591 592 597 598 599 600 601\n",
      " 602 603 604 605 606 607 608 609 610 611 612 613 614 615 616 617 618 619\n",
      " 620 621 622 623 624 625 628 635 636 637 639 640 641 648 649 650 651 652\n",
      " 653 654 934 952 953 966 967 968 969 970 971 972 973 974 975 976 977 978\n",
      " 979 983 984 989]\n",
      "[407]\n",
      "[752]\n",
      "[756]\n",
      "[753]\n",
      "[760]\n",
      "[758]\n",
      "[765]\n",
      "[760]\n",
      "[752]\n",
      "[852]\n",
      "[477]\n",
      "[564]\n",
      "[553]\n",
      "[551]\n",
      "[538]\n",
      "[545]\n",
      "[546]\n",
      "[546]\n",
      "[622]\n",
      "[621]\n",
      "[388]\n",
      "[553 575]\n",
      "[548]\n",
      "[525]\n",
      "[558]\n",
      "[557]\n",
      "[553]\n",
      "[575]\n",
      "[556]\n",
      "[556]\n",
      "[559]\n",
      "[578]\n",
      "[974]\n",
      "[384]\n",
      "[551]\n",
      "[592]\n"
     ]
    }
   ],
   "source": [
    "# Put everything together\n",
    "fig"
   ]
  },
  {
   "cell_type": "code",
   "execution_count": 45,
   "metadata": {},
   "outputs": [],
   "source": [
    "# This will update the figure plot\n",
    "fig.data[0].x = security_1"
   ]
  },
  {
   "cell_type": "code",
   "execution_count": 21,
   "metadata": {},
   "outputs": [
    {
     "data": {
      "text/plain": [
       "Scattergl({\n",
       "    'hoverinfo': 'none',\n",
       "    'marker': {'color': array([ 1.52590593, -0.93671254, -0.14142007, ...,  0.59657178,  0.0831056 ,\n",
       "                               -1.36039169]),\n",
       "               'colorscale': [[0.0, 'rgb(247,252,245)'], [0.125,\n",
       "                              'rgb(229,245,224)'], [0.25, 'rgb(199,233,192)'],\n",
       "                              [0.375, 'rgb(161,217,155)'], [0.5,\n",
       "                              'rgb(116,196,118)'], [0.625, 'rgb(65,171,93)'],\n",
       "                              [0.75, 'rgb(35,139,69)'], [0.875, 'rgb(0,109,44)'],\n",
       "                              [1.0, 'rgb(0,68,27)']],\n",
       "               'showscale': False,\n",
       "               'size': array([3.11905713, 7.30857497, 6.48467738, ..., 4.7148272 , 3.8723892 ,\n",
       "                              0.41487493])},\n",
       "    'mode': 'markers',\n",
       "    'uid': '3fc38d0f-4612-4945-aacc-6f05a5d16db5',\n",
       "    'x': array([99.49890631, 99.07530849, 99.11814915, ..., 98.73955677, 99.748331  ,\n",
       "                99.50491388]),\n",
       "    'y': array([ 99.27725311,  98.79687978,  98.69103328, ..., 105.43922734,\n",
       "                107.48392534, 108.07750006])\n",
       "})"
      ]
     },
     "execution_count": 21,
     "metadata": {},
     "output_type": "execute_result"
    }
   ],
   "source": [
    "fig.data[0]"
   ]
  },
  {
   "cell_type": "code",
   "execution_count": null,
   "metadata": {},
   "outputs": [],
   "source": []
  },
  {
   "cell_type": "code",
   "execution_count": null,
   "metadata": {},
   "outputs": [],
   "source": []
  },
  {
   "cell_type": "code",
   "execution_count": 14,
   "metadata": {},
   "outputs": [],
   "source": [
    "scatter.x = [1, 3.2, 5.4, 7.6, 9.8, 12.5]\n",
    "scatter.y = [1, 3.2, 5.4, 7.6, 9.8, 12.5]"
   ]
  },
  {
   "cell_type": "code",
   "execution_count": 15,
   "metadata": {},
   "outputs": [
    {
     "data": {
      "text/plain": [
       "Scattergl({\n",
       "    'marker': {'color': array([-1.39264427e+00,  6.46883410e-01, -5.48811900e-01, ...,  1.77469924e-03,\n",
       "                                1.81768846e+00,  6.53956136e-01]),\n",
       "               'colorscale': [[0.0, 'rgb(247,252,245)'], [0.125,\n",
       "                              'rgb(229,245,224)'], [0.25, 'rgb(199,233,192)'],\n",
       "                              [0.375, 'rgb(161,217,155)'], [0.5,\n",
       "                              'rgb(116,196,118)'], [0.625, 'rgb(65,171,93)'],\n",
       "                              [0.75, 'rgb(35,139,69)'], [0.875, 'rgb(0,109,44)'],\n",
       "                              [1.0, 'rgb(0,68,27)']],\n",
       "               'showscale': False,\n",
       "               'size': array([4.4860932 , 4.27886502, 9.09354631, ..., 3.60902783, 0.46611195,\n",
       "                              9.50529843])},\n",
       "    'mode': 'markers',\n",
       "    'x': [1, 3.2, 5.4, 7.6, 9.8, 12.5],\n",
       "    'y': [1, 3.2, 5.4, 7.6, 9.8, 12.5]\n",
       "})"
      ]
     },
     "execution_count": 15,
     "metadata": {},
     "output_type": "execute_result"
    }
   ],
   "source": [
    "scatter"
   ]
  },
  {
   "cell_type": "code",
   "execution_count": 3,
   "metadata": {},
   "outputs": [],
   "source": []
  },
  {
   "cell_type": "code",
   "execution_count": 85,
   "metadata": {},
   "outputs": [],
   "source": [
    "df_selects = pd.DataFrame()\n",
    "qg = qgrid.show_grid(df_selects)"
   ]
  },
  {
   "cell_type": "code",
   "execution_count": null,
   "metadata": {},
   "outputs": [],
   "source": []
  },
  {
   "cell_type": "code",
   "execution_count": null,
   "metadata": {},
   "outputs": [],
   "source": []
  }
 ],
 "metadata": {
  "kernelspec": {
   "display_name": "Python 3",
   "language": "python",
   "name": "python3"
  },
  "language_info": {
   "codemirror_mode": {
    "name": "ipython",
    "version": 3
   },
   "file_extension": ".py",
   "mimetype": "text/x-python",
   "name": "python",
   "nbconvert_exporter": "python",
   "pygments_lexer": "ipython3",
   "version": "3.6.6"
  }
 },
 "nbformat": 4,
 "nbformat_minor": 2
}
