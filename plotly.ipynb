{
 "cells": [
  {
   "cell_type": "code",
   "execution_count": 1,
   "metadata": {},
   "outputs": [],
   "source": [
    "#!pip install --user plotly==4.1.0"
   ]
  },
  {
   "cell_type": "code",
   "execution_count": 2,
   "metadata": {},
   "outputs": [],
   "source": [
    "import pandas as pd\n",
    "import numpy as np\n",
    "import qgrid"
   ]
  },
  {
   "cell_type": "code",
   "execution_count": 3,
   "metadata": {},
   "outputs": [],
   "source": [
    "import plotly.graph_objects as go"
   ]
  },
  {
   "cell_type": "code",
   "execution_count": 4,
   "metadata": {},
   "outputs": [],
   "source": [
    "periods = 4000\n",
    "security_1 = np.cumsum(np.random.randn(periods)) + 100.\n",
    "security_2 = security_1 + np.cumsum(np.random.randn(periods))*0.5 \n",
    "dates = pd.date_range(start='06-01-2007', periods=periods, freq='d')\n",
    "df = pd.DataFrame(index=dates, data={'security_1':security_1, 'security_2':security_2})\n"
   ]
  },
  {
   "cell_type": "code",
   "execution_count": 7,
   "metadata": {},
   "outputs": [],
   "source": [
    "colors = np.random.randn(len(df))\n",
    "sizes = np.random.rand(len(df))\n",
    "\n",
    "layout = go.Layout(\n",
    "    plot_bgcolor='Black',\n",
    "    paper_bgcolor='Black',\n",
    "    xaxis = {'showgrid': False, 'zeroline': False, 'showticklabels': False},\n",
    "    yaxis = {'showgrid': False, 'zeroline': False, 'showticklabels': False},\n",
    "    margin = {'l': 10, 'r': 10, 't': 10, 'b': 10},\n",
    ")\n",
    "\n",
    "scatter = go.Scatter(\n",
    "    x=df['security_1'],\n",
    "    y=df['security_2'],\n",
    "    mode='markers',\n",
    "    hoverinfo='none',\n",
    "    marker={\n",
    "        'line_width': 0,\n",
    "        'color': colors,\n",
    "        'size': sizes*15,\n",
    "        'showscale': False,\n",
    "        'colorscale': \"Greens\"\n",
    "    }\n",
    ")\n",
    "\n",
    "fig = go.FigureWidget(\n",
    "    data=[scatter],\n",
    "    layout=layout,\n",
    " )\n",
    "\n",
    "def lasso_event_handler(trace, points, state):\n",
    "    inds = np.array(points.point_inds)\n",
    "    qg.df = df.iloc[inds, :]\n",
    "\n",
    "def lasso_unselect_handler(trade, points):\n",
    "    qg.df = pd.DataFrame()\n",
    "    \n",
    "def hover_event_handler(trade, points, state):\n",
    "    inds = np.array(points.point_inds)\n",
    "    print(inds)\n",
    "\n",
    "def click_event_handler(trade, points, state):\n",
    "    inds = np.array(points.point_inds)\n",
    "    print(inds)\n",
    "    \n",
    "#Note: Callbacks will only be triggered when the trace belongs to a\n",
    "#    instance of plotly.graph_objs.FigureWidget and it is displayed in an\n",
    "#    ipywidget context. Callbacks will not be triggered on figures\n",
    "#   that are displayed using plot/iplot.\n",
    "\n",
    "#contour = fig.add_histogram2dcontour(x=s1.x, y=s1.y, colorscale='Cividis',reversescale=False, hoverinfo='none', opacity=0.8)\n",
    "\n",
    "# you need to use FigureWidget and then *not* use .show()\n",
    "s1 = fig.data[0]     # <-- you need to create the figure first, then get scatter back to attach the event handlers\n",
    "s1.on_selection(lasso_event_handler)\n",
    "s1.on_hover(hover_event_handler)\n",
    "s1.on_click(click_event_handler)\n",
    "s1.on_deselect(lasso_unselect_handler)"
   ]
  },
  {
   "cell_type": "code",
   "execution_count": 8,
   "metadata": {},
   "outputs": [],
   "source": [
    "df_selects = pd.DataFrame()\n",
    "qg = qgrid.show_grid(df_selects)"
   ]
  },
  {
   "cell_type": "code",
   "execution_count": 9,
   "metadata": {},
   "outputs": [],
   "source": [
    "# TODO: make the hover plots\n",
    "# TODO: custom color scale\n",
    "# TODO: node trace and edge trace"
   ]
  },
  {
   "cell_type": "code",
   "execution_count": 10,
   "metadata": {},
   "outputs": [
    {
     "data": {
      "application/vnd.jupyter.widget-view+json": {
       "model_id": "8d19b5f40d32493d99105ee1b639c8f5",
       "version_major": 2,
       "version_minor": 0
      },
      "text/plain": [
       "QgridWidget(grid_options={'fullWidthRows': True, 'syncColumnCellResize': True, 'forceFitColumns': True, 'defau…"
      ]
     },
     "metadata": {},
     "output_type": "display_data"
    }
   ],
   "source": [
    "qg"
   ]
  },
  {
   "cell_type": "code",
   "execution_count": 11,
   "metadata": {},
   "outputs": [],
   "source": [
    "def on_row_selected(change):\n",
    "    print(f'New selected row index: {change.new[0]}')\n",
    "\n",
    "qg.observe(on_row_selected, names=['_selected_rows'])"
   ]
  },
  {
   "cell_type": "code",
   "execution_count": 12,
   "metadata": {
    "scrolled": false
   },
   "outputs": [
    {
     "data": {
      "application/vnd.jupyter.widget-view+json": {
       "model_id": "b59e9bfafc6a4b549e1e5b30ab33933c",
       "version_major": 2,
       "version_minor": 0
      },
      "text/plain": [
       "FigureWidget({\n",
       "    'data': [{'hoverinfo': 'none',\n",
       "              'marker': {'color': array([ 0.46512106,  0.556…"
      ]
     },
     "metadata": {},
     "output_type": "display_data"
    },
    {
     "name": "stdout",
     "output_type": "stream",
     "text": [
      "[300]\n",
      "[309]\n",
      "[301]\n",
      "[358]\n",
      "[383]\n",
      "[419]\n",
      "[808]\n",
      "[891]\n",
      "[906]\n",
      "[772]\n",
      "[767]\n",
      "[588]\n",
      "[363]\n",
      "[368]\n",
      "[260]\n",
      "[261]\n",
      "[337]\n",
      "[604]\n",
      "[543]\n",
      "[563]\n",
      "[714]\n",
      "[774]\n",
      "[768]\n",
      "[764]\n",
      "[1372]\n",
      "[864]\n",
      "[835]\n",
      "[741]\n",
      "[924]\n",
      "[1139]\n",
      "[1342]\n",
      "[1398]\n",
      "[1390]\n",
      "[1389]\n",
      "[1639]\n",
      "[1872]\n",
      "[3308]\n",
      "[3335]\n",
      "[3991]\n",
      "[3986]\n",
      "[1787]\n",
      "[1793]\n",
      "[1805]\n",
      "[1803]\n",
      "[1416]\n",
      "[1419]\n",
      "[1389]\n",
      "[1458]\n",
      "[1801]\n",
      "[3999]\n",
      "[1803]\n",
      "[1802]\n",
      "[1800]\n",
      "[1797]\n",
      "[1796]\n",
      "[1455]\n",
      "[1388]\n",
      "[3997]\n",
      "[1791]\n",
      "[1791]\n",
      "[1808]\n",
      "[1813]\n",
      "[3997]\n",
      "[1816]\n",
      "[3015]\n",
      "[3854]\n",
      "[1912]\n",
      "[3304]\n",
      "[3301]\n",
      "[3370]\n",
      "[3370]\n"
     ]
    }
   ],
   "source": [
    "# Put everything together\n",
    "fig"
   ]
  },
  {
   "cell_type": "code",
   "execution_count": 148,
   "metadata": {},
   "outputs": [],
   "source": []
  },
  {
   "cell_type": "code",
   "execution_count": 13,
   "metadata": {},
   "outputs": [],
   "source": [
    "# This will update the figure plot\n",
    "fig.data[0].x = security_1"
   ]
  },
  {
   "cell_type": "markdown",
   "metadata": {},
   "source": [
    "# Network Plot"
   ]
  },
  {
   "cell_type": "code",
   "execution_count": 23,
   "metadata": {},
   "outputs": [],
   "source": [
    "import networkx as nx"
   ]
  },
  {
   "cell_type": "code",
   "execution_count": 24,
   "metadata": {},
   "outputs": [],
   "source": [
    "# tested and works at 5000 nodes, 283k edges\n",
    "G = nx.random_geometric_graph(250, 0.05)"
   ]
  },
  {
   "cell_type": "code",
   "execution_count": 31,
   "metadata": {},
   "outputs": [],
   "source": [
    "edge_x = []\n",
    "edge_y = []\n",
    "for edge in G.edges():\n",
    "    x0, y0 = G.node[edge[0]]['pos']\n",
    "    x1, y1 = G.node[edge[1]]['pos']\n",
    "    edge_x.append(x0)\n",
    "    edge_x.append(x1)\n",
    "    edge_x.append(None)\n",
    "    edge_y.append(y0)\n",
    "    edge_y.append(y1)\n",
    "    edge_y.append(None)\n",
    "\n",
    "edge_trace = go.Scatter(   # go.Scattergl ( <-- lots of items need webgl\n",
    "    x=edge_x, y=edge_y,\n",
    "    line=dict(width=0.25, color='#888'),\n",
    "    hoverinfo='none',\n",
    "    mode='lines')\n",
    "\n",
    "node_x = []\n",
    "node_y = []\n",
    "for node in G.nodes():\n",
    "    x, y = G.node[node]['pos']\n",
    "    node_x.append(x)\n",
    "    node_y.append(y)\n",
    "\n",
    "    \n",
    "# Hover and Click do not work on scattergl, but we need webgl bc plot is big (number of edges is large)\n",
    "# Solution?: selector populates qgrid; trap row selection, and plot that\n",
    "node_trace = go.Scatter(\n",
    "    x=node_x, y=node_y,\n",
    "    mode='markers',\n",
    "    hoverinfo='text',\n",
    "    marker=dict(\n",
    "        showscale=True,\n",
    "        # colorscale options\n",
    "        #'Greys' | 'YlGnBu' | 'Greens' | 'YlOrRd' | 'Bluered' | 'RdBu' |\n",
    "        #'Reds' | 'Blues' | 'Picnic' | 'Rainbow' | 'Portland' | 'Jet' |\n",
    "        #'Hot' | 'Blackbody' | 'Earth' | 'Electric' | 'Viridis' |\n",
    "        colorscale='YlGnBu',\n",
    "        reversescale=False,\n",
    "        color=[],\n",
    "        size=10,\n",
    "        colorbar=dict(\n",
    "            thickness=15,\n",
    "            title='Node Connections',\n",
    "            xanchor='left',\n",
    "            titleside='right'\n",
    "        ),\n",
    "        line_width=2)\n",
    ")"
   ]
  },
  {
   "cell_type": "code",
   "execution_count": 29,
   "metadata": {},
   "outputs": [],
   "source": [
    "node_adjacencies = []\n",
    "node_text = []\n",
    "for node, adjacencies in enumerate(G.adjacency_iter()):\n",
    "    node_adjacencies.append(len(adjacencies[1]))\n",
    "    node_text.append('# of connections: '+str(len(adjacencies[1])))\n",
    "\n",
    "node_trace.marker.color = node_adjacencies\n",
    "node_trace.text = node_text"
   ]
  },
  {
   "cell_type": "code",
   "execution_count": 30,
   "metadata": {},
   "outputs": [
    {
     "data": {
      "application/vnd.jupyter.widget-view+json": {
       "model_id": "6b030ea453e8478897cc097b5b08ddcd",
       "version_major": 2,
       "version_minor": 0
      },
      "text/plain": [
       "FigureWidget({\n",
       "    'data': [{'hoverinfo': 'none',\n",
       "              'line': {'color': '#888', 'width': 0.25},\n",
       "    …"
      ]
     },
     "metadata": {},
     "output_type": "display_data"
    }
   ],
   "source": [
    "layout=go.Layout(\n",
    "    showlegend=False,\n",
    "    hovermode='closest',\n",
    "    margin=dict(b=20,l=5,r=5,t=40),\n",
    "    annotations=[ dict(\n",
    "        text=\"Python code: <a href='https://plot.ly/ipython-notebooks/network-graphs/'> https://plot.ly/ipython-notebooks/network-graphs/</a>\",\n",
    "        showarrow=False,\n",
    "        xref=\"paper\", yref=\"paper\",\n",
    "        x=0.005, y=-0.002 ) ],\n",
    "    xaxis=dict(showgrid=False, zeroline=False, showticklabels=False),\n",
    "    yaxis=dict(showgrid=False, zeroline=False, showticklabels=False)\n",
    ")\n",
    "\n",
    "fig_n = go.FigureWidget(data=[edge_trace, node_trace], layout=layout)\n",
    "\n",
    "fig_n"
   ]
  },
  {
   "cell_type": "code",
   "execution_count": 19,
   "metadata": {},
   "outputs": [
    {
     "data": {
      "text/plain": [
       "720"
      ]
     },
     "execution_count": 19,
     "metadata": {},
     "output_type": "execute_result"
    }
   ],
   "source": [
    "len(edge_x)"
   ]
  },
  {
   "cell_type": "code",
   "execution_count": null,
   "metadata": {},
   "outputs": [],
   "source": []
  }
 ],
 "metadata": {
  "kernelspec": {
   "display_name": "Python 3",
   "language": "python",
   "name": "python3"
  },
  "language_info": {
   "codemirror_mode": {
    "name": "ipython",
    "version": 3
   },
   "file_extension": ".py",
   "mimetype": "text/x-python",
   "name": "python",
   "nbconvert_exporter": "python",
   "pygments_lexer": "ipython3",
   "version": "3.6.6"
  }
 },
 "nbformat": 4,
 "nbformat_minor": 2
}
