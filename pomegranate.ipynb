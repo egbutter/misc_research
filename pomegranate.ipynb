{
 "cells": [
  {
   "cell_type": "code",
   "execution_count": 62,
   "metadata": {},
   "outputs": [
    {
     "name": "stdout",
     "output_type": "stream",
     "text": [
      "\u001b[33mYou are using pip version 18.1, however version 19.1.1 is available.\r\n",
      "You should consider upgrading via the 'pip install --upgrade pip' command.\u001b[0m\r\n"
     ]
    }
   ],
   "source": [
    "!pip install --user --quiet pomegranate"
   ]
  },
  {
   "cell_type": "code",
   "execution_count": 64,
   "metadata": {},
   "outputs": [
    {
     "name": "stdout",
     "output_type": "stream",
     "text": [
      "Cloning into 'pgmpy'...\n",
      "remote: Enumerating objects: 79, done.\u001b[K\n",
      "remote: Counting objects: 100% (79/79), done.\u001b[K\n",
      "remote: Compressing objects: 100% (64/64), done.\u001b[K\n",
      "remote: Total 13327 (delta 24), reused 43 (delta 15), pack-reused 13248\u001b[K\n",
      "Receiving objects: 100% (13327/13327), 6.44 MiB | 0 bytes/s, done.\n",
      "Resolving deltas: 100% (9286/9286), done.\n"
     ]
    }
   ],
   "source": [
    "!git clone https://github.com/pgmpy/pgmpy "
   ]
  },
  {
   "cell_type": "code",
   "execution_count": 66,
   "metadata": {},
   "outputs": [
    {
     "name": "stdout",
     "output_type": "stream",
     "text": [
      "running install\n",
      "running bdist_egg\n",
      "running egg_info\n",
      "creating misc_research.egg-info\n",
      "writing misc_research.egg-info/PKG-INFO\n",
      "writing dependency_links to misc_research.egg-info/dependency_links.txt\n",
      "writing top-level names to misc_research.egg-info/top_level.txt\n",
      "writing manifest file 'misc_research.egg-info/SOURCES.txt'\n",
      "reading manifest file 'misc_research.egg-info/SOURCES.txt'\n",
      "writing manifest file 'misc_research.egg-info/SOURCES.txt'\n",
      "installing library code to build/bdist.linux-x86_64/egg\n",
      "running install_lib\n",
      "running build_py\n",
      "creating build\n",
      "creating build/lib\n",
      "creating build/lib/zipline_install\n",
      "copying zipline_install/__init__.py -> build/lib/zipline_install\n",
      "copying zipline_install/extension.py -> build/lib/zipline_install\n",
      "copying zipline_install/fetch_local_csv.py -> build/lib/zipline_install\n",
      "copying zipline_install/futures.py -> build/lib/zipline_install\n",
      "copying zipline_install/strat.py -> build/lib/zipline_install\n",
      "copying zipline_install/strat_cf.py -> build/lib/zipline_install\n",
      "copying zipline_install/log_test.py -> build/lib/zipline_install\n",
      "creating build/bdist.linux-x86_64\n",
      "creating build/bdist.linux-x86_64/egg\n",
      "creating build/bdist.linux-x86_64/egg/zipline_install\n",
      "copying build/lib/zipline_install/__init__.py -> build/bdist.linux-x86_64/egg/zipline_install\n",
      "copying build/lib/zipline_install/extension.py -> build/bdist.linux-x86_64/egg/zipline_install\n",
      "copying build/lib/zipline_install/fetch_local_csv.py -> build/bdist.linux-x86_64/egg/zipline_install\n",
      "copying build/lib/zipline_install/futures.py -> build/bdist.linux-x86_64/egg/zipline_install\n",
      "copying build/lib/zipline_install/strat.py -> build/bdist.linux-x86_64/egg/zipline_install\n",
      "copying build/lib/zipline_install/strat_cf.py -> build/bdist.linux-x86_64/egg/zipline_install\n",
      "copying build/lib/zipline_install/log_test.py -> build/bdist.linux-x86_64/egg/zipline_install\n",
      "byte-compiling build/bdist.linux-x86_64/egg/zipline_install/__init__.py to __init__.cpython-36.pyc\n",
      "byte-compiling build/bdist.linux-x86_64/egg/zipline_install/extension.py to extension.cpython-36.pyc\n",
      "byte-compiling build/bdist.linux-x86_64/egg/zipline_install/fetch_local_csv.py to fetch_local_csv.cpython-36.pyc\n",
      "byte-compiling build/bdist.linux-x86_64/egg/zipline_install/futures.py to futures.cpython-36.pyc\n",
      "byte-compiling build/bdist.linux-x86_64/egg/zipline_install/strat.py to strat.cpython-36.pyc\n",
      "byte-compiling build/bdist.linux-x86_64/egg/zipline_install/strat_cf.py to strat_cf.cpython-36.pyc\n",
      "byte-compiling build/bdist.linux-x86_64/egg/zipline_install/log_test.py to log_test.cpython-36.pyc\n",
      "creating build/bdist.linux-x86_64/egg/EGG-INFO\n",
      "copying misc_research.egg-info/PKG-INFO -> build/bdist.linux-x86_64/egg/EGG-INFO\n",
      "copying misc_research.egg-info/SOURCES.txt -> build/bdist.linux-x86_64/egg/EGG-INFO\n",
      "copying misc_research.egg-info/dependency_links.txt -> build/bdist.linux-x86_64/egg/EGG-INFO\n",
      "copying misc_research.egg-info/top_level.txt -> build/bdist.linux-x86_64/egg/EGG-INFO\n",
      "zip_safe flag not set; analyzing archive contents...\n",
      "creating dist\n",
      "creating 'dist/misc_research-0.10-py3.6.egg' and adding 'build/bdist.linux-x86_64/egg' to it\n",
      "removing 'build/bdist.linux-x86_64/egg' (and everything under it)\n",
      "Processing misc_research-0.10-py3.6.egg\n",
      "Copying misc_research-0.10-py3.6.egg to /home/jovyan/.local/lib/python3.6/site-packages\n",
      "Adding misc-research 0.10 to easy-install.pth file\n",
      "\n",
      "Installed /home/jovyan/.local/lib/python3.6/site-packages/misc_research-0.10-py3.6.egg\n",
      "Processing dependencies for misc-research==0.10\n",
      "Finished processing dependencies for misc-research==0.10\n"
     ]
    }
   ],
   "source": [
    "!cd pgmpy\n",
    "!python setup.py install --user"
   ]
  },
  {
   "cell_type": "code",
   "execution_count": 90,
   "metadata": {},
   "outputs": [],
   "source": [
    "from graphviz import Source\n",
    "import warnings\n",
    "warnings.simplefilter(action='ignore', category=FutureWarning)"
   ]
  },
  {
   "cell_type": "code",
   "execution_count": 60,
   "metadata": {},
   "outputs": [
    {
     "data": {
      "image/svg+xml": [
       "<?xml version=\"1.0\" encoding=\"UTF-8\" standalone=\"no\"?>\n",
       "<!DOCTYPE svg PUBLIC \"-//W3C//DTD SVG 1.1//EN\"\n",
       " \"http://www.w3.org/Graphics/SVG/1.1/DTD/svg11.dtd\">\n",
       "<!-- Generated by graphviz version 2.38.0 (20140413.2041)\n",
       " -->\n",
       "<!-- Title: %3 Pages: 1 -->\n",
       "<svg width=\"117pt\" height=\"216pt\"\n",
       " viewBox=\"0.00 0.00 116.51 216.00\" xmlns=\"http://www.w3.org/2000/svg\" xmlns:xlink=\"http://www.w3.org/1999/xlink\">\n",
       "<g id=\"graph0\" class=\"graph\" transform=\"scale(0.621089 0.621089) rotate(0) translate(4 343.776)\">\n",
       "<title>%3</title>\n",
       "<polygon fill=\"white\" stroke=\"none\" points=\"-4,4 -4,-343.776 183.593,-343.776 183.593,4 -4,4\"/>\n",
       "<!-- Genetics -->\n",
       "<g id=\"node1\" class=\"node\"><title>Genetics</title>\n",
       "<ellipse fill=\"green\" stroke=\"green\" cx=\"41.5963\" cy=\"-298.18\" rx=\"41.6928\" ry=\"41.6928\"/>\n",
       "<text text-anchor=\"middle\" x=\"41.5963\" y=\"-294.48\" font-family=\"Times,serif\" font-size=\"14.00\" fill=\"white\">Genetics</text>\n",
       "</g>\n",
       "<!-- OlympicTrials -->\n",
       "<g id=\"node2\" class=\"node\"><title>OlympicTrials</title>\n",
       "<ellipse fill=\"green\" stroke=\"green\" cx=\"90.5963\" cy=\"-158.189\" rx=\"62.2891\" ry=\"62.2891\"/>\n",
       "<text text-anchor=\"middle\" x=\"90.5963\" y=\"-154.489\" font-family=\"Times,serif\" font-size=\"14.00\" fill=\"white\">OlympicTrials</text>\n",
       "</g>\n",
       "<!-- Genetics&#45;&gt;OlympicTrials -->\n",
       "<g id=\"edge1\" class=\"edge\"><title>Genetics&#45;&gt;OlympicTrials</title>\n",
       "<path fill=\"none\" stroke=\"black\" d=\"M55.2455,-258.742C58.7718,-248.811 62.6738,-237.823 66.5603,-226.878\"/>\n",
       "<polygon fill=\"black\" stroke=\"black\" points=\"69.9137,-227.894 69.9618,-217.299 63.3172,-225.551 69.9137,-227.894\"/>\n",
       "</g>\n",
       "<!-- Offer -->\n",
       "<g id=\"node4\" class=\"node\"><title>Offer</title>\n",
       "<ellipse fill=\"green\" stroke=\"green\" cx=\"90.5963\" cy=\"-29.8973\" rx=\"29.795\" ry=\"29.795\"/>\n",
       "<text text-anchor=\"middle\" x=\"90.5963\" y=\"-26.1973\" font-family=\"Times,serif\" font-size=\"14.00\" fill=\"white\">Offer</text>\n",
       "</g>\n",
       "<!-- OlympicTrials&#45;&gt;Offer -->\n",
       "<g id=\"edge3\" class=\"edge\"><title>OlympicTrials&#45;&gt;Offer</title>\n",
       "<path fill=\"none\" stroke=\"black\" d=\"M90.5963,-95.5231C90.5963,-86.9029 90.5963,-78.2459 90.5963,-70.1952\"/>\n",
       "<polygon fill=\"black\" stroke=\"black\" points=\"94.0964,-70.0149 90.5963,-60.0149 87.0964,-70.015 94.0964,-70.0149\"/>\n",
       "</g>\n",
       "<!-- Practice -->\n",
       "<g id=\"node3\" class=\"node\"><title>Practice</title>\n",
       "<ellipse fill=\"green\" stroke=\"green\" cx=\"140.596\" cy=\"-298.18\" rx=\"38.9931\" ry=\"38.9931\"/>\n",
       "<text text-anchor=\"middle\" x=\"140.596\" y=\"-294.48\" font-family=\"Times,serif\" font-size=\"14.00\" fill=\"white\">Practice</text>\n",
       "</g>\n",
       "<!-- Practice&#45;&gt;OlympicTrials -->\n",
       "<g id=\"edge2\" class=\"edge\"><title>Practice&#45;&gt;OlympicTrials</title>\n",
       "<path fill=\"none\" stroke=\"black\" d=\"M127.59,-261.285C123.731,-250.636 119.373,-238.608 115.038,-226.643\"/>\n",
       "<polygon fill=\"black\" stroke=\"black\" points=\"118.273,-225.297 111.575,-217.087 111.691,-227.681 118.273,-225.297\"/>\n",
       "</g>\n",
       "</g>\n",
       "</svg>\n"
      ],
      "text/plain": [
       "<graphviz.files.Source at 0x7f4901b5b358>"
      ]
     },
     "execution_count": 60,
     "metadata": {},
     "output_type": "execute_result"
    }
   ],
   "source": [
    "Source(\n",
    "    \"\"\"\n",
    "    digraph {\n",
    "        node [fontcolor=white shape=circle style=filled color=green]\n",
    "        size =\"3,3\";\n",
    "        Genetics -> OlympicTrials\n",
    "        Practice -> OlympicTrials\n",
    "        OlympicTrials -> Offer\n",
    "    }\n",
    "    \"\"\"\n",
    ")"
   ]
  },
  {
   "cell_type": "markdown",
   "metadata": {},
   "source": [
    "- joint probability -- fully describe how two or more variables are distibuted simultaneously; P(A=a and B=b)\n",
    "- conditional -- how prob of A are distrib given a certain value for, say, B: P(A=a | B=b)\n",
    "- marginal -- averaging over one variable to get the prob distribution of the other; the marginal prob dist of A when A and B are related would be given by $P(a)=\\int_B P(a|b)P(b)db$\n",
    "\n",
    "Bayes Nwtwork is a DAG.\n",
    "- compact representation of the joint distribution\n",
    "- observe conditional independence relationships between vertices/random variables\n",
    "\n",
    "For each node\n",
    "- you need the distribution in terms of its parent\n",
    "- if no parent, then the absolute"
   ]
  },
  {
   "cell_type": "code",
   "execution_count": 57,
   "metadata": {},
   "outputs": [],
   "source": [
    "genes = {'good': 0.2, 'bad': 0.8}\n",
    "practice = {'yes': 0.7, 'no': 0.3}\n",
    "\n",
    "# conditional, enumerate all posibilities\n",
    "# first column is for genes, second for practice\n",
    "# dict is the resulting prob distribution at the trial\n",
    "olympic_trials = [\n",
    "    ['good', 'yes', {'bad': 0.5, 'borderline': 0.3, 'amazing':0.2}],\n",
    "    ['good', 'no', {'bad': 0.8, 'borderline': 0.15, 'amazing':0.05}],\n",
    "    ['bad', 'yes', {'bad': 0.8, 'borderline': 0.1, 'amazing':0.1}],\n",
    "    ['bad', 'no', {'bad': 0.9, 'borderline': 0.08, 'amazing': 0.02}]\n",
    "]\n",
    "\n",
    "offer = [\n",
    "    ['bad', {'no_offer': 0.95, 'offer': 0.05}],\n",
    "    ['borderline', {'no_offer': 0.8, 'offer': 0.2}],\n",
    "    ['amazing', {'no_offer': 0.5, 'offer': 0.5}]\n",
    "]"
   ]
  },
  {
   "cell_type": "markdown",
   "metadata": {},
   "source": [
    "- each node as a CPD (Conditional Prob Distribution) associated with it\n",
    "- if the node has parents, the associated CPD represents P(value|parent's value)\n",
    "- if a node has no parents, the CPD is just P(value), the unconditional prob of that value"
   ]
  },
  {
   "cell_type": "code",
   "execution_count": 120,
   "metadata": {},
   "outputs": [],
   "source": [
    "from pgmpy.models import BayesianModel\n",
    "from pgmpy.factors.discrete import TabularCPD"
   ]
  },
  {
   "cell_type": "markdown",
   "metadata": {},
   "source": [
    "Set up the structure with the flows mapped as pairs (from, to)"
   ]
  },
  {
   "cell_type": "code",
   "execution_count": 121,
   "metadata": {},
   "outputs": [],
   "source": [
    "olympic_model = BayesianModel([\n",
    "    ('Genetics', 'OlympicTrials'),\n",
    "    ('Practice', 'OlympicTrials'),\n",
    "    ('OlympicTrials', 'Offer')\n",
    "])"
   ]
  },
  {
   "cell_type": "markdown",
   "metadata": {},
   "source": [
    "Set up the CPDs"
   ]
  },
  {
   "cell_type": "code",
   "execution_count": 122,
   "metadata": {},
   "outputs": [],
   "source": [
    "genetics_cpd = TabularCPD(\n",
    "    variable = 'Genetics',\n",
    "    variable_card = 2,   # cardinality\n",
    "    values = [[.2, .8]]\n",
    ")"
   ]
  },
  {
   "cell_type": "code",
   "execution_count": 123,
   "metadata": {},
   "outputs": [],
   "source": [
    "practice_cpd = TabularCPD(\n",
    "    variable = 'Practice',\n",
    "    variable_card = 2,\n",
    "    values = [[.7, .3]]\n",
    ")"
   ]
  },
  {
   "cell_type": "code",
   "execution_count": 124,
   "metadata": {},
   "outputs": [],
   "source": [
    "offer_cpd = TabularCPD(\n",
    "    variable = 'Offer',\n",
    "    variable_card = 2,\n",
    "    values = [[0.95, 0.8, 0.5],\n",
    "              [.05, .2, .5]],\n",
    "    evidence = ['OlympicTrials'],\n",
    "    evidence_card = [3]\n",
    ")"
   ]
  },
  {
   "cell_type": "code",
   "execution_count": 125,
   "metadata": {},
   "outputs": [],
   "source": [
    "olympic_trials_cpd = TabularCPD(\n",
    "    variable = 'OlympicTrials',\n",
    "    variable_card = 3,\n",
    "    values = [[.5, .8, .8, .9],\n",
    "              [.3, .15, .1, .08],\n",
    "              [.2, .05, .1, .02]],\n",
    "    evidence = ['Genetics', 'Practice'],\n",
    "    evidence_card = [2,2]\n",
    ")"
   ]
  },
  {
   "cell_type": "code",
   "execution_count": 77,
   "metadata": {},
   "outputs": [],
   "source": [
    "olympic_model.add_cpds(genetics_cpd, practice_cpd, offer_cpd, olympic_trials_cpd)"
   ]
  },
  {
   "cell_type": "code",
   "execution_count": 79,
   "metadata": {},
   "outputs": [
    {
     "data": {
      "text/plain": [
       "[<TabularCPD representing P(Genetics:2) at 0x7f48f9eff2e8>,\n",
       " <TabularCPD representing P(Practice:2) at 0x7f48f9eff390>,\n",
       " <TabularCPD representing P(Offer:2 | OlympicTrials:3) at 0x7f48f9f2e978>,\n",
       " <TabularCPD representing P(OlympicTrials:3 | Genetics:2, Practice:2) at 0x7f48f9f2ec50>]"
      ]
     },
     "execution_count": 79,
     "metadata": {},
     "output_type": "execute_result"
    }
   ],
   "source": [
    "olympic_model.get_cpds()"
   ]
  },
  {
   "cell_type": "code",
   "execution_count": 82,
   "metadata": {},
   "outputs": [
    {
     "data": {
      "text/plain": [
       "{'Genetics': {'Genetics', 'Offer', 'OlympicTrials'}}"
      ]
     },
     "execution_count": 82,
     "metadata": {},
     "output_type": "execute_result"
    }
   ],
   "source": [
    "# what does Genetics influence\n",
    "olympic_model.active_trail_nodes('Genetics')"
   ]
  },
  {
   "cell_type": "code",
   "execution_count": 83,
   "metadata": {},
   "outputs": [
    {
     "data": {
      "text/plain": [
       "(Genetics _|_ OlympicTrials, Offer, Practice)"
      ]
     },
     "execution_count": 83,
     "metadata": {},
     "output_type": "execute_result"
    }
   ],
   "source": [
    "# what is independent?\n",
    "olympic_model.local_independencies('Genetics')"
   ]
  },
  {
   "cell_type": "code",
   "execution_count": 84,
   "metadata": {},
   "outputs": [
    {
     "data": {
      "text/plain": [
       "(Genetics _|_ Practice)\n",
       "(Genetics _|_ Offer | OlympicTrials)\n",
       "(Genetics _|_ Offer | Practice, OlympicTrials)\n",
       "(Practice _|_ Genetics)\n",
       "(Practice _|_ Offer | OlympicTrials)\n",
       "(Practice _|_ Offer | Genetics, OlympicTrials)\n",
       "(Offer _|_ Genetics, Practice | OlympicTrials)\n",
       "(Offer _|_ Practice | Genetics, OlympicTrials)\n",
       "(Offer _|_ Genetics | Practice, OlympicTrials)"
      ]
     },
     "execution_count": 84,
     "metadata": {},
     "output_type": "execute_result"
    }
   ],
   "source": [
    "olympic_model.get_independencies()"
   ]
  },
  {
   "cell_type": "markdown",
   "metadata": {},
   "source": [
    "Inference!"
   ]
  },
  {
   "cell_type": "code",
   "execution_count": 85,
   "metadata": {},
   "outputs": [],
   "source": [
    "from pgmpy.inference import VariableElimination"
   ]
  },
  {
   "cell_type": "code",
   "execution_count": 88,
   "metadata": {},
   "outputs": [],
   "source": [
    "olympic_infer = VariableElimination(olympic_model)"
   ]
  },
  {
   "cell_type": "code",
   "execution_count": 94,
   "metadata": {},
   "outputs": [
    {
     "name": "stdout",
     "output_type": "stream",
     "text": [
      "+---------+--------------+\n",
      "| Offer   |   phi(Offer) |\n",
      "+=========+==============+\n",
      "| Offer_0 |       0.8898 |\n",
      "+---------+--------------+\n",
      "| Offer_1 |       0.1102 |\n",
      "+---------+--------------+\n"
     ]
    }
   ],
   "source": [
    "# If you knew nothing, what's the probabilty of an offer?\n",
    "prob_offer = olympic_infer.query(variables = ['Offer'])\n",
    "print(prob_offer['Offer'])"
   ]
  },
  {
   "cell_type": "code",
   "execution_count": 105,
   "metadata": {},
   "outputs": [
    {
     "name": "stdout",
     "output_type": "stream",
     "text": [
      "+---------+--------------+\n",
      "| Offer   |   phi(Offer) |\n",
      "+=========+==============+\n",
      "| Offer_0 |       0.9017 |\n",
      "+---------+--------------+\n",
      "| Offer_1 |       0.0983 |\n",
      "+---------+--------------+\n",
      "+------------+-----------------+\n",
      "| Practice   |   phi(Practice) |\n",
      "+============+=================+\n",
      "| Practice_0 |          0.7000 |\n",
      "+------------+-----------------+\n",
      "| Practice_1 |          0.3000 |\n",
      "+------------+-----------------+\n"
     ]
    }
   ],
   "source": [
    "prob_offer_bad_genes = olympic_infer.query(\n",
    "    variables = ['Offer', 'Practice'],   # <-- what to calculate for output\n",
    "    evidence = {'Genetics':1})           # <-- what you know; 1 means the index of the outcome [0,1]\n",
    "print(prob_offer_bad_genes['Offer'])\n",
    "print(prob_offer_bad_genes['Practice'])"
   ]
  },
  {
   "cell_type": "markdown",
   "metadata": {},
   "source": [
    "**The real power: go upstream!**"
   ]
  },
  {
   "cell_type": "code",
   "execution_count": 107,
   "metadata": {},
   "outputs": [
    {
     "name": "stdout",
     "output_type": "stream",
     "text": [
      "+------------+-----------------+\n",
      "| Genetics   |   phi(Genetics) |\n",
      "+============+=================+\n",
      "| Genetics_0 |          0.3377 |\n",
      "+------------+-----------------+\n",
      "| Genetics_1 |          0.6623 |\n",
      "+------------+-----------------+\n"
     ]
    }
   ],
   "source": [
    "prob_good_genes_if_amazing_olympic_trials = olympic_infer.query(\n",
    "    variables = ['Genetics'],\n",
    "    evidence = {'OlympicTrials': 2}   # <-- 2 means the index of the outcome [0,1,2], so \"amazing\"\n",
    ")\n",
    "print(prob_good_genes_if_amazing_olympic_trials['Genetics'])"
   ]
  },
  {
   "cell_type": "code",
   "execution_count": 109,
   "metadata": {},
   "outputs": [
    {
     "name": "stdout",
     "output_type": "stream",
     "text": [
      "+------------+-----------------+\n",
      "| Genetics   |   phi(Genetics) |\n",
      "+============+=================+\n",
      "| Genetics_0 |          0.3846 |\n",
      "+------------+-----------------+\n",
      "| Genetics_1 |          0.6154 |\n",
      "+------------+-----------------+\n"
     ]
    }
   ],
   "source": [
    "prob_good_genes_if_no_practice_good_olympic_trials = olympic_infer.query(\n",
    "    variables = ['Genetics'],\n",
    "    evidence = {'Practice': 1, 'OlympicTrials': 2}\n",
    ")\n",
    "print(prob_good_genes_if_no_practice_good_olympic_trials['Genetics'])"
   ]
  },
  {
   "cell_type": "markdown",
   "metadata": {},
   "source": [
    "What's the most probable state for a variable?"
   ]
  },
  {
   "cell_type": "code",
   "execution_count": 111,
   "metadata": {},
   "outputs": [
    {
     "data": {
      "text/plain": [
       "{'Genetics': 1, 'Offer': 0, 'OlympicTrials': 0}"
      ]
     },
     "execution_count": 111,
     "metadata": {},
     "output_type": "execute_result"
    }
   ],
   "source": [
    "olympic_infer.map_query(variables = ['Genetics', 'Offer', 'OlympicTrials'])"
   ]
  },
  {
   "cell_type": "markdown",
   "metadata": {},
   "source": [
    "Let's try for a continuous variable."
   ]
  },
  {
   "cell_type": "code",
   "execution_count": 130,
   "metadata": {},
   "outputs": [],
   "source": [
    "from pgmpy.factors.continuous import ContinuousFactor"
   ]
  },
  {
   "cell_type": "code",
   "execution_count": 133,
   "metadata": {},
   "outputs": [],
   "source": [
    "from scipy.stats import norm\n",
    "from pgmpy.factors.distributions import GaussianDistribution"
   ]
  },
  {
   "cell_type": "code",
   "execution_count": 134,
   "metadata": {},
   "outputs": [],
   "source": [
    "?GaussianDistribution"
   ]
  },
  {
   "cell_type": "code",
   "execution_count": 131,
   "metadata": {},
   "outputs": [],
   "source": [
    "?ContinuousFactor"
   ]
  },
  {
   "cell_type": "code",
   "execution_count": 126,
   "metadata": {},
   "outputs": [],
   "source": [
    "genetics_c_cpd = LinearGaussianCPD(\n",
    "    variable = 'Genetics_C',\n",
    "    evidence_mean = 500,\n",
    "    evidence_variance = 50\n",
    ")"
   ]
  },
  {
   "cell_type": "code",
   "execution_count": 127,
   "metadata": {},
   "outputs": [],
   "source": [
    "olympic_model_c = BayesianModel([\n",
    "    ('Genetics_C', 'OlympicTrials'),\n",
    "    ('Practice', 'OlympicTrials'),\n",
    "    ('OlympicTrials', 'Offer')\n",
    "])"
   ]
  },
  {
   "cell_type": "code",
   "execution_count": 129,
   "metadata": {},
   "outputs": [
    {
     "ename": "ValueError",
     "evalue": "Only TabularCPD or ContinuousFactor can be added.",
     "output_type": "error",
     "traceback": [
      "\u001b[0;31m---------------------------------------------------------------------------\u001b[0m",
      "\u001b[0;31mValueError\u001b[0m                                Traceback (most recent call last)",
      "\u001b[0;32m<ipython-input-129-76751789166a>\u001b[0m in \u001b[0;36m<module>\u001b[0;34m()\u001b[0m\n\u001b[0;32m----> 1\u001b[0;31m \u001b[0molympic_model_C\u001b[0m\u001b[0;34m.\u001b[0m\u001b[0madd_cpds\u001b[0m\u001b[0;34m(\u001b[0m\u001b[0mgenetics_c_cpd\u001b[0m\u001b[0;34m,\u001b[0m \u001b[0mpractice_cpd\u001b[0m\u001b[0;34m,\u001b[0m \u001b[0moffer_cpd\u001b[0m\u001b[0;34m,\u001b[0m \u001b[0molympic_trials_cpd\u001b[0m\u001b[0;34m)\u001b[0m\u001b[0;34m\u001b[0m\u001b[0m\n\u001b[0m",
      "\u001b[0;32m~/.local/lib/python3.6/site-packages/pgmpy/models/BayesianModel.py\u001b[0m in \u001b[0;36madd_cpds\u001b[0;34m(self, *cpds)\u001b[0m\n\u001b[1;32m    241\u001b[0m         \u001b[0;32mfor\u001b[0m \u001b[0mcpd\u001b[0m \u001b[0;32min\u001b[0m \u001b[0mcpds\u001b[0m\u001b[0;34m:\u001b[0m\u001b[0;34m\u001b[0m\u001b[0m\n\u001b[1;32m    242\u001b[0m             \u001b[0;32mif\u001b[0m \u001b[0;32mnot\u001b[0m \u001b[0misinstance\u001b[0m\u001b[0;34m(\u001b[0m\u001b[0mcpd\u001b[0m\u001b[0;34m,\u001b[0m \u001b[0;34m(\u001b[0m\u001b[0mTabularCPD\u001b[0m\u001b[0;34m,\u001b[0m \u001b[0mContinuousFactor\u001b[0m\u001b[0;34m)\u001b[0m\u001b[0;34m)\u001b[0m\u001b[0;34m:\u001b[0m\u001b[0;34m\u001b[0m\u001b[0m\n\u001b[0;32m--> 243\u001b[0;31m                 \u001b[0;32mraise\u001b[0m \u001b[0mValueError\u001b[0m\u001b[0;34m(\u001b[0m\u001b[0;34m'Only TabularCPD or ContinuousFactor can be added.'\u001b[0m\u001b[0;34m)\u001b[0m\u001b[0;34m\u001b[0m\u001b[0m\n\u001b[0m\u001b[1;32m    244\u001b[0m \u001b[0;34m\u001b[0m\u001b[0m\n\u001b[1;32m    245\u001b[0m             if set(cpd.scope()) - set(cpd.scope()).intersection(\n",
      "\u001b[0;31mValueError\u001b[0m: Only TabularCPD or ContinuousFactor can be added."
     ]
    }
   ],
   "source": [
    "olympic_model_C.add_cpds(genetics_c_cpd, practice_cpd, offer_cpd, olympic_trials_cpd)"
   ]
  },
  {
   "cell_type": "markdown",
   "metadata": {},
   "source": [
    "# pomegranate"
   ]
  },
  {
   "cell_type": "code",
   "execution_count": 135,
   "metadata": {},
   "outputs": [],
   "source": [
    "\n",
    "from pomegranate import (\n",
    "    BayesianNetwork,\n",
    "    ConditionalProbabilityTable,\n",
    "    DiscreteDistribution,\n",
    "    State\n",
    ")"
   ]
  },
  {
   "cell_type": "code",
   "execution_count": 138,
   "metadata": {},
   "outputs": [],
   "source": [
    "?ConditionalProbabilityTable"
   ]
  },
  {
   "cell_type": "code",
   "execution_count": null,
   "metadata": {},
   "outputs": [],
   "source": []
  },
  {
   "cell_type": "code",
   "execution_count": null,
   "metadata": {},
   "outputs": [],
   "source": []
  },
  {
   "cell_type": "code",
   "execution_count": null,
   "metadata": {},
   "outputs": [],
   "source": []
  },
  {
   "cell_type": "markdown",
   "metadata": {},
   "source": [
    "https://www.youtube.com/watch?v=KpoNWIiH2ic\n",
    "\n",
    "- an arrow means conditionally dependent\n",
    "- direction matters\n",
    "- if there is no edge, then it represents conditional independence\n",
    "- intepretable!\n",
    "- Two tasks\n",
    "    - inference given incomplete information (uses Belief Propagation)\n",
    "    - learning dependency structure\n",
    "    \n",
    "- User needs to define model and structure\n",
    "- Then can set various nodes and see *all* the other nodes\n",
    "- Is this just boolean at each node???"
   ]
  },
  {
   "cell_type": "code",
   "execution_count": 50,
   "metadata": {},
   "outputs": [
    {
     "data": {
      "image/svg+xml": [
       "<?xml version=\"1.0\" encoding=\"UTF-8\" standalone=\"no\"?>\n",
       "<!DOCTYPE svg PUBLIC \"-//W3C//DTD SVG 1.1//EN\"\n",
       " \"http://www.w3.org/Graphics/SVG/1.1/DTD/svg11.dtd\">\n",
       "<!-- Generated by graphviz version 2.38.0 (20140413.2041)\n",
       " -->\n",
       "<!-- Title: %3 Pages: 1 -->\n",
       "<svg width=\"134pt\" height=\"188pt\"\n",
       " viewBox=\"0.00 0.00 134.00 188.00\" xmlns=\"http://www.w3.org/2000/svg\" xmlns:xlink=\"http://www.w3.org/1999/xlink\">\n",
       "<g id=\"graph0\" class=\"graph\" transform=\"scale(1 1) rotate(0) translate(4 184)\">\n",
       "<title>%3</title>\n",
       "<polygon fill=\"white\" stroke=\"none\" points=\"-4,4 -4,-184 130,-184 130,4 -4,4\"/>\n",
       "<!-- D -->\n",
       "<g id=\"node1\" class=\"node\"><title>D</title>\n",
       "<ellipse fill=\"none\" stroke=\"black\" cx=\"63\" cy=\"-162\" rx=\"27\" ry=\"18\"/>\n",
       "<text text-anchor=\"middle\" x=\"63\" y=\"-158.3\" font-family=\"Times,serif\" font-size=\"14.00\">D</text>\n",
       "</g>\n",
       "<!-- S -->\n",
       "<g id=\"node2\" class=\"node\"><title>S</title>\n",
       "<ellipse fill=\"none\" stroke=\"black\" cx=\"27\" cy=\"-90\" rx=\"27\" ry=\"18\"/>\n",
       "<text text-anchor=\"middle\" x=\"27\" y=\"-86.3\" font-family=\"Times,serif\" font-size=\"14.00\">S</text>\n",
       "</g>\n",
       "<!-- D&#45;&gt;S -->\n",
       "<g id=\"edge1\" class=\"edge\"><title>D&#45;&gt;S</title>\n",
       "<path fill=\"none\" stroke=\"black\" d=\"M54.6504,-144.765C50.2885,-136.283 44.8531,-125.714 39.9587,-116.197\"/>\n",
       "<polygon fill=\"black\" stroke=\"black\" points=\"42.9904,-114.439 35.3043,-107.147 36.7654,-117.641 42.9904,-114.439\"/>\n",
       "</g>\n",
       "<!-- P -->\n",
       "<g id=\"node3\" class=\"node\"><title>P</title>\n",
       "<ellipse fill=\"none\" stroke=\"black\" cx=\"99\" cy=\"-90\" rx=\"27\" ry=\"18\"/>\n",
       "<text text-anchor=\"middle\" x=\"99\" y=\"-86.3\" font-family=\"Times,serif\" font-size=\"14.00\">P</text>\n",
       "</g>\n",
       "<!-- D&#45;&gt;P -->\n",
       "<g id=\"edge2\" class=\"edge\"><title>D&#45;&gt;P</title>\n",
       "<path fill=\"none\" stroke=\"black\" d=\"M71.3496,-144.765C75.7115,-136.283 81.1469,-125.714 86.0413,-116.197\"/>\n",
       "<polygon fill=\"black\" stroke=\"black\" points=\"89.2346,-117.641 90.6957,-107.147 83.0096,-114.439 89.2346,-117.641\"/>\n",
       "</g>\n",
       "<!-- C -->\n",
       "<g id=\"node4\" class=\"node\"><title>C</title>\n",
       "<ellipse fill=\"none\" stroke=\"black\" cx=\"99\" cy=\"-18\" rx=\"27\" ry=\"18\"/>\n",
       "<text text-anchor=\"middle\" x=\"99\" y=\"-14.3\" font-family=\"Times,serif\" font-size=\"14.00\">C</text>\n",
       "</g>\n",
       "<!-- P&#45;&gt;C -->\n",
       "<g id=\"edge3\" class=\"edge\"><title>P&#45;&gt;C</title>\n",
       "<path fill=\"none\" stroke=\"black\" d=\"M99,-71.6966C99,-63.9827 99,-54.7125 99,-46.1124\"/>\n",
       "<polygon fill=\"black\" stroke=\"black\" points=\"102.5,-46.1043 99,-36.1043 95.5001,-46.1044 102.5,-46.1043\"/>\n",
       "</g>\n",
       "</g>\n",
       "</svg>\n"
      ],
      "text/plain": [
       "<graphviz.files.Source at 0x7f4901b62978>"
      ]
     },
     "execution_count": 50,
     "metadata": {},
     "output_type": "execute_result"
    }
   ],
   "source": [
    "Source(\n",
    "    \"\"\"\n",
    "    digraph {\n",
    "        size =\"3,3\";\n",
    "        D -> S\n",
    "        D -> P\n",
    "        P -> C\n",
    "    }\n",
    "    \"\"\"\n",
    ")"
   ]
  },
  {
   "cell_type": "code",
   "execution_count": null,
   "metadata": {},
   "outputs": [],
   "source": []
  },
  {
   "cell_type": "code",
   "execution_count": 32,
   "metadata": {},
   "outputs": [],
   "source": [
    "day_of_week = DiscreteDistribution(\n",
    "    {'weekday': 5./7, 'weekend': 2./7}\n",
    ")\n",
    "\n",
    "sunny = DiscreteDistribution(\n",
    "    {'weekday': 0.80, 'weekend': 0.60}\n",
    ")\n"
   ]
  },
  {
   "cell_type": "code",
   "execution_count": 33,
   "metadata": {},
   "outputs": [],
   "source": [
    "who = ConditionalProbabilityTable([\n",
    "    ['weekday', 'Alice', 0.90],\n",
    "    ['weekend', 'Alice', 0.1],\n",
    "    ['weekday', 'Bob', 0.35],\n",
    "    ['weekend', 'Bob', 0.65],\n",
    "    ['weekday', 'Claire', 0.5],\n",
    "    ['weekend', 'Claire', 0.50]\n",
    "], [day_of_week])"
   ]
  },
  {
   "cell_type": "code",
   "execution_count": null,
   "metadata": {},
   "outputs": [],
   "source": [
    "correct = DiscreteDistribution(\n",
    "    {'Alice': 0.8, 'Bob': 0.55, 'Claire': 0.65}\n",
    ")"
   ]
  },
  {
   "cell_type": "code",
   "execution_count": 35,
   "metadata": {},
   "outputs": [],
   "source": [
    "s1 = State(day_of_week, name=\"day_of_week\")\n",
    "s2 = State(who, name=\"who\")\n",
    "s3 = State(sunny, name=\"sunny\")\n",
    "s4 = State(correct, name=\"correct\")"
   ]
  },
  {
   "cell_type": "code",
   "execution_count": 38,
   "metadata": {},
   "outputs": [],
   "source": [
    "network = BayesianNetwork(\"Weather: day of week\")\n",
    "network.add_states(s1, s2, s3, s4)\n",
    "network.add_transition(s1, s2)\n",
    "network.add_transition(s1, s3)\n",
    "network.add_transition(s2, s4)"
   ]
  },
  {
   "cell_type": "code",
   "execution_count": 39,
   "metadata": {},
   "outputs": [],
   "source": [
    "network.bake()"
   ]
  },
  {
   "cell_type": "code",
   "execution_count": 49,
   "metadata": {},
   "outputs": [
    {
     "data": {
      "text/plain": [
       "array([{\n",
       "    \"class\" :\"Distribution\",\n",
       "    \"dtype\" :\"str\",\n",
       "    \"name\" :\"DiscreteDistribution\",\n",
       "    \"parameters\" :[\n",
       "        {\n",
       "            \"weekday\" :0.6422018348623852,\n",
       "            \"weekend\" :0.35779816513761475\n",
       "        }\n",
       "    ],\n",
       "    \"frozen\" :false\n",
       "},\n",
       "       'Bob',\n",
       "       {\n",
       "    \"class\" :\"Distribution\",\n",
       "    \"dtype\" :\"str\",\n",
       "    \"name\" :\"DiscreteDistribution\",\n",
       "    \"parameters\" :[\n",
       "        {\n",
       "            \"weekday\" :0.5714285714285714,\n",
       "            \"weekend\" :0.42857142857142855\n",
       "        }\n",
       "    ],\n",
       "    \"frozen\" :false\n",
       "},\n",
       "       {\n",
       "    \"class\" :\"Distribution\",\n",
       "    \"dtype\" :\"str\",\n",
       "    \"name\" :\"DiscreteDistribution\",\n",
       "    \"parameters\" :[\n",
       "        {\n",
       "            \"Alice\" :0.39999999999999997,\n",
       "            \"Bob\" :0.275,\n",
       "            \"Claire\" :0.32499999999999996\n",
       "        }\n",
       "    ],\n",
       "    \"frozen\" :false\n",
       "}], dtype=object)"
      ]
     },
     "execution_count": 49,
     "metadata": {},
     "output_type": "execute_result"
    }
   ],
   "source": [
    "network.predict_proba({'who': 'Bob'})"
   ]
  },
  {
   "cell_type": "code",
   "execution_count": null,
   "metadata": {},
   "outputs": [],
   "source": []
  }
 ],
 "metadata": {
  "kernelspec": {
   "display_name": "Python 3",
   "language": "python",
   "name": "python3"
  },
  "language_info": {
   "codemirror_mode": {
    "name": "ipython",
    "version": 3
   },
   "file_extension": ".py",
   "mimetype": "text/x-python",
   "name": "python",
   "nbconvert_exporter": "python",
   "pygments_lexer": "ipython3",
   "version": "3.6.6"
  }
 },
 "nbformat": 4,
 "nbformat_minor": 2
}
