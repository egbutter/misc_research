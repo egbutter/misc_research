{
 "cells": [
  {
   "cell_type": "code",
   "execution_count": 1,
   "metadata": {},
   "outputs": [
    {
     "ename": "KeyError",
     "evalue": "KeyError: key \"JULIA_NUM_THREADS\" not found",
     "output_type": "error",
     "traceback": [
      "KeyError: key \"JULIA_NUM_THREADS\" not found",
      "",
      "Stacktrace:",
      " [1] (::Base.var\"#459#460\")(::String) at ./env.jl:79",
      " [2] access_env at ./env.jl:43 [inlined]",
      " [3] getindex(::Base.EnvDict, ::String) at ./env.jl:79",
      " [4] top-level scope at In[1]:1"
     ]
    }
   ],
   "source": [
    "ENV[\"JULIA_NUM_THREADS\"]"
   ]
  },
  {
   "cell_type": "code",
   "execution_count": 2,
   "metadata": {},
   "outputs": [
    {
     "data": {
      "text/plain": [
       "2"
      ]
     },
     "execution_count": 2,
     "metadata": {},
     "output_type": "execute_result"
    }
   ],
   "source": [
    "1+1"
   ]
  },
  {
   "cell_type": "code",
   "execution_count": 2,
   "metadata": {},
   "outputs": [
    {
     "data": {
      "text/plain": [
       "Base.EnvDict with 36 entries:\n",
       "  \"MINICONDA_VERSION\"             => \"4.8.2\"\n",
       "  \"LANGUAGE\"                      => \"en_US.UTF-8\"\n",
       "  \"HOSTNAME\"                      => \"87389cc9d203\"\n",
       "  \"JUPYTERHUB_HOST\"               => \"\"\n",
       "  \"JUPYTERHUB_USER\"               => \"jlarkin\"\n",
       "  \"SHLVL\"                         => \"0\"\n",
       "  \"XDG_CACHE_HOME\"                => \"/home/jovyan/.cache/\"\n",
       "  \"HOME\"                          => \"/home/jovyan\"\n",
       "  \"CONDA_VERSION\"                 => \"4.8.2\"\n",
       "  \"JUPYTERHUB_API_URL\"            => \"http://172.17.0.1:8081/hub/api\"\n",
       "  \"JUPYTERHUB_OAUTH_CALLBACK_URL\" => \"/user/jlarkin/oauth_callback\"\n",
       "  \"JULIA_DEPOT_PATH\"              => \"/opt/julia\"\n",
       "  \"NB_USER\"                       => \"jovyan\"\n",
       "  \"JUPYTERHUB_CLIENT_ID\"          => \"jupyterhub-user-jlarkin\"\n",
       "  \"JULIA_VERSION\"                 => \"1.4.1\"\n",
       "  \"PATH\"                          => \"/opt/conda/bin:/usr/local/sbin:/usr/local…\n",
       "  \"NB_GID\"                        => \"100\"\n",
       "  \"LANG\"                          => \"en_US.UTF-8\"\n",
       "  \"DEBIAN_FRONTEND\"               => \"noninteractive\"\n",
       "  \"SHELL\"                         => \"/bin/bash\"\n",
       "  \"CONDA_DIR\"                     => \"/opt/conda\"\n",
       "  \"JUPYTERHUB_SERVICE_PREFIX\"     => \"/user/jlarkin/\"\n",
       "  \"LC_ALL\"                        => \"en_US.UTF-8\"\n",
       "  \"PWD\"                           => \"/home/jovyan\"\n",
       "  \"JUPYTERHUB_API_TOKEN\"          => \"160ea7d8c46a4d9abe9942e2f62d76f8\"\n",
       "  ⋮                               => ⋮"
      ]
     },
     "execution_count": 2,
     "metadata": {},
     "output_type": "execute_result"
    }
   ],
   "source": [
    "ENV"
   ]
  },
  {
   "cell_type": "code",
   "execution_count": null,
   "metadata": {},
   "outputs": [],
   "source": []
  }
 ],
 "metadata": {
  "kernelspec": {
   "display_name": "Julia 1.4.1",
   "language": "julia",
   "name": "julia-1.4"
  },
  "language_info": {
   "file_extension": ".jl",
   "mimetype": "application/julia",
   "name": "julia",
   "version": "1.4.1"
  }
 },
 "nbformat": 4,
 "nbformat_minor": 4
}
