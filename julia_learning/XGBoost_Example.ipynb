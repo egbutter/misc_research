{
 "cells": [
  {
   "cell_type": "markdown",
   "metadata": {},
   "source": [
    "First we need to get the data. We can use the Kaggle CLI (https://github.com/Kaggle/kaggle-api)."
   ]
  },
  {
   "cell_type": "code",
   "execution_count": 265,
   "metadata": {},
   "outputs": [
    {
     "data": {
      "text/plain": [
       "Process(`\u001b[4munzip\u001b[24m \u001b[4m-qo\u001b[24m \u001b[4mtitanic.zip\u001b[24m`, ProcessExited(0))"
      ]
     },
     "execution_count": 265,
     "metadata": {},
     "output_type": "execute_result"
    }
   ],
   "source": [
    "run(`pip install kaggle --quiet`)\n",
    "run(`kaggle competitions download titanic --quiet`)\n",
    "run(`unzip -qo titanic.zip`)"
   ]
  },
  {
   "cell_type": "code",
   "execution_count": 266,
   "metadata": {},
   "outputs": [
    {
     "data": {
      "text/plain": [
       "v\"1.4.1\""
      ]
     },
     "execution_count": 266,
     "metadata": {},
     "output_type": "execute_result"
    }
   ],
   "source": [
    "VERSION"
   ]
  },
  {
   "cell_type": "code",
   "execution_count": 267,
   "metadata": {},
   "outputs": [],
   "source": [
    "import Pkg"
   ]
  },
  {
   "cell_type": "code",
   "execution_count": 268,
   "metadata": {},
   "outputs": [],
   "source": [
    "# Pkg.add(\"CSV\");\n",
    "# Pkg.add(\"DataFrames\");\n",
    "# Pkg.add(\"DataFramesMeta\")\n",
    "# Pkg.add(\"Missings\")\n",
    "# Pkg.add(\"FreqTables\");\n",
    "# Pkg.add(\"GLM\");\n",
    "# Pkg.add(\"Pipe\");\n",
    "# Pkg.add(\"Plots\");\n",
    "# Pkg.add(\"StatsPlots\")\n",
    "# Pkg.add(\"XGBoost\");\n",
    "# Pkg.add(\"Zygote\");"
   ]
  },
  {
   "cell_type": "code",
   "execution_count": 269,
   "metadata": {},
   "outputs": [],
   "source": [
    "# TODO: How to show HTML dataframe of all columns\n",
    "# TODO: add propper missing values (keep dict, make col for missing, apply on test)\n",
    "# TODO: Ian Ozwald T-SNE on errors plot\n",
    "# TODO: proper pipes, the _ syntax is ugly\n"
   ]
  },
  {
   "cell_type": "code",
   "execution_count": 320,
   "metadata": {},
   "outputs": [],
   "source": [
    "using CSV, DataFrames, Pipe, Plots, Statistics, StatsBase, XGBoost, Zygote\n",
    "\n",
    "Plots.default(legend=false, alpha=0.4, size=(300,200))\n",
    "ENV[\"COLUMNS\"]=220   # force dataframe HTML rendering to many columns; 220 is terminal characters\n",
    "\n",
    "df = CSV.read(\"train.csv\");"
   ]
  },
  {
   "cell_type": "code",
   "execution_count": 343,
   "metadata": {},
   "outputs": [
    {
     "data": {
      "text/html": [
       "<table class=\"data-frame\"><thead><tr><th></th><th>PassengerId</th><th>Survived</th><th>Pclass</th><th>Name</th><th>Sex</th><th>Age</th><th>SibSp</th><th>Parch</th><th>Ticket</th><th>Fare</th><th>Cabin</th><th>Embarked</th><th>Pclass_3</th><th>Pclass_1</th><th>Pclass_2</th><th>Embarked_S</th><th>Embarked_C</th><th>Embarked_Q</th></tr><tr><th></th><th>Int64</th><th>Int64</th><th>Int64</th><th>String</th><th>String</th><th>Float64</th><th>Int64</th><th>Int64</th><th>String</th><th>Float64</th><th>String?</th><th>String</th><th>Int64</th><th>Int64</th><th>Int64</th><th>Int64</th><th>Int64</th><th>Int64</th></tr></thead><tbody><p>10 rows × 18 columns</p><tr><th>1</th><td>1</td><td>0</td><td>3</td><td>Braund, Mr. Owen Harris</td><td>male</td><td>22.0</td><td>1</td><td>0</td><td>A/5 21171</td><td>7.25</td><td><em>missing</em></td><td>S</td><td>1</td><td>0</td><td>0</td><td>1</td><td>0</td><td>0</td></tr><tr><th>2</th><td>2</td><td>1</td><td>1</td><td>Cumings, Mrs. John Bradley (Florence Briggs Thayer)</td><td>female</td><td>38.0</td><td>1</td><td>0</td><td>PC 17599</td><td>71.2833</td><td>C85</td><td>C</td><td>0</td><td>1</td><td>0</td><td>0</td><td>1</td><td>0</td></tr><tr><th>3</th><td>3</td><td>1</td><td>3</td><td>Heikkinen, Miss. Laina</td><td>female</td><td>26.0</td><td>0</td><td>0</td><td>STON/O2. 3101282</td><td>7.925</td><td><em>missing</em></td><td>S</td><td>1</td><td>0</td><td>0</td><td>1</td><td>0</td><td>0</td></tr><tr><th>4</th><td>4</td><td>1</td><td>1</td><td>Futrelle, Mrs. Jacques Heath (Lily May Peel)</td><td>female</td><td>35.0</td><td>1</td><td>0</td><td>113803</td><td>53.1</td><td>C123</td><td>S</td><td>0</td><td>1</td><td>0</td><td>1</td><td>0</td><td>0</td></tr><tr><th>5</th><td>5</td><td>0</td><td>3</td><td>Allen, Mr. William Henry</td><td>male</td><td>35.0</td><td>0</td><td>0</td><td>373450</td><td>8.05</td><td><em>missing</em></td><td>S</td><td>1</td><td>0</td><td>0</td><td>1</td><td>0</td><td>0</td></tr><tr><th>6</th><td>6</td><td>0</td><td>3</td><td>Moran, Mr. James</td><td>male</td><td>29.6991</td><td>0</td><td>0</td><td>330877</td><td>8.4583</td><td><em>missing</em></td><td>Q</td><td>1</td><td>0</td><td>0</td><td>0</td><td>0</td><td>1</td></tr><tr><th>7</th><td>7</td><td>0</td><td>1</td><td>McCarthy, Mr. Timothy J</td><td>male</td><td>54.0</td><td>0</td><td>0</td><td>17463</td><td>51.8625</td><td>E46</td><td>S</td><td>0</td><td>1</td><td>0</td><td>1</td><td>0</td><td>0</td></tr><tr><th>8</th><td>8</td><td>0</td><td>3</td><td>Palsson, Master. Gosta Leonard</td><td>male</td><td>2.0</td><td>3</td><td>1</td><td>349909</td><td>21.075</td><td><em>missing</em></td><td>S</td><td>1</td><td>0</td><td>0</td><td>1</td><td>0</td><td>0</td></tr><tr><th>9</th><td>9</td><td>1</td><td>3</td><td>Johnson, Mrs. Oscar W (Elisabeth Vilhelmina Berg)</td><td>female</td><td>27.0</td><td>0</td><td>2</td><td>347742</td><td>11.1333</td><td><em>missing</em></td><td>S</td><td>1</td><td>0</td><td>0</td><td>1</td><td>0</td><td>0</td></tr><tr><th>10</th><td>10</td><td>1</td><td>2</td><td>Nasser, Mrs. Nicholas (Adele Achem)</td><td>female</td><td>14.0</td><td>1</td><td>0</td><td>237736</td><td>30.0708</td><td><em>missing</em></td><td>C</td><td>0</td><td>0</td><td>1</td><td>0</td><td>1</td><td>0</td></tr></tbody></table>"
      ],
      "text/latex": [
       "\\begin{tabular}{r|cccccccccccccccccc}\n",
       "\t& PassengerId & Survived & Pclass & Name & Sex & Age & SibSp & Parch & Ticket & Fare & Cabin & Embarked & Pclass\\_3 & Pclass\\_1 & Pclass\\_2 & Embarked\\_S & Embarked\\_C & Embarked\\_Q\\\\\n",
       "\t\\hline\n",
       "\t& Int64 & Int64 & Int64 & String & String & Float64 & Int64 & Int64 & String & Float64 & String? & String & Int64 & Int64 & Int64 & Int64 & Int64 & Int64\\\\\n",
       "\t\\hline\n",
       "\t1 & 1 & 0 & 3 & Braund, Mr. Owen Harris & male & 22.0 & 1 & 0 & A/5 21171 & 7.25 & \\emph{missing} & S & 1 & 0 & 0 & 1 & 0 & 0 \\\\\n",
       "\t2 & 2 & 1 & 1 & Cumings, Mrs. John Bradley (Florence Briggs Thayer) & female & 38.0 & 1 & 0 & PC 17599 & 71.2833 & C85 & C & 0 & 1 & 0 & 0 & 1 & 0 \\\\\n",
       "\t3 & 3 & 1 & 3 & Heikkinen, Miss. Laina & female & 26.0 & 0 & 0 & STON/O2. 3101282 & 7.925 & \\emph{missing} & S & 1 & 0 & 0 & 1 & 0 & 0 \\\\\n",
       "\t4 & 4 & 1 & 1 & Futrelle, Mrs. Jacques Heath (Lily May Peel) & female & 35.0 & 1 & 0 & 113803 & 53.1 & C123 & S & 0 & 1 & 0 & 1 & 0 & 0 \\\\\n",
       "\t5 & 5 & 0 & 3 & Allen, Mr. William Henry & male & 35.0 & 0 & 0 & 373450 & 8.05 & \\emph{missing} & S & 1 & 0 & 0 & 1 & 0 & 0 \\\\\n",
       "\t6 & 6 & 0 & 3 & Moran, Mr. James & male & 29.6991 & 0 & 0 & 330877 & 8.4583 & \\emph{missing} & Q & 1 & 0 & 0 & 0 & 0 & 1 \\\\\n",
       "\t7 & 7 & 0 & 1 & McCarthy, Mr. Timothy J & male & 54.0 & 0 & 0 & 17463 & 51.8625 & E46 & S & 0 & 1 & 0 & 1 & 0 & 0 \\\\\n",
       "\t8 & 8 & 0 & 3 & Palsson, Master. Gosta Leonard & male & 2.0 & 3 & 1 & 349909 & 21.075 & \\emph{missing} & S & 1 & 0 & 0 & 1 & 0 & 0 \\\\\n",
       "\t9 & 9 & 1 & 3 & Johnson, Mrs. Oscar W (Elisabeth Vilhelmina Berg) & female & 27.0 & 0 & 2 & 347742 & 11.1333 & \\emph{missing} & S & 1 & 0 & 0 & 1 & 0 & 0 \\\\\n",
       "\t10 & 10 & 1 & 2 & Nasser, Mrs. Nicholas (Adele Achem) & female & 14.0 & 1 & 0 & 237736 & 30.0708 & \\emph{missing} & C & 0 & 0 & 1 & 0 & 1 & 0 \\\\\n",
       "\\end{tabular}\n"
      ],
      "text/plain": [
       "10×18 DataFrame. Omitted printing of 3 columns\n",
       "│ Row │ PassengerId │ Survived │ Pclass │ Name                                                │ Sex    │ Age     │ SibSp │ Parch │ Ticket           │ Fare    │ Cabin   │ Embarked │ Pclass_3 │ Pclass_1 │ Pclass_2 │\n",
       "│     │ \u001b[90mInt64\u001b[39m       │ \u001b[90mInt64\u001b[39m    │ \u001b[90mInt64\u001b[39m  │ \u001b[90mString\u001b[39m                                              │ \u001b[90mString\u001b[39m │ \u001b[90mFloat64\u001b[39m │ \u001b[90mInt64\u001b[39m │ \u001b[90mInt64\u001b[39m │ \u001b[90mString\u001b[39m           │ \u001b[90mFloat64\u001b[39m │ \u001b[90mString?\u001b[39m │ \u001b[90mString\u001b[39m   │ \u001b[90mInt64\u001b[39m    │ \u001b[90mInt64\u001b[39m    │ \u001b[90mInt64\u001b[39m    │\n",
       "├─────┼─────────────┼──────────┼────────┼─────────────────────────────────────────────────────┼────────┼─────────┼───────┼───────┼──────────────────┼─────────┼─────────┼──────────┼──────────┼──────────┼──────────┤\n",
       "│ 1   │ 1           │ 0        │ 3      │ Braund, Mr. Owen Harris                             │ male   │ 22.0    │ 1     │ 0     │ A/5 21171        │ 7.25    │ \u001b[90mmissing\u001b[39m │ S        │ 1        │ 0        │ 0        │\n",
       "│ 2   │ 2           │ 1        │ 1      │ Cumings, Mrs. John Bradley (Florence Briggs Thayer) │ female │ 38.0    │ 1     │ 0     │ PC 17599         │ 71.2833 │ C85     │ C        │ 0        │ 1        │ 0        │\n",
       "│ 3   │ 3           │ 1        │ 3      │ Heikkinen, Miss. Laina                              │ female │ 26.0    │ 0     │ 0     │ STON/O2. 3101282 │ 7.925   │ \u001b[90mmissing\u001b[39m │ S        │ 1        │ 0        │ 0        │\n",
       "│ 4   │ 4           │ 1        │ 1      │ Futrelle, Mrs. Jacques Heath (Lily May Peel)        │ female │ 35.0    │ 1     │ 0     │ 113803           │ 53.1    │ C123    │ S        │ 0        │ 1        │ 0        │\n",
       "│ 5   │ 5           │ 0        │ 3      │ Allen, Mr. William Henry                            │ male   │ 35.0    │ 0     │ 0     │ 373450           │ 8.05    │ \u001b[90mmissing\u001b[39m │ S        │ 1        │ 0        │ 0        │\n",
       "│ 6   │ 6           │ 0        │ 3      │ Moran, Mr. James                                    │ male   │ 29.6991 │ 0     │ 0     │ 330877           │ 8.4583  │ \u001b[90mmissing\u001b[39m │ Q        │ 1        │ 0        │ 0        │\n",
       "│ 7   │ 7           │ 0        │ 1      │ McCarthy, Mr. Timothy J                             │ male   │ 54.0    │ 0     │ 0     │ 17463            │ 51.8625 │ E46     │ S        │ 0        │ 1        │ 0        │\n",
       "│ 8   │ 8           │ 0        │ 3      │ Palsson, Master. Gosta Leonard                      │ male   │ 2.0     │ 3     │ 1     │ 349909           │ 21.075  │ \u001b[90mmissing\u001b[39m │ S        │ 1        │ 0        │ 0        │\n",
       "│ 9   │ 9           │ 1        │ 3      │ Johnson, Mrs. Oscar W (Elisabeth Vilhelmina Berg)   │ female │ 27.0    │ 0     │ 2     │ 347742           │ 11.1333 │ \u001b[90mmissing\u001b[39m │ S        │ 1        │ 0        │ 0        │\n",
       "│ 10  │ 10          │ 1        │ 2      │ Nasser, Mrs. Nicholas (Adele Achem)                 │ female │ 14.0    │ 1     │ 0     │ 237736           │ 30.0708 │ \u001b[90mmissing\u001b[39m │ C        │ 0        │ 0        │ 1        │"
      ]
     },
     "execution_count": 343,
     "metadata": {},
     "output_type": "execute_result"
    }
   ],
   "source": [
    "first(df, 10)"
   ]
  },
  {
   "cell_type": "code",
   "execution_count": 321,
   "metadata": {},
   "outputs": [
    {
     "data": {
      "text/html": [
       "<table class=\"data-frame\"><thead><tr><th></th><th>PassengerId</th><th>Survived</th><th>Pclass</th><th>Name</th><th>Sex</th><th>Age</th><th>SibSp</th><th>Parch</th><th>Ticket</th><th>Fare</th><th>Cabin</th><th>Embarked</th></tr><tr><th></th><th>Int64</th><th>Int64</th><th>Int64</th><th>String</th><th>String</th><th>Float64?</th><th>Int64</th><th>Int64</th><th>String</th><th>Float64</th><th>String?</th><th>String?</th></tr></thead><tbody><p>5 rows × 12 columns</p><tr><th>1</th><td>1</td><td>0</td><td>3</td><td>Braund, Mr. Owen Harris</td><td>male</td><td>22.0</td><td>1</td><td>0</td><td>A/5 21171</td><td>7.25</td><td><em>missing</em></td><td>S</td></tr><tr><th>2</th><td>2</td><td>1</td><td>1</td><td>Cumings, Mrs. John Bradley (Florence Briggs Thayer)</td><td>female</td><td>38.0</td><td>1</td><td>0</td><td>PC 17599</td><td>71.2833</td><td>C85</td><td>C</td></tr><tr><th>3</th><td>3</td><td>1</td><td>3</td><td>Heikkinen, Miss. Laina</td><td>female</td><td>26.0</td><td>0</td><td>0</td><td>STON/O2. 3101282</td><td>7.925</td><td><em>missing</em></td><td>S</td></tr><tr><th>4</th><td>4</td><td>1</td><td>1</td><td>Futrelle, Mrs. Jacques Heath (Lily May Peel)</td><td>female</td><td>35.0</td><td>1</td><td>0</td><td>113803</td><td>53.1</td><td>C123</td><td>S</td></tr><tr><th>5</th><td>5</td><td>0</td><td>3</td><td>Allen, Mr. William Henry</td><td>male</td><td>35.0</td><td>0</td><td>0</td><td>373450</td><td>8.05</td><td><em>missing</em></td><td>S</td></tr></tbody></table>"
      ],
      "text/latex": [
       "\\begin{tabular}{r|cccccccccccc}\n",
       "\t& PassengerId & Survived & Pclass & Name & Sex & Age & SibSp & Parch & Ticket & Fare & Cabin & Embarked\\\\\n",
       "\t\\hline\n",
       "\t& Int64 & Int64 & Int64 & String & String & Float64? & Int64 & Int64 & String & Float64 & String? & String?\\\\\n",
       "\t\\hline\n",
       "\t1 & 1 & 0 & 3 & Braund, Mr. Owen Harris & male & 22.0 & 1 & 0 & A/5 21171 & 7.25 & \\emph{missing} & S \\\\\n",
       "\t2 & 2 & 1 & 1 & Cumings, Mrs. John Bradley (Florence Briggs Thayer) & female & 38.0 & 1 & 0 & PC 17599 & 71.2833 & C85 & C \\\\\n",
       "\t3 & 3 & 1 & 3 & Heikkinen, Miss. Laina & female & 26.0 & 0 & 0 & STON/O2. 3101282 & 7.925 & \\emph{missing} & S \\\\\n",
       "\t4 & 4 & 1 & 1 & Futrelle, Mrs. Jacques Heath (Lily May Peel) & female & 35.0 & 1 & 0 & 113803 & 53.1 & C123 & S \\\\\n",
       "\t5 & 5 & 0 & 3 & Allen, Mr. William Henry & male & 35.0 & 0 & 0 & 373450 & 8.05 & \\emph{missing} & S \\\\\n",
       "\\end{tabular}\n"
      ],
      "text/plain": [
       "5×12 DataFrame\n",
       "│ Row │ PassengerId │ Survived │ Pclass │ Name                                                │ Sex    │ Age      │ SibSp │ Parch │ Ticket           │ Fare    │ Cabin   │ Embarked │\n",
       "│     │ \u001b[90mInt64\u001b[39m       │ \u001b[90mInt64\u001b[39m    │ \u001b[90mInt64\u001b[39m  │ \u001b[90mString\u001b[39m                                              │ \u001b[90mString\u001b[39m │ \u001b[90mFloat64?\u001b[39m │ \u001b[90mInt64\u001b[39m │ \u001b[90mInt64\u001b[39m │ \u001b[90mString\u001b[39m           │ \u001b[90mFloat64\u001b[39m │ \u001b[90mString?\u001b[39m │ \u001b[90mString?\u001b[39m  │\n",
       "├─────┼─────────────┼──────────┼────────┼─────────────────────────────────────────────────────┼────────┼──────────┼───────┼───────┼──────────────────┼─────────┼─────────┼──────────┤\n",
       "│ 1   │ 1           │ 0        │ 3      │ Braund, Mr. Owen Harris                             │ male   │ 22.0     │ 1     │ 0     │ A/5 21171        │ 7.25    │ \u001b[90mmissing\u001b[39m │ S        │\n",
       "│ 2   │ 2           │ 1        │ 1      │ Cumings, Mrs. John Bradley (Florence Briggs Thayer) │ female │ 38.0     │ 1     │ 0     │ PC 17599         │ 71.2833 │ C85     │ C        │\n",
       "│ 3   │ 3           │ 1        │ 3      │ Heikkinen, Miss. Laina                              │ female │ 26.0     │ 0     │ 0     │ STON/O2. 3101282 │ 7.925   │ \u001b[90mmissing\u001b[39m │ S        │\n",
       "│ 4   │ 4           │ 1        │ 1      │ Futrelle, Mrs. Jacques Heath (Lily May Peel)        │ female │ 35.0     │ 1     │ 0     │ 113803           │ 53.1    │ C123    │ S        │\n",
       "│ 5   │ 5           │ 0        │ 3      │ Allen, Mr. William Henry                            │ male   │ 35.0     │ 0     │ 0     │ 373450           │ 8.05    │ \u001b[90mmissing\u001b[39m │ S        │"
      ]
     },
     "execution_count": 321,
     "metadata": {},
     "output_type": "execute_result"
    }
   ],
   "source": [
    "first(df, 5)"
   ]
  },
  {
   "cell_type": "code",
   "execution_count": 322,
   "metadata": {},
   "outputs": [
    {
     "data": {
      "text/html": [
       "<table class=\"data-frame\"><thead><tr><th></th><th>variable</th><th>mean</th><th>min</th><th>median</th><th>max</th><th>nunique</th><th>nmissing</th><th>eltype</th></tr><tr><th></th><th>Symbol</th><th>Union…</th><th>Any</th><th>Union…</th><th>Any</th><th>Union…</th><th>Union…</th><th>Type</th></tr></thead><tbody><p>12 rows × 8 columns</p><tr><th>1</th><td>PassengerId</td><td>446.0</td><td>1</td><td>446.0</td><td>891</td><td></td><td></td><td>Int64</td></tr><tr><th>2</th><td>Survived</td><td>0.383838</td><td>0</td><td>0.0</td><td>1</td><td></td><td></td><td>Int64</td></tr><tr><th>3</th><td>Pclass</td><td>2.30864</td><td>1</td><td>3.0</td><td>3</td><td></td><td></td><td>Int64</td></tr><tr><th>4</th><td>Name</td><td></td><td>Abbing, Mr. Anthony</td><td></td><td>van Melkebeke, Mr. Philemon</td><td>891</td><td></td><td>String</td></tr><tr><th>5</th><td>Sex</td><td></td><td>female</td><td></td><td>male</td><td>2</td><td></td><td>String</td></tr><tr><th>6</th><td>Age</td><td>29.6991</td><td>0.42</td><td>28.0</td><td>80.0</td><td></td><td>177</td><td>Union{Missing, Float64}</td></tr><tr><th>7</th><td>SibSp</td><td>0.523008</td><td>0</td><td>0.0</td><td>8</td><td></td><td></td><td>Int64</td></tr><tr><th>8</th><td>Parch</td><td>0.381594</td><td>0</td><td>0.0</td><td>6</td><td></td><td></td><td>Int64</td></tr><tr><th>9</th><td>Ticket</td><td></td><td>110152</td><td></td><td>WE/P 5735</td><td>681</td><td></td><td>String</td></tr><tr><th>10</th><td>Fare</td><td>32.2042</td><td>0.0</td><td>14.4542</td><td>512.329</td><td></td><td></td><td>Float64</td></tr><tr><th>11</th><td>Cabin</td><td></td><td>A10</td><td></td><td>T</td><td>147</td><td>687</td><td>Union{Missing, String}</td></tr><tr><th>12</th><td>Embarked</td><td></td><td>C</td><td></td><td>S</td><td>3</td><td>2</td><td>Union{Missing, String}</td></tr></tbody></table>"
      ],
      "text/latex": [
       "\\begin{tabular}{r|cccccccc}\n",
       "\t& variable & mean & min & median & max & nunique & nmissing & eltype\\\\\n",
       "\t\\hline\n",
       "\t& Symbol & Union… & Any & Union… & Any & Union… & Union… & Type\\\\\n",
       "\t\\hline\n",
       "\t1 & PassengerId & 446.0 & 1 & 446.0 & 891 &  &  & Int64 \\\\\n",
       "\t2 & Survived & 0.383838 & 0 & 0.0 & 1 &  &  & Int64 \\\\\n",
       "\t3 & Pclass & 2.30864 & 1 & 3.0 & 3 &  &  & Int64 \\\\\n",
       "\t4 & Name &  & Abbing, Mr. Anthony &  & van Melkebeke, Mr. Philemon & 891 &  & String \\\\\n",
       "\t5 & Sex &  & female &  & male & 2 &  & String \\\\\n",
       "\t6 & Age & 29.6991 & 0.42 & 28.0 & 80.0 &  & 177 & Union\\{Missing, Float64\\} \\\\\n",
       "\t7 & SibSp & 0.523008 & 0 & 0.0 & 8 &  &  & Int64 \\\\\n",
       "\t8 & Parch & 0.381594 & 0 & 0.0 & 6 &  &  & Int64 \\\\\n",
       "\t9 & Ticket &  & 110152 &  & WE/P 5735 & 681 &  & String \\\\\n",
       "\t10 & Fare & 32.2042 & 0.0 & 14.4542 & 512.329 &  &  & Float64 \\\\\n",
       "\t11 & Cabin &  & A10 &  & T & 147 & 687 & Union\\{Missing, String\\} \\\\\n",
       "\t12 & Embarked &  & C &  & S & 3 & 2 & Union\\{Missing, String\\} \\\\\n",
       "\\end{tabular}\n"
      ],
      "text/plain": [
       "12×8 DataFrame\n",
       "│ Row │ variable    │ mean     │ min                 │ median  │ max                         │ nunique │ nmissing │ eltype                  │\n",
       "│     │ \u001b[90mSymbol\u001b[39m      │ \u001b[90mUnion…\u001b[39m   │ \u001b[90mAny\u001b[39m                 │ \u001b[90mUnion…\u001b[39m  │ \u001b[90mAny\u001b[39m                         │ \u001b[90mUnion…\u001b[39m  │ \u001b[90mUnion…\u001b[39m   │ \u001b[90mType\u001b[39m                    │\n",
       "├─────┼─────────────┼──────────┼─────────────────────┼─────────┼─────────────────────────────┼─────────┼──────────┼─────────────────────────┤\n",
       "│ 1   │ PassengerId │ 446.0    │ 1                   │ 446.0   │ 891                         │         │          │ Int64                   │\n",
       "│ 2   │ Survived    │ 0.383838 │ 0                   │ 0.0     │ 1                           │         │          │ Int64                   │\n",
       "│ 3   │ Pclass      │ 2.30864  │ 1                   │ 3.0     │ 3                           │         │          │ Int64                   │\n",
       "│ 4   │ Name        │          │ Abbing, Mr. Anthony │         │ van Melkebeke, Mr. Philemon │ 891     │          │ String                  │\n",
       "│ 5   │ Sex         │          │ female              │         │ male                        │ 2       │          │ String                  │\n",
       "│ 6   │ Age         │ 29.6991  │ 0.42                │ 28.0    │ 80.0                        │         │ 177      │ Union{Missing, Float64} │\n",
       "│ 7   │ SibSp       │ 0.523008 │ 0                   │ 0.0     │ 8                           │         │          │ Int64                   │\n",
       "│ 8   │ Parch       │ 0.381594 │ 0                   │ 0.0     │ 6                           │         │          │ Int64                   │\n",
       "│ 9   │ Ticket      │          │ 110152              │         │ WE/P 5735                   │ 681     │          │ String                  │\n",
       "│ 10  │ Fare        │ 32.2042  │ 0.0                 │ 14.4542 │ 512.329                     │         │          │ Float64                 │\n",
       "│ 11  │ Cabin       │          │ A10                 │         │ T                           │ 147     │ 687      │ Union{Missing, String}  │\n",
       "│ 12  │ Embarked    │          │ C                   │         │ S                           │ 3       │ 2        │ Union{Missing, String}  │"
      ]
     },
     "execution_count": 322,
     "metadata": {},
     "output_type": "execute_result"
    }
   ],
   "source": [
    "describe(df)"
   ]
  },
  {
   "cell_type": "code",
   "execution_count": null,
   "metadata": {},
   "outputs": [],
   "source": []
  },
  {
   "cell_type": "code",
   "execution_count": 324,
   "metadata": {},
   "outputs": [
    {
     "data": {
      "text/plain": [
       "12-element Array{String,1}:\n",
       " \"PassengerId\"\n",
       " \"Survived\"\n",
       " \"Pclass\"\n",
       " \"Name\"\n",
       " \"Sex\"\n",
       " \"Age\"\n",
       " \"SibSp\"\n",
       " \"Parch\"\n",
       " \"Ticket\"\n",
       " \"Fare\"\n",
       " \"Cabin\"\n",
       " \"Embarked\""
      ]
     },
     "execution_count": 324,
     "metadata": {},
     "output_type": "execute_result"
    }
   ],
   "source": [
    "names(df)"
   ]
  },
  {
   "cell_type": "code",
   "execution_count": 325,
   "metadata": {},
   "outputs": [],
   "source": [
    "average_age = mean(skipmissing(df.Age))\n",
    "df.Age = coalesce.(df.Age, average_age);   # coalesce replaces missing values"
   ]
  },
  {
   "cell_type": "code",
   "execution_count": 344,
   "metadata": {},
   "outputs": [
    {
     "data": {
      "image/svg+xml": [
       "<?xml version=\"1.0\" encoding=\"utf-8\"?>\n",
       "<svg xmlns=\"http://www.w3.org/2000/svg\" xmlns:xlink=\"http://www.w3.org/1999/xlink\" width=\"600\" height=\"200\" viewBox=\"0 0 2400 800\">\n",
       "<defs>\n",
       "  <clipPath id=\"clip360\">\n",
       "    <rect x=\"0\" y=\"0\" width=\"2400\" height=\"800\"/>\n",
       "  </clipPath>\n",
       "</defs>\n",
       "<path clip-path=\"url(#clip360)\" d=\"\n",
       "M0 800 L2400 800 L2400 0 L0 0  Z\n",
       "  \" fill=\"#ffffff\" fill-rule=\"evenodd\" fill-opacity=\"1\"/>\n",
       "<defs>\n",
       "  <clipPath id=\"clip361\">\n",
       "    <rect x=\"480\" y=\"0\" width=\"1681\" height=\"800\"/>\n",
       "  </clipPath>\n",
       "</defs>\n",
       "<path clip-path=\"url(#clip360)\" d=\"\n",
       "M175.348 711.728 L2352.76 711.728 L2352.76 47.2441 L175.348 47.2441  Z\n",
       "  \" fill=\"#ffffff\" fill-rule=\"evenodd\" fill-opacity=\"1\"/>\n",
       "<defs>\n",
       "  <clipPath id=\"clip362\">\n",
       "    <rect x=\"175\" y=\"47\" width=\"2178\" height=\"665\"/>\n",
       "  </clipPath>\n",
       "</defs>\n",
       "<polyline clip-path=\"url(#clip362)\" style=\"stroke:#000000; stroke-width:2; stroke-opacity:0.1; fill:none\" points=\"\n",
       "  295.109,711.728 295.109,47.2441 \n",
       "  \"/>\n",
       "<polyline clip-path=\"url(#clip362)\" style=\"stroke:#000000; stroke-width:2; stroke-opacity:0.1; fill:none\" points=\"\n",
       "  751.082,711.728 751.082,47.2441 \n",
       "  \"/>\n",
       "<polyline clip-path=\"url(#clip362)\" style=\"stroke:#000000; stroke-width:2; stroke-opacity:0.1; fill:none\" points=\"\n",
       "  1207.06,711.728 1207.06,47.2441 \n",
       "  \"/>\n",
       "<polyline clip-path=\"url(#clip362)\" style=\"stroke:#000000; stroke-width:2; stroke-opacity:0.1; fill:none\" points=\"\n",
       "  1663.03,711.728 1663.03,47.2441 \n",
       "  \"/>\n",
       "<polyline clip-path=\"url(#clip362)\" style=\"stroke:#000000; stroke-width:2; stroke-opacity:0.1; fill:none\" points=\"\n",
       "  2119,711.728 2119,47.2441 \n",
       "  \"/>\n",
       "<polyline clip-path=\"url(#clip362)\" style=\"stroke:#000000; stroke-width:2; stroke-opacity:0.1; fill:none\" points=\"\n",
       "  175.348,692.922 2352.76,692.922 \n",
       "  \"/>\n",
       "<polyline clip-path=\"url(#clip362)\" style=\"stroke:#000000; stroke-width:2; stroke-opacity:0.1; fill:none\" points=\"\n",
       "  175.348,514.604 2352.76,514.604 \n",
       "  \"/>\n",
       "<polyline clip-path=\"url(#clip362)\" style=\"stroke:#000000; stroke-width:2; stroke-opacity:0.1; fill:none\" points=\"\n",
       "  175.348,336.287 2352.76,336.287 \n",
       "  \"/>\n",
       "<polyline clip-path=\"url(#clip362)\" style=\"stroke:#000000; stroke-width:2; stroke-opacity:0.1; fill:none\" points=\"\n",
       "  175.348,157.97 2352.76,157.97 \n",
       "  \"/>\n",
       "<polyline clip-path=\"url(#clip360)\" style=\"stroke:#000000; stroke-width:4; stroke-opacity:1; fill:none\" points=\"\n",
       "  175.348,711.728 2352.76,711.728 \n",
       "  \"/>\n",
       "<polyline clip-path=\"url(#clip360)\" style=\"stroke:#000000; stroke-width:4; stroke-opacity:1; fill:none\" points=\"\n",
       "  175.348,711.728 175.348,47.2441 \n",
       "  \"/>\n",
       "<polyline clip-path=\"url(#clip360)\" style=\"stroke:#000000; stroke-width:4; stroke-opacity:1; fill:none\" points=\"\n",
       "  295.109,711.728 295.109,703.754 \n",
       "  \"/>\n",
       "<polyline clip-path=\"url(#clip360)\" style=\"stroke:#000000; stroke-width:4; stroke-opacity:1; fill:none\" points=\"\n",
       "  751.082,711.728 751.082,703.754 \n",
       "  \"/>\n",
       "<polyline clip-path=\"url(#clip360)\" style=\"stroke:#000000; stroke-width:4; stroke-opacity:1; fill:none\" points=\"\n",
       "  1207.06,711.728 1207.06,703.754 \n",
       "  \"/>\n",
       "<polyline clip-path=\"url(#clip360)\" style=\"stroke:#000000; stroke-width:4; stroke-opacity:1; fill:none\" points=\"\n",
       "  1663.03,711.728 1663.03,703.754 \n",
       "  \"/>\n",
       "<polyline clip-path=\"url(#clip360)\" style=\"stroke:#000000; stroke-width:4; stroke-opacity:1; fill:none\" points=\"\n",
       "  2119,711.728 2119,703.754 \n",
       "  \"/>\n",
       "<polyline clip-path=\"url(#clip360)\" style=\"stroke:#000000; stroke-width:4; stroke-opacity:1; fill:none\" points=\"\n",
       "  175.348,692.922 201.477,692.922 \n",
       "  \"/>\n",
       "<polyline clip-path=\"url(#clip360)\" style=\"stroke:#000000; stroke-width:4; stroke-opacity:1; fill:none\" points=\"\n",
       "  175.348,514.604 201.477,514.604 \n",
       "  \"/>\n",
       "<polyline clip-path=\"url(#clip360)\" style=\"stroke:#000000; stroke-width:4; stroke-opacity:1; fill:none\" points=\"\n",
       "  175.348,336.287 201.477,336.287 \n",
       "  \"/>\n",
       "<polyline clip-path=\"url(#clip360)\" style=\"stroke:#000000; stroke-width:4; stroke-opacity:1; fill:none\" points=\"\n",
       "  175.348,157.97 201.477,157.97 \n",
       "  \"/>\n",
       "<path clip-path=\"url(#clip360)\" d=\"M 0 0 M295.109 733.719 Q291.498 733.719 289.67 737.283 Q287.864 740.825 287.864 747.955 Q287.864 755.061 289.67 758.626 Q291.498 762.167 295.109 762.167 Q298.744 762.167 300.549 758.626 Q302.378 755.061 302.378 747.955 Q302.378 740.825 300.549 737.283 Q298.744 733.719 295.109 733.719 M295.109 730.015 Q300.92 730.015 303.975 734.621 Q307.054 739.205 307.054 747.955 Q307.054 756.681 303.975 761.288 Q300.92 765.871 295.109 765.871 Q289.299 765.871 286.221 761.288 Q283.165 756.681 283.165 747.955 Q283.165 739.205 286.221 734.621 Q289.299 730.015 295.109 730.015 Z\" fill=\"#000000\" fill-rule=\"evenodd\" fill-opacity=\"1\" /><path clip-path=\"url(#clip360)\" d=\"M 0 0 M732.228 761.265 L748.548 761.265 L748.548 765.2 L726.603 765.2 L726.603 761.265 Q729.265 758.51 733.849 753.88 Q738.455 749.228 739.636 747.885 Q741.881 745.362 742.761 743.626 Q743.663 741.867 743.663 740.177 Q743.663 737.422 741.719 735.686 Q739.798 733.95 736.696 733.95 Q734.497 733.95 732.043 734.714 Q729.613 735.478 726.835 737.029 L726.835 732.307 Q729.659 731.172 732.113 730.594 Q734.566 730.015 736.603 730.015 Q741.974 730.015 745.168 732.7 Q748.363 735.385 748.363 739.876 Q748.363 742.006 747.552 743.927 Q746.765 745.825 744.659 748.418 Q744.08 749.089 740.978 752.306 Q737.876 755.501 732.228 761.265 Z\" fill=\"#000000\" fill-rule=\"evenodd\" fill-opacity=\"1\" /><path clip-path=\"url(#clip360)\" d=\"M 0 0 M763.617 733.719 Q760.006 733.719 758.177 737.283 Q756.372 740.825 756.372 747.955 Q756.372 755.061 758.177 758.626 Q760.006 762.167 763.617 762.167 Q767.251 762.167 769.057 758.626 Q770.886 755.061 770.886 747.955 Q770.886 740.825 769.057 737.283 Q767.251 733.719 763.617 733.719 M763.617 730.015 Q769.427 730.015 772.483 734.621 Q775.561 739.205 775.561 747.955 Q775.561 756.681 772.483 761.288 Q769.427 765.871 763.617 765.871 Q757.807 765.871 754.728 761.288 Q751.673 756.681 751.673 747.955 Q751.673 739.205 754.728 734.621 Q757.807 730.015 763.617 730.015 Z\" fill=\"#000000\" fill-rule=\"evenodd\" fill-opacity=\"1\" /><path clip-path=\"url(#clip360)\" d=\"M 0 0 M1196.56 734.714 L1184.75 753.163 L1196.56 753.163 L1196.56 734.714 M1195.33 730.64 L1201.21 730.64 L1201.21 753.163 L1206.14 753.163 L1206.14 757.052 L1201.21 757.052 L1201.21 765.2 L1196.56 765.2 L1196.56 757.052 L1180.96 757.052 L1180.96 752.538 L1195.33 730.64 Z\" fill=\"#000000\" fill-rule=\"evenodd\" fill-opacity=\"1\" /><path clip-path=\"url(#clip360)\" d=\"M 0 0 M1221.21 733.719 Q1217.6 733.719 1215.77 737.283 Q1213.97 740.825 1213.97 747.955 Q1213.97 755.061 1215.77 758.626 Q1217.6 762.167 1221.21 762.167 Q1224.84 762.167 1226.65 758.626 Q1228.48 755.061 1228.48 747.955 Q1228.48 740.825 1226.65 737.283 Q1224.84 733.719 1221.21 733.719 M1221.21 730.015 Q1227.02 730.015 1230.08 734.621 Q1233.15 739.205 1233.15 747.955 Q1233.15 756.681 1230.08 761.288 Q1227.02 765.871 1221.21 765.871 Q1215.4 765.871 1212.32 761.288 Q1209.27 756.681 1209.27 747.955 Q1209.27 739.205 1212.32 734.621 Q1215.4 730.015 1221.21 730.015 Z\" fill=\"#000000\" fill-rule=\"evenodd\" fill-opacity=\"1\" /><path clip-path=\"url(#clip360)\" d=\"M 0 0 M1649.93 746.056 Q1646.78 746.056 1644.93 748.209 Q1643.1 750.362 1643.1 754.112 Q1643.1 757.839 1644.93 760.015 Q1646.78 762.167 1649.93 762.167 Q1653.07 762.167 1654.9 760.015 Q1656.76 757.839 1656.76 754.112 Q1656.76 750.362 1654.9 748.209 Q1653.07 746.056 1649.93 746.056 M1659.21 731.404 L1659.21 735.663 Q1657.45 734.83 1655.64 734.39 Q1653.86 733.95 1652.1 733.95 Q1647.47 733.95 1645.02 737.075 Q1642.59 740.2 1642.24 746.519 Q1643.61 744.506 1645.67 743.441 Q1647.73 742.353 1650.2 742.353 Q1655.41 742.353 1658.42 745.524 Q1661.45 748.672 1661.45 754.112 Q1661.45 759.436 1658.31 762.654 Q1655.16 765.871 1649.93 765.871 Q1643.93 765.871 1640.76 761.288 Q1637.59 756.681 1637.59 747.955 Q1637.59 739.76 1641.48 734.899 Q1645.37 730.015 1651.92 730.015 Q1653.68 730.015 1655.46 730.362 Q1657.26 730.709 1659.21 731.404 Z\" fill=\"#000000\" fill-rule=\"evenodd\" fill-opacity=\"1\" /><path clip-path=\"url(#clip360)\" d=\"M 0 0 M1676.52 733.719 Q1672.91 733.719 1671.08 737.283 Q1669.28 740.825 1669.28 747.955 Q1669.28 755.061 1671.08 758.626 Q1672.91 762.167 1676.52 762.167 Q1680.16 762.167 1681.96 758.626 Q1683.79 755.061 1683.79 747.955 Q1683.79 740.825 1681.96 737.283 Q1680.16 733.719 1676.52 733.719 M1676.52 730.015 Q1682.33 730.015 1685.39 734.621 Q1688.47 739.205 1688.47 747.955 Q1688.47 756.681 1685.39 761.288 Q1682.33 765.871 1676.52 765.871 Q1670.71 765.871 1667.63 761.288 Q1664.58 756.681 1664.58 747.955 Q1664.58 739.205 1667.63 734.621 Q1670.71 730.015 1676.52 730.015 Z\" fill=\"#000000\" fill-rule=\"evenodd\" fill-opacity=\"1\" /><path clip-path=\"url(#clip360)\" d=\"M 0 0 M2105.49 748.788 Q2102.16 748.788 2100.24 750.57 Q2098.34 752.353 2098.34 755.478 Q2098.34 758.603 2100.24 760.385 Q2102.16 762.167 2105.49 762.167 Q2108.83 762.167 2110.75 760.385 Q2112.67 758.58 2112.67 755.478 Q2112.67 752.353 2110.75 750.57 Q2108.85 748.788 2105.49 748.788 M2100.82 746.797 Q2097.81 746.056 2096.12 743.996 Q2094.45 741.936 2094.45 738.973 Q2094.45 734.83 2097.39 732.422 Q2100.36 730.015 2105.49 730.015 Q2110.66 730.015 2113.6 732.422 Q2116.54 734.83 2116.54 738.973 Q2116.54 741.936 2114.85 743.996 Q2113.18 746.056 2110.19 746.797 Q2113.57 747.584 2115.45 749.876 Q2117.35 752.168 2117.35 755.478 Q2117.35 760.501 2114.27 763.186 Q2111.21 765.871 2105.49 765.871 Q2099.78 765.871 2096.7 763.186 Q2093.64 760.501 2093.64 755.478 Q2093.64 752.168 2095.54 749.876 Q2097.44 747.584 2100.82 746.797 M2099.11 739.413 Q2099.11 742.098 2100.77 743.603 Q2102.46 745.107 2105.49 745.107 Q2108.5 745.107 2110.19 743.603 Q2111.91 742.098 2111.91 739.413 Q2111.91 736.728 2110.19 735.223 Q2108.5 733.719 2105.49 733.719 Q2102.46 733.719 2100.77 735.223 Q2099.11 736.728 2099.11 739.413 Z\" fill=\"#000000\" fill-rule=\"evenodd\" fill-opacity=\"1\" /><path clip-path=\"url(#clip360)\" d=\"M 0 0 M2132.42 733.719 Q2128.8 733.719 2126.98 737.283 Q2125.17 740.825 2125.17 747.955 Q2125.17 755.061 2126.98 758.626 Q2128.8 762.167 2132.42 762.167 Q2136.05 762.167 2137.86 758.626 Q2139.68 755.061 2139.68 747.955 Q2139.68 740.825 2137.86 737.283 Q2136.05 733.719 2132.42 733.719 M2132.42 730.015 Q2138.23 730.015 2141.28 734.621 Q2144.36 739.205 2144.36 747.955 Q2144.36 756.681 2141.28 761.288 Q2138.23 765.871 2132.42 765.871 Q2126.61 765.871 2123.53 761.288 Q2120.47 756.681 2120.47 747.955 Q2120.47 739.205 2123.53 734.621 Q2126.61 730.015 2132.42 730.015 Z\" fill=\"#000000\" fill-rule=\"evenodd\" fill-opacity=\"1\" /><path clip-path=\"url(#clip360)\" d=\"M 0 0 M75.4226 678.72 Q71.8115 678.72 69.9828 682.285 Q68.1773 685.827 68.1773 692.956 Q68.1773 700.063 69.9828 703.628 Q71.8115 707.169 75.4226 707.169 Q79.0569 707.169 80.8624 703.628 Q82.6911 700.063 82.6911 692.956 Q82.6911 685.827 80.8624 682.285 Q79.0569 678.72 75.4226 678.72 M75.4226 675.017 Q81.2328 675.017 84.2883 679.623 Q87.367 684.206 87.367 692.956 Q87.367 701.683 84.2883 706.29 Q81.2328 710.873 75.4226 710.873 Q69.6125 710.873 66.5338 706.29 Q63.4782 701.683 63.4782 692.956 Q63.4782 684.206 66.5338 679.623 Q69.6125 675.017 75.4226 675.017 Z\" fill=\"#000000\" fill-rule=\"evenodd\" fill-opacity=\"1\" /><path clip-path=\"url(#clip360)\" d=\"M 0 0 M92.4364 704.322 L97.3206 704.322 L97.3206 710.202 L92.4364 710.202 L92.4364 704.322 Z\" fill=\"#000000\" fill-rule=\"evenodd\" fill-opacity=\"1\" /><path clip-path=\"url(#clip360)\" d=\"M 0 0 M112.39 678.72 Q108.779 678.72 106.95 682.285 Q105.145 685.827 105.145 692.956 Q105.145 700.063 106.95 703.628 Q108.779 707.169 112.39 707.169 Q116.024 707.169 117.83 703.628 Q119.658 700.063 119.658 692.956 Q119.658 685.827 117.83 682.285 Q116.024 678.72 112.39 678.72 M112.39 675.017 Q118.2 675.017 121.256 679.623 Q124.334 684.206 124.334 692.956 Q124.334 701.683 121.256 706.29 Q118.2 710.873 112.39 710.873 Q106.58 710.873 103.501 706.29 Q100.446 701.683 100.446 692.956 Q100.446 684.206 103.501 679.623 Q106.58 675.017 112.39 675.017 Z\" fill=\"#000000\" fill-rule=\"evenodd\" fill-opacity=\"1\" /><path clip-path=\"url(#clip360)\" d=\"M 0 0 M139.404 678.72 Q135.793 678.72 133.964 682.285 Q132.158 685.827 132.158 692.956 Q132.158 700.063 133.964 703.628 Q135.793 707.169 139.404 707.169 Q143.038 707.169 144.844 703.628 Q146.672 700.063 146.672 692.956 Q146.672 685.827 144.844 682.285 Q143.038 678.72 139.404 678.72 M139.404 675.017 Q145.214 675.017 148.269 679.623 Q151.348 684.206 151.348 692.956 Q151.348 701.683 148.269 706.29 Q145.214 710.873 139.404 710.873 Q133.594 710.873 130.515 706.29 Q127.459 701.683 127.459 692.956 Q127.459 684.206 130.515 679.623 Q133.594 675.017 139.404 675.017 Z\" fill=\"#000000\" fill-rule=\"evenodd\" fill-opacity=\"1\" /><path clip-path=\"url(#clip360)\" d=\"M 0 0 M77.0198 500.403 Q73.4087 500.403 71.58 503.968 Q69.7745 507.51 69.7745 514.639 Q69.7745 521.746 71.58 525.31 Q73.4087 528.852 77.0198 528.852 Q80.6541 528.852 82.4596 525.31 Q84.2883 521.746 84.2883 514.639 Q84.2883 507.51 82.4596 503.968 Q80.6541 500.403 77.0198 500.403 M77.0198 496.699 Q82.83 496.699 85.8855 501.306 Q88.9642 505.889 88.9642 514.639 Q88.9642 523.366 85.8855 527.972 Q82.83 532.556 77.0198 532.556 Q71.2097 532.556 68.131 527.972 Q65.0754 523.366 65.0754 514.639 Q65.0754 505.889 68.131 501.306 Q71.2097 496.699 77.0198 496.699 Z\" fill=\"#000000\" fill-rule=\"evenodd\" fill-opacity=\"1\" /><path clip-path=\"url(#clip360)\" d=\"M 0 0 M94.0336 526.005 L98.9179 526.005 L98.9179 531.884 L94.0336 531.884 L94.0336 526.005 Z\" fill=\"#000000\" fill-rule=\"evenodd\" fill-opacity=\"1\" /><path clip-path=\"url(#clip360)\" d=\"M 0 0 M113.987 500.403 Q110.376 500.403 108.547 503.968 Q106.742 507.51 106.742 514.639 Q106.742 521.746 108.547 525.31 Q110.376 528.852 113.987 528.852 Q117.621 528.852 119.427 525.31 Q121.256 521.746 121.256 514.639 Q121.256 507.51 119.427 503.968 Q117.621 500.403 113.987 500.403 M113.987 496.699 Q119.797 496.699 122.853 501.306 Q125.932 505.889 125.932 514.639 Q125.932 523.366 122.853 527.972 Q119.797 532.556 113.987 532.556 Q108.177 532.556 105.098 527.972 Q102.043 523.366 102.043 514.639 Q102.043 505.889 105.098 501.306 Q108.177 496.699 113.987 496.699 Z\" fill=\"#000000\" fill-rule=\"evenodd\" fill-opacity=\"1\" /><path clip-path=\"url(#clip360)\" d=\"M 0 0 M135.029 527.949 L151.348 527.949 L151.348 531.884 L129.404 531.884 L129.404 527.949 Q132.066 525.195 136.649 520.565 Q141.256 515.912 142.436 514.57 Q144.682 512.047 145.561 510.31 Q146.464 508.551 146.464 506.861 Q146.464 504.107 144.519 502.371 Q142.598 500.635 139.496 500.635 Q137.297 500.635 134.844 501.398 Q132.413 502.162 129.635 503.713 L129.635 498.991 Q132.459 497.857 134.913 497.278 Q137.367 496.699 139.404 496.699 Q144.774 496.699 147.969 499.385 Q151.163 502.07 151.163 506.56 Q151.163 508.69 150.353 510.611 Q149.566 512.51 147.459 515.102 Q146.881 515.773 143.779 518.991 Q140.677 522.185 135.029 527.949 Z\" fill=\"#000000\" fill-rule=\"evenodd\" fill-opacity=\"1\" /><path clip-path=\"url(#clip360)\" d=\"M 0 0 M74.9365 322.086 Q71.3254 322.086 69.4967 325.651 Q67.6912 329.192 67.6912 336.322 Q67.6912 343.428 69.4967 346.993 Q71.3254 350.535 74.9365 350.535 Q78.5707 350.535 80.3763 346.993 Q82.205 343.428 82.205 336.322 Q82.205 329.192 80.3763 325.651 Q78.5707 322.086 74.9365 322.086 M74.9365 318.382 Q80.7467 318.382 83.8022 322.989 Q86.8809 327.572 86.8809 336.322 Q86.8809 345.049 83.8022 349.655 Q80.7467 354.238 74.9365 354.238 Q69.1264 354.238 66.0477 349.655 Q62.9921 345.049 62.9921 336.322 Q62.9921 327.572 66.0477 322.989 Q69.1264 318.382 74.9365 318.382 Z\" fill=\"#000000\" fill-rule=\"evenodd\" fill-opacity=\"1\" /><path clip-path=\"url(#clip360)\" d=\"M 0 0 M91.9503 347.687 L96.8345 347.687 L96.8345 353.567 L91.9503 353.567 L91.9503 347.687 Z\" fill=\"#000000\" fill-rule=\"evenodd\" fill-opacity=\"1\" /><path clip-path=\"url(#clip360)\" d=\"M 0 0 M111.904 322.086 Q108.293 322.086 106.464 325.651 Q104.659 329.192 104.659 336.322 Q104.659 343.428 106.464 346.993 Q108.293 350.535 111.904 350.535 Q115.538 350.535 117.344 346.993 Q119.172 343.428 119.172 336.322 Q119.172 329.192 117.344 325.651 Q115.538 322.086 111.904 322.086 M111.904 318.382 Q117.714 318.382 120.77 322.989 Q123.848 327.572 123.848 336.322 Q123.848 345.049 120.77 349.655 Q117.714 354.238 111.904 354.238 Q106.094 354.238 103.015 349.655 Q99.9595 345.049 99.9595 336.322 Q99.9595 327.572 103.015 322.989 Q106.094 318.382 111.904 318.382 Z\" fill=\"#000000\" fill-rule=\"evenodd\" fill-opacity=\"1\" /><path clip-path=\"url(#clip360)\" d=\"M 0 0 M141.765 323.081 L129.959 341.53 L141.765 341.53 L141.765 323.081 M140.538 319.007 L146.418 319.007 L146.418 341.53 L151.348 341.53 L151.348 345.419 L146.418 345.419 L146.418 353.567 L141.765 353.567 L141.765 345.419 L126.163 345.419 L126.163 340.905 L140.538 319.007 Z\" fill=\"#000000\" fill-rule=\"evenodd\" fill-opacity=\"1\" /><path clip-path=\"url(#clip360)\" d=\"M 0 0 M75.2606 143.768 Q71.6495 143.768 69.8208 147.333 Q68.0152 150.875 68.0152 158.004 Q68.0152 165.111 69.8208 168.676 Q71.6495 172.217 75.2606 172.217 Q78.8948 172.217 80.7004 168.676 Q82.5291 165.111 82.5291 158.004 Q82.5291 150.875 80.7004 147.333 Q78.8948 143.768 75.2606 143.768 M75.2606 140.065 Q81.0707 140.065 84.1263 144.671 Q87.205 149.255 87.205 158.004 Q87.205 166.731 84.1263 171.338 Q81.0707 175.921 75.2606 175.921 Q69.4504 175.921 66.3717 171.338 Q63.3162 166.731 63.3162 158.004 Q63.3162 149.255 66.3717 144.671 Q69.4504 140.065 75.2606 140.065 Z\" fill=\"#000000\" fill-rule=\"evenodd\" fill-opacity=\"1\" /><path clip-path=\"url(#clip360)\" d=\"M 0 0 M92.2744 169.37 L97.1586 169.37 L97.1586 175.25 L92.2744 175.25 L92.2744 169.37 Z\" fill=\"#000000\" fill-rule=\"evenodd\" fill-opacity=\"1\" /><path clip-path=\"url(#clip360)\" d=\"M 0 0 M112.228 143.768 Q108.617 143.768 106.788 147.333 Q104.983 150.875 104.983 158.004 Q104.983 165.111 106.788 168.676 Q108.617 172.217 112.228 172.217 Q115.862 172.217 117.668 168.676 Q119.496 165.111 119.496 158.004 Q119.496 150.875 117.668 147.333 Q115.862 143.768 112.228 143.768 M112.228 140.065 Q118.038 140.065 121.094 144.671 Q124.172 149.255 124.172 158.004 Q124.172 166.731 121.094 171.338 Q118.038 175.921 112.228 175.921 Q106.418 175.921 103.339 171.338 Q100.284 166.731 100.284 158.004 Q100.284 149.255 103.339 144.671 Q106.418 140.065 112.228 140.065 Z\" fill=\"#000000\" fill-rule=\"evenodd\" fill-opacity=\"1\" /><path clip-path=\"url(#clip360)\" d=\"M 0 0 M139.82 156.106 Q136.672 156.106 134.82 158.259 Q132.992 160.412 132.992 164.162 Q132.992 167.889 134.82 170.065 Q136.672 172.217 139.82 172.217 Q142.969 172.217 144.797 170.065 Q146.649 167.889 146.649 164.162 Q146.649 160.412 144.797 158.259 Q142.969 156.106 139.82 156.106 M149.103 141.454 L149.103 145.713 Q147.344 144.88 145.538 144.44 Q143.756 144 141.996 144 Q137.367 144 134.913 147.125 Q132.482 150.25 132.135 156.569 Q133.501 154.555 135.561 153.491 Q137.621 152.403 140.098 152.403 Q145.306 152.403 148.316 155.574 Q151.348 158.722 151.348 164.162 Q151.348 169.486 148.2 172.703 Q145.052 175.921 139.82 175.921 Q133.825 175.921 130.654 171.338 Q127.483 166.731 127.483 158.004 Q127.483 149.81 131.371 144.949 Q135.26 140.065 141.811 140.065 Q143.57 140.065 145.353 140.412 Q147.158 140.759 149.103 141.454 Z\" fill=\"#000000\" fill-rule=\"evenodd\" fill-opacity=\"1\" /><path clip-path=\"url(#clip362)\" d=\"\n",
       "M295.109 552.145 L295.109 692.922 L409.103 692.922 L409.103 552.145 L295.109 552.145 L295.109 552.145  Z\n",
       "  \" fill=\"#009af9\" fill-rule=\"evenodd\" fill-opacity=\"0.4\"/>\n",
       "<polyline clip-path=\"url(#clip362)\" style=\"stroke:#000000; stroke-width:4; stroke-opacity:0.4; fill:none\" points=\"\n",
       "  295.109,552.145 295.109,692.922 409.103,692.922 409.103,552.145 295.109,552.145 \n",
       "  \"/>\n",
       "<path clip-path=\"url(#clip362)\" d=\"\n",
       "M409.103 635.568 L409.103 692.922 L523.096 692.922 L523.096 635.568 L409.103 635.568 L409.103 635.568  Z\n",
       "  \" fill=\"#009af9\" fill-rule=\"evenodd\" fill-opacity=\"0.4\"/>\n",
       "<polyline clip-path=\"url(#clip362)\" style=\"stroke:#000000; stroke-width:4; stroke-opacity:0.4; fill:none\" points=\"\n",
       "  409.103,635.568 409.103,692.922 523.096,692.922 523.096,635.568 409.103,635.568 \n",
       "  \"/>\n",
       "<path clip-path=\"url(#clip362)\" d=\"\n",
       "M523.096 656.424 L523.096 692.922 L637.089 692.922 L637.089 656.424 L523.096 656.424 L523.096 656.424  Z\n",
       "  \" fill=\"#009af9\" fill-rule=\"evenodd\" fill-opacity=\"0.4\"/>\n",
       "<polyline clip-path=\"url(#clip362)\" style=\"stroke:#000000; stroke-width:4; stroke-opacity:0.4; fill:none\" points=\"\n",
       "  523.096,656.424 523.096,692.922 637.089,692.922 637.089,656.424 523.096,656.424 \n",
       "  \"/>\n",
       "<path clip-path=\"url(#clip362)\" d=\"\n",
       "M637.089 515.647 L637.089 692.922 L751.082 692.922 L751.082 515.647 L637.089 515.647 L637.089 515.647  Z\n",
       "  \" fill=\"#009af9\" fill-rule=\"evenodd\" fill-opacity=\"0.4\"/>\n",
       "<polyline clip-path=\"url(#clip362)\" style=\"stroke:#000000; stroke-width:4; stroke-opacity:0.4; fill:none\" points=\"\n",
       "  637.089,515.647 637.089,692.922 751.082,692.922 751.082,515.647 637.089,515.647 \n",
       "  \"/>\n",
       "<path clip-path=\"url(#clip362)\" d=\"\n",
       "M751.082 489.577 L751.082 692.922 L865.076 692.922 L865.076 489.577 L751.082 489.577 L751.082 489.577  Z\n",
       "  \" fill=\"#009af9\" fill-rule=\"evenodd\" fill-opacity=\"0.4\"/>\n",
       "<polyline clip-path=\"url(#clip362)\" style=\"stroke:#000000; stroke-width:4; stroke-opacity:0.4; fill:none\" points=\"\n",
       "  751.082,489.577 751.082,692.922 865.076,692.922 865.076,489.577 751.082,489.577 \n",
       "  \"/>\n",
       "<path clip-path=\"url(#clip362)\" d=\"\n",
       "M865.076 223.666 L865.076 692.922 L979.069 692.922 L979.069 223.666 L865.076 223.666 L865.076 223.666  Z\n",
       "  \" fill=\"#009af9\" fill-rule=\"evenodd\" fill-opacity=\"0.4\"/>\n",
       "<polyline clip-path=\"url(#clip362)\" style=\"stroke:#000000; stroke-width:4; stroke-opacity:0.4; fill:none\" points=\"\n",
       "  865.076,223.666 865.076,692.922 979.069,692.922 979.069,223.666 865.076,223.666 \n",
       "  \"/>\n",
       "<path clip-path=\"url(#clip362)\" d=\"\n",
       "M979.069 484.363 L979.069 692.922 L1093.06 692.922 L1093.06 484.363 L979.069 484.363 L979.069 484.363  Z\n",
       "  \" fill=\"#009af9\" fill-rule=\"evenodd\" fill-opacity=\"0.4\"/>\n",
       "<polyline clip-path=\"url(#clip362)\" style=\"stroke:#000000; stroke-width:4; stroke-opacity:0.4; fill:none\" points=\"\n",
       "  979.069,484.363 979.069,692.922 1093.06,692.922 1093.06,484.363 979.069,484.363 \n",
       "  \"/>\n",
       "<path clip-path=\"url(#clip362)\" d=\"\n",
       "M1093.06 520.861 L1093.06 692.922 L1207.06 692.922 L1207.06 520.861 L1093.06 520.861 L1093.06 520.861  Z\n",
       "  \" fill=\"#009af9\" fill-rule=\"evenodd\" fill-opacity=\"0.4\"/>\n",
       "<polyline clip-path=\"url(#clip362)\" style=\"stroke:#000000; stroke-width:4; stroke-opacity:0.4; fill:none\" points=\"\n",
       "  1093.06,520.861 1093.06,692.922 1207.06,692.922 1207.06,520.861 1093.06,520.861 \n",
       "  \"/>\n",
       "<path clip-path=\"url(#clip362)\" d=\"\n",
       "M1207.06 599.071 L1207.06 692.922 L1321.05 692.922 L1321.05 599.071 L1207.06 599.071 L1207.06 599.071  Z\n",
       "  \" fill=\"#009af9\" fill-rule=\"evenodd\" fill-opacity=\"0.4\"/>\n",
       "<polyline clip-path=\"url(#clip362)\" style=\"stroke:#000000; stroke-width:4; stroke-opacity:0.4; fill:none\" points=\"\n",
       "  1207.06,599.071 1207.06,692.922 1321.05,692.922 1321.05,599.071 1207.06,599.071 \n",
       "  \"/>\n",
       "<path clip-path=\"url(#clip362)\" d=\"\n",
       "M1321.05 609.498 L1321.05 692.922 L1435.04 692.922 L1435.04 609.498 L1321.05 609.498 L1321.05 609.498  Z\n",
       "  \" fill=\"#009af9\" fill-rule=\"evenodd\" fill-opacity=\"0.4\"/>\n",
       "<polyline clip-path=\"url(#clip362)\" style=\"stroke:#000000; stroke-width:4; stroke-opacity:0.4; fill:none\" points=\"\n",
       "  1321.05,609.498 1321.05,692.922 1435.04,692.922 1435.04,609.498 1321.05,609.498 \n",
       "  \"/>\n",
       "<path clip-path=\"url(#clip362)\" d=\"\n",
       "M1435.04 619.926 L1435.04 692.922 L1549.04 692.922 L1549.04 619.926 L1435.04 619.926 L1435.04 619.926  Z\n",
       "  \" fill=\"#009af9\" fill-rule=\"evenodd\" fill-opacity=\"0.4\"/>\n",
       "<polyline clip-path=\"url(#clip362)\" style=\"stroke:#000000; stroke-width:4; stroke-opacity:0.4; fill:none\" points=\"\n",
       "  1435.04,619.926 1435.04,692.922 1549.04,692.922 1549.04,619.926 1435.04,619.926 \n",
       "  \"/>\n",
       "<path clip-path=\"url(#clip362)\" d=\"\n",
       "M1549.04 661.638 L1549.04 692.922 L1663.03 692.922 L1663.03 661.638 L1549.04 661.638 L1549.04 661.638  Z\n",
       "  \" fill=\"#009af9\" fill-rule=\"evenodd\" fill-opacity=\"0.4\"/>\n",
       "<polyline clip-path=\"url(#clip362)\" style=\"stroke:#000000; stroke-width:4; stroke-opacity:0.4; fill:none\" points=\"\n",
       "  1549.04,661.638 1549.04,692.922 1663.03,692.922 1663.03,661.638 1549.04,661.638 \n",
       "  \"/>\n",
       "<path clip-path=\"url(#clip362)\" d=\"\n",
       "M1663.03 661.638 L1663.03 692.922 L1777.02 692.922 L1777.02 661.638 L1663.03 661.638 L1663.03 661.638  Z\n",
       "  \" fill=\"#009af9\" fill-rule=\"evenodd\" fill-opacity=\"0.4\"/>\n",
       "<polyline clip-path=\"url(#clip362)\" style=\"stroke:#000000; stroke-width:4; stroke-opacity:0.4; fill:none\" points=\"\n",
       "  1663.03,661.638 1663.03,692.922 1777.02,692.922 1777.02,661.638 1663.03,661.638 \n",
       "  \"/>\n",
       "<path clip-path=\"url(#clip362)\" d=\"\n",
       "M1777.02 692.922 L1777.02 692.922 L1891.01 692.922 L1891.01 692.922 L1777.02 692.922 L1777.02 692.922  Z\n",
       "  \" fill=\"#009af9\" fill-rule=\"evenodd\" fill-opacity=\"0.4\"/>\n",
       "<polyline clip-path=\"url(#clip362)\" style=\"stroke:#000000; stroke-width:4; stroke-opacity:0.4; fill:none\" points=\"\n",
       "  1777.02,692.922 1777.02,692.922 1891.01,692.922 1777.02,692.922 \n",
       "  \"/>\n",
       "<path clip-path=\"url(#clip362)\" d=\"\n",
       "M1891.01 692.922 L1891.01 692.922 L2005.01 692.922 L2005.01 692.922 L1891.01 692.922 L1891.01 692.922  Z\n",
       "  \" fill=\"#009af9\" fill-rule=\"evenodd\" fill-opacity=\"0.4\"/>\n",
       "<polyline clip-path=\"url(#clip362)\" style=\"stroke:#000000; stroke-width:4; stroke-opacity:0.4; fill:none\" points=\"\n",
       "  1891.01,692.922 1891.01,692.922 2005.01,692.922 1891.01,692.922 \n",
       "  \"/>\n",
       "<path clip-path=\"url(#clip362)\" d=\"\n",
       "M2005.01 692.922 L2005.01 692.922 L2119 692.922 L2119 692.922 L2005.01 692.922 L2005.01 692.922  Z\n",
       "  \" fill=\"#009af9\" fill-rule=\"evenodd\" fill-opacity=\"0.4\"/>\n",
       "<polyline clip-path=\"url(#clip362)\" style=\"stroke:#000000; stroke-width:4; stroke-opacity:0.4; fill:none\" points=\"\n",
       "  2005.01,692.922 2005.01,692.922 2119,692.922 2005.01,692.922 \n",
       "  \"/>\n",
       "<path clip-path=\"url(#clip362)\" d=\"\n",
       "M2119 687.708 L2119 692.922 L2232.99 692.922 L2232.99 687.708 L2119 687.708 L2119 687.708  Z\n",
       "  \" fill=\"#009af9\" fill-rule=\"evenodd\" fill-opacity=\"0.4\"/>\n",
       "<polyline clip-path=\"url(#clip362)\" style=\"stroke:#000000; stroke-width:4; stroke-opacity:0.4; fill:none\" points=\"\n",
       "  2119,687.708 2119,692.922 2232.99,692.922 2232.99,687.708 2119,687.708 \n",
       "  \"/>\n",
       "<path clip-path=\"url(#clip362)\" d=\"\n",
       "M295.109 650.697 L295.109 692.922 L409.103 692.922 L409.103 650.697 L295.109 650.697 L295.109 650.697  Z\n",
       "  \" fill=\"#e26f46\" fill-rule=\"evenodd\" fill-opacity=\"0.9\"/>\n",
       "<polyline clip-path=\"url(#clip362)\" style=\"stroke:#000000; stroke-width:4; stroke-opacity:0.9; fill:none\" points=\"\n",
       "  295.109,650.697 295.109,692.922 409.103,692.922 409.103,650.697 295.109,650.697 \n",
       "  \"/>\n",
       "<path clip-path=\"url(#clip362)\" d=\"\n",
       "M409.103 657.193 L409.103 692.922 L523.096 692.922 L523.096 657.193 L409.103 657.193 L409.103 657.193  Z\n",
       "  \" fill=\"#e26f46\" fill-rule=\"evenodd\" fill-opacity=\"0.9\"/>\n",
       "<polyline clip-path=\"url(#clip362)\" style=\"stroke:#000000; stroke-width:4; stroke-opacity:0.9; fill:none\" points=\"\n",
       "  409.103,657.193 409.103,692.922 523.096,692.922 523.096,657.193 409.103,657.193 \n",
       "  \"/>\n",
       "<path clip-path=\"url(#clip362)\" d=\"\n",
       "M523.096 663.689 L523.096 692.922 L637.089 692.922 L637.089 663.689 L523.096 663.689 L523.096 663.689  Z\n",
       "  \" fill=\"#e26f46\" fill-rule=\"evenodd\" fill-opacity=\"0.9\"/>\n",
       "<polyline clip-path=\"url(#clip362)\" style=\"stroke:#000000; stroke-width:4; stroke-opacity:0.9; fill:none\" points=\"\n",
       "  523.096,663.689 523.096,692.922 637.089,692.922 637.089,663.689 523.096,663.689 \n",
       "  \"/>\n",
       "<path clip-path=\"url(#clip362)\" d=\"\n",
       "M637.089 524.024 L637.089 692.922 L751.082 692.922 L751.082 524.024 L637.089 524.024 L637.089 524.024  Z\n",
       "  \" fill=\"#e26f46\" fill-rule=\"evenodd\" fill-opacity=\"0.9\"/>\n",
       "<polyline clip-path=\"url(#clip362)\" style=\"stroke:#000000; stroke-width:4; stroke-opacity:0.9; fill:none\" points=\"\n",
       "  637.089,524.024 637.089,692.922 751.082,692.922 751.082,524.024 637.089,524.024 \n",
       "  \"/>\n",
       "<path clip-path=\"url(#clip362)\" d=\"\n",
       "M751.082 449.319 L751.082 692.922 L865.076 692.922 L865.076 449.319 L751.082 449.319 L751.082 449.319  Z\n",
       "  \" fill=\"#e26f46\" fill-rule=\"evenodd\" fill-opacity=\"0.9\"/>\n",
       "<polyline clip-path=\"url(#clip362)\" style=\"stroke:#000000; stroke-width:4; stroke-opacity:0.9; fill:none\" points=\"\n",
       "  751.082,449.319 751.082,692.922 865.076,692.922 865.076,449.319 751.082,449.319 \n",
       "  \"/>\n",
       "<path clip-path=\"url(#clip362)\" d=\"\n",
       "M865.076 66.0502 L865.076 692.922 L979.069 692.922 L979.069 66.0502 L865.076 66.0502 L865.076 66.0502  Z\n",
       "  \" fill=\"#e26f46\" fill-rule=\"evenodd\" fill-opacity=\"0.9\"/>\n",
       "<polyline clip-path=\"url(#clip362)\" style=\"stroke:#000000; stroke-width:4; stroke-opacity:0.9; fill:none\" points=\"\n",
       "  865.076,66.0502 865.076,692.922 979.069,692.922 979.069,66.0502 865.076,66.0502 \n",
       "  \"/>\n",
       "<path clip-path=\"url(#clip362)\" d=\"\n",
       "M979.069 514.28 L979.069 692.922 L1093.06 692.922 L1093.06 514.28 L979.069 514.28 L979.069 514.28  Z\n",
       "  \" fill=\"#e26f46\" fill-rule=\"evenodd\" fill-opacity=\"0.9\"/>\n",
       "<polyline clip-path=\"url(#clip362)\" style=\"stroke:#000000; stroke-width:4; stroke-opacity:0.9; fill:none\" points=\"\n",
       "  979.069,514.28 979.069,692.922 1093.06,692.922 1093.06,514.28 979.069,514.28 \n",
       "  \"/>\n",
       "<path clip-path=\"url(#clip362)\" d=\"\n",
       "M1093.06 566.248 L1093.06 692.922 L1207.06 692.922 L1207.06 566.248 L1093.06 566.248 L1093.06 566.248  Z\n",
       "  \" fill=\"#e26f46\" fill-rule=\"evenodd\" fill-opacity=\"0.9\"/>\n",
       "<polyline clip-path=\"url(#clip362)\" style=\"stroke:#000000; stroke-width:4; stroke-opacity:0.9; fill:none\" points=\"\n",
       "  1093.06,566.248 1093.06,692.922 1207.06,692.922 1207.06,566.248 1093.06,566.248 \n",
       "  \"/>\n",
       "<path clip-path=\"url(#clip362)\" d=\"\n",
       "M1207.06 595.481 L1207.06 692.922 L1321.05 692.922 L1321.05 595.481 L1207.06 595.481 L1207.06 595.481  Z\n",
       "  \" fill=\"#e26f46\" fill-rule=\"evenodd\" fill-opacity=\"0.9\"/>\n",
       "<polyline clip-path=\"url(#clip362)\" style=\"stroke:#000000; stroke-width:4; stroke-opacity:0.9; fill:none\" points=\"\n",
       "  1207.06,595.481 1207.06,692.922 1321.05,692.922 1321.05,595.481 1207.06,595.481 \n",
       "  \"/>\n",
       "<path clip-path=\"url(#clip362)\" d=\"\n",
       "M1321.05 611.721 L1321.05 692.922 L1435.04 692.922 L1435.04 611.721 L1321.05 611.721 L1321.05 611.721  Z\n",
       "  \" fill=\"#e26f46\" fill-rule=\"evenodd\" fill-opacity=\"0.9\"/>\n",
       "<polyline clip-path=\"url(#clip362)\" style=\"stroke:#000000; stroke-width:4; stroke-opacity:0.9; fill:none\" points=\"\n",
       "  1321.05,611.721 1321.05,692.922 1435.04,692.922 1435.04,611.721 1321.05,611.721 \n",
       "  \"/>\n",
       "<path clip-path=\"url(#clip362)\" d=\"\n",
       "M1435.04 634.457 L1435.04 692.922 L1549.04 692.922 L1549.04 634.457 L1435.04 634.457 L1435.04 634.457  Z\n",
       "  \" fill=\"#e26f46\" fill-rule=\"evenodd\" fill-opacity=\"0.9\"/>\n",
       "<polyline clip-path=\"url(#clip362)\" style=\"stroke:#000000; stroke-width:4; stroke-opacity:0.9; fill:none\" points=\"\n",
       "  1435.04,634.457 1435.04,692.922 1549.04,692.922 1549.04,634.457 1435.04,634.457 \n",
       "  \"/>\n",
       "<path clip-path=\"url(#clip362)\" d=\"\n",
       "M1549.04 660.441 L1549.04 692.922 L1663.03 692.922 L1663.03 660.441 L1549.04 660.441 L1549.04 660.441  Z\n",
       "  \" fill=\"#e26f46\" fill-rule=\"evenodd\" fill-opacity=\"0.9\"/>\n",
       "<polyline clip-path=\"url(#clip362)\" style=\"stroke:#000000; stroke-width:4; stroke-opacity:0.9; fill:none\" points=\"\n",
       "  1549.04,660.441 1549.04,692.922 1663.03,692.922 1663.03,660.441 1549.04,660.441 \n",
       "  \"/>\n",
       "<path clip-path=\"url(#clip362)\" d=\"\n",
       "M1663.03 663.689 L1663.03 692.922 L1777.02 692.922 L1777.02 663.689 L1663.03 663.689 L1663.03 663.689  Z\n",
       "  \" fill=\"#e26f46\" fill-rule=\"evenodd\" fill-opacity=\"0.9\"/>\n",
       "<polyline clip-path=\"url(#clip362)\" style=\"stroke:#000000; stroke-width:4; stroke-opacity:0.9; fill:none\" points=\"\n",
       "  1663.03,663.689 1663.03,692.922 1777.02,692.922 1777.02,663.689 1663.03,663.689 \n",
       "  \"/>\n",
       "<path clip-path=\"url(#clip362)\" d=\"\n",
       "M1777.02 679.93 L1777.02 692.922 L1891.01 692.922 L1891.01 679.93 L1777.02 679.93 L1777.02 679.93  Z\n",
       "  \" fill=\"#e26f46\" fill-rule=\"evenodd\" fill-opacity=\"0.9\"/>\n",
       "<polyline clip-path=\"url(#clip362)\" style=\"stroke:#000000; stroke-width:4; stroke-opacity:0.9; fill:none\" points=\"\n",
       "  1777.02,679.93 1777.02,692.922 1891.01,692.922 1891.01,679.93 1777.02,679.93 \n",
       "  \"/>\n",
       "<path clip-path=\"url(#clip362)\" d=\"\n",
       "M1891.01 673.433 L1891.01 692.922 L2005.01 692.922 L2005.01 673.433 L1891.01 673.433 L1891.01 673.433  Z\n",
       "  \" fill=\"#e26f46\" fill-rule=\"evenodd\" fill-opacity=\"0.9\"/>\n",
       "<polyline clip-path=\"url(#clip362)\" style=\"stroke:#000000; stroke-width:4; stroke-opacity:0.9; fill:none\" points=\"\n",
       "  1891.01,673.433 1891.01,692.922 2005.01,692.922 2005.01,673.433 1891.01,673.433 \n",
       "  \"/>\n",
       "<path clip-path=\"url(#clip360)\" d=\"\n",
       "M1850.06 312.204 L2280.76 312.204 L2280.76 130.764 L1850.06 130.764  Z\n",
       "  \" fill=\"#ffffff\" fill-rule=\"evenodd\" fill-opacity=\"1\"/>\n",
       "<polyline clip-path=\"url(#clip360)\" style=\"stroke:#000000; stroke-width:4; stroke-opacity:1; fill:none\" points=\"\n",
       "  1850.06,312.204 2280.76,312.204 2280.76,130.764 1850.06,130.764 1850.06,312.204 \n",
       "  \"/>\n",
       "<path clip-path=\"url(#clip360)\" d=\"\n",
       "M1874.06 215.436 L2018.06 215.436 L2018.06 167.052 L1874.06 167.052 L1874.06 215.436  Z\n",
       "  \" fill=\"#009af9\" fill-rule=\"evenodd\" fill-opacity=\"0.4\"/>\n",
       "<polyline clip-path=\"url(#clip360)\" style=\"stroke:#000000; stroke-width:4; stroke-opacity:1; fill:none\" points=\"\n",
       "  1874.06,215.436 2018.06,215.436 2018.06,167.052 1874.06,167.052 1874.06,215.436 \n",
       "  \"/>\n",
       "<path clip-path=\"url(#clip360)\" d=\"M 0 0 M2064.31 175.098 L2064.31 179.659 Q2061.65 178.385 2059.28 177.76 Q2056.92 177.135 2054.72 177.135 Q2050.91 177.135 2048.82 178.617 Q2046.76 180.098 2046.76 182.83 Q2046.76 185.121 2048.13 186.302 Q2049.52 187.459 2053.36 188.177 L2056.18 188.756 Q2061.41 189.751 2063.89 192.274 Q2066.39 194.774 2066.39 198.987 Q2066.39 204.01 2063.01 206.603 Q2059.65 209.195 2053.15 209.195 Q2050.7 209.195 2047.92 208.64 Q2045.16 208.084 2042.2 206.996 L2042.2 202.182 Q2045.05 203.779 2047.78 204.589 Q2050.51 205.399 2053.15 205.399 Q2057.15 205.399 2059.33 203.825 Q2061.51 202.251 2061.51 199.334 Q2061.51 196.788 2059.93 195.353 Q2058.38 193.918 2054.82 193.2 L2051.97 192.645 Q2046.74 191.603 2044.4 189.381 Q2042.06 187.158 2042.06 183.2 Q2042.06 178.617 2045.28 175.978 Q2048.52 173.339 2054.19 173.339 Q2056.62 173.339 2059.15 173.779 Q2061.67 174.219 2064.31 175.098 Z\" fill=\"#000000\" fill-rule=\"evenodd\" fill-opacity=\"1\" /><path clip-path=\"url(#clip360)\" d=\"M 0 0 M2070.42 198.293 L2070.42 182.598 L2074.68 182.598 L2074.68 198.131 Q2074.68 201.811 2076.11 203.663 Q2077.55 205.492 2080.42 205.492 Q2083.87 205.492 2085.86 203.293 Q2087.87 201.094 2087.87 197.297 L2087.87 182.598 L2092.13 182.598 L2092.13 208.524 L2087.87 208.524 L2087.87 204.543 Q2086.32 206.904 2084.26 208.061 Q2082.22 209.195 2079.52 209.195 Q2075.05 209.195 2072.73 206.418 Q2070.42 203.64 2070.42 198.293 M2081.14 181.973 L2081.14 181.973 Z\" fill=\"#000000\" fill-rule=\"evenodd\" fill-opacity=\"1\" /><path clip-path=\"url(#clip360)\" d=\"M 0 0 M2111.62 186.58 Q2110.9 186.163 2110.05 185.978 Q2109.21 185.77 2108.2 185.77 Q2104.59 185.77 2102.64 188.131 Q2100.72 190.469 2100.72 194.867 L2100.72 208.524 L2096.44 208.524 L2096.44 182.598 L2100.72 182.598 L2100.72 186.626 Q2102.06 184.265 2104.21 183.131 Q2106.37 181.973 2109.45 181.973 Q2109.89 181.973 2110.42 182.043 Q2110.95 182.089 2111.6 182.205 L2111.62 186.58 Z\" fill=\"#000000\" fill-rule=\"evenodd\" fill-opacity=\"1\" /><path clip-path=\"url(#clip360)\" d=\"M 0 0 M2113.03 182.598 L2117.55 182.598 L2125.65 204.357 L2133.75 182.598 L2138.27 182.598 L2128.54 208.524 L2122.76 208.524 L2113.03 182.598 Z\" fill=\"#000000\" fill-rule=\"evenodd\" fill-opacity=\"1\" /><path clip-path=\"url(#clip360)\" d=\"M 0 0 M2142.73 182.598 L2146.99 182.598 L2146.99 208.524 L2142.73 208.524 L2142.73 182.598 M2142.73 172.506 L2146.99 172.506 L2146.99 177.899 L2142.73 177.899 L2142.73 172.506 Z\" fill=\"#000000\" fill-rule=\"evenodd\" fill-opacity=\"1\" /><path clip-path=\"url(#clip360)\" d=\"M 0 0 M2148.4 182.598 L2152.92 182.598 L2161.02 204.357 L2169.12 182.598 L2173.64 182.598 L2163.91 208.524 L2158.13 208.524 L2148.4 182.598 Z\" fill=\"#000000\" fill-rule=\"evenodd\" fill-opacity=\"1\" /><path clip-path=\"url(#clip360)\" d=\"M 0 0 M2200.28 194.496 L2200.28 196.58 L2180.7 196.58 Q2180.97 200.978 2183.33 203.293 Q2185.72 205.584 2189.96 205.584 Q2192.41 205.584 2194.7 204.982 Q2197.02 204.381 2199.28 203.177 L2199.28 207.205 Q2196.99 208.177 2194.58 208.686 Q2192.18 209.195 2189.7 209.195 Q2183.5 209.195 2179.86 205.584 Q2176.25 201.973 2176.25 195.816 Q2176.25 189.45 2179.68 185.723 Q2183.13 181.973 2188.96 181.973 Q2194.19 181.973 2197.22 185.353 Q2200.28 188.709 2200.28 194.496 M2196.02 193.246 Q2195.97 189.751 2194.05 187.668 Q2192.15 185.584 2189.01 185.584 Q2185.44 185.584 2183.29 187.598 Q2181.16 189.612 2180.83 193.27 L2196.02 193.246 Z\" fill=\"#000000\" fill-rule=\"evenodd\" fill-opacity=\"1\" /><path clip-path=\"url(#clip360)\" d=\"M 0 0 M2221.81 186.533 L2221.81 172.506 L2226.07 172.506 L2226.07 208.524 L2221.81 208.524 L2221.81 204.635 Q2220.46 206.95 2218.4 208.084 Q2216.37 209.195 2213.5 209.195 Q2208.8 209.195 2205.83 205.445 Q2202.89 201.695 2202.89 195.584 Q2202.89 189.473 2205.83 185.723 Q2208.8 181.973 2213.5 181.973 Q2216.37 181.973 2218.4 183.108 Q2220.46 184.219 2221.81 186.533 M2207.29 195.584 Q2207.29 200.283 2209.21 202.969 Q2211.16 205.631 2214.54 205.631 Q2217.92 205.631 2219.86 202.969 Q2221.81 200.283 2221.81 195.584 Q2221.81 190.885 2219.86 188.223 Q2217.92 185.538 2214.54 185.538 Q2211.16 185.538 2209.21 188.223 Q2207.29 190.885 2207.29 195.584 Z\" fill=\"#000000\" fill-rule=\"evenodd\" fill-opacity=\"1\" /><path clip-path=\"url(#clip360)\" d=\"\n",
       "M1874.06 275.916 L2018.06 275.916 L2018.06 227.532 L1874.06 227.532 L1874.06 275.916  Z\n",
       "  \" fill=\"#e26f46\" fill-rule=\"evenodd\" fill-opacity=\"0.9\"/>\n",
       "<polyline clip-path=\"url(#clip360)\" style=\"stroke:#000000; stroke-width:4; stroke-opacity:1; fill:none\" points=\"\n",
       "  1874.06,275.916 2018.06,275.916 2018.06,227.532 1874.06,227.532 1874.06,275.916 \n",
       "  \"/>\n",
       "<path clip-path=\"url(#clip360)\" d=\"M 0 0 M2042.06 234.444 L2048.36 234.444 L2063.68 263.356 L2063.68 234.444 L2068.22 234.444 L2068.22 269.004 L2061.92 269.004 L2046.6 240.092 L2046.6 269.004 L2042.06 269.004 L2042.06 234.444 Z\" fill=\"#000000\" fill-rule=\"evenodd\" fill-opacity=\"1\" /><path clip-path=\"url(#clip360)\" d=\"M 0 0 M2082.73 246.064 Q2079.31 246.064 2077.32 248.75 Q2075.33 251.412 2075.33 256.064 Q2075.33 260.717 2077.29 263.402 Q2079.28 266.064 2082.73 266.064 Q2086.14 266.064 2088.13 263.379 Q2090.12 260.694 2090.12 256.064 Q2090.12 251.458 2088.13 248.773 Q2086.14 246.064 2082.73 246.064 M2082.73 242.453 Q2088.29 242.453 2091.46 246.064 Q2094.63 249.675 2094.63 256.064 Q2094.63 262.43 2091.46 266.064 Q2088.29 269.675 2082.73 269.675 Q2077.15 269.675 2073.98 266.064 Q2070.84 262.43 2070.84 256.064 Q2070.84 249.675 2073.98 246.064 Q2077.15 242.453 2082.73 242.453 Z\" fill=\"#000000\" fill-rule=\"evenodd\" fill-opacity=\"1\" /><path clip-path=\"url(#clip360)\" d=\"M 0 0 M2103.31 235.717 L2103.31 243.078 L2112.09 243.078 L2112.09 246.388 L2103.31 246.388 L2103.31 260.462 Q2103.31 263.634 2104.17 264.537 Q2105.05 265.439 2107.71 265.439 L2112.09 265.439 L2112.09 269.004 L2107.71 269.004 Q2102.78 269.004 2100.9 267.175 Q2099.03 265.324 2099.03 260.462 L2099.03 246.388 L2095.9 246.388 L2095.9 243.078 L2099.03 243.078 L2099.03 235.717 L2103.31 235.717 Z\" fill=\"#000000\" fill-rule=\"evenodd\" fill-opacity=\"1\" /><path clip-path=\"url(#clip360)\" d=\"M 0 0 M2152.52 235.578 L2152.52 240.139 Q2149.86 238.865 2147.5 238.24 Q2145.14 237.615 2142.94 237.615 Q2139.12 237.615 2137.04 239.097 Q2134.98 240.578 2134.98 243.31 Q2134.98 245.601 2136.34 246.782 Q2137.73 247.939 2141.58 248.657 L2144.4 249.236 Q2149.63 250.231 2152.11 252.754 Q2154.61 255.254 2154.61 259.467 Q2154.61 264.49 2151.23 267.083 Q2147.87 269.675 2141.37 269.675 Q2138.91 269.675 2136.14 269.12 Q2133.38 268.564 2130.42 267.476 L2130.42 262.662 Q2133.27 264.259 2136 265.069 Q2138.73 265.879 2141.37 265.879 Q2145.37 265.879 2147.55 264.305 Q2149.72 262.731 2149.72 259.814 Q2149.72 257.268 2148.15 255.833 Q2146.6 254.398 2143.03 253.68 L2140.19 253.125 Q2134.96 252.083 2132.62 249.861 Q2130.28 247.638 2130.28 243.68 Q2130.28 239.097 2133.5 236.458 Q2136.74 233.819 2142.41 233.819 Q2144.84 233.819 2147.36 234.259 Q2149.89 234.699 2152.52 235.578 Z\" fill=\"#000000\" fill-rule=\"evenodd\" fill-opacity=\"1\" /><path clip-path=\"url(#clip360)\" d=\"M 0 0 M2158.64 258.773 L2158.64 243.078 L2162.9 243.078 L2162.9 258.611 Q2162.9 262.291 2164.33 264.143 Q2165.77 265.972 2168.64 265.972 Q2172.08 265.972 2174.08 263.773 Q2176.09 261.574 2176.09 257.777 L2176.09 243.078 L2180.35 243.078 L2180.35 269.004 L2176.09 269.004 L2176.09 265.023 Q2174.54 267.384 2172.48 268.541 Q2170.44 269.675 2167.73 269.675 Q2163.27 269.675 2160.95 266.898 Q2158.64 264.12 2158.64 258.773 M2169.35 242.453 L2169.35 242.453 Z\" fill=\"#000000\" fill-rule=\"evenodd\" fill-opacity=\"1\" /><path clip-path=\"url(#clip360)\" d=\"M 0 0 M2199.84 247.06 Q2199.12 246.643 2198.27 246.458 Q2197.43 246.25 2196.41 246.25 Q2192.8 246.25 2190.86 248.611 Q2188.94 250.949 2188.94 255.347 L2188.94 269.004 L2184.65 269.004 L2184.65 243.078 L2188.94 243.078 L2188.94 247.106 Q2190.28 244.745 2192.43 243.611 Q2194.58 242.453 2197.66 242.453 Q2198.1 242.453 2198.64 242.523 Q2199.17 242.569 2199.82 242.685 L2199.84 247.06 Z\" fill=\"#000000\" fill-rule=\"evenodd\" fill-opacity=\"1\" /><path clip-path=\"url(#clip360)\" d=\"M 0 0 M2201.25 243.078 L2205.77 243.078 L2213.87 264.837 L2221.97 243.078 L2226.48 243.078 L2216.76 269.004 L2210.97 269.004 L2201.25 243.078 Z\" fill=\"#000000\" fill-rule=\"evenodd\" fill-opacity=\"1\" /><path clip-path=\"url(#clip360)\" d=\"M 0 0 M2227.87 263.124 L2232.76 263.124 L2232.76 269.004 L2227.87 269.004 L2227.87 263.124 Z\" fill=\"#000000\" fill-rule=\"evenodd\" fill-opacity=\"1\" /></svg>\n"
      ]
     },
     "execution_count": 344,
     "metadata": {},
     "output_type": "execute_result"
    }
   ],
   "source": [
    "histogram(df[df.Survived.==1, :Age], normed=true, size=(600,200), legend=true, label=\"Survived\")\n",
    "histogram!(df[df.Survived.==0, :Age], alpha=0.9, normed=true, label=\"Not Surv.\")"
   ]
  },
  {
   "cell_type": "code",
   "execution_count": 327,
   "metadata": {},
   "outputs": [],
   "source": [
    "df.Embarked = coalesce.(df.Embarked, \"S\");"
   ]
  },
  {
   "cell_type": "code",
   "execution_count": 328,
   "metadata": {},
   "outputs": [
    {
     "data": {
      "image/svg+xml": [
       "<?xml version=\"1.0\" encoding=\"utf-8\"?>\n",
       "<svg xmlns=\"http://www.w3.org/2000/svg\" xmlns:xlink=\"http://www.w3.org/1999/xlink\" width=\"400\" height=\"200\" viewBox=\"0 0 1600 800\">\n",
       "<defs>\n",
       "  <clipPath id=\"clip280\">\n",
       "    <rect x=\"0\" y=\"0\" width=\"1600\" height=\"800\"/>\n",
       "  </clipPath>\n",
       "</defs>\n",
       "<path clip-path=\"url(#clip280)\" d=\"\n",
       "M0 800 L1600 800 L1600 0 L0 0  Z\n",
       "  \" fill=\"#ffffff\" fill-rule=\"evenodd\" fill-opacity=\"1\"/>\n",
       "<defs>\n",
       "  <clipPath id=\"clip281\">\n",
       "    <rect x=\"320\" y=\"0\" width=\"1121\" height=\"800\"/>\n",
       "  </clipPath>\n",
       "</defs>\n",
       "<path clip-path=\"url(#clip280)\" d=\"\n",
       "M158.205 703.088 L752.756 703.088 L752.756 108.352 L158.205 108.352  Z\n",
       "  \" fill=\"#ffffff\" fill-rule=\"evenodd\" fill-opacity=\"1\"/>\n",
       "<defs>\n",
       "  <clipPath id=\"clip282\">\n",
       "    <rect x=\"158\" y=\"108\" width=\"596\" height=\"596\"/>\n",
       "  </clipPath>\n",
       "</defs>\n",
       "<polyline clip-path=\"url(#clip282)\" style=\"stroke:#000000; stroke-width:2; stroke-opacity:0.1; fill:none\" points=\"\n",
       "  266.499,703.088 266.499,108.352 \n",
       "  \"/>\n",
       "<polyline clip-path=\"url(#clip282)\" style=\"stroke:#000000; stroke-width:2; stroke-opacity:0.1; fill:none\" points=\"\n",
       "  455.48,703.088 455.48,108.352 \n",
       "  \"/>\n",
       "<polyline clip-path=\"url(#clip282)\" style=\"stroke:#000000; stroke-width:2; stroke-opacity:0.1; fill:none\" points=\"\n",
       "  644.462,703.088 644.462,108.352 \n",
       "  \"/>\n",
       "<polyline clip-path=\"url(#clip282)\" style=\"stroke:#000000; stroke-width:2; stroke-opacity:0.1; fill:none\" points=\"\n",
       "  158.205,703.088 752.756,703.088 \n",
       "  \"/>\n",
       "<polyline clip-path=\"url(#clip282)\" style=\"stroke:#000000; stroke-width:2; stroke-opacity:0.1; fill:none\" points=\"\n",
       "  158.205,584.141 752.756,584.141 \n",
       "  \"/>\n",
       "<polyline clip-path=\"url(#clip282)\" style=\"stroke:#000000; stroke-width:2; stroke-opacity:0.1; fill:none\" points=\"\n",
       "  158.205,465.194 752.756,465.194 \n",
       "  \"/>\n",
       "<polyline clip-path=\"url(#clip282)\" style=\"stroke:#000000; stroke-width:2; stroke-opacity:0.1; fill:none\" points=\"\n",
       "  158.205,346.246 752.756,346.246 \n",
       "  \"/>\n",
       "<polyline clip-path=\"url(#clip282)\" style=\"stroke:#000000; stroke-width:2; stroke-opacity:0.1; fill:none\" points=\"\n",
       "  158.205,227.299 752.756,227.299 \n",
       "  \"/>\n",
       "<polyline clip-path=\"url(#clip282)\" style=\"stroke:#000000; stroke-width:2; stroke-opacity:0.1; fill:none\" points=\"\n",
       "  158.205,108.352 752.756,108.352 \n",
       "  \"/>\n",
       "<polyline clip-path=\"url(#clip280)\" style=\"stroke:#000000; stroke-width:4; stroke-opacity:1; fill:none\" points=\"\n",
       "  158.205,703.088 752.756,703.088 \n",
       "  \"/>\n",
       "<polyline clip-path=\"url(#clip280)\" style=\"stroke:#000000; stroke-width:4; stroke-opacity:1; fill:none\" points=\"\n",
       "  158.205,703.088 158.205,108.352 \n",
       "  \"/>\n",
       "<polyline clip-path=\"url(#clip280)\" style=\"stroke:#000000; stroke-width:4; stroke-opacity:1; fill:none\" points=\"\n",
       "  266.499,703.088 266.499,695.951 \n",
       "  \"/>\n",
       "<polyline clip-path=\"url(#clip280)\" style=\"stroke:#000000; stroke-width:4; stroke-opacity:1; fill:none\" points=\"\n",
       "  455.48,703.088 455.48,695.951 \n",
       "  \"/>\n",
       "<polyline clip-path=\"url(#clip280)\" style=\"stroke:#000000; stroke-width:4; stroke-opacity:1; fill:none\" points=\"\n",
       "  644.462,703.088 644.462,695.951 \n",
       "  \"/>\n",
       "<polyline clip-path=\"url(#clip280)\" style=\"stroke:#000000; stroke-width:4; stroke-opacity:1; fill:none\" points=\"\n",
       "  158.205,703.088 165.339,703.088 \n",
       "  \"/>\n",
       "<polyline clip-path=\"url(#clip280)\" style=\"stroke:#000000; stroke-width:4; stroke-opacity:1; fill:none\" points=\"\n",
       "  158.205,584.141 165.339,584.141 \n",
       "  \"/>\n",
       "<polyline clip-path=\"url(#clip280)\" style=\"stroke:#000000; stroke-width:4; stroke-opacity:1; fill:none\" points=\"\n",
       "  158.205,465.194 165.339,465.194 \n",
       "  \"/>\n",
       "<polyline clip-path=\"url(#clip280)\" style=\"stroke:#000000; stroke-width:4; stroke-opacity:1; fill:none\" points=\"\n",
       "  158.205,346.246 165.339,346.246 \n",
       "  \"/>\n",
       "<polyline clip-path=\"url(#clip280)\" style=\"stroke:#000000; stroke-width:4; stroke-opacity:1; fill:none\" points=\"\n",
       "  158.205,227.299 165.339,227.299 \n",
       "  \"/>\n",
       "<polyline clip-path=\"url(#clip280)\" style=\"stroke:#000000; stroke-width:4; stroke-opacity:1; fill:none\" points=\"\n",
       "  158.205,108.352 165.339,108.352 \n",
       "  \"/>\n",
       "<path clip-path=\"url(#clip280)\" d=\"M 0 0 M266.522 721.171 Q261.429 721.171 258.42 724.967 Q255.434 728.764 255.434 735.315 Q255.434 741.842 258.42 745.639 Q261.429 749.435 266.522 749.435 Q271.614 749.435 274.577 745.639 Q277.563 741.842 277.563 735.315 Q277.563 728.764 274.577 724.967 Q271.614 721.171 266.522 721.171 M273.073 751.935 L279.23 758.671 L273.582 758.671 L268.466 753.139 Q267.702 753.185 267.286 753.208 Q266.892 753.231 266.522 753.231 Q259.23 753.231 254.855 748.37 Q250.503 743.486 250.503 735.315 Q250.503 727.12 254.855 722.259 Q259.23 717.375 266.522 717.375 Q273.79 717.375 278.142 722.259 Q282.494 727.12 282.494 735.315 Q282.494 741.333 280.063 745.615 Q277.656 749.898 273.073 751.935 Z\" fill=\"#000000\" fill-rule=\"evenodd\" fill-opacity=\"1\" /><path clip-path=\"url(#clip280)\" d=\"M 0 0 M465.561 719.134 L465.561 723.694 Q462.899 722.421 460.538 721.796 Q458.177 721.171 455.978 721.171 Q452.159 721.171 450.075 722.653 Q448.015 724.134 448.015 726.866 Q448.015 729.157 449.381 730.338 Q450.77 731.495 454.612 732.213 L457.436 732.791 Q462.668 733.787 465.145 736.31 Q467.645 738.81 467.645 743.023 Q467.645 748.046 464.265 750.639 Q460.908 753.231 454.404 753.231 Q451.95 753.231 449.172 752.676 Q446.418 752.12 443.455 751.032 L443.455 746.217 Q446.302 747.815 449.034 748.625 Q451.765 749.435 454.404 749.435 Q458.409 749.435 460.584 747.861 Q462.76 746.287 462.76 743.37 Q462.76 740.824 461.186 739.389 Q459.635 737.953 456.071 737.236 L453.223 736.68 Q447.992 735.639 445.654 733.416 Q443.316 731.194 443.316 727.236 Q443.316 722.653 446.534 720.014 Q449.774 717.375 455.446 717.375 Q457.876 717.375 460.399 717.815 Q462.922 718.255 465.561 719.134 Z\" fill=\"#000000\" fill-rule=\"evenodd\" fill-opacity=\"1\" /><path clip-path=\"url(#clip280)\" d=\"M 0 0 M658.397 720.662 L658.397 725.592 Q656.036 723.393 653.351 722.305 Q650.689 721.217 647.679 721.217 Q641.754 721.217 638.605 724.852 Q635.457 728.463 635.457 735.315 Q635.457 742.143 638.605 745.778 Q641.754 749.389 647.679 749.389 Q650.689 749.389 653.351 748.301 Q656.036 747.213 658.397 745.014 L658.397 749.898 Q655.943 751.565 653.189 752.398 Q650.457 753.231 647.402 753.231 Q639.555 753.231 635.041 748.44 Q630.527 743.625 630.527 735.315 Q630.527 726.981 635.041 722.19 Q639.555 717.375 647.402 717.375 Q650.504 717.375 653.235 718.208 Q655.99 719.018 658.397 720.662 Z\" fill=\"#000000\" fill-rule=\"evenodd\" fill-opacity=\"1\" /><path clip-path=\"url(#clip280)\" d=\"M 0 0 M130.26 688.887 Q126.649 688.887 124.82 692.451 Q123.015 695.993 123.015 703.123 Q123.015 710.229 124.82 713.794 Q126.649 717.335 130.26 717.335 Q133.895 717.335 135.7 713.794 Q137.529 710.229 137.529 703.123 Q137.529 695.993 135.7 692.451 Q133.895 688.887 130.26 688.887 M130.26 685.183 Q136.07 685.183 139.126 689.789 Q142.205 694.373 142.205 703.123 Q142.205 711.849 139.126 716.456 Q136.07 721.039 130.26 721.039 Q124.45 721.039 121.371 716.456 Q118.316 711.849 118.316 703.123 Q118.316 694.373 121.371 689.789 Q124.45 685.183 130.26 685.183 Z\" fill=\"#000000\" fill-rule=\"evenodd\" fill-opacity=\"1\" /><path clip-path=\"url(#clip280)\" d=\"M 0 0 M68.2699 597.486 L75.9087 597.486 L75.9087 571.12 L67.5986 572.787 L67.5986 568.527 L75.8624 566.861 L80.5383 566.861 L80.5383 597.486 L88.1772 597.486 L88.1772 601.421 L68.2699 601.421 L68.2699 597.486 Z\" fill=\"#000000\" fill-rule=\"evenodd\" fill-opacity=\"1\" /><path clip-path=\"url(#clip280)\" d=\"M 0 0 M103.247 569.939 Q99.6354 569.939 97.8068 573.504 Q96.0012 577.046 96.0012 584.175 Q96.0012 591.282 97.8068 594.847 Q99.6354 598.388 103.247 598.388 Q106.881 598.388 108.686 594.847 Q110.515 591.282 110.515 584.175 Q110.515 577.046 108.686 573.504 Q106.881 569.939 103.247 569.939 M103.247 566.236 Q109.057 566.236 112.112 570.842 Q115.191 575.425 115.191 584.175 Q115.191 592.902 112.112 597.509 Q109.057 602.092 103.247 602.092 Q97.4364 602.092 94.3577 597.509 Q91.3022 592.902 91.3022 584.175 Q91.3022 575.425 94.3577 570.842 Q97.4364 566.236 103.247 566.236 Z\" fill=\"#000000\" fill-rule=\"evenodd\" fill-opacity=\"1\" /><path clip-path=\"url(#clip280)\" d=\"M 0 0 M130.26 569.939 Q126.649 569.939 124.82 573.504 Q123.015 577.046 123.015 584.175 Q123.015 591.282 124.82 594.847 Q126.649 598.388 130.26 598.388 Q133.895 598.388 135.7 594.847 Q137.529 591.282 137.529 584.175 Q137.529 577.046 135.7 573.504 Q133.895 569.939 130.26 569.939 M130.26 566.236 Q136.07 566.236 139.126 570.842 Q142.205 575.425 142.205 584.175 Q142.205 592.902 139.126 597.509 Q136.07 602.092 130.26 602.092 Q124.45 602.092 121.371 597.509 Q118.316 592.902 118.316 584.175 Q118.316 575.425 121.371 570.842 Q124.45 566.236 130.26 566.236 Z\" fill=\"#000000\" fill-rule=\"evenodd\" fill-opacity=\"1\" /><path clip-path=\"url(#clip280)\" d=\"M 0 0 M71.8578 478.538 L88.1772 478.538 L88.1772 482.474 L66.2328 482.474 L66.2328 478.538 Q68.8949 475.784 73.4782 471.154 Q78.0846 466.501 79.2652 465.159 Q81.5105 462.636 82.3902 460.9 Q83.2929 459.14 83.2929 457.451 Q83.2929 454.696 81.3485 452.96 Q79.4272 451.224 76.3254 451.224 Q74.1263 451.224 71.6726 451.988 Q69.2421 452.752 66.4643 454.302 L66.4643 449.58 Q69.2884 448.446 71.7421 447.867 Q74.1958 447.289 76.2328 447.289 Q81.6031 447.289 84.7976 449.974 Q87.992 452.659 87.992 457.15 Q87.992 459.279 87.1818 461.201 Q86.3948 463.099 84.2883 465.691 Q83.7096 466.363 80.6078 469.58 Q77.5059 472.775 71.8578 478.538 Z\" fill=\"#000000\" fill-rule=\"evenodd\" fill-opacity=\"1\" /><path clip-path=\"url(#clip280)\" d=\"M 0 0 M103.247 450.992 Q99.6354 450.992 97.8068 454.557 Q96.0012 458.099 96.0012 465.228 Q96.0012 472.335 97.8068 475.9 Q99.6354 479.441 103.247 479.441 Q106.881 479.441 108.686 475.9 Q110.515 472.335 110.515 465.228 Q110.515 458.099 108.686 454.557 Q106.881 450.992 103.247 450.992 M103.247 447.289 Q109.057 447.289 112.112 451.895 Q115.191 456.478 115.191 465.228 Q115.191 473.955 112.112 478.562 Q109.057 483.145 103.247 483.145 Q97.4364 483.145 94.3577 478.562 Q91.3022 473.955 91.3022 465.228 Q91.3022 456.478 94.3577 451.895 Q97.4364 447.289 103.247 447.289 Z\" fill=\"#000000\" fill-rule=\"evenodd\" fill-opacity=\"1\" /><path clip-path=\"url(#clip280)\" d=\"M 0 0 M130.26 450.992 Q126.649 450.992 124.82 454.557 Q123.015 458.099 123.015 465.228 Q123.015 472.335 124.82 475.9 Q126.649 479.441 130.26 479.441 Q133.895 479.441 135.7 475.9 Q137.529 472.335 137.529 465.228 Q137.529 458.099 135.7 454.557 Q133.895 450.992 130.26 450.992 M130.26 447.289 Q136.07 447.289 139.126 451.895 Q142.205 456.478 142.205 465.228 Q142.205 473.955 139.126 478.562 Q136.07 483.145 130.26 483.145 Q124.45 483.145 121.371 478.562 Q118.316 473.955 118.316 465.228 Q118.316 456.478 121.371 451.895 Q124.45 447.289 130.26 447.289 Z\" fill=\"#000000\" fill-rule=\"evenodd\" fill-opacity=\"1\" /><path clip-path=\"url(#clip280)\" d=\"M 0 0 M81.0476 344.892 Q84.404 345.61 86.279 347.878 Q88.1772 350.147 88.1772 353.48 Q88.1772 358.596 84.6587 361.397 Q81.1402 364.198 74.6587 364.198 Q72.4828 364.198 70.168 363.758 Q67.8764 363.341 65.4227 362.485 L65.4227 357.971 Q67.3671 359.105 69.6819 359.684 Q71.9967 360.263 74.5198 360.263 Q78.918 360.263 81.2096 358.526 Q83.5244 356.79 83.5244 353.48 Q83.5244 350.425 81.3717 348.712 Q79.242 346.976 75.4226 346.976 L71.3949 346.976 L71.3949 343.133 L75.6078 343.133 Q79.0569 343.133 80.8855 341.767 Q82.7142 340.378 82.7142 337.786 Q82.7142 335.124 80.8161 333.712 Q78.9411 332.277 75.4226 332.277 Q73.5013 332.277 71.3023 332.693 Q69.1032 333.11 66.4643 333.99 L66.4643 329.823 Q69.1264 329.082 71.4412 328.712 Q73.7791 328.341 75.8393 328.341 Q81.1633 328.341 84.2652 330.772 Q87.367 333.179 87.367 337.3 Q87.367 340.17 85.7235 342.161 Q84.08 344.128 81.0476 344.892 Z\" fill=\"#000000\" fill-rule=\"evenodd\" fill-opacity=\"1\" /><path clip-path=\"url(#clip280)\" d=\"M 0 0 M103.247 332.045 Q99.6354 332.045 97.8068 335.61 Q96.0012 339.152 96.0012 346.281 Q96.0012 353.388 97.8068 356.952 Q99.6354 360.494 103.247 360.494 Q106.881 360.494 108.686 356.952 Q110.515 353.388 110.515 346.281 Q110.515 339.152 108.686 335.61 Q106.881 332.045 103.247 332.045 M103.247 328.341 Q109.057 328.341 112.112 332.948 Q115.191 337.531 115.191 346.281 Q115.191 355.008 112.112 359.614 Q109.057 364.198 103.247 364.198 Q97.4364 364.198 94.3577 359.614 Q91.3022 355.008 91.3022 346.281 Q91.3022 337.531 94.3577 332.948 Q97.4364 328.341 103.247 328.341 Z\" fill=\"#000000\" fill-rule=\"evenodd\" fill-opacity=\"1\" /><path clip-path=\"url(#clip280)\" d=\"M 0 0 M130.26 332.045 Q126.649 332.045 124.82 335.61 Q123.015 339.152 123.015 346.281 Q123.015 353.388 124.82 356.952 Q126.649 360.494 130.26 360.494 Q133.895 360.494 135.7 356.952 Q137.529 353.388 137.529 346.281 Q137.529 339.152 135.7 335.61 Q133.895 332.045 130.26 332.045 M130.26 328.341 Q136.07 328.341 139.126 332.948 Q142.205 337.531 142.205 346.281 Q142.205 355.008 139.126 359.614 Q136.07 364.198 130.26 364.198 Q124.45 364.198 121.371 359.614 Q118.316 355.008 118.316 346.281 Q118.316 337.531 121.371 332.948 Q124.45 328.341 130.26 328.341 Z\" fill=\"#000000\" fill-rule=\"evenodd\" fill-opacity=\"1\" /><path clip-path=\"url(#clip280)\" d=\"M 0 0 M78.5939 214.093 L66.7884 232.542 L78.5939 232.542 L78.5939 214.093 M77.367 210.019 L83.2466 210.019 L83.2466 232.542 L88.1772 232.542 L88.1772 236.431 L83.2466 236.431 L83.2466 244.579 L78.5939 244.579 L78.5939 236.431 L62.9921 236.431 L62.9921 231.917 L77.367 210.019 Z\" fill=\"#000000\" fill-rule=\"evenodd\" fill-opacity=\"1\" /><path clip-path=\"url(#clip280)\" d=\"M 0 0 M103.247 213.098 Q99.6354 213.098 97.8068 216.663 Q96.0012 220.204 96.0012 227.334 Q96.0012 234.44 97.8068 238.005 Q99.6354 241.547 103.247 241.547 Q106.881 241.547 108.686 238.005 Q110.515 234.44 110.515 227.334 Q110.515 220.204 108.686 216.663 Q106.881 213.098 103.247 213.098 M103.247 209.394 Q109.057 209.394 112.112 214.001 Q115.191 218.584 115.191 227.334 Q115.191 236.061 112.112 240.667 Q109.057 245.251 103.247 245.251 Q97.4364 245.251 94.3577 240.667 Q91.3022 236.061 91.3022 227.334 Q91.3022 218.584 94.3577 214.001 Q97.4364 209.394 103.247 209.394 Z\" fill=\"#000000\" fill-rule=\"evenodd\" fill-opacity=\"1\" /><path clip-path=\"url(#clip280)\" d=\"M 0 0 M130.26 213.098 Q126.649 213.098 124.82 216.663 Q123.015 220.204 123.015 227.334 Q123.015 234.44 124.82 238.005 Q126.649 241.547 130.26 241.547 Q133.895 241.547 135.7 238.005 Q137.529 234.44 137.529 227.334 Q137.529 220.204 135.7 216.663 Q133.895 213.098 130.26 213.098 M130.26 209.394 Q136.07 209.394 139.126 214.001 Q142.205 218.584 142.205 227.334 Q142.205 236.061 139.126 240.667 Q136.07 245.251 130.26 245.251 Q124.45 245.251 121.371 240.667 Q118.316 236.061 118.316 227.334 Q118.316 218.584 121.371 214.001 Q124.45 209.394 130.26 209.394 Z\" fill=\"#000000\" fill-rule=\"evenodd\" fill-opacity=\"1\" /><path clip-path=\"url(#clip280)\" d=\"M 0 0 M67.2745 91.0721 L85.6309 91.0721 L85.6309 95.0073 L71.5569 95.0073 L71.5569 103.479 Q72.5754 103.132 73.5939 102.97 Q74.6124 102.785 75.6309 102.785 Q81.418 102.785 84.7976 105.956 Q88.1772 109.128 88.1772 114.544 Q88.1772 120.123 84.705 123.225 Q81.2328 126.303 74.9134 126.303 Q72.7374 126.303 70.4689 125.933 Q68.2236 125.563 65.8162 124.822 L65.8162 120.123 Q67.8995 121.257 70.1217 121.813 Q72.3439 122.368 74.8208 122.368 Q78.8254 122.368 81.1633 120.262 Q83.5013 118.155 83.5013 114.544 Q83.5013 110.933 81.1633 108.827 Q78.8254 106.72 74.8208 106.72 Q72.9458 106.72 71.0708 107.137 Q69.2189 107.554 67.2745 108.433 L67.2745 91.0721 Z\" fill=\"#000000\" fill-rule=\"evenodd\" fill-opacity=\"1\" /><path clip-path=\"url(#clip280)\" d=\"M 0 0 M103.247 94.1508 Q99.6354 94.1508 97.8068 97.7156 Q96.0012 101.257 96.0012 108.387 Q96.0012 115.493 97.8068 119.058 Q99.6354 122.6 103.247 122.6 Q106.881 122.6 108.686 119.058 Q110.515 115.493 110.515 108.387 Q110.515 101.257 108.686 97.7156 Q106.881 94.1508 103.247 94.1508 M103.247 90.4471 Q109.057 90.4471 112.112 95.0536 Q115.191 99.6369 115.191 108.387 Q115.191 117.114 112.112 121.72 Q109.057 126.303 103.247 126.303 Q97.4364 126.303 94.3577 121.72 Q91.3022 117.114 91.3022 108.387 Q91.3022 99.6369 94.3577 95.0536 Q97.4364 90.4471 103.247 90.4471 Z\" fill=\"#000000\" fill-rule=\"evenodd\" fill-opacity=\"1\" /><path clip-path=\"url(#clip280)\" d=\"M 0 0 M130.26 94.1508 Q126.649 94.1508 124.82 97.7156 Q123.015 101.257 123.015 108.387 Q123.015 115.493 124.82 119.058 Q126.649 122.6 130.26 122.6 Q133.895 122.6 135.7 119.058 Q137.529 115.493 137.529 108.387 Q137.529 101.257 135.7 97.7156 Q133.895 94.1508 130.26 94.1508 M130.26 90.4471 Q136.07 90.4471 139.126 95.0536 Q142.205 99.6369 142.205 108.387 Q142.205 117.114 139.126 121.72 Q136.07 126.303 130.26 126.303 Q124.45 126.303 121.371 121.72 Q118.316 117.114 118.316 108.387 Q118.316 99.6369 121.371 95.0536 Q124.45 90.4471 130.26 90.4471 Z\" fill=\"#000000\" fill-rule=\"evenodd\" fill-opacity=\"1\" /><path clip-path=\"url(#clip280)\" d=\"M 0 0 M410.232 14.0809 L410.232 22.0612 Q405.573 19.8332 401.441 18.7395 Q397.309 17.6457 393.461 17.6457 Q386.777 17.6457 383.131 20.2383 Q379.526 22.8309 379.526 27.611 Q379.526 31.6214 381.916 33.6873 Q384.346 35.7128 391.071 36.9686 L396.013 37.9813 Q405.168 39.7232 409.503 44.1387 Q413.877 48.5136 413.877 55.8863 Q413.877 64.6767 407.963 69.2137 Q402.089 73.7508 390.706 73.7508 Q386.412 73.7508 381.551 72.7785 Q376.731 71.8063 371.546 69.9024 L371.546 61.4765 Q376.528 64.2716 381.308 65.6895 Q386.088 67.1073 390.706 67.1073 Q397.714 67.1073 401.522 64.3527 Q405.33 61.598 405.33 56.4939 Q405.33 52.0379 402.575 49.5264 Q399.861 47.0148 393.623 45.759 L388.64 44.7868 Q379.485 42.9639 375.394 39.075 Q371.302 35.1862 371.302 28.2591 Q371.302 20.2383 376.933 15.6203 Q382.605 11.0023 392.529 11.0023 Q396.783 11.0023 401.198 11.7719 Q405.614 12.5416 410.232 14.0809 Z\" fill=\"#000000\" fill-rule=\"evenodd\" fill-opacity=\"1\" /><path clip-path=\"url(#clip280)\" d=\"M 0 0 M420.926 54.671 L420.926 27.2059 L428.38 27.2059 L428.38 54.3874 Q428.38 60.8284 430.891 64.0691 Q433.403 67.2693 438.426 67.2693 Q444.462 67.2693 447.946 63.421 Q451.47 59.5726 451.47 52.9291 L451.47 27.2059 L458.924 27.2059 L458.924 72.576 L451.47 72.576 L451.47 65.6084 Q448.756 69.7404 445.15 71.7658 Q441.586 73.7508 436.846 73.7508 Q429.028 73.7508 424.977 68.8897 Q420.926 64.0286 420.926 54.671 M439.682 26.1121 L439.682 26.1121 Z\" fill=\"#000000\" fill-rule=\"evenodd\" fill-opacity=\"1\" /><path clip-path=\"url(#clip280)\" d=\"M 0 0 M493.032 34.1734 Q491.776 33.4443 490.278 33.1202 Q488.819 32.7556 487.037 32.7556 Q480.717 32.7556 477.315 36.8875 Q473.952 40.9789 473.952 48.6757 L473.952 72.576 L466.458 72.576 L466.458 27.2059 L473.952 27.2059 L473.952 34.2544 Q476.302 30.1225 480.069 28.1376 Q483.837 26.1121 489.224 26.1121 Q489.994 26.1121 490.926 26.2337 Q491.857 26.3147 492.992 26.5172 L493.032 34.1734 Z\" fill=\"#000000\" fill-rule=\"evenodd\" fill-opacity=\"1\" /><path clip-path=\"url(#clip280)\" d=\"M 0 0 M495.503 27.2059 L503.402 27.2059 L517.581 65.2844 L531.759 27.2059 L539.658 27.2059 L522.644 72.576 L512.517 72.576 L495.503 27.2059 Z\" fill=\"#000000\" fill-rule=\"evenodd\" fill-opacity=\"1\" /><path clip-path=\"url(#clip282)\" d=\"\n",
       "M190.906 667.404 L190.906 703.088 L342.091 703.088 L342.091 667.404 L190.906 667.404 L190.906 667.404  Z\n",
       "  \" fill=\"#009af9\" fill-rule=\"evenodd\" fill-opacity=\"0.4\"/>\n",
       "<polyline clip-path=\"url(#clip282)\" style=\"stroke:#000000; stroke-width:4; stroke-opacity:0.4; fill:none\" points=\"\n",
       "  190.906,667.404 190.906,703.088 342.091,703.088 342.091,667.404 190.906,667.404 \n",
       "  \"/>\n",
       "<path clip-path=\"url(#clip282)\" d=\"\n",
       "M379.888 442.594 L379.888 703.088 L531.073 703.088 L531.073 442.594 L379.888 442.594 L379.888 442.594  Z\n",
       "  \" fill=\"#009af9\" fill-rule=\"evenodd\" fill-opacity=\"0.4\"/>\n",
       "<polyline clip-path=\"url(#clip282)\" style=\"stroke:#000000; stroke-width:4; stroke-opacity:0.4; fill:none\" points=\"\n",
       "  379.888,442.594 379.888,703.088 531.073,703.088 531.073,442.594 379.888,442.594 \n",
       "  \"/>\n",
       "<path clip-path=\"url(#clip282)\" d=\"\n",
       "M568.869 592.467 L568.869 703.088 L720.055 703.088 L720.055 592.467 L568.869 592.467 L568.869 592.467  Z\n",
       "  \" fill=\"#009af9\" fill-rule=\"evenodd\" fill-opacity=\"0.4\"/>\n",
       "<polyline clip-path=\"url(#clip282)\" style=\"stroke:#000000; stroke-width:4; stroke-opacity:0.4; fill:none\" points=\"\n",
       "  568.869,592.467 568.869,703.088 720.055,703.088 720.055,592.467 568.869,592.467 \n",
       "  \"/>\n",
       "<path clip-path=\"url(#clip280)\" d=\"\n",
       "M958.205 703.088 L1552.76 703.088 L1552.76 108.352 L958.205 108.352  Z\n",
       "  \" fill=\"#ffffff\" fill-rule=\"evenodd\" fill-opacity=\"1\"/>\n",
       "<defs>\n",
       "  <clipPath id=\"clip283\">\n",
       "    <rect x=\"958\" y=\"108\" width=\"596\" height=\"596\"/>\n",
       "  </clipPath>\n",
       "</defs>\n",
       "<polyline clip-path=\"url(#clip283)\" style=\"stroke:#000000; stroke-width:2; stroke-opacity:0.1; fill:none\" points=\"\n",
       "  1066.5,703.088 1066.5,108.352 \n",
       "  \"/>\n",
       "<polyline clip-path=\"url(#clip283)\" style=\"stroke:#000000; stroke-width:2; stroke-opacity:0.1; fill:none\" points=\"\n",
       "  1255.48,703.088 1255.48,108.352 \n",
       "  \"/>\n",
       "<polyline clip-path=\"url(#clip283)\" style=\"stroke:#000000; stroke-width:2; stroke-opacity:0.1; fill:none\" points=\"\n",
       "  1444.46,703.088 1444.46,108.352 \n",
       "  \"/>\n",
       "<polyline clip-path=\"url(#clip283)\" style=\"stroke:#000000; stroke-width:2; stroke-opacity:0.1; fill:none\" points=\"\n",
       "  958.205,703.088 1552.76,703.088 \n",
       "  \"/>\n",
       "<polyline clip-path=\"url(#clip283)\" style=\"stroke:#000000; stroke-width:2; stroke-opacity:0.1; fill:none\" points=\"\n",
       "  958.205,584.141 1552.76,584.141 \n",
       "  \"/>\n",
       "<polyline clip-path=\"url(#clip283)\" style=\"stroke:#000000; stroke-width:2; stroke-opacity:0.1; fill:none\" points=\"\n",
       "  958.205,465.194 1552.76,465.194 \n",
       "  \"/>\n",
       "<polyline clip-path=\"url(#clip283)\" style=\"stroke:#000000; stroke-width:2; stroke-opacity:0.1; fill:none\" points=\"\n",
       "  958.205,346.246 1552.76,346.246 \n",
       "  \"/>\n",
       "<polyline clip-path=\"url(#clip283)\" style=\"stroke:#000000; stroke-width:2; stroke-opacity:0.1; fill:none\" points=\"\n",
       "  958.205,227.299 1552.76,227.299 \n",
       "  \"/>\n",
       "<polyline clip-path=\"url(#clip283)\" style=\"stroke:#000000; stroke-width:2; stroke-opacity:0.1; fill:none\" points=\"\n",
       "  958.205,108.352 1552.76,108.352 \n",
       "  \"/>\n",
       "<polyline clip-path=\"url(#clip280)\" style=\"stroke:#000000; stroke-width:4; stroke-opacity:1; fill:none\" points=\"\n",
       "  958.205,703.088 1552.76,703.088 \n",
       "  \"/>\n",
       "<polyline clip-path=\"url(#clip280)\" style=\"stroke:#000000; stroke-width:4; stroke-opacity:1; fill:none\" points=\"\n",
       "  958.205,703.088 958.205,108.352 \n",
       "  \"/>\n",
       "<polyline clip-path=\"url(#clip280)\" style=\"stroke:#000000; stroke-width:4; stroke-opacity:1; fill:none\" points=\"\n",
       "  1066.5,703.088 1066.5,695.951 \n",
       "  \"/>\n",
       "<polyline clip-path=\"url(#clip280)\" style=\"stroke:#000000; stroke-width:4; stroke-opacity:1; fill:none\" points=\"\n",
       "  1255.48,703.088 1255.48,695.951 \n",
       "  \"/>\n",
       "<polyline clip-path=\"url(#clip280)\" style=\"stroke:#000000; stroke-width:4; stroke-opacity:1; fill:none\" points=\"\n",
       "  1444.46,703.088 1444.46,695.951 \n",
       "  \"/>\n",
       "<polyline clip-path=\"url(#clip280)\" style=\"stroke:#000000; stroke-width:4; stroke-opacity:1; fill:none\" points=\"\n",
       "  958.205,703.088 965.339,703.088 \n",
       "  \"/>\n",
       "<polyline clip-path=\"url(#clip280)\" style=\"stroke:#000000; stroke-width:4; stroke-opacity:1; fill:none\" points=\"\n",
       "  958.205,584.141 965.339,584.141 \n",
       "  \"/>\n",
       "<polyline clip-path=\"url(#clip280)\" style=\"stroke:#000000; stroke-width:4; stroke-opacity:1; fill:none\" points=\"\n",
       "  958.205,465.194 965.339,465.194 \n",
       "  \"/>\n",
       "<polyline clip-path=\"url(#clip280)\" style=\"stroke:#000000; stroke-width:4; stroke-opacity:1; fill:none\" points=\"\n",
       "  958.205,346.246 965.339,346.246 \n",
       "  \"/>\n",
       "<polyline clip-path=\"url(#clip280)\" style=\"stroke:#000000; stroke-width:4; stroke-opacity:1; fill:none\" points=\"\n",
       "  958.205,227.299 965.339,227.299 \n",
       "  \"/>\n",
       "<polyline clip-path=\"url(#clip280)\" style=\"stroke:#000000; stroke-width:4; stroke-opacity:1; fill:none\" points=\"\n",
       "  958.205,108.352 965.339,108.352 \n",
       "  \"/>\n",
       "<path clip-path=\"url(#clip280)\" d=\"M 0 0 M1066.52 721.171 Q1061.43 721.171 1058.42 724.967 Q1055.43 728.764 1055.43 735.315 Q1055.43 741.842 1058.42 745.639 Q1061.43 749.435 1066.52 749.435 Q1071.61 749.435 1074.58 745.639 Q1077.56 741.842 1077.56 735.315 Q1077.56 728.764 1074.58 724.967 Q1071.61 721.171 1066.52 721.171 M1073.07 751.935 L1079.23 758.671 L1073.58 758.671 L1068.47 753.139 Q1067.7 753.185 1067.29 753.208 Q1066.89 753.231 1066.52 753.231 Q1059.23 753.231 1054.86 748.37 Q1050.5 743.486 1050.5 735.315 Q1050.5 727.12 1054.86 722.259 Q1059.23 717.375 1066.52 717.375 Q1073.79 717.375 1078.14 722.259 Q1082.49 727.12 1082.49 735.315 Q1082.49 741.333 1080.06 745.615 Q1077.66 749.898 1073.07 751.935 Z\" fill=\"#000000\" fill-rule=\"evenodd\" fill-opacity=\"1\" /><path clip-path=\"url(#clip280)\" d=\"M 0 0 M1265.56 719.134 L1265.56 723.694 Q1262.9 722.421 1260.54 721.796 Q1258.18 721.171 1255.98 721.171 Q1252.16 721.171 1250.08 722.653 Q1248.02 724.134 1248.02 726.866 Q1248.02 729.157 1249.38 730.338 Q1250.77 731.495 1254.61 732.213 L1257.44 732.791 Q1262.67 733.787 1265.14 736.31 Q1267.64 738.81 1267.64 743.023 Q1267.64 748.046 1264.26 750.639 Q1260.91 753.231 1254.4 753.231 Q1251.95 753.231 1249.17 752.676 Q1246.42 752.12 1243.45 751.032 L1243.45 746.217 Q1246.3 747.815 1249.03 748.625 Q1251.77 749.435 1254.4 749.435 Q1258.41 749.435 1260.58 747.861 Q1262.76 746.287 1262.76 743.37 Q1262.76 740.824 1261.19 739.389 Q1259.64 737.953 1256.07 737.236 L1253.22 736.68 Q1247.99 735.639 1245.65 733.416 Q1243.32 731.194 1243.32 727.236 Q1243.32 722.653 1246.53 720.014 Q1249.77 717.375 1255.45 717.375 Q1257.88 717.375 1260.4 717.815 Q1262.92 718.255 1265.56 719.134 Z\" fill=\"#000000\" fill-rule=\"evenodd\" fill-opacity=\"1\" /><path clip-path=\"url(#clip280)\" d=\"M 0 0 M1458.4 720.662 L1458.4 725.592 Q1456.04 723.393 1453.35 722.305 Q1450.69 721.217 1447.68 721.217 Q1441.75 721.217 1438.61 724.852 Q1435.46 728.463 1435.46 735.315 Q1435.46 742.143 1438.61 745.778 Q1441.75 749.389 1447.68 749.389 Q1450.69 749.389 1453.35 748.301 Q1456.04 747.213 1458.4 745.014 L1458.4 749.898 Q1455.94 751.565 1453.19 752.398 Q1450.46 753.231 1447.4 753.231 Q1439.55 753.231 1435.04 748.44 Q1430.53 743.625 1430.53 735.315 Q1430.53 726.981 1435.04 722.19 Q1439.55 717.375 1447.4 717.375 Q1450.5 717.375 1453.23 718.208 Q1455.99 719.018 1458.4 720.662 Z\" fill=\"#000000\" fill-rule=\"evenodd\" fill-opacity=\"1\" /><path clip-path=\"url(#clip280)\" d=\"M 0 0 M930.26 688.887 Q926.649 688.887 924.82 692.451 Q923.015 695.993 923.015 703.123 Q923.015 710.229 924.82 713.794 Q926.649 717.335 930.26 717.335 Q933.895 717.335 935.7 713.794 Q937.529 710.229 937.529 703.123 Q937.529 695.993 935.7 692.451 Q933.895 688.887 930.26 688.887 M930.26 685.183 Q936.07 685.183 939.126 689.789 Q942.205 694.373 942.205 703.123 Q942.205 711.849 939.126 716.456 Q936.07 721.039 930.26 721.039 Q924.45 721.039 921.371 716.456 Q918.316 711.849 918.316 703.123 Q918.316 694.373 921.371 689.789 Q924.45 685.183 930.26 685.183 Z\" fill=\"#000000\" fill-rule=\"evenodd\" fill-opacity=\"1\" /><path clip-path=\"url(#clip280)\" d=\"M 0 0 M868.27 597.486 L875.909 597.486 L875.909 571.12 L867.599 572.787 L867.599 568.527 L875.862 566.861 L880.538 566.861 L880.538 597.486 L888.177 597.486 L888.177 601.421 L868.27 601.421 L868.27 597.486 Z\" fill=\"#000000\" fill-rule=\"evenodd\" fill-opacity=\"1\" /><path clip-path=\"url(#clip280)\" d=\"M 0 0 M903.247 569.939 Q899.635 569.939 897.807 573.504 Q896.001 577.046 896.001 584.175 Q896.001 591.282 897.807 594.847 Q899.635 598.388 903.247 598.388 Q906.881 598.388 908.686 594.847 Q910.515 591.282 910.515 584.175 Q910.515 577.046 908.686 573.504 Q906.881 569.939 903.247 569.939 M903.247 566.236 Q909.057 566.236 912.112 570.842 Q915.191 575.425 915.191 584.175 Q915.191 592.902 912.112 597.509 Q909.057 602.092 903.247 602.092 Q897.436 602.092 894.358 597.509 Q891.302 592.902 891.302 584.175 Q891.302 575.425 894.358 570.842 Q897.436 566.236 903.247 566.236 Z\" fill=\"#000000\" fill-rule=\"evenodd\" fill-opacity=\"1\" /><path clip-path=\"url(#clip280)\" d=\"M 0 0 M930.26 569.939 Q926.649 569.939 924.82 573.504 Q923.015 577.046 923.015 584.175 Q923.015 591.282 924.82 594.847 Q926.649 598.388 930.26 598.388 Q933.895 598.388 935.7 594.847 Q937.529 591.282 937.529 584.175 Q937.529 577.046 935.7 573.504 Q933.895 569.939 930.26 569.939 M930.26 566.236 Q936.07 566.236 939.126 570.842 Q942.205 575.425 942.205 584.175 Q942.205 592.902 939.126 597.509 Q936.07 602.092 930.26 602.092 Q924.45 602.092 921.371 597.509 Q918.316 592.902 918.316 584.175 Q918.316 575.425 921.371 570.842 Q924.45 566.236 930.26 566.236 Z\" fill=\"#000000\" fill-rule=\"evenodd\" fill-opacity=\"1\" /><path clip-path=\"url(#clip280)\" d=\"M 0 0 M871.858 478.538 L888.177 478.538 L888.177 482.474 L866.233 482.474 L866.233 478.538 Q868.895 475.784 873.478 471.154 Q878.085 466.501 879.265 465.159 Q881.511 462.636 882.39 460.9 Q883.293 459.14 883.293 457.451 Q883.293 454.696 881.349 452.96 Q879.427 451.224 876.325 451.224 Q874.126 451.224 871.673 451.988 Q869.242 452.752 866.464 454.302 L866.464 449.58 Q869.288 448.446 871.742 447.867 Q874.196 447.289 876.233 447.289 Q881.603 447.289 884.798 449.974 Q887.992 452.659 887.992 457.15 Q887.992 459.279 887.182 461.201 Q886.395 463.099 884.288 465.691 Q883.71 466.363 880.608 469.58 Q877.506 472.775 871.858 478.538 Z\" fill=\"#000000\" fill-rule=\"evenodd\" fill-opacity=\"1\" /><path clip-path=\"url(#clip280)\" d=\"M 0 0 M903.247 450.992 Q899.635 450.992 897.807 454.557 Q896.001 458.099 896.001 465.228 Q896.001 472.335 897.807 475.9 Q899.635 479.441 903.247 479.441 Q906.881 479.441 908.686 475.9 Q910.515 472.335 910.515 465.228 Q910.515 458.099 908.686 454.557 Q906.881 450.992 903.247 450.992 M903.247 447.289 Q909.057 447.289 912.112 451.895 Q915.191 456.478 915.191 465.228 Q915.191 473.955 912.112 478.562 Q909.057 483.145 903.247 483.145 Q897.436 483.145 894.358 478.562 Q891.302 473.955 891.302 465.228 Q891.302 456.478 894.358 451.895 Q897.436 447.289 903.247 447.289 Z\" fill=\"#000000\" fill-rule=\"evenodd\" fill-opacity=\"1\" /><path clip-path=\"url(#clip280)\" d=\"M 0 0 M930.26 450.992 Q926.649 450.992 924.82 454.557 Q923.015 458.099 923.015 465.228 Q923.015 472.335 924.82 475.9 Q926.649 479.441 930.26 479.441 Q933.895 479.441 935.7 475.9 Q937.529 472.335 937.529 465.228 Q937.529 458.099 935.7 454.557 Q933.895 450.992 930.26 450.992 M930.26 447.289 Q936.07 447.289 939.126 451.895 Q942.205 456.478 942.205 465.228 Q942.205 473.955 939.126 478.562 Q936.07 483.145 930.26 483.145 Q924.45 483.145 921.371 478.562 Q918.316 473.955 918.316 465.228 Q918.316 456.478 921.371 451.895 Q924.45 447.289 930.26 447.289 Z\" fill=\"#000000\" fill-rule=\"evenodd\" fill-opacity=\"1\" /><path clip-path=\"url(#clip280)\" d=\"M 0 0 M881.048 344.892 Q884.404 345.61 886.279 347.878 Q888.177 350.147 888.177 353.48 Q888.177 358.596 884.659 361.397 Q881.14 364.198 874.659 364.198 Q872.483 364.198 870.168 363.758 Q867.876 363.341 865.423 362.485 L865.423 357.971 Q867.367 359.105 869.682 359.684 Q871.997 360.263 874.52 360.263 Q878.918 360.263 881.21 358.526 Q883.524 356.79 883.524 353.48 Q883.524 350.425 881.372 348.712 Q879.242 346.976 875.423 346.976 L871.395 346.976 L871.395 343.133 L875.608 343.133 Q879.057 343.133 880.886 341.767 Q882.714 340.378 882.714 337.786 Q882.714 335.124 880.816 333.712 Q878.941 332.277 875.423 332.277 Q873.501 332.277 871.302 332.693 Q869.103 333.11 866.464 333.99 L866.464 329.823 Q869.126 329.082 871.441 328.712 Q873.779 328.341 875.839 328.341 Q881.163 328.341 884.265 330.772 Q887.367 333.179 887.367 337.3 Q887.367 340.17 885.723 342.161 Q884.08 344.128 881.048 344.892 Z\" fill=\"#000000\" fill-rule=\"evenodd\" fill-opacity=\"1\" /><path clip-path=\"url(#clip280)\" d=\"M 0 0 M903.247 332.045 Q899.635 332.045 897.807 335.61 Q896.001 339.152 896.001 346.281 Q896.001 353.388 897.807 356.952 Q899.635 360.494 903.247 360.494 Q906.881 360.494 908.686 356.952 Q910.515 353.388 910.515 346.281 Q910.515 339.152 908.686 335.61 Q906.881 332.045 903.247 332.045 M903.247 328.341 Q909.057 328.341 912.112 332.948 Q915.191 337.531 915.191 346.281 Q915.191 355.008 912.112 359.614 Q909.057 364.198 903.247 364.198 Q897.436 364.198 894.358 359.614 Q891.302 355.008 891.302 346.281 Q891.302 337.531 894.358 332.948 Q897.436 328.341 903.247 328.341 Z\" fill=\"#000000\" fill-rule=\"evenodd\" fill-opacity=\"1\" /><path clip-path=\"url(#clip280)\" d=\"M 0 0 M930.26 332.045 Q926.649 332.045 924.82 335.61 Q923.015 339.152 923.015 346.281 Q923.015 353.388 924.82 356.952 Q926.649 360.494 930.26 360.494 Q933.895 360.494 935.7 356.952 Q937.529 353.388 937.529 346.281 Q937.529 339.152 935.7 335.61 Q933.895 332.045 930.26 332.045 M930.26 328.341 Q936.07 328.341 939.126 332.948 Q942.205 337.531 942.205 346.281 Q942.205 355.008 939.126 359.614 Q936.07 364.198 930.26 364.198 Q924.45 364.198 921.371 359.614 Q918.316 355.008 918.316 346.281 Q918.316 337.531 921.371 332.948 Q924.45 328.341 930.26 328.341 Z\" fill=\"#000000\" fill-rule=\"evenodd\" fill-opacity=\"1\" /><path clip-path=\"url(#clip280)\" d=\"M 0 0 M878.594 214.093 L866.788 232.542 L878.594 232.542 L878.594 214.093 M877.367 210.019 L883.247 210.019 L883.247 232.542 L888.177 232.542 L888.177 236.431 L883.247 236.431 L883.247 244.579 L878.594 244.579 L878.594 236.431 L862.992 236.431 L862.992 231.917 L877.367 210.019 Z\" fill=\"#000000\" fill-rule=\"evenodd\" fill-opacity=\"1\" /><path clip-path=\"url(#clip280)\" d=\"M 0 0 M903.247 213.098 Q899.635 213.098 897.807 216.663 Q896.001 220.204 896.001 227.334 Q896.001 234.44 897.807 238.005 Q899.635 241.547 903.247 241.547 Q906.881 241.547 908.686 238.005 Q910.515 234.44 910.515 227.334 Q910.515 220.204 908.686 216.663 Q906.881 213.098 903.247 213.098 M903.247 209.394 Q909.057 209.394 912.112 214.001 Q915.191 218.584 915.191 227.334 Q915.191 236.061 912.112 240.667 Q909.057 245.251 903.247 245.251 Q897.436 245.251 894.358 240.667 Q891.302 236.061 891.302 227.334 Q891.302 218.584 894.358 214.001 Q897.436 209.394 903.247 209.394 Z\" fill=\"#000000\" fill-rule=\"evenodd\" fill-opacity=\"1\" /><path clip-path=\"url(#clip280)\" d=\"M 0 0 M930.26 213.098 Q926.649 213.098 924.82 216.663 Q923.015 220.204 923.015 227.334 Q923.015 234.44 924.82 238.005 Q926.649 241.547 930.26 241.547 Q933.895 241.547 935.7 238.005 Q937.529 234.44 937.529 227.334 Q937.529 220.204 935.7 216.663 Q933.895 213.098 930.26 213.098 M930.26 209.394 Q936.07 209.394 939.126 214.001 Q942.205 218.584 942.205 227.334 Q942.205 236.061 939.126 240.667 Q936.07 245.251 930.26 245.251 Q924.45 245.251 921.371 240.667 Q918.316 236.061 918.316 227.334 Q918.316 218.584 921.371 214.001 Q924.45 209.394 930.26 209.394 Z\" fill=\"#000000\" fill-rule=\"evenodd\" fill-opacity=\"1\" /><path clip-path=\"url(#clip280)\" d=\"M 0 0 M867.275 91.0721 L885.631 91.0721 L885.631 95.0073 L871.557 95.0073 L871.557 103.479 Q872.575 103.132 873.594 102.97 Q874.612 102.785 875.631 102.785 Q881.418 102.785 884.798 105.956 Q888.177 109.128 888.177 114.544 Q888.177 120.123 884.705 123.225 Q881.233 126.303 874.913 126.303 Q872.737 126.303 870.469 125.933 Q868.224 125.563 865.816 124.822 L865.816 120.123 Q867.9 121.257 870.122 121.813 Q872.344 122.368 874.821 122.368 Q878.825 122.368 881.163 120.262 Q883.501 118.155 883.501 114.544 Q883.501 110.933 881.163 108.827 Q878.825 106.72 874.821 106.72 Q872.946 106.72 871.071 107.137 Q869.219 107.554 867.275 108.433 L867.275 91.0721 Z\" fill=\"#000000\" fill-rule=\"evenodd\" fill-opacity=\"1\" /><path clip-path=\"url(#clip280)\" d=\"M 0 0 M903.247 94.1508 Q899.635 94.1508 897.807 97.7156 Q896.001 101.257 896.001 108.387 Q896.001 115.493 897.807 119.058 Q899.635 122.6 903.247 122.6 Q906.881 122.6 908.686 119.058 Q910.515 115.493 910.515 108.387 Q910.515 101.257 908.686 97.7156 Q906.881 94.1508 903.247 94.1508 M903.247 90.4471 Q909.057 90.4471 912.112 95.0536 Q915.191 99.6369 915.191 108.387 Q915.191 117.114 912.112 121.72 Q909.057 126.303 903.247 126.303 Q897.436 126.303 894.358 121.72 Q891.302 117.114 891.302 108.387 Q891.302 99.6369 894.358 95.0536 Q897.436 90.4471 903.247 90.4471 Z\" fill=\"#000000\" fill-rule=\"evenodd\" fill-opacity=\"1\" /><path clip-path=\"url(#clip280)\" d=\"M 0 0 M930.26 94.1508 Q926.649 94.1508 924.82 97.7156 Q923.015 101.257 923.015 108.387 Q923.015 115.493 924.82 119.058 Q926.649 122.6 930.26 122.6 Q933.895 122.6 935.7 119.058 Q937.529 115.493 937.529 108.387 Q937.529 101.257 935.7 97.7156 Q933.895 94.1508 930.26 94.1508 M930.26 90.4471 Q936.07 90.4471 939.126 95.0536 Q942.205 99.6369 942.205 108.387 Q942.205 117.114 939.126 121.72 Q936.07 126.303 930.26 126.303 Q924.45 126.303 921.371 121.72 Q918.316 117.114 918.316 108.387 Q918.316 99.6369 921.371 95.0536 Q924.45 90.4471 930.26 90.4471 Z\" fill=\"#000000\" fill-rule=\"evenodd\" fill-opacity=\"1\" /><path clip-path=\"url(#clip280)\" d=\"M 0 0 M1094.11 12.096 L1105.13 12.096 L1131.95 62.6918 L1131.95 12.096 L1139.89 12.096 L1139.89 72.576 L1128.87 72.576 L1102.05 21.9802 L1102.05 72.576 L1094.11 72.576 L1094.11 12.096 Z\" fill=\"#000000\" fill-rule=\"evenodd\" fill-opacity=\"1\" /><path clip-path=\"url(#clip280)\" d=\"M 0 0 M1165.29 32.4315 Q1159.29 32.4315 1155.81 37.1306 Q1152.32 41.7891 1152.32 49.9314 Q1152.32 58.0738 1155.77 62.7728 Q1159.25 67.4314 1165.29 67.4314 Q1171.24 67.4314 1174.73 62.7323 Q1178.21 58.0333 1178.21 49.9314 Q1178.21 41.8701 1174.73 37.1711 Q1171.24 32.4315 1165.29 32.4315 M1165.29 26.1121 Q1175.01 26.1121 1180.56 32.4315 Q1186.11 38.7509 1186.11 49.9314 Q1186.11 61.0714 1180.56 67.4314 Q1175.01 73.7508 1165.29 73.7508 Q1155.52 73.7508 1149.97 67.4314 Q1144.47 61.0714 1144.47 49.9314 Q1144.47 38.7509 1149.97 32.4315 Q1155.52 26.1121 1165.29 26.1121 Z\" fill=\"#000000\" fill-rule=\"evenodd\" fill-opacity=\"1\" /><path clip-path=\"url(#clip280)\" d=\"M 0 0 M1201.3 14.324 L1201.3 27.2059 L1216.65 27.2059 L1216.65 32.9987 L1201.3 32.9987 L1201.3 57.6282 Q1201.3 63.1779 1202.8 64.7578 Q1204.34 66.3376 1209 66.3376 L1216.65 66.3376 L1216.65 72.576 L1209 72.576 Q1200.37 72.576 1197.09 69.3758 Q1193.81 66.1351 1193.81 57.6282 L1193.81 32.9987 L1188.34 32.9987 L1188.34 27.2059 L1193.81 27.2059 L1193.81 14.324 L1201.3 14.324 Z\" fill=\"#000000\" fill-rule=\"evenodd\" fill-opacity=\"1\" /><path clip-path=\"url(#clip280)\" d=\"M 0 0 M1287.42 14.0809 L1287.42 22.0612 Q1282.76 19.8332 1278.63 18.7395 Q1274.5 17.6457 1270.65 17.6457 Q1263.97 17.6457 1260.32 20.2383 Q1256.72 22.8309 1256.72 27.611 Q1256.72 31.6214 1259.11 33.6873 Q1261.54 35.7128 1268.26 36.9686 L1273.2 37.9813 Q1282.36 39.7232 1286.69 44.1387 Q1291.07 48.5136 1291.07 55.8863 Q1291.07 64.6767 1285.15 69.2137 Q1279.28 73.7508 1267.9 73.7508 Q1263.6 73.7508 1258.74 72.7785 Q1253.92 71.8063 1248.74 69.9024 L1248.74 61.4765 Q1253.72 64.2716 1258.5 65.6895 Q1263.28 67.1073 1267.9 67.1073 Q1274.9 67.1073 1278.71 64.3527 Q1282.52 61.598 1282.52 56.4939 Q1282.52 52.0379 1279.77 49.5264 Q1277.05 47.0148 1270.81 45.759 L1265.83 44.7868 Q1256.68 42.9639 1252.58 39.075 Q1248.49 35.1862 1248.49 28.2591 Q1248.49 20.2383 1254.12 15.6203 Q1259.79 11.0023 1269.72 11.0023 Q1273.97 11.0023 1278.39 11.7719 Q1282.8 12.5416 1287.42 14.0809 Z\" fill=\"#000000\" fill-rule=\"evenodd\" fill-opacity=\"1\" /><path clip-path=\"url(#clip280)\" d=\"M 0 0 M1298.12 54.671 L1298.12 27.2059 L1305.57 27.2059 L1305.57 54.3874 Q1305.57 60.8284 1308.08 64.0691 Q1310.59 67.2693 1315.62 67.2693 Q1321.65 67.2693 1325.14 63.421 Q1328.66 59.5726 1328.66 52.9291 L1328.66 27.2059 L1336.11 27.2059 L1336.11 72.576 L1328.66 72.576 L1328.66 65.6084 Q1325.95 69.7404 1322.34 71.7658 Q1318.78 73.7508 1314.04 73.7508 Q1306.22 73.7508 1302.17 68.8897 Q1298.12 64.0286 1298.12 54.671 M1316.87 26.1121 L1316.87 26.1121 Z\" fill=\"#000000\" fill-rule=\"evenodd\" fill-opacity=\"1\" /><path clip-path=\"url(#clip280)\" d=\"M 0 0 M1370.22 34.1734 Q1368.97 33.4443 1367.47 33.1202 Q1366.01 32.7556 1364.23 32.7556 Q1357.91 32.7556 1354.5 36.8875 Q1351.14 40.9789 1351.14 48.6757 L1351.14 72.576 L1343.65 72.576 L1343.65 27.2059 L1351.14 27.2059 L1351.14 34.2544 Q1353.49 30.1225 1357.26 28.1376 Q1361.03 26.1121 1366.41 26.1121 Q1367.18 26.1121 1368.12 26.2337 Q1369.05 26.3147 1370.18 26.5172 L1370.22 34.1734 Z\" fill=\"#000000\" fill-rule=\"evenodd\" fill-opacity=\"1\" /><path clip-path=\"url(#clip280)\" d=\"M 0 0 M1372.69 27.2059 L1380.59 27.2059 L1394.77 65.2844 L1408.95 27.2059 L1416.85 27.2059 L1399.83 72.576 L1389.71 72.576 L1372.69 27.2059 Z\" fill=\"#000000\" fill-rule=\"evenodd\" fill-opacity=\"1\" /><path clip-path=\"url(#clip283)\" d=\"\n",
       "M990.906 647.183 L990.906 703.088 L1142.09 703.088 L1142.09 647.183 L990.906 647.183 L990.906 647.183  Z\n",
       "  \" fill=\"#009af9\" fill-rule=\"evenodd\" fill-opacity=\"0.4\"/>\n",
       "<polyline clip-path=\"url(#clip283)\" style=\"stroke:#000000; stroke-width:4; stroke-opacity:0.4; fill:none\" points=\"\n",
       "  990.906,647.183 990.906,703.088 1142.09,703.088 1142.09,647.183 990.906,647.183 \n",
       "  \"/>\n",
       "<path clip-path=\"url(#clip283)\" d=\"\n",
       "M1179.89 195.184 L1179.89 703.088 L1331.07 703.088 L1331.07 195.184 L1179.89 195.184 L1179.89 195.184  Z\n",
       "  \" fill=\"#009af9\" fill-rule=\"evenodd\" fill-opacity=\"0.4\"/>\n",
       "<polyline clip-path=\"url(#clip283)\" style=\"stroke:#000000; stroke-width:4; stroke-opacity:0.4; fill:none\" points=\"\n",
       "  1179.89,195.184 1179.89,703.088 1331.07,703.088 1331.07,195.184 1179.89,195.184 \n",
       "  \"/>\n",
       "<path clip-path=\"url(#clip283)\" d=\"\n",
       "M1368.87 613.878 L1368.87 703.088 L1520.05 703.088 L1520.05 613.878 L1368.87 613.878 L1368.87 613.878  Z\n",
       "  \" fill=\"#009af9\" fill-rule=\"evenodd\" fill-opacity=\"0.4\"/>\n",
       "<polyline clip-path=\"url(#clip283)\" style=\"stroke:#000000; stroke-width:4; stroke-opacity:0.4; fill:none\" points=\"\n",
       "  1368.87,613.878 1368.87,703.088 1520.05,703.088 1520.05,613.878 1368.87,613.878 \n",
       "  \"/>\n",
       "</svg>\n"
      ]
     },
     "execution_count": 328,
     "metadata": {},
     "output_type": "execute_result"
    }
   ],
   "source": [
    "s = bar(countmap(df[df.Survived.==1, :Embarked]),)\n",
    "ns = bar(countmap(df[df.Survived.==0, :Embarked]))\n",
    "plot(s, ns, layout=2,  size=(400,200), title=[\"Surv\" \"Not Surv\"], ylim=(0,500))"
   ]
  },
  {
   "cell_type": "code",
   "execution_count": 329,
   "metadata": {},
   "outputs": [
    {
     "data": {
      "image/svg+xml": [
       "<?xml version=\"1.0\" encoding=\"utf-8\"?>\n",
       "<svg xmlns=\"http://www.w3.org/2000/svg\" xmlns:xlink=\"http://www.w3.org/1999/xlink\" width=\"400\" height=\"200\" viewBox=\"0 0 1600 800\">\n",
       "<defs>\n",
       "  <clipPath id=\"clip320\">\n",
       "    <rect x=\"0\" y=\"0\" width=\"1600\" height=\"800\"/>\n",
       "  </clipPath>\n",
       "</defs>\n",
       "<path clip-path=\"url(#clip320)\" d=\"\n",
       "M0 800 L1600 800 L1600 0 L0 0  Z\n",
       "  \" fill=\"#ffffff\" fill-rule=\"evenodd\" fill-opacity=\"1\"/>\n",
       "<defs>\n",
       "  <clipPath id=\"clip321\">\n",
       "    <rect x=\"320\" y=\"0\" width=\"1121\" height=\"800\"/>\n",
       "  </clipPath>\n",
       "</defs>\n",
       "<path clip-path=\"url(#clip320)\" d=\"\n",
       "M158.205 703.088 L752.756 703.088 L752.756 108.352 L158.205 108.352  Z\n",
       "  \" fill=\"#ffffff\" fill-rule=\"evenodd\" fill-opacity=\"1\"/>\n",
       "<defs>\n",
       "  <clipPath id=\"clip322\">\n",
       "    <rect x=\"158\" y=\"108\" width=\"596\" height=\"596\"/>\n",
       "  </clipPath>\n",
       "</defs>\n",
       "<polyline clip-path=\"url(#clip322)\" style=\"stroke:#000000; stroke-width:2; stroke-opacity:0.1; fill:none\" points=\"\n",
       "  172.008,703.088 172.008,108.352 \n",
       "  \"/>\n",
       "<polyline clip-path=\"url(#clip322)\" style=\"stroke:#000000; stroke-width:2; stroke-opacity:0.1; fill:none\" points=\"\n",
       "  266.499,703.088 266.499,108.352 \n",
       "  \"/>\n",
       "<polyline clip-path=\"url(#clip322)\" style=\"stroke:#000000; stroke-width:2; stroke-opacity:0.1; fill:none\" points=\"\n",
       "  360.989,703.088 360.989,108.352 \n",
       "  \"/>\n",
       "<polyline clip-path=\"url(#clip322)\" style=\"stroke:#000000; stroke-width:2; stroke-opacity:0.1; fill:none\" points=\"\n",
       "  455.48,703.088 455.48,108.352 \n",
       "  \"/>\n",
       "<polyline clip-path=\"url(#clip322)\" style=\"stroke:#000000; stroke-width:2; stroke-opacity:0.1; fill:none\" points=\"\n",
       "  549.971,703.088 549.971,108.352 \n",
       "  \"/>\n",
       "<polyline clip-path=\"url(#clip322)\" style=\"stroke:#000000; stroke-width:2; stroke-opacity:0.1; fill:none\" points=\"\n",
       "  644.462,703.088 644.462,108.352 \n",
       "  \"/>\n",
       "<polyline clip-path=\"url(#clip322)\" style=\"stroke:#000000; stroke-width:2; stroke-opacity:0.1; fill:none\" points=\"\n",
       "  738.953,703.088 738.953,108.352 \n",
       "  \"/>\n",
       "<polyline clip-path=\"url(#clip322)\" style=\"stroke:#000000; stroke-width:2; stroke-opacity:0.1; fill:none\" points=\"\n",
       "  158.205,703.088 752.756,703.088 \n",
       "  \"/>\n",
       "<polyline clip-path=\"url(#clip322)\" style=\"stroke:#000000; stroke-width:2; stroke-opacity:0.1; fill:none\" points=\"\n",
       "  158.205,584.141 752.756,584.141 \n",
       "  \"/>\n",
       "<polyline clip-path=\"url(#clip322)\" style=\"stroke:#000000; stroke-width:2; stroke-opacity:0.1; fill:none\" points=\"\n",
       "  158.205,465.194 752.756,465.194 \n",
       "  \"/>\n",
       "<polyline clip-path=\"url(#clip322)\" style=\"stroke:#000000; stroke-width:2; stroke-opacity:0.1; fill:none\" points=\"\n",
       "  158.205,346.246 752.756,346.246 \n",
       "  \"/>\n",
       "<polyline clip-path=\"url(#clip322)\" style=\"stroke:#000000; stroke-width:2; stroke-opacity:0.1; fill:none\" points=\"\n",
       "  158.205,227.299 752.756,227.299 \n",
       "  \"/>\n",
       "<polyline clip-path=\"url(#clip322)\" style=\"stroke:#000000; stroke-width:2; stroke-opacity:0.1; fill:none\" points=\"\n",
       "  158.205,108.352 752.756,108.352 \n",
       "  \"/>\n",
       "<polyline clip-path=\"url(#clip320)\" style=\"stroke:#000000; stroke-width:4; stroke-opacity:1; fill:none\" points=\"\n",
       "  158.205,703.088 752.756,703.088 \n",
       "  \"/>\n",
       "<polyline clip-path=\"url(#clip320)\" style=\"stroke:#000000; stroke-width:4; stroke-opacity:1; fill:none\" points=\"\n",
       "  158.205,703.088 158.205,108.352 \n",
       "  \"/>\n",
       "<polyline clip-path=\"url(#clip320)\" style=\"stroke:#000000; stroke-width:4; stroke-opacity:1; fill:none\" points=\"\n",
       "  172.008,703.088 172.008,695.951 \n",
       "  \"/>\n",
       "<polyline clip-path=\"url(#clip320)\" style=\"stroke:#000000; stroke-width:4; stroke-opacity:1; fill:none\" points=\"\n",
       "  266.499,703.088 266.499,695.951 \n",
       "  \"/>\n",
       "<polyline clip-path=\"url(#clip320)\" style=\"stroke:#000000; stroke-width:4; stroke-opacity:1; fill:none\" points=\"\n",
       "  360.989,703.088 360.989,695.951 \n",
       "  \"/>\n",
       "<polyline clip-path=\"url(#clip320)\" style=\"stroke:#000000; stroke-width:4; stroke-opacity:1; fill:none\" points=\"\n",
       "  455.48,703.088 455.48,695.951 \n",
       "  \"/>\n",
       "<polyline clip-path=\"url(#clip320)\" style=\"stroke:#000000; stroke-width:4; stroke-opacity:1; fill:none\" points=\"\n",
       "  549.971,703.088 549.971,695.951 \n",
       "  \"/>\n",
       "<polyline clip-path=\"url(#clip320)\" style=\"stroke:#000000; stroke-width:4; stroke-opacity:1; fill:none\" points=\"\n",
       "  644.462,703.088 644.462,695.951 \n",
       "  \"/>\n",
       "<polyline clip-path=\"url(#clip320)\" style=\"stroke:#000000; stroke-width:4; stroke-opacity:1; fill:none\" points=\"\n",
       "  738.953,703.088 738.953,695.951 \n",
       "  \"/>\n",
       "<polyline clip-path=\"url(#clip320)\" style=\"stroke:#000000; stroke-width:4; stroke-opacity:1; fill:none\" points=\"\n",
       "  158.205,703.088 165.339,703.088 \n",
       "  \"/>\n",
       "<polyline clip-path=\"url(#clip320)\" style=\"stroke:#000000; stroke-width:4; stroke-opacity:1; fill:none\" points=\"\n",
       "  158.205,584.141 165.339,584.141 \n",
       "  \"/>\n",
       "<polyline clip-path=\"url(#clip320)\" style=\"stroke:#000000; stroke-width:4; stroke-opacity:1; fill:none\" points=\"\n",
       "  158.205,465.194 165.339,465.194 \n",
       "  \"/>\n",
       "<polyline clip-path=\"url(#clip320)\" style=\"stroke:#000000; stroke-width:4; stroke-opacity:1; fill:none\" points=\"\n",
       "  158.205,346.246 165.339,346.246 \n",
       "  \"/>\n",
       "<polyline clip-path=\"url(#clip320)\" style=\"stroke:#000000; stroke-width:4; stroke-opacity:1; fill:none\" points=\"\n",
       "  158.205,227.299 165.339,227.299 \n",
       "  \"/>\n",
       "<polyline clip-path=\"url(#clip320)\" style=\"stroke:#000000; stroke-width:4; stroke-opacity:1; fill:none\" points=\"\n",
       "  158.205,108.352 165.339,108.352 \n",
       "  \"/>\n",
       "<path clip-path=\"url(#clip320)\" d=\"M 0 0 M154.022 721.079 Q150.411 721.079 148.582 724.643 Q146.777 728.185 146.777 735.315 Q146.777 742.421 148.582 745.986 Q150.411 749.527 154.022 749.527 Q157.656 749.527 159.462 745.986 Q161.29 742.421 161.29 735.315 Q161.29 728.185 159.462 724.643 Q157.656 721.079 154.022 721.079 M154.022 717.375 Q159.832 717.375 162.888 721.981 Q165.966 726.565 165.966 735.315 Q165.966 744.041 162.888 748.648 Q159.832 753.231 154.022 753.231 Q148.212 753.231 145.133 748.648 Q142.077 744.041 142.077 735.315 Q142.077 726.565 145.133 721.981 Q148.212 717.375 154.022 717.375 Z\" fill=\"#000000\" fill-rule=\"evenodd\" fill-opacity=\"1\" /><path clip-path=\"url(#clip320)\" d=\"M 0 0 M171.036 746.68 L175.92 746.68 L175.92 752.56 L171.036 752.56 L171.036 746.68 Z\" fill=\"#000000\" fill-rule=\"evenodd\" fill-opacity=\"1\" /><path clip-path=\"url(#clip320)\" d=\"M 0 0 M181.036 718 L199.392 718 L199.392 721.935 L185.318 721.935 L185.318 730.407 Q186.337 730.06 187.355 729.898 Q188.374 729.713 189.392 729.713 Q195.179 729.713 198.559 732.884 Q201.938 736.055 201.938 741.472 Q201.938 747.051 198.466 750.152 Q194.994 753.231 188.674 753.231 Q186.499 753.231 184.23 752.861 Q181.985 752.49 179.577 751.75 L179.577 747.051 Q181.661 748.185 183.883 748.74 Q186.105 749.296 188.582 749.296 Q192.586 749.296 194.924 747.19 Q197.262 745.083 197.262 741.472 Q197.262 737.861 194.924 735.754 Q192.586 733.648 188.582 733.648 Q186.707 733.648 184.832 734.065 Q182.98 734.481 181.036 735.361 L181.036 718 Z\" fill=\"#000000\" fill-rule=\"evenodd\" fill-opacity=\"1\" /><path clip-path=\"url(#clip320)\" d=\"M 0 0 M238.397 748.625 L246.036 748.625 L246.036 722.259 L237.726 723.926 L237.726 719.667 L245.99 718 L250.665 718 L250.665 748.625 L258.304 748.625 L258.304 752.56 L238.397 752.56 L238.397 748.625 Z\" fill=\"#000000\" fill-rule=\"evenodd\" fill-opacity=\"1\" /><path clip-path=\"url(#clip320)\" d=\"M 0 0 M263.374 746.68 L268.258 746.68 L268.258 752.56 L263.374 752.56 L263.374 746.68 Z\" fill=\"#000000\" fill-rule=\"evenodd\" fill-opacity=\"1\" /><path clip-path=\"url(#clip320)\" d=\"M 0 0 M283.327 721.079 Q279.716 721.079 277.888 724.643 Q276.082 728.185 276.082 735.315 Q276.082 742.421 277.888 745.986 Q279.716 749.527 283.327 749.527 Q286.962 749.527 288.767 745.986 Q290.596 742.421 290.596 735.315 Q290.596 728.185 288.767 724.643 Q286.962 721.079 283.327 721.079 M283.327 717.375 Q289.137 717.375 292.193 721.981 Q295.272 726.565 295.272 735.315 Q295.272 744.041 292.193 748.648 Q289.137 753.231 283.327 753.231 Q277.517 753.231 274.438 748.648 Q271.383 744.041 271.383 735.315 Q271.383 726.565 274.438 721.981 Q277.517 717.375 283.327 717.375 Z\" fill=\"#000000\" fill-rule=\"evenodd\" fill-opacity=\"1\" /><path clip-path=\"url(#clip320)\" d=\"M 0 0 M333.385 748.625 L341.024 748.625 L341.024 722.259 L332.714 723.926 L332.714 719.667 L340.978 718 L345.654 718 L345.654 748.625 L353.293 748.625 L353.293 752.56 L333.385 752.56 L333.385 748.625 Z\" fill=\"#000000\" fill-rule=\"evenodd\" fill-opacity=\"1\" /><path clip-path=\"url(#clip320)\" d=\"M 0 0 M358.362 746.68 L363.246 746.68 L363.246 752.56 L358.362 752.56 L358.362 746.68 Z\" fill=\"#000000\" fill-rule=\"evenodd\" fill-opacity=\"1\" /><path clip-path=\"url(#clip320)\" d=\"M 0 0 M368.362 718 L386.719 718 L386.719 721.935 L372.645 721.935 L372.645 730.407 Q373.663 730.06 374.682 729.898 Q375.7 729.713 376.719 729.713 Q382.506 729.713 385.885 732.884 Q389.265 736.055 389.265 741.472 Q389.265 747.051 385.793 750.152 Q382.32 753.231 376.001 753.231 Q373.825 753.231 371.557 752.861 Q369.311 752.49 366.904 751.75 L366.904 747.051 Q368.987 748.185 371.209 748.74 Q373.432 749.296 375.908 749.296 Q379.913 749.296 382.251 747.19 Q384.589 745.083 384.589 741.472 Q384.589 737.861 382.251 735.754 Q379.913 733.648 375.908 733.648 Q374.033 733.648 372.158 734.065 Q370.307 734.481 368.362 735.361 L368.362 718 Z\" fill=\"#000000\" fill-rule=\"evenodd\" fill-opacity=\"1\" /><path clip-path=\"url(#clip320)\" d=\"M 0 0 M431.649 748.625 L447.969 748.625 L447.969 752.56 L426.024 752.56 L426.024 748.625 Q428.686 745.87 433.27 741.24 Q437.876 736.588 439.057 735.245 Q441.302 732.722 442.182 730.986 Q443.085 729.227 443.085 727.537 Q443.085 724.782 441.14 723.046 Q439.219 721.31 436.117 721.31 Q433.918 721.31 431.464 722.074 Q429.034 722.838 426.256 724.389 L426.256 719.667 Q429.08 718.532 431.534 717.954 Q433.987 717.375 436.024 717.375 Q441.395 717.375 444.589 720.06 Q447.784 722.745 447.784 727.236 Q447.784 729.366 446.973 731.287 Q446.186 733.185 444.08 735.778 Q443.501 736.449 440.399 739.666 Q437.298 742.861 431.649 748.625 Z\" fill=\"#000000\" fill-rule=\"evenodd\" fill-opacity=\"1\" /><path clip-path=\"url(#clip320)\" d=\"M 0 0 M453.038 746.68 L457.922 746.68 L457.922 752.56 L453.038 752.56 L453.038 746.68 Z\" fill=\"#000000\" fill-rule=\"evenodd\" fill-opacity=\"1\" /><path clip-path=\"url(#clip320)\" d=\"M 0 0 M472.992 721.079 Q469.381 721.079 467.552 724.643 Q465.746 728.185 465.746 735.315 Q465.746 742.421 467.552 745.986 Q469.381 749.527 472.992 749.527 Q476.626 749.527 478.432 745.986 Q480.26 742.421 480.26 735.315 Q480.26 728.185 478.432 724.643 Q476.626 721.079 472.992 721.079 M472.992 717.375 Q478.802 717.375 481.857 721.981 Q484.936 726.565 484.936 735.315 Q484.936 744.041 481.857 748.648 Q478.802 753.231 472.992 753.231 Q467.182 753.231 464.103 748.648 Q461.047 744.041 461.047 735.315 Q461.047 726.565 464.103 721.981 Q467.182 717.375 472.992 717.375 Z\" fill=\"#000000\" fill-rule=\"evenodd\" fill-opacity=\"1\" /><path clip-path=\"url(#clip320)\" d=\"M 0 0 M526.638 748.625 L542.957 748.625 L542.957 752.56 L521.013 752.56 L521.013 748.625 Q523.675 745.87 528.258 741.24 Q532.865 736.588 534.045 735.245 Q536.291 732.722 537.17 730.986 Q538.073 729.227 538.073 727.537 Q538.073 724.782 536.129 723.046 Q534.207 721.31 531.105 721.31 Q528.906 721.31 526.453 722.074 Q524.022 722.838 521.244 724.389 L521.244 719.667 Q524.068 718.532 526.522 717.954 Q528.976 717.375 531.013 717.375 Q536.383 717.375 539.578 720.06 Q542.772 722.745 542.772 727.236 Q542.772 729.366 541.962 731.287 Q541.175 733.185 539.068 735.778 Q538.49 736.449 535.388 739.666 Q532.286 742.861 526.638 748.625 Z\" fill=\"#000000\" fill-rule=\"evenodd\" fill-opacity=\"1\" /><path clip-path=\"url(#clip320)\" d=\"M 0 0 M548.027 746.68 L552.911 746.68 L552.911 752.56 L548.027 752.56 L548.027 746.68 Z\" fill=\"#000000\" fill-rule=\"evenodd\" fill-opacity=\"1\" /><path clip-path=\"url(#clip320)\" d=\"M 0 0 M558.027 718 L576.383 718 L576.383 721.935 L562.309 721.935 L562.309 730.407 Q563.327 730.06 564.346 729.898 Q565.365 729.713 566.383 729.713 Q572.17 729.713 575.55 732.884 Q578.929 736.055 578.929 741.472 Q578.929 747.051 575.457 750.152 Q571.985 753.231 565.665 753.231 Q563.49 753.231 561.221 752.861 Q558.976 752.49 556.568 751.75 L556.568 747.051 Q558.652 748.185 560.874 748.74 Q563.096 749.296 565.573 749.296 Q569.577 749.296 571.915 747.19 Q574.253 745.083 574.253 741.472 Q574.253 737.861 571.915 735.754 Q569.577 733.648 565.573 733.648 Q563.698 733.648 561.823 734.065 Q559.971 734.481 558.027 735.361 L558.027 718 Z\" fill=\"#000000\" fill-rule=\"evenodd\" fill-opacity=\"1\" /><path clip-path=\"url(#clip320)\" d=\"M 0 0 M630.226 733.926 Q633.582 734.643 635.457 736.912 Q637.355 739.18 637.355 742.514 Q637.355 747.629 633.837 750.43 Q630.318 753.231 623.837 753.231 Q621.661 753.231 619.346 752.791 Q617.055 752.375 614.601 751.518 L614.601 747.004 Q616.545 748.139 618.86 748.717 Q621.175 749.296 623.698 749.296 Q628.096 749.296 630.388 747.56 Q632.703 745.824 632.703 742.514 Q632.703 739.458 630.55 737.745 Q628.42 736.009 624.601 736.009 L620.573 736.009 L620.573 732.166 L624.786 732.166 Q628.235 732.166 630.064 730.801 Q631.893 729.412 631.893 726.819 Q631.893 724.157 629.994 722.745 Q628.119 721.31 624.601 721.31 Q622.68 721.31 620.481 721.727 Q618.281 722.143 615.643 723.023 L615.643 718.856 Q618.305 718.116 620.619 717.745 Q622.957 717.375 625.018 717.375 Q630.342 717.375 633.443 719.805 Q636.545 722.213 636.545 726.333 Q636.545 729.204 634.902 731.194 Q633.258 733.162 630.226 733.926 Z\" fill=\"#000000\" fill-rule=\"evenodd\" fill-opacity=\"1\" /><path clip-path=\"url(#clip320)\" d=\"M 0 0 M642.425 746.68 L647.309 746.68 L647.309 752.56 L642.425 752.56 L642.425 746.68 Z\" fill=\"#000000\" fill-rule=\"evenodd\" fill-opacity=\"1\" /><path clip-path=\"url(#clip320)\" d=\"M 0 0 M662.378 721.079 Q658.767 721.079 656.939 724.643 Q655.133 728.185 655.133 735.315 Q655.133 742.421 656.939 745.986 Q658.767 749.527 662.378 749.527 Q666.013 749.527 667.818 745.986 Q669.647 742.421 669.647 735.315 Q669.647 728.185 667.818 724.643 Q666.013 721.079 662.378 721.079 M662.378 717.375 Q668.189 717.375 671.244 721.981 Q674.323 726.565 674.323 735.315 Q674.323 744.041 671.244 748.648 Q668.189 753.231 662.378 753.231 Q656.568 753.231 653.49 748.648 Q650.434 744.041 650.434 735.315 Q650.434 726.565 653.49 721.981 Q656.568 717.375 662.378 717.375 Z\" fill=\"#000000\" fill-rule=\"evenodd\" fill-opacity=\"1\" /><path clip-path=\"url(#clip320)\" d=\"M 0 0 M725.214 733.926 Q728.571 734.643 730.446 736.912 Q732.344 739.18 732.344 742.514 Q732.344 747.629 728.825 750.43 Q725.307 753.231 718.825 753.231 Q716.65 753.231 714.335 752.791 Q712.043 752.375 709.589 751.518 L709.589 747.004 Q711.534 748.139 713.849 748.717 Q716.163 749.296 718.687 749.296 Q723.085 749.296 725.376 747.56 Q727.691 745.824 727.691 742.514 Q727.691 739.458 725.538 737.745 Q723.409 736.009 719.589 736.009 L715.562 736.009 L715.562 732.166 L719.775 732.166 Q723.224 732.166 725.052 730.801 Q726.881 729.412 726.881 726.819 Q726.881 724.157 724.983 722.745 Q723.108 721.31 719.589 721.31 Q717.668 721.31 715.469 721.727 Q713.27 722.143 710.631 723.023 L710.631 718.856 Q713.293 718.116 715.608 717.745 Q717.946 717.375 720.006 717.375 Q725.33 717.375 728.432 719.805 Q731.534 722.213 731.534 726.333 Q731.534 729.204 729.89 731.194 Q728.247 733.162 725.214 733.926 Z\" fill=\"#000000\" fill-rule=\"evenodd\" fill-opacity=\"1\" /><path clip-path=\"url(#clip320)\" d=\"M 0 0 M737.413 746.68 L742.298 746.68 L742.298 752.56 L737.413 752.56 L737.413 746.68 Z\" fill=\"#000000\" fill-rule=\"evenodd\" fill-opacity=\"1\" /><path clip-path=\"url(#clip320)\" d=\"M 0 0 M747.413 718 L765.77 718 L765.77 721.935 L751.696 721.935 L751.696 730.407 Q752.714 730.06 753.733 729.898 Q754.751 729.713 755.77 729.713 Q761.557 729.713 764.936 732.884 Q768.316 736.055 768.316 741.472 Q768.316 747.051 764.844 750.152 Q761.372 753.231 755.052 753.231 Q752.876 753.231 750.608 752.861 Q748.362 752.49 745.955 751.75 L745.955 747.051 Q748.038 748.185 750.26 748.74 Q752.483 749.296 754.96 749.296 Q758.964 749.296 761.302 747.19 Q763.64 745.083 763.64 741.472 Q763.64 737.861 761.302 735.754 Q758.964 733.648 754.96 733.648 Q753.085 733.648 751.21 734.065 Q749.358 734.481 747.413 735.361 L747.413 718 Z\" fill=\"#000000\" fill-rule=\"evenodd\" fill-opacity=\"1\" /><path clip-path=\"url(#clip320)\" d=\"M 0 0 M130.26 688.887 Q126.649 688.887 124.82 692.451 Q123.015 695.993 123.015 703.123 Q123.015 710.229 124.82 713.794 Q126.649 717.335 130.26 717.335 Q133.895 717.335 135.7 713.794 Q137.529 710.229 137.529 703.123 Q137.529 695.993 135.7 692.451 Q133.895 688.887 130.26 688.887 M130.26 685.183 Q136.07 685.183 139.126 689.789 Q142.205 694.373 142.205 703.123 Q142.205 711.849 139.126 716.456 Q136.07 721.039 130.26 721.039 Q124.45 721.039 121.371 716.456 Q118.316 711.849 118.316 703.123 Q118.316 694.373 121.371 689.789 Q124.45 685.183 130.26 685.183 Z\" fill=\"#000000\" fill-rule=\"evenodd\" fill-opacity=\"1\" /><path clip-path=\"url(#clip320)\" d=\"M 0 0 M68.2699 597.486 L75.9087 597.486 L75.9087 571.12 L67.5986 572.787 L67.5986 568.527 L75.8624 566.861 L80.5383 566.861 L80.5383 597.486 L88.1772 597.486 L88.1772 601.421 L68.2699 601.421 L68.2699 597.486 Z\" fill=\"#000000\" fill-rule=\"evenodd\" fill-opacity=\"1\" /><path clip-path=\"url(#clip320)\" d=\"M 0 0 M103.247 569.939 Q99.6354 569.939 97.8068 573.504 Q96.0012 577.046 96.0012 584.175 Q96.0012 591.282 97.8068 594.847 Q99.6354 598.388 103.247 598.388 Q106.881 598.388 108.686 594.847 Q110.515 591.282 110.515 584.175 Q110.515 577.046 108.686 573.504 Q106.881 569.939 103.247 569.939 M103.247 566.236 Q109.057 566.236 112.112 570.842 Q115.191 575.425 115.191 584.175 Q115.191 592.902 112.112 597.509 Q109.057 602.092 103.247 602.092 Q97.4364 602.092 94.3577 597.509 Q91.3022 592.902 91.3022 584.175 Q91.3022 575.425 94.3577 570.842 Q97.4364 566.236 103.247 566.236 Z\" fill=\"#000000\" fill-rule=\"evenodd\" fill-opacity=\"1\" /><path clip-path=\"url(#clip320)\" d=\"M 0 0 M130.26 569.939 Q126.649 569.939 124.82 573.504 Q123.015 577.046 123.015 584.175 Q123.015 591.282 124.82 594.847 Q126.649 598.388 130.26 598.388 Q133.895 598.388 135.7 594.847 Q137.529 591.282 137.529 584.175 Q137.529 577.046 135.7 573.504 Q133.895 569.939 130.26 569.939 M130.26 566.236 Q136.07 566.236 139.126 570.842 Q142.205 575.425 142.205 584.175 Q142.205 592.902 139.126 597.509 Q136.07 602.092 130.26 602.092 Q124.45 602.092 121.371 597.509 Q118.316 592.902 118.316 584.175 Q118.316 575.425 121.371 570.842 Q124.45 566.236 130.26 566.236 Z\" fill=\"#000000\" fill-rule=\"evenodd\" fill-opacity=\"1\" /><path clip-path=\"url(#clip320)\" d=\"M 0 0 M71.8578 478.538 L88.1772 478.538 L88.1772 482.474 L66.2328 482.474 L66.2328 478.538 Q68.8949 475.784 73.4782 471.154 Q78.0846 466.501 79.2652 465.159 Q81.5105 462.636 82.3902 460.9 Q83.2929 459.14 83.2929 457.451 Q83.2929 454.696 81.3485 452.96 Q79.4272 451.224 76.3254 451.224 Q74.1263 451.224 71.6726 451.988 Q69.2421 452.752 66.4643 454.302 L66.4643 449.58 Q69.2884 448.446 71.7421 447.867 Q74.1958 447.289 76.2328 447.289 Q81.6031 447.289 84.7976 449.974 Q87.992 452.659 87.992 457.15 Q87.992 459.279 87.1818 461.201 Q86.3948 463.099 84.2883 465.691 Q83.7096 466.363 80.6078 469.58 Q77.5059 472.775 71.8578 478.538 Z\" fill=\"#000000\" fill-rule=\"evenodd\" fill-opacity=\"1\" /><path clip-path=\"url(#clip320)\" d=\"M 0 0 M103.247 450.992 Q99.6354 450.992 97.8068 454.557 Q96.0012 458.099 96.0012 465.228 Q96.0012 472.335 97.8068 475.9 Q99.6354 479.441 103.247 479.441 Q106.881 479.441 108.686 475.9 Q110.515 472.335 110.515 465.228 Q110.515 458.099 108.686 454.557 Q106.881 450.992 103.247 450.992 M103.247 447.289 Q109.057 447.289 112.112 451.895 Q115.191 456.478 115.191 465.228 Q115.191 473.955 112.112 478.562 Q109.057 483.145 103.247 483.145 Q97.4364 483.145 94.3577 478.562 Q91.3022 473.955 91.3022 465.228 Q91.3022 456.478 94.3577 451.895 Q97.4364 447.289 103.247 447.289 Z\" fill=\"#000000\" fill-rule=\"evenodd\" fill-opacity=\"1\" /><path clip-path=\"url(#clip320)\" d=\"M 0 0 M130.26 450.992 Q126.649 450.992 124.82 454.557 Q123.015 458.099 123.015 465.228 Q123.015 472.335 124.82 475.9 Q126.649 479.441 130.26 479.441 Q133.895 479.441 135.7 475.9 Q137.529 472.335 137.529 465.228 Q137.529 458.099 135.7 454.557 Q133.895 450.992 130.26 450.992 M130.26 447.289 Q136.07 447.289 139.126 451.895 Q142.205 456.478 142.205 465.228 Q142.205 473.955 139.126 478.562 Q136.07 483.145 130.26 483.145 Q124.45 483.145 121.371 478.562 Q118.316 473.955 118.316 465.228 Q118.316 456.478 121.371 451.895 Q124.45 447.289 130.26 447.289 Z\" fill=\"#000000\" fill-rule=\"evenodd\" fill-opacity=\"1\" /><path clip-path=\"url(#clip320)\" d=\"M 0 0 M81.0476 344.892 Q84.404 345.61 86.279 347.878 Q88.1772 350.147 88.1772 353.48 Q88.1772 358.596 84.6587 361.397 Q81.1402 364.198 74.6587 364.198 Q72.4828 364.198 70.168 363.758 Q67.8764 363.341 65.4227 362.485 L65.4227 357.971 Q67.3671 359.105 69.6819 359.684 Q71.9967 360.263 74.5198 360.263 Q78.918 360.263 81.2096 358.526 Q83.5244 356.79 83.5244 353.48 Q83.5244 350.425 81.3717 348.712 Q79.242 346.976 75.4226 346.976 L71.3949 346.976 L71.3949 343.133 L75.6078 343.133 Q79.0569 343.133 80.8855 341.767 Q82.7142 340.378 82.7142 337.786 Q82.7142 335.124 80.8161 333.712 Q78.9411 332.277 75.4226 332.277 Q73.5013 332.277 71.3023 332.693 Q69.1032 333.11 66.4643 333.99 L66.4643 329.823 Q69.1264 329.082 71.4412 328.712 Q73.7791 328.341 75.8393 328.341 Q81.1633 328.341 84.2652 330.772 Q87.367 333.179 87.367 337.3 Q87.367 340.17 85.7235 342.161 Q84.08 344.128 81.0476 344.892 Z\" fill=\"#000000\" fill-rule=\"evenodd\" fill-opacity=\"1\" /><path clip-path=\"url(#clip320)\" d=\"M 0 0 M103.247 332.045 Q99.6354 332.045 97.8068 335.61 Q96.0012 339.152 96.0012 346.281 Q96.0012 353.388 97.8068 356.952 Q99.6354 360.494 103.247 360.494 Q106.881 360.494 108.686 356.952 Q110.515 353.388 110.515 346.281 Q110.515 339.152 108.686 335.61 Q106.881 332.045 103.247 332.045 M103.247 328.341 Q109.057 328.341 112.112 332.948 Q115.191 337.531 115.191 346.281 Q115.191 355.008 112.112 359.614 Q109.057 364.198 103.247 364.198 Q97.4364 364.198 94.3577 359.614 Q91.3022 355.008 91.3022 346.281 Q91.3022 337.531 94.3577 332.948 Q97.4364 328.341 103.247 328.341 Z\" fill=\"#000000\" fill-rule=\"evenodd\" fill-opacity=\"1\" /><path clip-path=\"url(#clip320)\" d=\"M 0 0 M130.26 332.045 Q126.649 332.045 124.82 335.61 Q123.015 339.152 123.015 346.281 Q123.015 353.388 124.82 356.952 Q126.649 360.494 130.26 360.494 Q133.895 360.494 135.7 356.952 Q137.529 353.388 137.529 346.281 Q137.529 339.152 135.7 335.61 Q133.895 332.045 130.26 332.045 M130.26 328.341 Q136.07 328.341 139.126 332.948 Q142.205 337.531 142.205 346.281 Q142.205 355.008 139.126 359.614 Q136.07 364.198 130.26 364.198 Q124.45 364.198 121.371 359.614 Q118.316 355.008 118.316 346.281 Q118.316 337.531 121.371 332.948 Q124.45 328.341 130.26 328.341 Z\" fill=\"#000000\" fill-rule=\"evenodd\" fill-opacity=\"1\" /><path clip-path=\"url(#clip320)\" d=\"M 0 0 M78.5939 214.093 L66.7884 232.542 L78.5939 232.542 L78.5939 214.093 M77.367 210.019 L83.2466 210.019 L83.2466 232.542 L88.1772 232.542 L88.1772 236.431 L83.2466 236.431 L83.2466 244.579 L78.5939 244.579 L78.5939 236.431 L62.9921 236.431 L62.9921 231.917 L77.367 210.019 Z\" fill=\"#000000\" fill-rule=\"evenodd\" fill-opacity=\"1\" /><path clip-path=\"url(#clip320)\" d=\"M 0 0 M103.247 213.098 Q99.6354 213.098 97.8068 216.663 Q96.0012 220.204 96.0012 227.334 Q96.0012 234.44 97.8068 238.005 Q99.6354 241.547 103.247 241.547 Q106.881 241.547 108.686 238.005 Q110.515 234.44 110.515 227.334 Q110.515 220.204 108.686 216.663 Q106.881 213.098 103.247 213.098 M103.247 209.394 Q109.057 209.394 112.112 214.001 Q115.191 218.584 115.191 227.334 Q115.191 236.061 112.112 240.667 Q109.057 245.251 103.247 245.251 Q97.4364 245.251 94.3577 240.667 Q91.3022 236.061 91.3022 227.334 Q91.3022 218.584 94.3577 214.001 Q97.4364 209.394 103.247 209.394 Z\" fill=\"#000000\" fill-rule=\"evenodd\" fill-opacity=\"1\" /><path clip-path=\"url(#clip320)\" d=\"M 0 0 M130.26 213.098 Q126.649 213.098 124.82 216.663 Q123.015 220.204 123.015 227.334 Q123.015 234.44 124.82 238.005 Q126.649 241.547 130.26 241.547 Q133.895 241.547 135.7 238.005 Q137.529 234.44 137.529 227.334 Q137.529 220.204 135.7 216.663 Q133.895 213.098 130.26 213.098 M130.26 209.394 Q136.07 209.394 139.126 214.001 Q142.205 218.584 142.205 227.334 Q142.205 236.061 139.126 240.667 Q136.07 245.251 130.26 245.251 Q124.45 245.251 121.371 240.667 Q118.316 236.061 118.316 227.334 Q118.316 218.584 121.371 214.001 Q124.45 209.394 130.26 209.394 Z\" fill=\"#000000\" fill-rule=\"evenodd\" fill-opacity=\"1\" /><path clip-path=\"url(#clip320)\" d=\"M 0 0 M67.2745 91.0721 L85.6309 91.0721 L85.6309 95.0073 L71.5569 95.0073 L71.5569 103.479 Q72.5754 103.132 73.5939 102.97 Q74.6124 102.785 75.6309 102.785 Q81.418 102.785 84.7976 105.956 Q88.1772 109.128 88.1772 114.544 Q88.1772 120.123 84.705 123.225 Q81.2328 126.303 74.9134 126.303 Q72.7374 126.303 70.4689 125.933 Q68.2236 125.563 65.8162 124.822 L65.8162 120.123 Q67.8995 121.257 70.1217 121.813 Q72.3439 122.368 74.8208 122.368 Q78.8254 122.368 81.1633 120.262 Q83.5013 118.155 83.5013 114.544 Q83.5013 110.933 81.1633 108.827 Q78.8254 106.72 74.8208 106.72 Q72.9458 106.72 71.0708 107.137 Q69.2189 107.554 67.2745 108.433 L67.2745 91.0721 Z\" fill=\"#000000\" fill-rule=\"evenodd\" fill-opacity=\"1\" /><path clip-path=\"url(#clip320)\" d=\"M 0 0 M103.247 94.1508 Q99.6354 94.1508 97.8068 97.7156 Q96.0012 101.257 96.0012 108.387 Q96.0012 115.493 97.8068 119.058 Q99.6354 122.6 103.247 122.6 Q106.881 122.6 108.686 119.058 Q110.515 115.493 110.515 108.387 Q110.515 101.257 108.686 97.7156 Q106.881 94.1508 103.247 94.1508 M103.247 90.4471 Q109.057 90.4471 112.112 95.0536 Q115.191 99.6369 115.191 108.387 Q115.191 117.114 112.112 121.72 Q109.057 126.303 103.247 126.303 Q97.4364 126.303 94.3577 121.72 Q91.3022 117.114 91.3022 108.387 Q91.3022 99.6369 94.3577 95.0536 Q97.4364 90.4471 103.247 90.4471 Z\" fill=\"#000000\" fill-rule=\"evenodd\" fill-opacity=\"1\" /><path clip-path=\"url(#clip320)\" d=\"M 0 0 M130.26 94.1508 Q126.649 94.1508 124.82 97.7156 Q123.015 101.257 123.015 108.387 Q123.015 115.493 124.82 119.058 Q126.649 122.6 130.26 122.6 Q133.895 122.6 135.7 119.058 Q137.529 115.493 137.529 108.387 Q137.529 101.257 135.7 97.7156 Q133.895 94.1508 130.26 94.1508 M130.26 90.4471 Q136.07 90.4471 139.126 95.0536 Q142.205 99.6369 142.205 108.387 Q142.205 117.114 139.126 121.72 Q136.07 126.303 130.26 126.303 Q124.45 126.303 121.371 121.72 Q118.316 117.114 118.316 108.387 Q118.316 99.6369 121.371 95.0536 Q124.45 90.4471 130.26 90.4471 Z\" fill=\"#000000\" fill-rule=\"evenodd\" fill-opacity=\"1\" /><path clip-path=\"url(#clip320)\" d=\"M 0 0 M410.232 14.0809 L410.232 22.0612 Q405.573 19.8332 401.441 18.7395 Q397.309 17.6457 393.461 17.6457 Q386.777 17.6457 383.131 20.2383 Q379.526 22.8309 379.526 27.611 Q379.526 31.6214 381.916 33.6873 Q384.346 35.7128 391.071 36.9686 L396.013 37.9813 Q405.168 39.7232 409.503 44.1387 Q413.877 48.5136 413.877 55.8863 Q413.877 64.6767 407.963 69.2137 Q402.089 73.7508 390.706 73.7508 Q386.412 73.7508 381.551 72.7785 Q376.731 71.8063 371.546 69.9024 L371.546 61.4765 Q376.528 64.2716 381.308 65.6895 Q386.088 67.1073 390.706 67.1073 Q397.714 67.1073 401.522 64.3527 Q405.33 61.598 405.33 56.4939 Q405.33 52.0379 402.575 49.5264 Q399.861 47.0148 393.623 45.759 L388.64 44.7868 Q379.485 42.9639 375.394 39.075 Q371.302 35.1862 371.302 28.2591 Q371.302 20.2383 376.933 15.6203 Q382.605 11.0023 392.529 11.0023 Q396.783 11.0023 401.198 11.7719 Q405.614 12.5416 410.232 14.0809 Z\" fill=\"#000000\" fill-rule=\"evenodd\" fill-opacity=\"1\" /><path clip-path=\"url(#clip320)\" d=\"M 0 0 M420.926 54.671 L420.926 27.2059 L428.38 27.2059 L428.38 54.3874 Q428.38 60.8284 430.891 64.0691 Q433.403 67.2693 438.426 67.2693 Q444.462 67.2693 447.946 63.421 Q451.47 59.5726 451.47 52.9291 L451.47 27.2059 L458.924 27.2059 L458.924 72.576 L451.47 72.576 L451.47 65.6084 Q448.756 69.7404 445.15 71.7658 Q441.586 73.7508 436.846 73.7508 Q429.028 73.7508 424.977 68.8897 Q420.926 64.0286 420.926 54.671 M439.682 26.1121 L439.682 26.1121 Z\" fill=\"#000000\" fill-rule=\"evenodd\" fill-opacity=\"1\" /><path clip-path=\"url(#clip320)\" d=\"M 0 0 M493.032 34.1734 Q491.776 33.4443 490.278 33.1202 Q488.819 32.7556 487.037 32.7556 Q480.717 32.7556 477.315 36.8875 Q473.952 40.9789 473.952 48.6757 L473.952 72.576 L466.458 72.576 L466.458 27.2059 L473.952 27.2059 L473.952 34.2544 Q476.302 30.1225 480.069 28.1376 Q483.837 26.1121 489.224 26.1121 Q489.994 26.1121 490.926 26.2337 Q491.857 26.3147 492.992 26.5172 L493.032 34.1734 Z\" fill=\"#000000\" fill-rule=\"evenodd\" fill-opacity=\"1\" /><path clip-path=\"url(#clip320)\" d=\"M 0 0 M495.503 27.2059 L503.402 27.2059 L517.581 65.2844 L531.759 27.2059 L539.658 27.2059 L522.644 72.576 L512.517 72.576 L495.503 27.2059 Z\" fill=\"#000000\" fill-rule=\"evenodd\" fill-opacity=\"1\" /><path clip-path=\"url(#clip322)\" d=\"\n",
       "M379.888 599.604 L379.888 703.088 L531.073 703.088 L531.073 599.604 L379.888 599.604 L379.888 599.604  Z\n",
       "  \" fill=\"#009af9\" fill-rule=\"evenodd\" fill-opacity=\"0.4\"/>\n",
       "<polyline clip-path=\"url(#clip322)\" style=\"stroke:#000000; stroke-width:4; stroke-opacity:0.4; fill:none\" points=\"\n",
       "  379.888,599.604 379.888,703.088 531.073,703.088 531.073,599.604 379.888,599.604 \n",
       "  \"/>\n",
       "<path clip-path=\"url(#clip322)\" d=\"\n",
       "M568.869 561.541 L568.869 703.088 L720.055 703.088 L720.055 561.541 L568.869 561.541 L568.869 561.541  Z\n",
       "  \" fill=\"#009af9\" fill-rule=\"evenodd\" fill-opacity=\"0.4\"/>\n",
       "<polyline clip-path=\"url(#clip322)\" style=\"stroke:#000000; stroke-width:4; stroke-opacity:0.4; fill:none\" points=\"\n",
       "  568.869,561.541 568.869,703.088 720.055,703.088 720.055,561.541 568.869,561.541 \n",
       "  \"/>\n",
       "<path clip-path=\"url(#clip322)\" d=\"\n",
       "M190.906 541.32 L190.906 703.088 L342.091 703.088 L342.091 541.32 L190.906 541.32 L190.906 541.32  Z\n",
       "  \" fill=\"#009af9\" fill-rule=\"evenodd\" fill-opacity=\"0.4\"/>\n",
       "<polyline clip-path=\"url(#clip322)\" style=\"stroke:#000000; stroke-width:4; stroke-opacity:0.4; fill:none\" points=\"\n",
       "  190.906,541.32 190.906,703.088 342.091,703.088 342.091,541.32 190.906,541.32 \n",
       "  \"/>\n",
       "<path clip-path=\"url(#clip320)\" d=\"\n",
       "M958.205 703.088 L1552.76 703.088 L1552.76 108.352 L958.205 108.352  Z\n",
       "  \" fill=\"#ffffff\" fill-rule=\"evenodd\" fill-opacity=\"1\"/>\n",
       "<defs>\n",
       "  <clipPath id=\"clip323\">\n",
       "    <rect x=\"958\" y=\"108\" width=\"596\" height=\"596\"/>\n",
       "  </clipPath>\n",
       "</defs>\n",
       "<polyline clip-path=\"url(#clip323)\" style=\"stroke:#000000; stroke-width:2; stroke-opacity:0.1; fill:none\" points=\"\n",
       "  972.008,703.088 972.008,108.352 \n",
       "  \"/>\n",
       "<polyline clip-path=\"url(#clip323)\" style=\"stroke:#000000; stroke-width:2; stroke-opacity:0.1; fill:none\" points=\"\n",
       "  1066.5,703.088 1066.5,108.352 \n",
       "  \"/>\n",
       "<polyline clip-path=\"url(#clip323)\" style=\"stroke:#000000; stroke-width:2; stroke-opacity:0.1; fill:none\" points=\"\n",
       "  1160.99,703.088 1160.99,108.352 \n",
       "  \"/>\n",
       "<polyline clip-path=\"url(#clip323)\" style=\"stroke:#000000; stroke-width:2; stroke-opacity:0.1; fill:none\" points=\"\n",
       "  1255.48,703.088 1255.48,108.352 \n",
       "  \"/>\n",
       "<polyline clip-path=\"url(#clip323)\" style=\"stroke:#000000; stroke-width:2; stroke-opacity:0.1; fill:none\" points=\"\n",
       "  1349.97,703.088 1349.97,108.352 \n",
       "  \"/>\n",
       "<polyline clip-path=\"url(#clip323)\" style=\"stroke:#000000; stroke-width:2; stroke-opacity:0.1; fill:none\" points=\"\n",
       "  1444.46,703.088 1444.46,108.352 \n",
       "  \"/>\n",
       "<polyline clip-path=\"url(#clip323)\" style=\"stroke:#000000; stroke-width:2; stroke-opacity:0.1; fill:none\" points=\"\n",
       "  1538.95,703.088 1538.95,108.352 \n",
       "  \"/>\n",
       "<polyline clip-path=\"url(#clip323)\" style=\"stroke:#000000; stroke-width:2; stroke-opacity:0.1; fill:none\" points=\"\n",
       "  958.205,703.088 1552.76,703.088 \n",
       "  \"/>\n",
       "<polyline clip-path=\"url(#clip323)\" style=\"stroke:#000000; stroke-width:2; stroke-opacity:0.1; fill:none\" points=\"\n",
       "  958.205,584.141 1552.76,584.141 \n",
       "  \"/>\n",
       "<polyline clip-path=\"url(#clip323)\" style=\"stroke:#000000; stroke-width:2; stroke-opacity:0.1; fill:none\" points=\"\n",
       "  958.205,465.194 1552.76,465.194 \n",
       "  \"/>\n",
       "<polyline clip-path=\"url(#clip323)\" style=\"stroke:#000000; stroke-width:2; stroke-opacity:0.1; fill:none\" points=\"\n",
       "  958.205,346.246 1552.76,346.246 \n",
       "  \"/>\n",
       "<polyline clip-path=\"url(#clip323)\" style=\"stroke:#000000; stroke-width:2; stroke-opacity:0.1; fill:none\" points=\"\n",
       "  958.205,227.299 1552.76,227.299 \n",
       "  \"/>\n",
       "<polyline clip-path=\"url(#clip323)\" style=\"stroke:#000000; stroke-width:2; stroke-opacity:0.1; fill:none\" points=\"\n",
       "  958.205,108.352 1552.76,108.352 \n",
       "  \"/>\n",
       "<polyline clip-path=\"url(#clip320)\" style=\"stroke:#000000; stroke-width:4; stroke-opacity:1; fill:none\" points=\"\n",
       "  958.205,703.088 1552.76,703.088 \n",
       "  \"/>\n",
       "<polyline clip-path=\"url(#clip320)\" style=\"stroke:#000000; stroke-width:4; stroke-opacity:1; fill:none\" points=\"\n",
       "  958.205,703.088 958.205,108.352 \n",
       "  \"/>\n",
       "<polyline clip-path=\"url(#clip320)\" style=\"stroke:#000000; stroke-width:4; stroke-opacity:1; fill:none\" points=\"\n",
       "  972.008,703.088 972.008,695.951 \n",
       "  \"/>\n",
       "<polyline clip-path=\"url(#clip320)\" style=\"stroke:#000000; stroke-width:4; stroke-opacity:1; fill:none\" points=\"\n",
       "  1066.5,703.088 1066.5,695.951 \n",
       "  \"/>\n",
       "<polyline clip-path=\"url(#clip320)\" style=\"stroke:#000000; stroke-width:4; stroke-opacity:1; fill:none\" points=\"\n",
       "  1160.99,703.088 1160.99,695.951 \n",
       "  \"/>\n",
       "<polyline clip-path=\"url(#clip320)\" style=\"stroke:#000000; stroke-width:4; stroke-opacity:1; fill:none\" points=\"\n",
       "  1255.48,703.088 1255.48,695.951 \n",
       "  \"/>\n",
       "<polyline clip-path=\"url(#clip320)\" style=\"stroke:#000000; stroke-width:4; stroke-opacity:1; fill:none\" points=\"\n",
       "  1349.97,703.088 1349.97,695.951 \n",
       "  \"/>\n",
       "<polyline clip-path=\"url(#clip320)\" style=\"stroke:#000000; stroke-width:4; stroke-opacity:1; fill:none\" points=\"\n",
       "  1444.46,703.088 1444.46,695.951 \n",
       "  \"/>\n",
       "<polyline clip-path=\"url(#clip320)\" style=\"stroke:#000000; stroke-width:4; stroke-opacity:1; fill:none\" points=\"\n",
       "  1538.95,703.088 1538.95,695.951 \n",
       "  \"/>\n",
       "<polyline clip-path=\"url(#clip320)\" style=\"stroke:#000000; stroke-width:4; stroke-opacity:1; fill:none\" points=\"\n",
       "  958.205,703.088 965.339,703.088 \n",
       "  \"/>\n",
       "<polyline clip-path=\"url(#clip320)\" style=\"stroke:#000000; stroke-width:4; stroke-opacity:1; fill:none\" points=\"\n",
       "  958.205,584.141 965.339,584.141 \n",
       "  \"/>\n",
       "<polyline clip-path=\"url(#clip320)\" style=\"stroke:#000000; stroke-width:4; stroke-opacity:1; fill:none\" points=\"\n",
       "  958.205,465.194 965.339,465.194 \n",
       "  \"/>\n",
       "<polyline clip-path=\"url(#clip320)\" style=\"stroke:#000000; stroke-width:4; stroke-opacity:1; fill:none\" points=\"\n",
       "  958.205,346.246 965.339,346.246 \n",
       "  \"/>\n",
       "<polyline clip-path=\"url(#clip320)\" style=\"stroke:#000000; stroke-width:4; stroke-opacity:1; fill:none\" points=\"\n",
       "  958.205,227.299 965.339,227.299 \n",
       "  \"/>\n",
       "<polyline clip-path=\"url(#clip320)\" style=\"stroke:#000000; stroke-width:4; stroke-opacity:1; fill:none\" points=\"\n",
       "  958.205,108.352 965.339,108.352 \n",
       "  \"/>\n",
       "<path clip-path=\"url(#clip320)\" d=\"M 0 0 M954.022 721.079 Q950.411 721.079 948.582 724.643 Q946.777 728.185 946.777 735.315 Q946.777 742.421 948.582 745.986 Q950.411 749.527 954.022 749.527 Q957.656 749.527 959.462 745.986 Q961.29 742.421 961.29 735.315 Q961.29 728.185 959.462 724.643 Q957.656 721.079 954.022 721.079 M954.022 717.375 Q959.832 717.375 962.888 721.981 Q965.966 726.565 965.966 735.315 Q965.966 744.041 962.888 748.648 Q959.832 753.231 954.022 753.231 Q948.212 753.231 945.133 748.648 Q942.077 744.041 942.077 735.315 Q942.077 726.565 945.133 721.981 Q948.212 717.375 954.022 717.375 Z\" fill=\"#000000\" fill-rule=\"evenodd\" fill-opacity=\"1\" /><path clip-path=\"url(#clip320)\" d=\"M 0 0 M971.036 746.68 L975.92 746.68 L975.92 752.56 L971.036 752.56 L971.036 746.68 Z\" fill=\"#000000\" fill-rule=\"evenodd\" fill-opacity=\"1\" /><path clip-path=\"url(#clip320)\" d=\"M 0 0 M981.036 718 L999.392 718 L999.392 721.935 L985.318 721.935 L985.318 730.407 Q986.337 730.06 987.355 729.898 Q988.374 729.713 989.392 729.713 Q995.179 729.713 998.559 732.884 Q1001.94 736.055 1001.94 741.472 Q1001.94 747.051 998.466 750.152 Q994.994 753.231 988.674 753.231 Q986.499 753.231 984.23 752.861 Q981.985 752.49 979.577 751.75 L979.577 747.051 Q981.661 748.185 983.883 748.74 Q986.105 749.296 988.582 749.296 Q992.586 749.296 994.924 747.19 Q997.262 745.083 997.262 741.472 Q997.262 737.861 994.924 735.754 Q992.586 733.648 988.582 733.648 Q986.707 733.648 984.832 734.065 Q982.98 734.481 981.036 735.361 L981.036 718 Z\" fill=\"#000000\" fill-rule=\"evenodd\" fill-opacity=\"1\" /><path clip-path=\"url(#clip320)\" d=\"M 0 0 M1038.4 748.625 L1046.04 748.625 L1046.04 722.259 L1037.73 723.926 L1037.73 719.667 L1045.99 718 L1050.67 718 L1050.67 748.625 L1058.3 748.625 L1058.3 752.56 L1038.4 752.56 L1038.4 748.625 Z\" fill=\"#000000\" fill-rule=\"evenodd\" fill-opacity=\"1\" /><path clip-path=\"url(#clip320)\" d=\"M 0 0 M1063.37 746.68 L1068.26 746.68 L1068.26 752.56 L1063.37 752.56 L1063.37 746.68 Z\" fill=\"#000000\" fill-rule=\"evenodd\" fill-opacity=\"1\" /><path clip-path=\"url(#clip320)\" d=\"M 0 0 M1083.33 721.079 Q1079.72 721.079 1077.89 724.643 Q1076.08 728.185 1076.08 735.315 Q1076.08 742.421 1077.89 745.986 Q1079.72 749.527 1083.33 749.527 Q1086.96 749.527 1088.77 745.986 Q1090.6 742.421 1090.6 735.315 Q1090.6 728.185 1088.77 724.643 Q1086.96 721.079 1083.33 721.079 M1083.33 717.375 Q1089.14 717.375 1092.19 721.981 Q1095.27 726.565 1095.27 735.315 Q1095.27 744.041 1092.19 748.648 Q1089.14 753.231 1083.33 753.231 Q1077.52 753.231 1074.44 748.648 Q1071.38 744.041 1071.38 735.315 Q1071.38 726.565 1074.44 721.981 Q1077.52 717.375 1083.33 717.375 Z\" fill=\"#000000\" fill-rule=\"evenodd\" fill-opacity=\"1\" /><path clip-path=\"url(#clip320)\" d=\"M 0 0 M1133.39 748.625 L1141.02 748.625 L1141.02 722.259 L1132.71 723.926 L1132.71 719.667 L1140.98 718 L1145.65 718 L1145.65 748.625 L1153.29 748.625 L1153.29 752.56 L1133.39 752.56 L1133.39 748.625 Z\" fill=\"#000000\" fill-rule=\"evenodd\" fill-opacity=\"1\" /><path clip-path=\"url(#clip320)\" d=\"M 0 0 M1158.36 746.68 L1163.25 746.68 L1163.25 752.56 L1158.36 752.56 L1158.36 746.68 Z\" fill=\"#000000\" fill-rule=\"evenodd\" fill-opacity=\"1\" /><path clip-path=\"url(#clip320)\" d=\"M 0 0 M1168.36 718 L1186.72 718 L1186.72 721.935 L1172.64 721.935 L1172.64 730.407 Q1173.66 730.06 1174.68 729.898 Q1175.7 729.713 1176.72 729.713 Q1182.51 729.713 1185.89 732.884 Q1189.26 736.055 1189.26 741.472 Q1189.26 747.051 1185.79 750.152 Q1182.32 753.231 1176 753.231 Q1173.83 753.231 1171.56 752.861 Q1169.31 752.49 1166.9 751.75 L1166.9 747.051 Q1168.99 748.185 1171.21 748.74 Q1173.43 749.296 1175.91 749.296 Q1179.91 749.296 1182.25 747.19 Q1184.59 745.083 1184.59 741.472 Q1184.59 737.861 1182.25 735.754 Q1179.91 733.648 1175.91 733.648 Q1174.03 733.648 1172.16 734.065 Q1170.31 734.481 1168.36 735.361 L1168.36 718 Z\" fill=\"#000000\" fill-rule=\"evenodd\" fill-opacity=\"1\" /><path clip-path=\"url(#clip320)\" d=\"M 0 0 M1231.65 748.625 L1247.97 748.625 L1247.97 752.56 L1226.02 752.56 L1226.02 748.625 Q1228.69 745.87 1233.27 741.24 Q1237.88 736.588 1239.06 735.245 Q1241.3 732.722 1242.18 730.986 Q1243.08 729.227 1243.08 727.537 Q1243.08 724.782 1241.14 723.046 Q1239.22 721.31 1236.12 721.31 Q1233.92 721.31 1231.46 722.074 Q1229.03 722.838 1226.26 724.389 L1226.26 719.667 Q1229.08 718.532 1231.53 717.954 Q1233.99 717.375 1236.02 717.375 Q1241.39 717.375 1244.59 720.06 Q1247.78 722.745 1247.78 727.236 Q1247.78 729.366 1246.97 731.287 Q1246.19 733.185 1244.08 735.778 Q1243.5 736.449 1240.4 739.666 Q1237.3 742.861 1231.65 748.625 Z\" fill=\"#000000\" fill-rule=\"evenodd\" fill-opacity=\"1\" /><path clip-path=\"url(#clip320)\" d=\"M 0 0 M1253.04 746.68 L1257.92 746.68 L1257.92 752.56 L1253.04 752.56 L1253.04 746.68 Z\" fill=\"#000000\" fill-rule=\"evenodd\" fill-opacity=\"1\" /><path clip-path=\"url(#clip320)\" d=\"M 0 0 M1272.99 721.079 Q1269.38 721.079 1267.55 724.643 Q1265.75 728.185 1265.75 735.315 Q1265.75 742.421 1267.55 745.986 Q1269.38 749.527 1272.99 749.527 Q1276.63 749.527 1278.43 745.986 Q1280.26 742.421 1280.26 735.315 Q1280.26 728.185 1278.43 724.643 Q1276.63 721.079 1272.99 721.079 M1272.99 717.375 Q1278.8 717.375 1281.86 721.981 Q1284.94 726.565 1284.94 735.315 Q1284.94 744.041 1281.86 748.648 Q1278.8 753.231 1272.99 753.231 Q1267.18 753.231 1264.1 748.648 Q1261.05 744.041 1261.05 735.315 Q1261.05 726.565 1264.1 721.981 Q1267.18 717.375 1272.99 717.375 Z\" fill=\"#000000\" fill-rule=\"evenodd\" fill-opacity=\"1\" /><path clip-path=\"url(#clip320)\" d=\"M 0 0 M1326.64 748.625 L1342.96 748.625 L1342.96 752.56 L1321.01 752.56 L1321.01 748.625 Q1323.67 745.87 1328.26 741.24 Q1332.86 736.588 1334.05 735.245 Q1336.29 732.722 1337.17 730.986 Q1338.07 729.227 1338.07 727.537 Q1338.07 724.782 1336.13 723.046 Q1334.21 721.31 1331.11 721.31 Q1328.91 721.31 1326.45 722.074 Q1324.02 722.838 1321.24 724.389 L1321.24 719.667 Q1324.07 718.532 1326.52 717.954 Q1328.98 717.375 1331.01 717.375 Q1336.38 717.375 1339.58 720.06 Q1342.77 722.745 1342.77 727.236 Q1342.77 729.366 1341.96 731.287 Q1341.17 733.185 1339.07 735.778 Q1338.49 736.449 1335.39 739.666 Q1332.29 742.861 1326.64 748.625 Z\" fill=\"#000000\" fill-rule=\"evenodd\" fill-opacity=\"1\" /><path clip-path=\"url(#clip320)\" d=\"M 0 0 M1348.03 746.68 L1352.91 746.68 L1352.91 752.56 L1348.03 752.56 L1348.03 746.68 Z\" fill=\"#000000\" fill-rule=\"evenodd\" fill-opacity=\"1\" /><path clip-path=\"url(#clip320)\" d=\"M 0 0 M1358.03 718 L1376.38 718 L1376.38 721.935 L1362.31 721.935 L1362.31 730.407 Q1363.33 730.06 1364.35 729.898 Q1365.36 729.713 1366.38 729.713 Q1372.17 729.713 1375.55 732.884 Q1378.93 736.055 1378.93 741.472 Q1378.93 747.051 1375.46 750.152 Q1371.98 753.231 1365.67 753.231 Q1363.49 753.231 1361.22 752.861 Q1358.98 752.49 1356.57 751.75 L1356.57 747.051 Q1358.65 748.185 1360.87 748.74 Q1363.1 749.296 1365.57 749.296 Q1369.58 749.296 1371.92 747.19 Q1374.25 745.083 1374.25 741.472 Q1374.25 737.861 1371.92 735.754 Q1369.58 733.648 1365.57 733.648 Q1363.7 733.648 1361.82 734.065 Q1359.97 734.481 1358.03 735.361 L1358.03 718 Z\" fill=\"#000000\" fill-rule=\"evenodd\" fill-opacity=\"1\" /><path clip-path=\"url(#clip320)\" d=\"M 0 0 M1430.23 733.926 Q1433.58 734.643 1435.46 736.912 Q1437.36 739.18 1437.36 742.514 Q1437.36 747.629 1433.84 750.43 Q1430.32 753.231 1423.84 753.231 Q1421.66 753.231 1419.35 752.791 Q1417.05 752.375 1414.6 751.518 L1414.6 747.004 Q1416.55 748.139 1418.86 748.717 Q1421.17 749.296 1423.7 749.296 Q1428.1 749.296 1430.39 747.56 Q1432.7 745.824 1432.7 742.514 Q1432.7 739.458 1430.55 737.745 Q1428.42 736.009 1424.6 736.009 L1420.57 736.009 L1420.57 732.166 L1424.79 732.166 Q1428.24 732.166 1430.06 730.801 Q1431.89 729.412 1431.89 726.819 Q1431.89 724.157 1429.99 722.745 Q1428.12 721.31 1424.6 721.31 Q1422.68 721.31 1420.48 721.727 Q1418.28 722.143 1415.64 723.023 L1415.64 718.856 Q1418.3 718.116 1420.62 717.745 Q1422.96 717.375 1425.02 717.375 Q1430.34 717.375 1433.44 719.805 Q1436.55 722.213 1436.55 726.333 Q1436.55 729.204 1434.9 731.194 Q1433.26 733.162 1430.23 733.926 Z\" fill=\"#000000\" fill-rule=\"evenodd\" fill-opacity=\"1\" /><path clip-path=\"url(#clip320)\" d=\"M 0 0 M1442.42 746.68 L1447.31 746.68 L1447.31 752.56 L1442.42 752.56 L1442.42 746.68 Z\" fill=\"#000000\" fill-rule=\"evenodd\" fill-opacity=\"1\" /><path clip-path=\"url(#clip320)\" d=\"M 0 0 M1462.38 721.079 Q1458.77 721.079 1456.94 724.643 Q1455.13 728.185 1455.13 735.315 Q1455.13 742.421 1456.94 745.986 Q1458.77 749.527 1462.38 749.527 Q1466.01 749.527 1467.82 745.986 Q1469.65 742.421 1469.65 735.315 Q1469.65 728.185 1467.82 724.643 Q1466.01 721.079 1462.38 721.079 M1462.38 717.375 Q1468.19 717.375 1471.24 721.981 Q1474.32 726.565 1474.32 735.315 Q1474.32 744.041 1471.24 748.648 Q1468.19 753.231 1462.38 753.231 Q1456.57 753.231 1453.49 748.648 Q1450.43 744.041 1450.43 735.315 Q1450.43 726.565 1453.49 721.981 Q1456.57 717.375 1462.38 717.375 Z\" fill=\"#000000\" fill-rule=\"evenodd\" fill-opacity=\"1\" /><path clip-path=\"url(#clip320)\" d=\"M 0 0 M1525.21 733.926 Q1528.57 734.643 1530.45 736.912 Q1532.34 739.18 1532.34 742.514 Q1532.34 747.629 1528.83 750.43 Q1525.31 753.231 1518.83 753.231 Q1516.65 753.231 1514.33 752.791 Q1512.04 752.375 1509.59 751.518 L1509.59 747.004 Q1511.53 748.139 1513.85 748.717 Q1516.16 749.296 1518.69 749.296 Q1523.08 749.296 1525.38 747.56 Q1527.69 745.824 1527.69 742.514 Q1527.69 739.458 1525.54 737.745 Q1523.41 736.009 1519.59 736.009 L1515.56 736.009 L1515.56 732.166 L1519.77 732.166 Q1523.22 732.166 1525.05 730.801 Q1526.88 729.412 1526.88 726.819 Q1526.88 724.157 1524.98 722.745 Q1523.11 721.31 1519.59 721.31 Q1517.67 721.31 1515.47 721.727 Q1513.27 722.143 1510.63 723.023 L1510.63 718.856 Q1513.29 718.116 1515.61 717.745 Q1517.95 717.375 1520.01 717.375 Q1525.33 717.375 1528.43 719.805 Q1531.53 722.213 1531.53 726.333 Q1531.53 729.204 1529.89 731.194 Q1528.25 733.162 1525.21 733.926 Z\" fill=\"#000000\" fill-rule=\"evenodd\" fill-opacity=\"1\" /><path clip-path=\"url(#clip320)\" d=\"M 0 0 M1537.41 746.68 L1542.3 746.68 L1542.3 752.56 L1537.41 752.56 L1537.41 746.68 Z\" fill=\"#000000\" fill-rule=\"evenodd\" fill-opacity=\"1\" /><path clip-path=\"url(#clip320)\" d=\"M 0 0 M1547.41 718 L1565.77 718 L1565.77 721.935 L1551.7 721.935 L1551.7 730.407 Q1552.71 730.06 1553.73 729.898 Q1554.75 729.713 1555.77 729.713 Q1561.56 729.713 1564.94 732.884 Q1568.32 736.055 1568.32 741.472 Q1568.32 747.051 1564.84 750.152 Q1561.37 753.231 1555.05 753.231 Q1552.88 753.231 1550.61 752.861 Q1548.36 752.49 1545.95 751.75 L1545.95 747.051 Q1548.04 748.185 1550.26 748.74 Q1552.48 749.296 1554.96 749.296 Q1558.96 749.296 1561.3 747.19 Q1563.64 745.083 1563.64 741.472 Q1563.64 737.861 1561.3 735.754 Q1558.96 733.648 1554.96 733.648 Q1553.08 733.648 1551.21 734.065 Q1549.36 734.481 1547.41 735.361 L1547.41 718 Z\" fill=\"#000000\" fill-rule=\"evenodd\" fill-opacity=\"1\" /><path clip-path=\"url(#clip320)\" d=\"M 0 0 M930.26 688.887 Q926.649 688.887 924.82 692.451 Q923.015 695.993 923.015 703.123 Q923.015 710.229 924.82 713.794 Q926.649 717.335 930.26 717.335 Q933.895 717.335 935.7 713.794 Q937.529 710.229 937.529 703.123 Q937.529 695.993 935.7 692.451 Q933.895 688.887 930.26 688.887 M930.26 685.183 Q936.07 685.183 939.126 689.789 Q942.205 694.373 942.205 703.123 Q942.205 711.849 939.126 716.456 Q936.07 721.039 930.26 721.039 Q924.45 721.039 921.371 716.456 Q918.316 711.849 918.316 703.123 Q918.316 694.373 921.371 689.789 Q924.45 685.183 930.26 685.183 Z\" fill=\"#000000\" fill-rule=\"evenodd\" fill-opacity=\"1\" /><path clip-path=\"url(#clip320)\" d=\"M 0 0 M868.27 597.486 L875.909 597.486 L875.909 571.12 L867.599 572.787 L867.599 568.527 L875.862 566.861 L880.538 566.861 L880.538 597.486 L888.177 597.486 L888.177 601.421 L868.27 601.421 L868.27 597.486 Z\" fill=\"#000000\" fill-rule=\"evenodd\" fill-opacity=\"1\" /><path clip-path=\"url(#clip320)\" d=\"M 0 0 M903.247 569.939 Q899.635 569.939 897.807 573.504 Q896.001 577.046 896.001 584.175 Q896.001 591.282 897.807 594.847 Q899.635 598.388 903.247 598.388 Q906.881 598.388 908.686 594.847 Q910.515 591.282 910.515 584.175 Q910.515 577.046 908.686 573.504 Q906.881 569.939 903.247 569.939 M903.247 566.236 Q909.057 566.236 912.112 570.842 Q915.191 575.425 915.191 584.175 Q915.191 592.902 912.112 597.509 Q909.057 602.092 903.247 602.092 Q897.436 602.092 894.358 597.509 Q891.302 592.902 891.302 584.175 Q891.302 575.425 894.358 570.842 Q897.436 566.236 903.247 566.236 Z\" fill=\"#000000\" fill-rule=\"evenodd\" fill-opacity=\"1\" /><path clip-path=\"url(#clip320)\" d=\"M 0 0 M930.26 569.939 Q926.649 569.939 924.82 573.504 Q923.015 577.046 923.015 584.175 Q923.015 591.282 924.82 594.847 Q926.649 598.388 930.26 598.388 Q933.895 598.388 935.7 594.847 Q937.529 591.282 937.529 584.175 Q937.529 577.046 935.7 573.504 Q933.895 569.939 930.26 569.939 M930.26 566.236 Q936.07 566.236 939.126 570.842 Q942.205 575.425 942.205 584.175 Q942.205 592.902 939.126 597.509 Q936.07 602.092 930.26 602.092 Q924.45 602.092 921.371 597.509 Q918.316 592.902 918.316 584.175 Q918.316 575.425 921.371 570.842 Q924.45 566.236 930.26 566.236 Z\" fill=\"#000000\" fill-rule=\"evenodd\" fill-opacity=\"1\" /><path clip-path=\"url(#clip320)\" d=\"M 0 0 M871.858 478.538 L888.177 478.538 L888.177 482.474 L866.233 482.474 L866.233 478.538 Q868.895 475.784 873.478 471.154 Q878.085 466.501 879.265 465.159 Q881.511 462.636 882.39 460.9 Q883.293 459.14 883.293 457.451 Q883.293 454.696 881.349 452.96 Q879.427 451.224 876.325 451.224 Q874.126 451.224 871.673 451.988 Q869.242 452.752 866.464 454.302 L866.464 449.58 Q869.288 448.446 871.742 447.867 Q874.196 447.289 876.233 447.289 Q881.603 447.289 884.798 449.974 Q887.992 452.659 887.992 457.15 Q887.992 459.279 887.182 461.201 Q886.395 463.099 884.288 465.691 Q883.71 466.363 880.608 469.58 Q877.506 472.775 871.858 478.538 Z\" fill=\"#000000\" fill-rule=\"evenodd\" fill-opacity=\"1\" /><path clip-path=\"url(#clip320)\" d=\"M 0 0 M903.247 450.992 Q899.635 450.992 897.807 454.557 Q896.001 458.099 896.001 465.228 Q896.001 472.335 897.807 475.9 Q899.635 479.441 903.247 479.441 Q906.881 479.441 908.686 475.9 Q910.515 472.335 910.515 465.228 Q910.515 458.099 908.686 454.557 Q906.881 450.992 903.247 450.992 M903.247 447.289 Q909.057 447.289 912.112 451.895 Q915.191 456.478 915.191 465.228 Q915.191 473.955 912.112 478.562 Q909.057 483.145 903.247 483.145 Q897.436 483.145 894.358 478.562 Q891.302 473.955 891.302 465.228 Q891.302 456.478 894.358 451.895 Q897.436 447.289 903.247 447.289 Z\" fill=\"#000000\" fill-rule=\"evenodd\" fill-opacity=\"1\" /><path clip-path=\"url(#clip320)\" d=\"M 0 0 M930.26 450.992 Q926.649 450.992 924.82 454.557 Q923.015 458.099 923.015 465.228 Q923.015 472.335 924.82 475.9 Q926.649 479.441 930.26 479.441 Q933.895 479.441 935.7 475.9 Q937.529 472.335 937.529 465.228 Q937.529 458.099 935.7 454.557 Q933.895 450.992 930.26 450.992 M930.26 447.289 Q936.07 447.289 939.126 451.895 Q942.205 456.478 942.205 465.228 Q942.205 473.955 939.126 478.562 Q936.07 483.145 930.26 483.145 Q924.45 483.145 921.371 478.562 Q918.316 473.955 918.316 465.228 Q918.316 456.478 921.371 451.895 Q924.45 447.289 930.26 447.289 Z\" fill=\"#000000\" fill-rule=\"evenodd\" fill-opacity=\"1\" /><path clip-path=\"url(#clip320)\" d=\"M 0 0 M881.048 344.892 Q884.404 345.61 886.279 347.878 Q888.177 350.147 888.177 353.48 Q888.177 358.596 884.659 361.397 Q881.14 364.198 874.659 364.198 Q872.483 364.198 870.168 363.758 Q867.876 363.341 865.423 362.485 L865.423 357.971 Q867.367 359.105 869.682 359.684 Q871.997 360.263 874.52 360.263 Q878.918 360.263 881.21 358.526 Q883.524 356.79 883.524 353.48 Q883.524 350.425 881.372 348.712 Q879.242 346.976 875.423 346.976 L871.395 346.976 L871.395 343.133 L875.608 343.133 Q879.057 343.133 880.886 341.767 Q882.714 340.378 882.714 337.786 Q882.714 335.124 880.816 333.712 Q878.941 332.277 875.423 332.277 Q873.501 332.277 871.302 332.693 Q869.103 333.11 866.464 333.99 L866.464 329.823 Q869.126 329.082 871.441 328.712 Q873.779 328.341 875.839 328.341 Q881.163 328.341 884.265 330.772 Q887.367 333.179 887.367 337.3 Q887.367 340.17 885.723 342.161 Q884.08 344.128 881.048 344.892 Z\" fill=\"#000000\" fill-rule=\"evenodd\" fill-opacity=\"1\" /><path clip-path=\"url(#clip320)\" d=\"M 0 0 M903.247 332.045 Q899.635 332.045 897.807 335.61 Q896.001 339.152 896.001 346.281 Q896.001 353.388 897.807 356.952 Q899.635 360.494 903.247 360.494 Q906.881 360.494 908.686 356.952 Q910.515 353.388 910.515 346.281 Q910.515 339.152 908.686 335.61 Q906.881 332.045 903.247 332.045 M903.247 328.341 Q909.057 328.341 912.112 332.948 Q915.191 337.531 915.191 346.281 Q915.191 355.008 912.112 359.614 Q909.057 364.198 903.247 364.198 Q897.436 364.198 894.358 359.614 Q891.302 355.008 891.302 346.281 Q891.302 337.531 894.358 332.948 Q897.436 328.341 903.247 328.341 Z\" fill=\"#000000\" fill-rule=\"evenodd\" fill-opacity=\"1\" /><path clip-path=\"url(#clip320)\" d=\"M 0 0 M930.26 332.045 Q926.649 332.045 924.82 335.61 Q923.015 339.152 923.015 346.281 Q923.015 353.388 924.82 356.952 Q926.649 360.494 930.26 360.494 Q933.895 360.494 935.7 356.952 Q937.529 353.388 937.529 346.281 Q937.529 339.152 935.7 335.61 Q933.895 332.045 930.26 332.045 M930.26 328.341 Q936.07 328.341 939.126 332.948 Q942.205 337.531 942.205 346.281 Q942.205 355.008 939.126 359.614 Q936.07 364.198 930.26 364.198 Q924.45 364.198 921.371 359.614 Q918.316 355.008 918.316 346.281 Q918.316 337.531 921.371 332.948 Q924.45 328.341 930.26 328.341 Z\" fill=\"#000000\" fill-rule=\"evenodd\" fill-opacity=\"1\" /><path clip-path=\"url(#clip320)\" d=\"M 0 0 M878.594 214.093 L866.788 232.542 L878.594 232.542 L878.594 214.093 M877.367 210.019 L883.247 210.019 L883.247 232.542 L888.177 232.542 L888.177 236.431 L883.247 236.431 L883.247 244.579 L878.594 244.579 L878.594 236.431 L862.992 236.431 L862.992 231.917 L877.367 210.019 Z\" fill=\"#000000\" fill-rule=\"evenodd\" fill-opacity=\"1\" /><path clip-path=\"url(#clip320)\" d=\"M 0 0 M903.247 213.098 Q899.635 213.098 897.807 216.663 Q896.001 220.204 896.001 227.334 Q896.001 234.44 897.807 238.005 Q899.635 241.547 903.247 241.547 Q906.881 241.547 908.686 238.005 Q910.515 234.44 910.515 227.334 Q910.515 220.204 908.686 216.663 Q906.881 213.098 903.247 213.098 M903.247 209.394 Q909.057 209.394 912.112 214.001 Q915.191 218.584 915.191 227.334 Q915.191 236.061 912.112 240.667 Q909.057 245.251 903.247 245.251 Q897.436 245.251 894.358 240.667 Q891.302 236.061 891.302 227.334 Q891.302 218.584 894.358 214.001 Q897.436 209.394 903.247 209.394 Z\" fill=\"#000000\" fill-rule=\"evenodd\" fill-opacity=\"1\" /><path clip-path=\"url(#clip320)\" d=\"M 0 0 M930.26 213.098 Q926.649 213.098 924.82 216.663 Q923.015 220.204 923.015 227.334 Q923.015 234.44 924.82 238.005 Q926.649 241.547 930.26 241.547 Q933.895 241.547 935.7 238.005 Q937.529 234.44 937.529 227.334 Q937.529 220.204 935.7 216.663 Q933.895 213.098 930.26 213.098 M930.26 209.394 Q936.07 209.394 939.126 214.001 Q942.205 218.584 942.205 227.334 Q942.205 236.061 939.126 240.667 Q936.07 245.251 930.26 245.251 Q924.45 245.251 921.371 240.667 Q918.316 236.061 918.316 227.334 Q918.316 218.584 921.371 214.001 Q924.45 209.394 930.26 209.394 Z\" fill=\"#000000\" fill-rule=\"evenodd\" fill-opacity=\"1\" /><path clip-path=\"url(#clip320)\" d=\"M 0 0 M867.275 91.0721 L885.631 91.0721 L885.631 95.0073 L871.557 95.0073 L871.557 103.479 Q872.575 103.132 873.594 102.97 Q874.612 102.785 875.631 102.785 Q881.418 102.785 884.798 105.956 Q888.177 109.128 888.177 114.544 Q888.177 120.123 884.705 123.225 Q881.233 126.303 874.913 126.303 Q872.737 126.303 870.469 125.933 Q868.224 125.563 865.816 124.822 L865.816 120.123 Q867.9 121.257 870.122 121.813 Q872.344 122.368 874.821 122.368 Q878.825 122.368 881.163 120.262 Q883.501 118.155 883.501 114.544 Q883.501 110.933 881.163 108.827 Q878.825 106.72 874.821 106.72 Q872.946 106.72 871.071 107.137 Q869.219 107.554 867.275 108.433 L867.275 91.0721 Z\" fill=\"#000000\" fill-rule=\"evenodd\" fill-opacity=\"1\" /><path clip-path=\"url(#clip320)\" d=\"M 0 0 M903.247 94.1508 Q899.635 94.1508 897.807 97.7156 Q896.001 101.257 896.001 108.387 Q896.001 115.493 897.807 119.058 Q899.635 122.6 903.247 122.6 Q906.881 122.6 908.686 119.058 Q910.515 115.493 910.515 108.387 Q910.515 101.257 908.686 97.7156 Q906.881 94.1508 903.247 94.1508 M903.247 90.4471 Q909.057 90.4471 912.112 95.0536 Q915.191 99.6369 915.191 108.387 Q915.191 117.114 912.112 121.72 Q909.057 126.303 903.247 126.303 Q897.436 126.303 894.358 121.72 Q891.302 117.114 891.302 108.387 Q891.302 99.6369 894.358 95.0536 Q897.436 90.4471 903.247 90.4471 Z\" fill=\"#000000\" fill-rule=\"evenodd\" fill-opacity=\"1\" /><path clip-path=\"url(#clip320)\" d=\"M 0 0 M930.26 94.1508 Q926.649 94.1508 924.82 97.7156 Q923.015 101.257 923.015 108.387 Q923.015 115.493 924.82 119.058 Q926.649 122.6 930.26 122.6 Q933.895 122.6 935.7 119.058 Q937.529 115.493 937.529 108.387 Q937.529 101.257 935.7 97.7156 Q933.895 94.1508 930.26 94.1508 M930.26 90.4471 Q936.07 90.4471 939.126 95.0536 Q942.205 99.6369 942.205 108.387 Q942.205 117.114 939.126 121.72 Q936.07 126.303 930.26 126.303 Q924.45 126.303 921.371 121.72 Q918.316 117.114 918.316 108.387 Q918.316 99.6369 921.371 95.0536 Q924.45 90.4471 930.26 90.4471 Z\" fill=\"#000000\" fill-rule=\"evenodd\" fill-opacity=\"1\" /><path clip-path=\"url(#clip320)\" d=\"M 0 0 M1094.11 12.096 L1105.13 12.096 L1131.95 62.6918 L1131.95 12.096 L1139.89 12.096 L1139.89 72.576 L1128.87 72.576 L1102.05 21.9802 L1102.05 72.576 L1094.11 72.576 L1094.11 12.096 Z\" fill=\"#000000\" fill-rule=\"evenodd\" fill-opacity=\"1\" /><path clip-path=\"url(#clip320)\" d=\"M 0 0 M1165.29 32.4315 Q1159.29 32.4315 1155.81 37.1306 Q1152.32 41.7891 1152.32 49.9314 Q1152.32 58.0738 1155.77 62.7728 Q1159.25 67.4314 1165.29 67.4314 Q1171.24 67.4314 1174.73 62.7323 Q1178.21 58.0333 1178.21 49.9314 Q1178.21 41.8701 1174.73 37.1711 Q1171.24 32.4315 1165.29 32.4315 M1165.29 26.1121 Q1175.01 26.1121 1180.56 32.4315 Q1186.11 38.7509 1186.11 49.9314 Q1186.11 61.0714 1180.56 67.4314 Q1175.01 73.7508 1165.29 73.7508 Q1155.52 73.7508 1149.97 67.4314 Q1144.47 61.0714 1144.47 49.9314 Q1144.47 38.7509 1149.97 32.4315 Q1155.52 26.1121 1165.29 26.1121 Z\" fill=\"#000000\" fill-rule=\"evenodd\" fill-opacity=\"1\" /><path clip-path=\"url(#clip320)\" d=\"M 0 0 M1201.3 14.324 L1201.3 27.2059 L1216.65 27.2059 L1216.65 32.9987 L1201.3 32.9987 L1201.3 57.6282 Q1201.3 63.1779 1202.8 64.7578 Q1204.34 66.3376 1209 66.3376 L1216.65 66.3376 L1216.65 72.576 L1209 72.576 Q1200.37 72.576 1197.09 69.3758 Q1193.81 66.1351 1193.81 57.6282 L1193.81 32.9987 L1188.34 32.9987 L1188.34 27.2059 L1193.81 27.2059 L1193.81 14.324 L1201.3 14.324 Z\" fill=\"#000000\" fill-rule=\"evenodd\" fill-opacity=\"1\" /><path clip-path=\"url(#clip320)\" d=\"M 0 0 M1287.42 14.0809 L1287.42 22.0612 Q1282.76 19.8332 1278.63 18.7395 Q1274.5 17.6457 1270.65 17.6457 Q1263.97 17.6457 1260.32 20.2383 Q1256.72 22.8309 1256.72 27.611 Q1256.72 31.6214 1259.11 33.6873 Q1261.54 35.7128 1268.26 36.9686 L1273.2 37.9813 Q1282.36 39.7232 1286.69 44.1387 Q1291.07 48.5136 1291.07 55.8863 Q1291.07 64.6767 1285.15 69.2137 Q1279.28 73.7508 1267.9 73.7508 Q1263.6 73.7508 1258.74 72.7785 Q1253.92 71.8063 1248.74 69.9024 L1248.74 61.4765 Q1253.72 64.2716 1258.5 65.6895 Q1263.28 67.1073 1267.9 67.1073 Q1274.9 67.1073 1278.71 64.3527 Q1282.52 61.598 1282.52 56.4939 Q1282.52 52.0379 1279.77 49.5264 Q1277.05 47.0148 1270.81 45.759 L1265.83 44.7868 Q1256.68 42.9639 1252.58 39.075 Q1248.49 35.1862 1248.49 28.2591 Q1248.49 20.2383 1254.12 15.6203 Q1259.79 11.0023 1269.72 11.0023 Q1273.97 11.0023 1278.39 11.7719 Q1282.8 12.5416 1287.42 14.0809 Z\" fill=\"#000000\" fill-rule=\"evenodd\" fill-opacity=\"1\" /><path clip-path=\"url(#clip320)\" d=\"M 0 0 M1298.12 54.671 L1298.12 27.2059 L1305.57 27.2059 L1305.57 54.3874 Q1305.57 60.8284 1308.08 64.0691 Q1310.59 67.2693 1315.62 67.2693 Q1321.65 67.2693 1325.14 63.421 Q1328.66 59.5726 1328.66 52.9291 L1328.66 27.2059 L1336.11 27.2059 L1336.11 72.576 L1328.66 72.576 L1328.66 65.6084 Q1325.95 69.7404 1322.34 71.7658 Q1318.78 73.7508 1314.04 73.7508 Q1306.22 73.7508 1302.17 68.8897 Q1298.12 64.0286 1298.12 54.671 M1316.87 26.1121 L1316.87 26.1121 Z\" fill=\"#000000\" fill-rule=\"evenodd\" fill-opacity=\"1\" /><path clip-path=\"url(#clip320)\" d=\"M 0 0 M1370.22 34.1734 Q1368.97 33.4443 1367.47 33.1202 Q1366.01 32.7556 1364.23 32.7556 Q1357.91 32.7556 1354.5 36.8875 Q1351.14 40.9789 1351.14 48.6757 L1351.14 72.576 L1343.65 72.576 L1343.65 27.2059 L1351.14 27.2059 L1351.14 34.2544 Q1353.49 30.1225 1357.26 28.1376 Q1361.03 26.1121 1366.41 26.1121 Q1367.18 26.1121 1368.12 26.2337 Q1369.05 26.3147 1370.18 26.5172 L1370.22 34.1734 Z\" fill=\"#000000\" fill-rule=\"evenodd\" fill-opacity=\"1\" /><path clip-path=\"url(#clip320)\" d=\"M 0 0 M1372.69 27.2059 L1380.59 27.2059 L1394.77 65.2844 L1408.95 27.2059 L1416.85 27.2059 L1399.83 72.576 L1389.71 72.576 L1372.69 27.2059 Z\" fill=\"#000000\" fill-rule=\"evenodd\" fill-opacity=\"1\" /><path clip-path=\"url(#clip323)\" d=\"\n",
       "M1179.89 587.709 L1179.89 703.088 L1331.07 703.088 L1331.07 587.709 L1179.89 587.709 L1179.89 587.709  Z\n",
       "  \" fill=\"#009af9\" fill-rule=\"evenodd\" fill-opacity=\"0.4\"/>\n",
       "<polyline clip-path=\"url(#clip323)\" style=\"stroke:#000000; stroke-width:4; stroke-opacity:0.4; fill:none\" points=\"\n",
       "  1179.89,587.709 1179.89,703.088 1331.07,703.088 1331.07,587.709 1179.89,587.709 \n",
       "  \"/>\n",
       "<path clip-path=\"url(#clip323)\" d=\"\n",
       "M1368.87 260.604 L1368.87 703.088 L1520.05 703.088 L1520.05 260.604 L1368.87 260.604 L1368.87 260.604  Z\n",
       "  \" fill=\"#009af9\" fill-rule=\"evenodd\" fill-opacity=\"0.4\"/>\n",
       "<polyline clip-path=\"url(#clip323)\" style=\"stroke:#000000; stroke-width:4; stroke-opacity:0.4; fill:none\" points=\"\n",
       "  1368.87,260.604 1368.87,703.088 1520.05,703.088 1520.05,260.604 1368.87,260.604 \n",
       "  \"/>\n",
       "<path clip-path=\"url(#clip323)\" d=\"\n",
       "M990.906 607.93 L990.906 703.088 L1142.09 703.088 L1142.09 607.93 L990.906 607.93 L990.906 607.93  Z\n",
       "  \" fill=\"#009af9\" fill-rule=\"evenodd\" fill-opacity=\"0.4\"/>\n",
       "<polyline clip-path=\"url(#clip323)\" style=\"stroke:#000000; stroke-width:4; stroke-opacity:0.4; fill:none\" points=\"\n",
       "  990.906,607.93 990.906,703.088 1142.09,703.088 1142.09,607.93 990.906,607.93 \n",
       "  \"/>\n",
       "</svg>\n"
      ]
     },
     "execution_count": 329,
     "metadata": {},
     "output_type": "execute_result"
    }
   ],
   "source": [
    "s = bar(countmap(df[df.Survived.==1, :Pclass]),)\n",
    "ns = bar(countmap(df[df.Survived.==0, :Pclass]))\n",
    "plot(s, ns, layout=2,  size=(400,200), title=[\"Surv\" \"Not Surv\"], ylim=(0,500))"
   ]
  },
  {
   "cell_type": "code",
   "execution_count": 347,
   "metadata": {},
   "outputs": [
    {
     "data": {
      "text/html": [
       "<table class=\"data-frame\"><thead><tr><th></th><th>Survived</th><th>Fare_mean</th></tr><tr><th></th><th>Int64</th><th>Float64</th></tr></thead><tbody><p>2 rows × 2 columns</p><tr><th>1</th><td>0</td><td>22.1179</td></tr><tr><th>2</th><td>1</td><td>48.3954</td></tr></tbody></table>"
      ],
      "text/latex": [
       "\\begin{tabular}{r|cc}\n",
       "\t& Survived & Fare\\_mean\\\\\n",
       "\t\\hline\n",
       "\t& Int64 & Float64\\\\\n",
       "\t\\hline\n",
       "\t1 & 0 & 22.1179 \\\\\n",
       "\t2 & 1 & 48.3954 \\\\\n",
       "\\end{tabular}\n"
      ],
      "text/plain": [
       "2×2 DataFrame\n",
       "│ Row │ Survived │ Fare_mean │\n",
       "│     │ \u001b[90mInt64\u001b[39m    │ \u001b[90mFloat64\u001b[39m   │\n",
       "├─────┼──────────┼───────────┤\n",
       "│ 1   │ 0        │ 22.1179   │\n",
       "│ 2   │ 1        │ 48.3954   │"
      ]
     },
     "execution_count": 347,
     "metadata": {},
     "output_type": "execute_result"
    }
   ],
   "source": [
    "@pipe df |>\n",
    "    groupby(_, :Survived) |>\n",
    "    combine(_, :Fare => mean)"
   ]
  },
  {
   "cell_type": "code",
   "execution_count": 331,
   "metadata": {},
   "outputs": [
    {
     "data": {
      "text/html": [
       "<table class=\"data-frame\"><thead><tr><th></th><th>PassengerId</th><th>Survived</th><th>Pclass</th><th>Name</th><th>Sex</th><th>Age</th><th>SibSp</th><th>Parch</th><th>Ticket</th><th>Fare</th><th>Cabin</th><th>Embarked</th></tr><tr><th></th><th>Int64</th><th>Int64</th><th>Int64</th><th>String</th><th>String</th><th>Float64</th><th>Int64</th><th>Int64</th><th>String</th><th>Float64</th><th>String?</th><th>String</th></tr></thead><tbody><p>2 rows × 12 columns</p><tr><th>1</th><td>1</td><td>0</td><td>3</td><td>Braund, Mr. Owen Harris</td><td>male</td><td>22.0</td><td>1</td><td>0</td><td>A/5 21171</td><td>7.25</td><td><em>missing</em></td><td>S</td></tr><tr><th>2</th><td>2</td><td>1</td><td>1</td><td>Cumings, Mrs. John Bradley (Florence Briggs Thayer)</td><td>female</td><td>38.0</td><td>1</td><td>0</td><td>PC 17599</td><td>71.2833</td><td>C85</td><td>C</td></tr></tbody></table>"
      ],
      "text/latex": [
       "\\begin{tabular}{r|cccccccccccc}\n",
       "\t& PassengerId & Survived & Pclass & Name & Sex & Age & SibSp & Parch & Ticket & Fare & Cabin & Embarked\\\\\n",
       "\t\\hline\n",
       "\t& Int64 & Int64 & Int64 & String & String & Float64 & Int64 & Int64 & String & Float64 & String? & String\\\\\n",
       "\t\\hline\n",
       "\t1 & 1 & 0 & 3 & Braund, Mr. Owen Harris & male & 22.0 & 1 & 0 & A/5 21171 & 7.25 & \\emph{missing} & S \\\\\n",
       "\t2 & 2 & 1 & 1 & Cumings, Mrs. John Bradley (Florence Briggs Thayer) & female & 38.0 & 1 & 0 & PC 17599 & 71.2833 & C85 & C \\\\\n",
       "\\end{tabular}\n"
      ],
      "text/plain": [
       "2×12 DataFrame\n",
       "│ Row │ PassengerId │ Survived │ Pclass │ Name                                                │ Sex    │ Age     │ SibSp │ Parch │ Ticket    │ Fare    │ Cabin   │ Embarked │\n",
       "│     │ \u001b[90mInt64\u001b[39m       │ \u001b[90mInt64\u001b[39m    │ \u001b[90mInt64\u001b[39m  │ \u001b[90mString\u001b[39m                                              │ \u001b[90mString\u001b[39m │ \u001b[90mFloat64\u001b[39m │ \u001b[90mInt64\u001b[39m │ \u001b[90mInt64\u001b[39m │ \u001b[90mString\u001b[39m    │ \u001b[90mFloat64\u001b[39m │ \u001b[90mString?\u001b[39m │ \u001b[90mString\u001b[39m   │\n",
       "├─────┼─────────────┼──────────┼────────┼─────────────────────────────────────────────────────┼────────┼─────────┼───────┼───────┼───────────┼─────────┼─────────┼──────────┤\n",
       "│ 1   │ 1           │ 0        │ 3      │ Braund, Mr. Owen Harris                             │ male   │ 22.0    │ 1     │ 0     │ A/5 21171 │ 7.25    │ \u001b[90mmissing\u001b[39m │ S        │\n",
       "│ 2   │ 2           │ 1        │ 1      │ Cumings, Mrs. John Bradley (Florence Briggs Thayer) │ female │ 38.0    │ 1     │ 0     │ PC 17599  │ 71.2833 │ C85     │ C        │"
      ]
     },
     "execution_count": 331,
     "metadata": {},
     "output_type": "execute_result"
    }
   ],
   "source": [
    "first(df, 2)"
   ]
  },
  {
   "cell_type": "code",
   "execution_count": 332,
   "metadata": {},
   "outputs": [],
   "source": [
    "# OHE the Pclass\n",
    "for i in unique(df.Pclass)\n",
    "    df[:,Symbol(\"Pclass_\"*string(i))] = Int.(df.Pclass .== i)\n",
    "end"
   ]
  },
  {
   "cell_type": "code",
   "execution_count": 333,
   "metadata": {},
   "outputs": [],
   "source": [
    "# OHE the embarked\n",
    "for i in unique(df.Embarked)\n",
    "    df[:,Symbol(\"Embarked_\"*string(i))] = Int.(df.Embarked .== i)\n",
    "end"
   ]
  },
  {
   "cell_type": "code",
   "execution_count": 337,
   "metadata": {},
   "outputs": [
    {
     "data": {
      "text/html": [
       "<table class=\"data-frame\"><thead><tr><th></th><th>PassengerId</th><th>Survived</th><th>Pclass</th><th>Name</th><th>Sex</th><th>Age</th><th>SibSp</th><th>Parch</th><th>Ticket</th><th>Fare</th><th>Cabin</th><th>Embarked</th><th>Pclass_3</th><th>Pclass_1</th><th>Pclass_2</th><th>Embarked_S</th><th>Embarked_C</th><th>Embarked_Q</th></tr><tr><th></th><th>Int64</th><th>Int64</th><th>Int64</th><th>String</th><th>String</th><th>Float64</th><th>Int64</th><th>Int64</th><th>String</th><th>Float64</th><th>String?</th><th>String</th><th>Int64</th><th>Int64</th><th>Int64</th><th>Int64</th><th>Int64</th><th>Int64</th></tr></thead><tbody><p>5 rows × 18 columns</p><tr><th>1</th><td>1</td><td>0</td><td>3</td><td>Braund, Mr. Owen Harris</td><td>male</td><td>22.0</td><td>1</td><td>0</td><td>A/5 21171</td><td>7.25</td><td><em>missing</em></td><td>S</td><td>1</td><td>0</td><td>0</td><td>1</td><td>0</td><td>0</td></tr><tr><th>2</th><td>2</td><td>1</td><td>1</td><td>Cumings, Mrs. John Bradley (Florence Briggs Thayer)</td><td>female</td><td>38.0</td><td>1</td><td>0</td><td>PC 17599</td><td>71.2833</td><td>C85</td><td>C</td><td>0</td><td>1</td><td>0</td><td>0</td><td>1</td><td>0</td></tr><tr><th>3</th><td>3</td><td>1</td><td>3</td><td>Heikkinen, Miss. Laina</td><td>female</td><td>26.0</td><td>0</td><td>0</td><td>STON/O2. 3101282</td><td>7.925</td><td><em>missing</em></td><td>S</td><td>1</td><td>0</td><td>0</td><td>1</td><td>0</td><td>0</td></tr><tr><th>4</th><td>4</td><td>1</td><td>1</td><td>Futrelle, Mrs. Jacques Heath (Lily May Peel)</td><td>female</td><td>35.0</td><td>1</td><td>0</td><td>113803</td><td>53.1</td><td>C123</td><td>S</td><td>0</td><td>1</td><td>0</td><td>1</td><td>0</td><td>0</td></tr><tr><th>5</th><td>5</td><td>0</td><td>3</td><td>Allen, Mr. William Henry</td><td>male</td><td>35.0</td><td>0</td><td>0</td><td>373450</td><td>8.05</td><td><em>missing</em></td><td>S</td><td>1</td><td>0</td><td>0</td><td>1</td><td>0</td><td>0</td></tr></tbody></table>"
      ],
      "text/latex": [
       "\\begin{tabular}{r|cccccccccccccccccc}\n",
       "\t& PassengerId & Survived & Pclass & Name & Sex & Age & SibSp & Parch & Ticket & Fare & Cabin & Embarked & Pclass\\_3 & Pclass\\_1 & Pclass\\_2 & Embarked\\_S & Embarked\\_C & Embarked\\_Q\\\\\n",
       "\t\\hline\n",
       "\t& Int64 & Int64 & Int64 & String & String & Float64 & Int64 & Int64 & String & Float64 & String? & String & Int64 & Int64 & Int64 & Int64 & Int64 & Int64\\\\\n",
       "\t\\hline\n",
       "\t1 & 1 & 0 & 3 & Braund, Mr. Owen Harris & male & 22.0 & 1 & 0 & A/5 21171 & 7.25 & \\emph{missing} & S & 1 & 0 & 0 & 1 & 0 & 0 \\\\\n",
       "\t2 & 2 & 1 & 1 & Cumings, Mrs. John Bradley (Florence Briggs Thayer) & female & 38.0 & 1 & 0 & PC 17599 & 71.2833 & C85 & C & 0 & 1 & 0 & 0 & 1 & 0 \\\\\n",
       "\t3 & 3 & 1 & 3 & Heikkinen, Miss. Laina & female & 26.0 & 0 & 0 & STON/O2. 3101282 & 7.925 & \\emph{missing} & S & 1 & 0 & 0 & 1 & 0 & 0 \\\\\n",
       "\t4 & 4 & 1 & 1 & Futrelle, Mrs. Jacques Heath (Lily May Peel) & female & 35.0 & 1 & 0 & 113803 & 53.1 & C123 & S & 0 & 1 & 0 & 1 & 0 & 0 \\\\\n",
       "\t5 & 5 & 0 & 3 & Allen, Mr. William Henry & male & 35.0 & 0 & 0 & 373450 & 8.05 & \\emph{missing} & S & 1 & 0 & 0 & 1 & 0 & 0 \\\\\n",
       "\\end{tabular}\n"
      ],
      "text/plain": [
       "5×18 DataFrame. Omitted printing of 3 columns\n",
       "│ Row │ PassengerId │ Survived │ Pclass │ Name                                                │ Sex    │ Age     │ SibSp │ Parch │ Ticket           │ Fare    │ Cabin   │ Embarked │ Pclass_3 │ Pclass_1 │ Pclass_2 │\n",
       "│     │ \u001b[90mInt64\u001b[39m       │ \u001b[90mInt64\u001b[39m    │ \u001b[90mInt64\u001b[39m  │ \u001b[90mString\u001b[39m                                              │ \u001b[90mString\u001b[39m │ \u001b[90mFloat64\u001b[39m │ \u001b[90mInt64\u001b[39m │ \u001b[90mInt64\u001b[39m │ \u001b[90mString\u001b[39m           │ \u001b[90mFloat64\u001b[39m │ \u001b[90mString?\u001b[39m │ \u001b[90mString\u001b[39m   │ \u001b[90mInt64\u001b[39m    │ \u001b[90mInt64\u001b[39m    │ \u001b[90mInt64\u001b[39m    │\n",
       "├─────┼─────────────┼──────────┼────────┼─────────────────────────────────────────────────────┼────────┼─────────┼───────┼───────┼──────────────────┼─────────┼─────────┼──────────┼──────────┼──────────┼──────────┤\n",
       "│ 1   │ 1           │ 0        │ 3      │ Braund, Mr. Owen Harris                             │ male   │ 22.0    │ 1     │ 0     │ A/5 21171        │ 7.25    │ \u001b[90mmissing\u001b[39m │ S        │ 1        │ 0        │ 0        │\n",
       "│ 2   │ 2           │ 1        │ 1      │ Cumings, Mrs. John Bradley (Florence Briggs Thayer) │ female │ 38.0    │ 1     │ 0     │ PC 17599         │ 71.2833 │ C85     │ C        │ 0        │ 1        │ 0        │\n",
       "│ 3   │ 3           │ 1        │ 3      │ Heikkinen, Miss. Laina                              │ female │ 26.0    │ 0     │ 0     │ STON/O2. 3101282 │ 7.925   │ \u001b[90mmissing\u001b[39m │ S        │ 1        │ 0        │ 0        │\n",
       "│ 4   │ 4           │ 1        │ 1      │ Futrelle, Mrs. Jacques Heath (Lily May Peel)        │ female │ 35.0    │ 1     │ 0     │ 113803           │ 53.1    │ C123    │ S        │ 0        │ 1        │ 0        │\n",
       "│ 5   │ 5           │ 0        │ 3      │ Allen, Mr. William Henry                            │ male   │ 35.0    │ 0     │ 0     │ 373450           │ 8.05    │ \u001b[90mmissing\u001b[39m │ S        │ 1        │ 0        │ 0        │"
      ]
     },
     "execution_count": 337,
     "metadata": {},
     "output_type": "execute_result"
    }
   ],
   "source": [
    "first(df, 5)"
   ]
  },
  {
   "cell_type": "code",
   "execution_count": 190,
   "metadata": {
    "scrolled": true
   },
   "outputs": [],
   "source": [
    "gender_dict = Dict(\"male\"=>1, \"female\"=>0);\n",
    "df.Sex = map(akey->gender_dict[akey], df.Sex);\n"
   ]
  },
  {
   "cell_type": "code",
   "execution_count": null,
   "metadata": {},
   "outputs": [],
   "source": []
  },
  {
   "cell_type": "code",
   "execution_count": 339,
   "metadata": {},
   "outputs": [
    {
     "data": {
      "text/plain": [
       "InvertedIndex{Array{Symbol,1}}([:Survived, :Name, :PassengerId, :Pclass, :Ticket, :Cabin, :Embarked])"
      ]
     },
     "execution_count": 339,
     "metadata": {},
     "output_type": "execute_result"
    }
   ],
   "source": [
    "cols = Not([\n",
    "    :Survived,\n",
    "    :Name,\n",
    "    :PassengerId,\n",
    "    :Pclass,\n",
    "    :Ticket,\n",
    "    :Cabin,\n",
    "    :Embarked\n",
    "])"
   ]
  },
  {
   "cell_type": "code",
   "execution_count": 197,
   "metadata": {},
   "outputs": [],
   "source": [
    "x_train = convert(Matrix{Float32}, select(df[1:800,:], cols));\n",
    "y_train = convert(Array{Float32}, df[1:800,:Survived]);\n",
    "x_val = convert(Matrix{Float32},select(df[801:end,:], cols));\n",
    "y_val = convert(Array{Float32}, df[801:end,:Survived]);"
   ]
  },
  {
   "cell_type": "code",
   "execution_count": null,
   "metadata": {},
   "outputs": [],
   "source": []
  },
  {
   "cell_type": "code",
   "execution_count": 198,
   "metadata": {},
   "outputs": [
    {
     "data": {
      "text/plain": [
       "DMatrix(Ptr{Nothing} @0x0000000007dba440, XGBoost.var\"#_setinfo#8\"())"
      ]
     },
     "execution_count": 198,
     "metadata": {},
     "output_type": "execute_result"
    }
   ],
   "source": [
    "train_dmat = DMatrix(x_train, label=y_train)"
   ]
  },
  {
   "cell_type": "code",
   "execution_count": 199,
   "metadata": {},
   "outputs": [
    {
     "name": "stderr",
     "output_type": "stream",
     "text": [
      "[1]\ttrain-auc:0.893250\n",
      "[2]\ttrain-auc:0.899080\n",
      "[3]\ttrain-auc:0.902066\n"
     ]
    },
    {
     "data": {
      "text/plain": [
       "Booster(Ptr{Nothing} @0x000000000db26850)"
      ]
     },
     "execution_count": 199,
     "metadata": {},
     "output_type": "execute_result"
    }
   ],
   "source": [
    "bst_base = xgboost(\n",
    "    train_dmat,\n",
    "    3,\n",
    "    eta=0.3,\n",
    "    objective=\"binary:logistic\",\n",
    "    eval_metric=\"auc\"\n",
    ")"
   ]
  },
  {
   "cell_type": "code",
   "execution_count": 200,
   "metadata": {},
   "outputs": [],
   "source": [
    "ŷ = XGBoost.predict(bst_base, x_val);"
   ]
  },
  {
   "cell_type": "code",
   "execution_count": 201,
   "metadata": {},
   "outputs": [
    {
     "data": {
      "text/plain": [
       "σ (generic function with 1 method)"
      ]
     },
     "execution_count": 201,
     "metadata": {},
     "output_type": "execute_result"
    }
   ],
   "source": [
    "σ(x) = 1/(1+exp(-x))"
   ]
  },
  {
   "cell_type": "code",
   "execution_count": 202,
   "metadata": {},
   "outputs": [
    {
     "data": {
      "text/plain": [
       "weighted_logistic_loss (generic function with 1 method)"
      ]
     },
     "execution_count": 202,
     "metadata": {},
     "output_type": "execute_result"
    }
   ],
   "source": [
    "weighted_logistic_loss(x, y) = -1.5 .* y*log(σ(x)) - 1 .* (1-y)*log(1-σ(x))"
   ]
  },
  {
   "cell_type": "code",
   "execution_count": 203,
   "metadata": {},
   "outputs": [
    {
     "data": {
      "text/plain": [
       "gradient_logistic (generic function with 1 method)"
      ]
     },
     "execution_count": 203,
     "metadata": {},
     "output_type": "execute_result"
    }
   ],
   "source": [
    "gradient_logistic(x, y) = gradient(weighted_logistic_loss,x,y)[1]"
   ]
  },
  {
   "cell_type": "code",
   "execution_count": 204,
   "metadata": {},
   "outputs": [
    {
     "data": {
      "text/plain": [
       "hess_logistic (generic function with 1 method)"
      ]
     },
     "execution_count": 204,
     "metadata": {},
     "output_type": "execute_result"
    }
   ],
   "source": [
    "hess_logistic(x, y) = gradient(gradient_logistic,x,y)[1]"
   ]
  },
  {
   "cell_type": "code",
   "execution_count": 205,
   "metadata": {},
   "outputs": [
    {
     "data": {
      "text/plain": [
       "custom_objective (generic function with 1 method)"
      ]
     },
     "execution_count": 205,
     "metadata": {},
     "output_type": "execute_result"
    }
   ],
   "source": [
    "function custom_objective(preds::Vector{Float32}, dtrain::DMatrix)\n",
    "  y = get_info(dtrain, \"label\")\n",
    "  grad = gradient_logistic.(preds, y)\n",
    "  hess = hess_logistic.(preds, y)\n",
    "  return grad, hess\n",
    "end"
   ]
  },
  {
   "cell_type": "code",
   "execution_count": 206,
   "metadata": {},
   "outputs": [
    {
     "name": "stderr",
     "output_type": "stream",
     "text": [
      "[1]\ttrain-auc:0.892897\n",
      "[2]\ttrain-auc:0.899565\n",
      "[3]\ttrain-auc:0.912532\n"
     ]
    },
    {
     "data": {
      "text/plain": [
       "Booster(Ptr{Nothing} @0x000000000dd3d4d0)"
      ]
     },
     "execution_count": 206,
     "metadata": {},
     "output_type": "execute_result"
    }
   ],
   "source": [
    "bst = xgboost(train_dmat, 3, eta=0.3, eval_metric=\"auc\", obj=custom_objective)"
   ]
  },
  {
   "cell_type": "code",
   "execution_count": 350,
   "metadata": {},
   "outputs": [
    {
     "data": {
      "text/plain": [
       "evaluate (generic function with 1 method)"
      ]
     },
     "execution_count": 350,
     "metadata": {},
     "output_type": "execute_result"
    }
   ],
   "source": [
    "function evaluate(y, ŷ; threshold=0.5)\n",
    "    out = zeros(Int64, 2, 2)\n",
    "    ŷ = Int.(ŷ.>=threshold)\n",
    "    out[1,1]=sum((y.==0).&(ŷ.==0))\n",
    "    out[2,2]=sum((y.==1).&(ŷ.==1))\n",
    "    out[2,1]=sum((y.==1).&(ŷ.==0))\n",
    "    out[1,2]=sum((y.==0).&(ŷ.==1))\n",
    "    r0 = out[1,1]/(out[1,1]+out[1,2])\n",
    "    p0 = out[1,1]/(out[1,1]+out[2,1])\n",
    "    f0 = 2*p0*r0/(p0+r0)\n",
    "    r1 = out[2,2]/(out[2,2]+out[2,1])\n",
    "    p1 = out[2,2]/(out[2,2]+out[1,2])\n",
    "    f1 = 2*r1*p1/(p1+r1)\n",
    "    println(\"Weighted f1 = \", round((sum(y .== 0.0)/length(y)) * f0 + (sum(y .== 1.0)/length(y)) * f1, digits=3))\n",
    "    println(\"Accuracy =\", (out[2,2]+out[1,1])/sum(out))\n",
    "    out\n",
    "end                    "
   ]
  },
  {
   "cell_type": "code",
   "execution_count": 353,
   "metadata": {},
   "outputs": [
    {
     "name": "stdout",
     "output_type": "stream",
     "text": [
      "Weighted f1 = 0.845\n",
      "Accuracy =0.8461538461538461\n"
     ]
    },
    {
     "data": {
      "text/plain": [
       "2×2 Array{Int64,2}:\n",
       " 51   6\n",
       "  8  26"
      ]
     },
     "execution_count": 353,
     "metadata": {},
     "output_type": "execute_result"
    }
   ],
   "source": [
    "cm = evaluate(y_val, ŷ)"
   ]
  },
  {
   "cell_type": "code",
   "execution_count": 354,
   "metadata": {},
   "outputs": [
    {
     "data": {
      "image/svg+xml": [
       "<?xml version=\"1.0\" encoding=\"utf-8\"?>\n",
       "<svg xmlns=\"http://www.w3.org/2000/svg\" xmlns:xlink=\"http://www.w3.org/1999/xlink\" width=\"300\" height=\"200\" viewBox=\"0 0 1200 800\">\n",
       "<defs>\n",
       "  <clipPath id=\"clip400\">\n",
       "    <rect x=\"0\" y=\"0\" width=\"1200\" height=\"800\"/>\n",
       "  </clipPath>\n",
       "</defs>\n",
       "<path clip-path=\"url(#clip400)\" d=\"\n",
       "M0 800 L1200 800 L1200 0 L0 0  Z\n",
       "  \" fill=\"#ffffff\" fill-rule=\"evenodd\" fill-opacity=\"1\"/>\n",
       "<defs>\n",
       "  <clipPath id=\"clip401\">\n",
       "    <rect x=\"240\" y=\"0\" width=\"841\" height=\"800\"/>\n",
       "  </clipPath>\n",
       "</defs>\n",
       "<path clip-path=\"url(#clip400)\" d=\"\n",
       "M127.191 694.448 L1152.76 694.448 L1152.76 47.2441 L127.191 47.2441  Z\n",
       "  \" fill=\"#ffffff\" fill-rule=\"evenodd\" fill-opacity=\"1\"/>\n",
       "<defs>\n",
       "  <clipPath id=\"clip402\">\n",
       "    <rect x=\"127\" y=\"47\" width=\"1027\" height=\"648\"/>\n",
       "  </clipPath>\n",
       "</defs>\n",
       "<polyline clip-path=\"url(#clip402)\" style=\"stroke:#000000; stroke-width:2; stroke-opacity:0.1; fill:none\" points=\"\n",
       "  156.216,694.448 156.216,47.2441 \n",
       "  \"/>\n",
       "<polyline clip-path=\"url(#clip402)\" style=\"stroke:#000000; stroke-width:2; stroke-opacity:0.1; fill:none\" points=\"\n",
       "  398.095,694.448 398.095,47.2441 \n",
       "  \"/>\n",
       "<polyline clip-path=\"url(#clip402)\" style=\"stroke:#000000; stroke-width:2; stroke-opacity:0.1; fill:none\" points=\"\n",
       "  639.973,694.448 639.973,47.2441 \n",
       "  \"/>\n",
       "<polyline clip-path=\"url(#clip402)\" style=\"stroke:#000000; stroke-width:2; stroke-opacity:0.1; fill:none\" points=\"\n",
       "  881.852,694.448 881.852,47.2441 \n",
       "  \"/>\n",
       "<polyline clip-path=\"url(#clip402)\" style=\"stroke:#000000; stroke-width:2; stroke-opacity:0.1; fill:none\" points=\"\n",
       "  1123.73,694.448 1123.73,47.2441 \n",
       "  \"/>\n",
       "<polyline clip-path=\"url(#clip402)\" style=\"stroke:#000000; stroke-width:2; stroke-opacity:0.1; fill:none\" points=\"\n",
       "  127.191,621.858 1152.76,621.858 \n",
       "  \"/>\n",
       "<polyline clip-path=\"url(#clip402)\" style=\"stroke:#000000; stroke-width:2; stroke-opacity:0.1; fill:none\" points=\"\n",
       "  127.191,486.176 1152.76,486.176 \n",
       "  \"/>\n",
       "<polyline clip-path=\"url(#clip402)\" style=\"stroke:#000000; stroke-width:2; stroke-opacity:0.1; fill:none\" points=\"\n",
       "  127.191,350.494 1152.76,350.494 \n",
       "  \"/>\n",
       "<polyline clip-path=\"url(#clip402)\" style=\"stroke:#000000; stroke-width:2; stroke-opacity:0.1; fill:none\" points=\"\n",
       "  127.191,214.812 1152.76,214.812 \n",
       "  \"/>\n",
       "<polyline clip-path=\"url(#clip402)\" style=\"stroke:#000000; stroke-width:2; stroke-opacity:0.1; fill:none\" points=\"\n",
       "  127.191,79.1294 1152.76,79.1294 \n",
       "  \"/>\n",
       "<polyline clip-path=\"url(#clip400)\" style=\"stroke:#000000; stroke-width:4; stroke-opacity:1; fill:none\" points=\"\n",
       "  127.191,694.448 1152.76,694.448 \n",
       "  \"/>\n",
       "<polyline clip-path=\"url(#clip400)\" style=\"stroke:#000000; stroke-width:4; stroke-opacity:1; fill:none\" points=\"\n",
       "  127.191,694.448 127.191,47.2441 \n",
       "  \"/>\n",
       "<polyline clip-path=\"url(#clip400)\" style=\"stroke:#000000; stroke-width:4; stroke-opacity:1; fill:none\" points=\"\n",
       "  156.216,694.448 156.216,686.681 \n",
       "  \"/>\n",
       "<polyline clip-path=\"url(#clip400)\" style=\"stroke:#000000; stroke-width:4; stroke-opacity:1; fill:none\" points=\"\n",
       "  398.095,694.448 398.095,686.681 \n",
       "  \"/>\n",
       "<polyline clip-path=\"url(#clip400)\" style=\"stroke:#000000; stroke-width:4; stroke-opacity:1; fill:none\" points=\"\n",
       "  639.973,694.448 639.973,686.681 \n",
       "  \"/>\n",
       "<polyline clip-path=\"url(#clip400)\" style=\"stroke:#000000; stroke-width:4; stroke-opacity:1; fill:none\" points=\"\n",
       "  881.852,694.448 881.852,686.681 \n",
       "  \"/>\n",
       "<polyline clip-path=\"url(#clip400)\" style=\"stroke:#000000; stroke-width:4; stroke-opacity:1; fill:none\" points=\"\n",
       "  1123.73,694.448 1123.73,686.681 \n",
       "  \"/>\n",
       "<polyline clip-path=\"url(#clip400)\" style=\"stroke:#000000; stroke-width:4; stroke-opacity:1; fill:none\" points=\"\n",
       "  127.191,621.858 139.498,621.858 \n",
       "  \"/>\n",
       "<polyline clip-path=\"url(#clip400)\" style=\"stroke:#000000; stroke-width:4; stroke-opacity:1; fill:none\" points=\"\n",
       "  127.191,486.176 139.498,486.176 \n",
       "  \"/>\n",
       "<polyline clip-path=\"url(#clip400)\" style=\"stroke:#000000; stroke-width:4; stroke-opacity:1; fill:none\" points=\"\n",
       "  127.191,350.494 139.498,350.494 \n",
       "  \"/>\n",
       "<polyline clip-path=\"url(#clip400)\" style=\"stroke:#000000; stroke-width:4; stroke-opacity:1; fill:none\" points=\"\n",
       "  127.191,214.812 139.498,214.812 \n",
       "  \"/>\n",
       "<polyline clip-path=\"url(#clip400)\" style=\"stroke:#000000; stroke-width:4; stroke-opacity:1; fill:none\" points=\"\n",
       "  127.191,79.1294 139.498,79.1294 \n",
       "  \"/>\n",
       "<path clip-path=\"url(#clip400)\" d=\"M 0 0 M114.608 737.985 L122.247 737.985 L122.247 711.619 L113.936 713.286 L113.936 709.027 L122.2 707.36 L126.876 707.36 L126.876 737.985 L134.515 737.985 L134.515 741.92 L114.608 741.92 L114.608 737.985 Z\" fill=\"#000000\" fill-rule=\"evenodd\" fill-opacity=\"1\" /><path clip-path=\"url(#clip400)\" d=\"M 0 0 M139.584 736.04 L144.469 736.04 L144.469 741.92 L139.584 741.92 L139.584 736.04 Z\" fill=\"#000000\" fill-rule=\"evenodd\" fill-opacity=\"1\" /><path clip-path=\"url(#clip400)\" d=\"M 0 0 M159.538 710.439 Q155.927 710.439 154.098 714.003 Q152.293 717.545 152.293 724.675 Q152.293 731.781 154.098 735.346 Q155.927 738.887 159.538 738.887 Q163.172 738.887 164.978 735.346 Q166.807 731.781 166.807 724.675 Q166.807 717.545 164.978 714.003 Q163.172 710.439 159.538 710.439 M159.538 706.735 Q165.348 706.735 168.404 711.341 Q171.482 715.925 171.482 724.675 Q171.482 733.401 168.404 738.008 Q165.348 742.591 159.538 742.591 Q153.728 742.591 150.649 738.008 Q147.594 733.401 147.594 724.675 Q147.594 715.925 150.649 711.341 Q153.728 706.735 159.538 706.735 Z\" fill=\"#000000\" fill-rule=\"evenodd\" fill-opacity=\"1\" /><path clip-path=\"url(#clip400)\" d=\"M 0 0 M186.552 710.439 Q182.941 710.439 181.112 714.003 Q179.306 717.545 179.306 724.675 Q179.306 731.781 181.112 735.346 Q182.941 738.887 186.552 738.887 Q190.186 738.887 191.992 735.346 Q193.82 731.781 193.82 724.675 Q193.82 717.545 191.992 714.003 Q190.186 710.439 186.552 710.439 M186.552 706.735 Q192.362 706.735 195.418 711.341 Q198.496 715.925 198.496 724.675 Q198.496 733.401 195.418 738.008 Q192.362 742.591 186.552 742.591 Q180.742 742.591 177.663 738.008 Q174.607 733.401 174.607 724.675 Q174.607 715.925 177.663 711.341 Q180.742 706.735 186.552 706.735 Z\" fill=\"#000000\" fill-rule=\"evenodd\" fill-opacity=\"1\" /><path clip-path=\"url(#clip400)\" d=\"M 0 0 M357.783 737.985 L365.421 737.985 L365.421 711.619 L357.111 713.286 L357.111 709.027 L365.375 707.36 L370.051 707.36 L370.051 737.985 L377.69 737.985 L377.69 741.92 L357.783 741.92 L357.783 737.985 Z\" fill=\"#000000\" fill-rule=\"evenodd\" fill-opacity=\"1\" /><path clip-path=\"url(#clip400)\" d=\"M 0 0 M382.759 736.04 L387.644 736.04 L387.644 741.92 L382.759 741.92 L382.759 736.04 Z\" fill=\"#000000\" fill-rule=\"evenodd\" fill-opacity=\"1\" /><path clip-path=\"url(#clip400)\" d=\"M 0 0 M396.741 737.985 L413.06 737.985 L413.06 741.92 L391.116 741.92 L391.116 737.985 Q393.778 735.23 398.361 730.6 Q402.968 725.948 404.148 724.605 Q406.393 722.082 407.273 720.346 Q408.176 718.587 408.176 716.897 Q408.176 714.142 406.231 712.406 Q404.31 710.67 401.208 710.67 Q399.009 710.67 396.556 711.434 Q394.125 712.198 391.347 713.749 L391.347 709.027 Q394.171 707.892 396.625 707.314 Q399.079 706.735 401.116 706.735 Q406.486 706.735 409.68 709.42 Q412.875 712.105 412.875 716.596 Q412.875 718.726 412.065 720.647 Q411.278 722.545 409.171 725.138 Q408.593 725.809 405.491 729.026 Q402.389 732.221 396.741 737.985 Z\" fill=\"#000000\" fill-rule=\"evenodd\" fill-opacity=\"1\" /><path clip-path=\"url(#clip400)\" d=\"M 0 0 M418.176 707.36 L436.532 707.36 L436.532 711.295 L422.458 711.295 L422.458 719.767 Q423.477 719.42 424.495 719.258 Q425.514 719.073 426.532 719.073 Q432.319 719.073 435.699 722.244 Q439.078 725.415 439.078 730.832 Q439.078 736.411 435.606 739.512 Q432.134 742.591 425.815 742.591 Q423.639 742.591 421.37 742.221 Q419.125 741.85 416.717 741.11 L416.717 736.411 Q418.801 737.545 421.023 738.1 Q423.245 738.656 425.722 738.656 Q429.727 738.656 432.065 736.55 Q434.403 734.443 434.403 730.832 Q434.403 727.221 432.065 725.114 Q429.727 723.008 425.722 723.008 Q423.847 723.008 421.972 723.425 Q420.12 723.841 418.176 724.721 L418.176 707.36 Z\" fill=\"#000000\" fill-rule=\"evenodd\" fill-opacity=\"1\" /><path clip-path=\"url(#clip400)\" d=\"M 0 0 M598.863 737.985 L606.501 737.985 L606.501 711.619 L598.191 713.286 L598.191 709.027 L606.455 707.36 L611.131 707.36 L611.131 737.985 L618.77 737.985 L618.77 741.92 L598.863 741.92 L598.863 737.985 Z\" fill=\"#000000\" fill-rule=\"evenodd\" fill-opacity=\"1\" /><path clip-path=\"url(#clip400)\" d=\"M 0 0 M623.839 736.04 L628.723 736.04 L628.723 741.92 L623.839 741.92 L623.839 736.04 Z\" fill=\"#000000\" fill-rule=\"evenodd\" fill-opacity=\"1\" /><path clip-path=\"url(#clip400)\" d=\"M 0 0 M633.839 707.36 L652.196 707.36 L652.196 711.295 L638.122 711.295 L638.122 719.767 Q639.14 719.42 640.159 719.258 Q641.177 719.073 642.196 719.073 Q647.983 719.073 651.362 722.244 Q654.742 725.415 654.742 730.832 Q654.742 736.411 651.27 739.512 Q647.797 742.591 641.478 742.591 Q639.302 742.591 637.034 742.221 Q634.788 741.85 632.381 741.11 L632.381 736.411 Q634.464 737.545 636.686 738.1 Q638.909 738.656 641.385 738.656 Q645.39 738.656 647.728 736.55 Q650.066 734.443 650.066 730.832 Q650.066 727.221 647.728 725.114 Q645.39 723.008 641.385 723.008 Q639.51 723.008 637.635 723.425 Q635.784 723.841 633.839 724.721 L633.839 707.36 Z\" fill=\"#000000\" fill-rule=\"evenodd\" fill-opacity=\"1\" /><path clip-path=\"url(#clip400)\" d=\"M 0 0 M669.811 710.439 Q666.2 710.439 664.371 714.003 Q662.566 717.545 662.566 724.675 Q662.566 731.781 664.371 735.346 Q666.2 738.887 669.811 738.887 Q673.445 738.887 675.251 735.346 Q677.08 731.781 677.08 724.675 Q677.08 717.545 675.251 714.003 Q673.445 710.439 669.811 710.439 M669.811 706.735 Q675.621 706.735 678.677 711.341 Q681.756 715.925 681.756 724.675 Q681.756 733.401 678.677 738.008 Q675.621 742.591 669.811 742.591 Q664.001 742.591 660.922 738.008 Q657.867 733.401 657.867 724.675 Q657.867 715.925 660.922 711.341 Q664.001 706.735 669.811 706.735 Z\" fill=\"#000000\" fill-rule=\"evenodd\" fill-opacity=\"1\" /><path clip-path=\"url(#clip400)\" d=\"M 0 0 M841.192 737.985 L848.831 737.985 L848.831 711.619 L840.521 713.286 L840.521 709.027 L848.785 707.36 L853.461 707.36 L853.461 737.985 L861.1 737.985 L861.1 741.92 L841.192 741.92 L841.192 737.985 Z\" fill=\"#000000\" fill-rule=\"evenodd\" fill-opacity=\"1\" /><path clip-path=\"url(#clip400)\" d=\"M 0 0 M866.169 736.04 L871.053 736.04 L871.053 741.92 L866.169 741.92 L866.169 736.04 Z\" fill=\"#000000\" fill-rule=\"evenodd\" fill-opacity=\"1\" /><path clip-path=\"url(#clip400)\" d=\"M 0 0 M874.942 707.36 L897.164 707.36 L897.164 709.351 L884.618 741.92 L879.734 741.92 L891.539 711.295 L874.942 711.295 L874.942 707.36 Z\" fill=\"#000000\" fill-rule=\"evenodd\" fill-opacity=\"1\" /><path clip-path=\"url(#clip400)\" d=\"M 0 0 M902.28 707.36 L920.636 707.36 L920.636 711.295 L906.562 711.295 L906.562 719.767 Q907.581 719.42 908.599 719.258 Q909.618 719.073 910.637 719.073 Q916.424 719.073 919.803 722.244 Q923.183 725.415 923.183 730.832 Q923.183 736.411 919.711 739.512 Q916.238 742.591 909.919 742.591 Q907.743 742.591 905.475 742.221 Q903.229 741.85 900.822 741.11 L900.822 736.411 Q902.905 737.545 905.127 738.1 Q907.349 738.656 909.826 738.656 Q913.831 738.656 916.169 736.55 Q918.507 734.443 918.507 730.832 Q918.507 727.221 916.169 725.114 Q913.831 723.008 909.826 723.008 Q907.951 723.008 906.076 723.425 Q904.225 723.841 902.28 724.721 L902.28 707.36 Z\" fill=\"#000000\" fill-rule=\"evenodd\" fill-opacity=\"1\" /><path clip-path=\"url(#clip400)\" d=\"M 0 0 M1086.39 737.985 L1102.71 737.985 L1102.71 741.92 L1080.77 741.92 L1080.77 737.985 Q1083.43 735.23 1088.01 730.6 Q1092.62 725.948 1093.8 724.605 Q1096.05 722.082 1096.93 720.346 Q1097.83 718.587 1097.83 716.897 Q1097.83 714.142 1095.88 712.406 Q1093.96 710.67 1090.86 710.67 Q1088.66 710.67 1086.21 711.434 Q1083.78 712.198 1081 713.749 L1081 709.027 Q1083.82 707.892 1086.28 707.314 Q1088.73 706.735 1090.77 706.735 Q1096.14 706.735 1099.33 709.42 Q1102.53 712.105 1102.53 716.596 Q1102.53 718.726 1101.72 720.647 Q1100.93 722.545 1098.82 725.138 Q1098.24 725.809 1095.14 729.026 Q1092.04 732.221 1086.39 737.985 Z\" fill=\"#000000\" fill-rule=\"evenodd\" fill-opacity=\"1\" /><path clip-path=\"url(#clip400)\" d=\"M 0 0 M1107.78 736.04 L1112.67 736.04 L1112.67 741.92 L1107.78 741.92 L1107.78 736.04 Z\" fill=\"#000000\" fill-rule=\"evenodd\" fill-opacity=\"1\" /><path clip-path=\"url(#clip400)\" d=\"M 0 0 M1127.74 710.439 Q1124.12 710.439 1122.3 714.003 Q1120.49 717.545 1120.49 724.675 Q1120.49 731.781 1122.3 735.346 Q1124.12 738.887 1127.74 738.887 Q1131.37 738.887 1133.17 735.346 Q1135 731.781 1135 724.675 Q1135 717.545 1133.17 714.003 Q1131.37 710.439 1127.74 710.439 M1127.74 706.735 Q1133.55 706.735 1136.6 711.341 Q1139.68 715.925 1139.68 724.675 Q1139.68 733.401 1136.6 738.008 Q1133.55 742.591 1127.74 742.591 Q1121.92 742.591 1118.85 738.008 Q1115.79 733.401 1115.79 724.675 Q1115.79 715.925 1118.85 711.341 Q1121.92 706.735 1127.74 706.735 Z\" fill=\"#000000\" fill-rule=\"evenodd\" fill-opacity=\"1\" /><path clip-path=\"url(#clip400)\" d=\"M 0 0 M1154.75 710.439 Q1151.14 710.439 1149.31 714.003 Q1147.5 717.545 1147.5 724.675 Q1147.5 731.781 1149.31 735.346 Q1151.14 738.887 1154.75 738.887 Q1158.38 738.887 1160.19 735.346 Q1162.02 731.781 1162.02 724.675 Q1162.02 717.545 1160.19 714.003 Q1158.38 710.439 1154.75 710.439 M1154.75 706.735 Q1160.56 706.735 1163.61 711.341 Q1166.69 715.925 1166.69 724.675 Q1166.69 733.401 1163.61 738.008 Q1160.56 742.591 1154.75 742.591 Q1148.94 742.591 1145.86 738.008 Q1142.8 733.401 1142.8 724.675 Q1142.8 715.925 1145.86 711.341 Q1148.94 706.735 1154.75 706.735 Z\" fill=\"#000000\" fill-rule=\"evenodd\" fill-opacity=\"1\" /><path clip-path=\"url(#clip400)\" d=\"M 0 0 M68.2699 635.203 L75.9087 635.203 L75.9087 608.837 L67.5986 610.504 L67.5986 606.245 L75.8624 604.578 L80.5383 604.578 L80.5383 635.203 L88.1772 635.203 L88.1772 639.138 L68.2699 639.138 L68.2699 635.203 Z\" fill=\"#000000\" fill-rule=\"evenodd\" fill-opacity=\"1\" /><path clip-path=\"url(#clip400)\" d=\"M 0 0 M103.247 607.657 Q99.6354 607.657 97.8068 611.221 Q96.0012 614.763 96.0012 621.893 Q96.0012 628.999 97.8068 632.564 Q99.6354 636.106 103.247 636.106 Q106.881 636.106 108.686 632.564 Q110.515 628.999 110.515 621.893 Q110.515 614.763 108.686 611.221 Q106.881 607.657 103.247 607.657 M103.247 603.953 Q109.057 603.953 112.112 608.559 Q115.191 613.143 115.191 621.893 Q115.191 630.619 112.112 635.226 Q109.057 639.809 103.247 639.809 Q97.4364 639.809 94.3577 635.226 Q91.3022 630.619 91.3022 621.893 Q91.3022 613.143 94.3577 608.559 Q97.4364 603.953 103.247 603.953 Z\" fill=\"#000000\" fill-rule=\"evenodd\" fill-opacity=\"1\" /><path clip-path=\"url(#clip400)\" d=\"M 0 0 M71.8578 499.521 L88.1772 499.521 L88.1772 503.456 L66.2328 503.456 L66.2328 499.521 Q68.8949 496.766 73.4782 492.136 Q78.0846 487.484 79.2652 486.141 Q81.5105 483.618 82.3902 481.882 Q83.2929 480.123 83.2929 478.433 Q83.2929 475.678 81.3485 473.942 Q79.4272 472.206 76.3254 472.206 Q74.1263 472.206 71.6726 472.97 Q69.2421 473.734 66.4643 475.285 L66.4643 470.562 Q69.2884 469.428 71.7421 468.85 Q74.1958 468.271 76.2328 468.271 Q81.6031 468.271 84.7976 470.956 Q87.992 473.641 87.992 478.132 Q87.992 480.261 87.1818 482.183 Q86.3948 484.081 84.2883 486.673 Q83.7096 487.345 80.6078 490.562 Q77.5059 493.757 71.8578 499.521 Z\" fill=\"#000000\" fill-rule=\"evenodd\" fill-opacity=\"1\" /><path clip-path=\"url(#clip400)\" d=\"M 0 0 M103.247 471.974 Q99.6354 471.974 97.8068 475.539 Q96.0012 479.081 96.0012 486.211 Q96.0012 493.317 97.8068 496.882 Q99.6354 500.423 103.247 500.423 Q106.881 500.423 108.686 496.882 Q110.515 493.317 110.515 486.211 Q110.515 479.081 108.686 475.539 Q106.881 471.974 103.247 471.974 M103.247 468.271 Q109.057 468.271 112.112 472.877 Q115.191 477.461 115.191 486.211 Q115.191 494.937 112.112 499.544 Q109.057 504.127 103.247 504.127 Q97.4364 504.127 94.3577 499.544 Q91.3022 494.937 91.3022 486.211 Q91.3022 477.461 94.3577 472.877 Q97.4364 468.271 103.247 468.271 Z\" fill=\"#000000\" fill-rule=\"evenodd\" fill-opacity=\"1\" /><path clip-path=\"url(#clip400)\" d=\"M 0 0 M81.0476 349.14 Q84.404 349.857 86.279 352.126 Q88.1772 354.394 88.1772 357.727 Q88.1772 362.843 84.6587 365.644 Q81.1402 368.445 74.6587 368.445 Q72.4828 368.445 70.168 368.005 Q67.8764 367.588 65.4227 366.732 L65.4227 362.218 Q67.3671 363.352 69.6819 363.931 Q71.9967 364.51 74.5198 364.51 Q78.918 364.51 81.2096 362.774 Q83.5244 361.038 83.5244 357.727 Q83.5244 354.672 81.3717 352.959 Q79.242 351.223 75.4226 351.223 L71.3949 351.223 L71.3949 347.38 L75.6078 347.38 Q79.0569 347.38 80.8855 346.015 Q82.7142 344.626 82.7142 342.033 Q82.7142 339.371 80.8161 337.959 Q78.9411 336.524 75.4226 336.524 Q73.5013 336.524 71.3023 336.94 Q69.1032 337.357 66.4643 338.237 L66.4643 334.07 Q69.1264 333.329 71.4412 332.959 Q73.7791 332.589 75.8393 332.589 Q81.1633 332.589 84.2652 335.019 Q87.367 337.427 87.367 341.547 Q87.367 344.417 85.7235 346.408 Q84.08 348.376 81.0476 349.14 Z\" fill=\"#000000\" fill-rule=\"evenodd\" fill-opacity=\"1\" /><path clip-path=\"url(#clip400)\" d=\"M 0 0 M103.247 336.292 Q99.6354 336.292 97.8068 339.857 Q96.0012 343.399 96.0012 350.528 Q96.0012 357.635 97.8068 361.2 Q99.6354 364.741 103.247 364.741 Q106.881 364.741 108.686 361.2 Q110.515 357.635 110.515 350.528 Q110.515 343.399 108.686 339.857 Q106.881 336.292 103.247 336.292 M103.247 332.589 Q109.057 332.589 112.112 337.195 Q115.191 341.778 115.191 350.528 Q115.191 359.255 112.112 363.862 Q109.057 368.445 103.247 368.445 Q97.4364 368.445 94.3577 363.862 Q91.3022 359.255 91.3022 350.528 Q91.3022 341.778 94.3577 337.195 Q97.4364 332.589 103.247 332.589 Z\" fill=\"#000000\" fill-rule=\"evenodd\" fill-opacity=\"1\" /><path clip-path=\"url(#clip400)\" d=\"M 0 0 M78.5939 201.606 L66.7884 220.055 L78.5939 220.055 L78.5939 201.606 M77.367 197.532 L83.2466 197.532 L83.2466 220.055 L88.1772 220.055 L88.1772 223.943 L83.2466 223.943 L83.2466 232.092 L78.5939 232.092 L78.5939 223.943 L62.9921 223.943 L62.9921 219.43 L77.367 197.532 Z\" fill=\"#000000\" fill-rule=\"evenodd\" fill-opacity=\"1\" /><path clip-path=\"url(#clip400)\" d=\"M 0 0 M103.247 200.61 Q99.6354 200.61 97.8068 204.175 Q96.0012 207.717 96.0012 214.846 Q96.0012 221.953 97.8068 225.517 Q99.6354 229.059 103.247 229.059 Q106.881 229.059 108.686 225.517 Q110.515 221.953 110.515 214.846 Q110.515 207.717 108.686 204.175 Q106.881 200.61 103.247 200.61 M103.247 196.907 Q109.057 196.907 112.112 201.513 Q115.191 206.096 115.191 214.846 Q115.191 223.573 112.112 228.18 Q109.057 232.763 103.247 232.763 Q97.4364 232.763 94.3577 228.18 Q91.3022 223.573 91.3022 214.846 Q91.3022 206.096 94.3577 201.513 Q97.4364 196.907 103.247 196.907 Z\" fill=\"#000000\" fill-rule=\"evenodd\" fill-opacity=\"1\" /><path clip-path=\"url(#clip400)\" d=\"M 0 0 M67.2745 61.8494 L85.6309 61.8494 L85.6309 65.7846 L71.5569 65.7846 L71.5569 74.2567 Q72.5754 73.9095 73.5939 73.7475 Q74.6124 73.5623 75.6309 73.5623 Q81.418 73.5623 84.7976 76.7336 Q88.1772 79.9049 88.1772 85.3215 Q88.1772 90.9002 84.705 94.002 Q81.2328 97.0807 74.9134 97.0807 Q72.7374 97.0807 70.4689 96.7103 Q68.2236 96.34 65.8162 95.5992 L65.8162 90.9002 Q67.8995 92.0344 70.1217 92.59 Q72.3439 93.1455 74.8208 93.1455 Q78.8254 93.1455 81.1633 91.0391 Q83.5013 88.9326 83.5013 85.3215 Q83.5013 81.7104 81.1633 79.6039 Q78.8254 77.4975 74.8208 77.4975 Q72.9458 77.4975 71.0708 77.9141 Q69.2189 78.3308 67.2745 79.2104 L67.2745 61.8494 Z\" fill=\"#000000\" fill-rule=\"evenodd\" fill-opacity=\"1\" /><path clip-path=\"url(#clip400)\" d=\"M 0 0 M103.247 64.9281 Q99.6354 64.9281 97.8068 68.4929 Q96.0012 72.0345 96.0012 79.1641 Q96.0012 86.2706 97.8068 89.8354 Q99.6354 93.377 103.247 93.377 Q106.881 93.377 108.686 89.8354 Q110.515 86.2706 110.515 79.1641 Q110.515 72.0345 108.686 68.4929 Q106.881 64.9281 103.247 64.9281 M103.247 61.2244 Q109.057 61.2244 112.112 65.8309 Q115.191 70.4142 115.191 79.1641 Q115.191 87.8909 112.112 92.4974 Q109.057 97.0807 103.247 97.0807 Q97.4364 97.0807 94.3577 92.4974 Q91.3022 87.8909 91.3022 79.1641 Q91.3022 70.4142 94.3577 65.8309 Q97.4364 61.2244 103.247 61.2244 Z\" fill=\"#000000\" fill-rule=\"evenodd\" fill-opacity=\"1\" /><polyline clip-path=\"url(#clip402)\" style=\"stroke:#009af9; stroke-width:4; stroke-opacity:0.4; fill:none\" points=\"\n",
       "  156.216,65.5612 1123.73,648.994 \n",
       "  \"/>\n",
       "<polyline clip-path=\"url(#clip402)\" style=\"stroke:#e26f46; stroke-width:4; stroke-opacity:0.4; fill:none\" points=\"\n",
       "  156.216,676.131 1123.73,404.767 \n",
       "  \"/>\n",
       "</svg>\n"
      ]
     },
     "execution_count": 354,
     "metadata": {},
     "output_type": "execute_result"
    }
   ],
   "source": [
    "plot(cm)"
   ]
  },
  {
   "cell_type": "code",
   "execution_count": null,
   "metadata": {},
   "outputs": [],
   "source": []
  },
  {
   "cell_type": "code",
   "execution_count": null,
   "metadata": {},
   "outputs": [],
   "source": []
  },
  {
   "cell_type": "code",
   "execution_count": 93,
   "metadata": {},
   "outputs": [
    {
     "data": {
      "text/plain": [
       "3-element Array{String,1}:\n",
       " \"C\"\n",
       " \"Q\"\n",
       " \"S\""
      ]
     },
     "execution_count": 93,
     "metadata": {},
     "output_type": "execute_result"
    }
   ],
   "source": [
    "sort(unique(df.Embarked))"
   ]
  },
  {
   "cell_type": "code",
   "execution_count": 83,
   "metadata": {},
   "outputs": [
    {
     "data": {
      "text/html": [
       "<table class=\"data-frame\"><thead><tr><th></th><th>x1</th><th>x2</th><th>x3</th></tr><tr><th></th><th>Bool</th><th>Bool</th><th>Bool</th></tr></thead><tbody><p>891 rows × 3 columns</p><tr><th>1</th><td>0</td><td>0</td><td>1</td></tr><tr><th>2</th><td>1</td><td>0</td><td>0</td></tr><tr><th>3</th><td>0</td><td>0</td><td>1</td></tr><tr><th>4</th><td>0</td><td>0</td><td>1</td></tr><tr><th>5</th><td>0</td><td>0</td><td>1</td></tr><tr><th>6</th><td>0</td><td>1</td><td>0</td></tr><tr><th>7</th><td>0</td><td>0</td><td>1</td></tr><tr><th>8</th><td>0</td><td>0</td><td>1</td></tr><tr><th>9</th><td>0</td><td>0</td><td>1</td></tr><tr><th>10</th><td>1</td><td>0</td><td>0</td></tr><tr><th>11</th><td>0</td><td>0</td><td>1</td></tr><tr><th>12</th><td>0</td><td>0</td><td>1</td></tr><tr><th>13</th><td>0</td><td>0</td><td>1</td></tr><tr><th>14</th><td>0</td><td>0</td><td>1</td></tr><tr><th>15</th><td>0</td><td>0</td><td>1</td></tr><tr><th>16</th><td>0</td><td>0</td><td>1</td></tr><tr><th>17</th><td>0</td><td>1</td><td>0</td></tr><tr><th>18</th><td>0</td><td>0</td><td>1</td></tr><tr><th>19</th><td>0</td><td>0</td><td>1</td></tr><tr><th>20</th><td>1</td><td>0</td><td>0</td></tr><tr><th>21</th><td>0</td><td>0</td><td>1</td></tr><tr><th>22</th><td>0</td><td>0</td><td>1</td></tr><tr><th>23</th><td>0</td><td>1</td><td>0</td></tr><tr><th>24</th><td>0</td><td>0</td><td>1</td></tr><tr><th>25</th><td>0</td><td>0</td><td>1</td></tr><tr><th>26</th><td>0</td><td>0</td><td>1</td></tr><tr><th>27</th><td>1</td><td>0</td><td>0</td></tr><tr><th>28</th><td>0</td><td>0</td><td>1</td></tr><tr><th>29</th><td>0</td><td>1</td><td>0</td></tr><tr><th>30</th><td>0</td><td>0</td><td>1</td></tr><tr><th>&vellip;</th><td>&vellip;</td><td>&vellip;</td><td>&vellip;</td></tr></tbody></table>"
      ],
      "text/latex": [
       "\\begin{tabular}{r|ccc}\n",
       "\t& x1 & x2 & x3\\\\\n",
       "\t\\hline\n",
       "\t& Bool & Bool & Bool\\\\\n",
       "\t\\hline\n",
       "\t1 & 0 & 0 & 1 \\\\\n",
       "\t2 & 1 & 0 & 0 \\\\\n",
       "\t3 & 0 & 0 & 1 \\\\\n",
       "\t4 & 0 & 0 & 1 \\\\\n",
       "\t5 & 0 & 0 & 1 \\\\\n",
       "\t6 & 0 & 1 & 0 \\\\\n",
       "\t7 & 0 & 0 & 1 \\\\\n",
       "\t8 & 0 & 0 & 1 \\\\\n",
       "\t9 & 0 & 0 & 1 \\\\\n",
       "\t10 & 1 & 0 & 0 \\\\\n",
       "\t11 & 0 & 0 & 1 \\\\\n",
       "\t12 & 0 & 0 & 1 \\\\\n",
       "\t13 & 0 & 0 & 1 \\\\\n",
       "\t14 & 0 & 0 & 1 \\\\\n",
       "\t15 & 0 & 0 & 1 \\\\\n",
       "\t16 & 0 & 0 & 1 \\\\\n",
       "\t17 & 0 & 1 & 0 \\\\\n",
       "\t18 & 0 & 0 & 1 \\\\\n",
       "\t19 & 0 & 0 & 1 \\\\\n",
       "\t20 & 1 & 0 & 0 \\\\\n",
       "\t21 & 0 & 0 & 1 \\\\\n",
       "\t22 & 0 & 0 & 1 \\\\\n",
       "\t23 & 0 & 1 & 0 \\\\\n",
       "\t24 & 0 & 0 & 1 \\\\\n",
       "\t25 & 0 & 0 & 1 \\\\\n",
       "\t26 & 0 & 0 & 1 \\\\\n",
       "\t27 & 1 & 0 & 0 \\\\\n",
       "\t28 & 0 & 0 & 1 \\\\\n",
       "\t29 & 0 & 1 & 0 \\\\\n",
       "\t30 & 0 & 0 & 1 \\\\\n",
       "\t$\\dots$ & $\\dots$ & $\\dots$ & $\\dots$ \\\\\n",
       "\\end{tabular}\n"
      ],
      "text/plain": [
       "891×3 DataFrame\n",
       "│ Row │ x1   │ x2   │ x3   │\n",
       "│     │ \u001b[90mBool\u001b[39m │ \u001b[90mBool\u001b[39m │ \u001b[90mBool\u001b[39m │\n",
       "├─────┼──────┼──────┼──────┤\n",
       "│ 1   │ 0    │ 0    │ 1    │\n",
       "│ 2   │ 1    │ 0    │ 0    │\n",
       "│ 3   │ 0    │ 0    │ 1    │\n",
       "│ 4   │ 0    │ 0    │ 1    │\n",
       "│ 5   │ 0    │ 0    │ 1    │\n",
       "│ 6   │ 0    │ 1    │ 0    │\n",
       "│ 7   │ 0    │ 0    │ 1    │\n",
       "│ 8   │ 0    │ 0    │ 1    │\n",
       "│ 9   │ 0    │ 0    │ 1    │\n",
       "│ 10  │ 1    │ 0    │ 0    │\n",
       "⋮\n",
       "│ 881 │ 0    │ 0    │ 1    │\n",
       "│ 882 │ 0    │ 0    │ 1    │\n",
       "│ 883 │ 0    │ 0    │ 1    │\n",
       "│ 884 │ 0    │ 0    │ 1    │\n",
       "│ 885 │ 0    │ 0    │ 1    │\n",
       "│ 886 │ 0    │ 1    │ 0    │\n",
       "│ 887 │ 0    │ 0    │ 1    │\n",
       "│ 888 │ 0    │ 0    │ 1    │\n",
       "│ 889 │ 0    │ 0    │ 1    │\n",
       "│ 890 │ 1    │ 0    │ 0    │\n",
       "│ 891 │ 0    │ 1    │ 0    │"
      ]
     },
     "execution_count": 83,
     "metadata": {},
     "output_type": "execute_result"
    }
   ],
   "source": [
    "DataFrame(transpose(indicatormat(df.Embarked)))"
   ]
  },
  {
   "cell_type": "code",
   "execution_count": 84,
   "metadata": {},
   "outputs": [
    {
     "data": {
      "text/plain": [
       "5×3 BitArray{2}:\n",
       " 1  0  0\n",
       " 0  1  0\n",
       " 0  0  1\n",
       " 0  1  0\n",
       " 1  0  0"
      ]
     },
     "execution_count": 84,
     "metadata": {},
     "output_type": "execute_result"
    }
   ],
   "source": [
    "zz = [1;2;3;2;1]; zz .== sort(unique(zz))'"
   ]
  },
  {
   "cell_type": "code",
   "execution_count": 85,
   "metadata": {},
   "outputs": [],
   "source": [
    "zz = [1;2;3;2;1];"
   ]
  },
  {
   "cell_type": "code",
   "execution_count": 86,
   "metadata": {},
   "outputs": [
    {
     "data": {
      "text/plain": [
       "5-element Array{Int64,1}:\n",
       " 1\n",
       " 2\n",
       " 3\n",
       " 2\n",
       " 1"
      ]
     },
     "execution_count": 86,
     "metadata": {},
     "output_type": "execute_result"
    }
   ],
   "source": [
    "zz"
   ]
  },
  {
   "cell_type": "code",
   "execution_count": 89,
   "metadata": {},
   "outputs": [
    {
     "data": {
      "text/plain": [
       "1×3 LinearAlgebra.Adjoint{Int64,Array{Int64,1}}:\n",
       " 1  2  3"
      ]
     },
     "execution_count": 89,
     "metadata": {},
     "output_type": "execute_result"
    }
   ],
   "source": [
    "sort(unique(zz))'"
   ]
  },
  {
   "cell_type": "code",
   "execution_count": null,
   "metadata": {},
   "outputs": [],
   "source": []
  }
 ],
 "metadata": {
  "kernelspec": {
   "display_name": "Julia 1.4.1",
   "language": "julia",
   "name": "julia-1.4"
  },
  "language_info": {
   "file_extension": ".jl",
   "mimetype": "application/julia",
   "name": "julia",
   "version": "1.4.1"
  }
 },
 "nbformat": 4,
 "nbformat_minor": 2
}
