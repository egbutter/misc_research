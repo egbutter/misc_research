{
 "cells": [
  {
   "cell_type": "code",
   "execution_count": 1,
   "metadata": {},
   "outputs": [],
   "source": [
    "using Pkg"
   ]
  },
  {
   "cell_type": "code",
   "execution_count": 2,
   "metadata": {},
   "outputs": [
    {
     "name": "stdout",
     "output_type": "stream",
     "text": [
      "\u001b[32m\u001b[1m  Updating\u001b[22m\u001b[39m registry at `/opt/julia/registries/General`\n",
      "\u001b[32m\u001b[1m  Updating\u001b[22m\u001b[39m git-repo `https://github.com/JuliaRegistries/General.git`\n",
      "\u001b[2K\u001b[?25h[1mFetching:\u001b[22m\u001b[39m [========================================>]  100.0 %.0 %53.6 %\u001b[32m\u001b[1m Resolving\u001b[22m\u001b[39m package versions...\n",
      "\u001b[32m\u001b[1m Installed\u001b[22m\u001b[39m SimpleTraits ── v0.9.1\n",
      "\u001b[32m\u001b[1m Installed\u001b[22m\u001b[39m CUDAapi ─────── v2.1.0\n",
      "\u001b[32m\u001b[1m Installed\u001b[22m\u001b[39m Inflate ─────── v0.1.1\n",
      "\u001b[32m\u001b[1m Installed\u001b[22m\u001b[39m DiffRules ───── v1.0.0\n",
      "\u001b[32m\u001b[1m Installed\u001b[22m\u001b[39m ArnoldiMethod ─ v0.0.4\n",
      "\u001b[32m\u001b[1m Installed\u001b[22m\u001b[39m Zygote ──────── v0.4.3\n",
      "\u001b[32m\u001b[1m Installed\u001b[22m\u001b[39m LightGraphs ─── v1.3.0\n",
      "\u001b[32m\u001b[1m  Updating\u001b[22m\u001b[39m `/opt/julia/environments/v1.2/Project.toml`\n",
      " \u001b[90m [093fc24a]\u001b[39m\u001b[92m + LightGraphs v1.3.0\u001b[39m\n",
      "\u001b[32m\u001b[1m  Updating\u001b[22m\u001b[39m `/opt/julia/environments/v1.2/Manifest.toml`\n",
      " \u001b[90m [ec485272]\u001b[39m\u001b[92m + ArnoldiMethod v0.0.4\u001b[39m\n",
      " \u001b[90m [3895d2a7]\u001b[39m\u001b[93m ↑ CUDAapi v2.0.0 ⇒ v2.1.0\u001b[39m\n",
      " \u001b[90m [b552c78f]\u001b[39m\u001b[93m ↑ DiffRules v0.1.0 ⇒ v1.0.0\u001b[39m\n",
      " \u001b[90m [d25df0c9]\u001b[39m\u001b[92m + Inflate v0.1.1\u001b[39m\n",
      " \u001b[90m [093fc24a]\u001b[39m\u001b[92m + LightGraphs v1.3.0\u001b[39m\n",
      " \u001b[90m [699a6c99]\u001b[39m\u001b[92m + SimpleTraits v0.9.1\u001b[39m\n",
      " \u001b[90m [e88e6eb3]\u001b[39m\u001b[93m ↑ Zygote v0.4.1 ⇒ v0.4.3\u001b[39m\n"
     ]
    }
   ],
   "source": [
    "Pkg.add(\"LightGraphs\")"
   ]
  },
  {
   "cell_type": "code",
   "execution_count": 3,
   "metadata": {},
   "outputs": [
    {
     "name": "stdout",
     "output_type": "stream",
     "text": [
      "\u001b[32m\u001b[1m Resolving\u001b[22m\u001b[39m package versions...\n",
      "\u001b[32m\u001b[1m Installed\u001b[22m\u001b[39m NetworkLayout ─ v0.2.0\n",
      "\u001b[32m\u001b[1m  Updating\u001b[22m\u001b[39m `/opt/julia/environments/v1.2/Project.toml`\n",
      " \u001b[90m [46757867]\u001b[39m\u001b[92m + NetworkLayout v0.2.0\u001b[39m\n",
      "\u001b[32m\u001b[1m  Updating\u001b[22m\u001b[39m `/opt/julia/environments/v1.2/Manifest.toml`\n",
      " \u001b[90m [46757867]\u001b[39m\u001b[92m + NetworkLayout v0.2.0\u001b[39m\n"
     ]
    }
   ],
   "source": [
    "Pkg.add(\"NetworkLayout\")"
   ]
  },
  {
   "cell_type": "code",
   "execution_count": 22,
   "metadata": {},
   "outputs": [
    {
     "name": "stdout",
     "output_type": "stream",
     "text": [
      "\u001b[32m\u001b[1m Resolving\u001b[22m\u001b[39m package versions...\n",
      "\u001b[32m\u001b[1m Installed\u001b[22m\u001b[39m Compose ─── v0.7.3\n",
      "\u001b[32m\u001b[1m Installed\u001b[22m\u001b[39m GraphPlot ─ v0.3.1\n",
      "\u001b[32m\u001b[1m  Updating\u001b[22m\u001b[39m `/opt/julia/environments/v1.2/Project.toml`\n",
      " \u001b[90m [a2cc645c]\u001b[39m\u001b[92m + GraphPlot v0.3.1\u001b[39m\n",
      "\u001b[32m\u001b[1m  Updating\u001b[22m\u001b[39m `/opt/julia/environments/v1.2/Manifest.toml`\n",
      " \u001b[90m [a81c6b42]\u001b[39m\u001b[92m + Compose v0.7.3\u001b[39m\n",
      " \u001b[90m [a2cc645c]\u001b[39m\u001b[92m + GraphPlot v0.3.1\u001b[39m\n"
     ]
    }
   ],
   "source": [
    "Pkg.add(\"GraphPlot\")"
   ]
  },
  {
   "cell_type": "code",
   "execution_count": 27,
   "metadata": {},
   "outputs": [],
   "source": [
    "using GraphPlot\n",
    "using LightGraphs\n",
    "using NetworkLayout:SFDP"
   ]
  },
  {
   "cell_type": "code",
   "execution_count": 28,
   "metadata": {},
   "outputs": [],
   "source": [
    "g = wheel_graph(100)\n",
    "a = adjacency_matrix(g) # generates a sparse adjacency matrix\n",
    "network = SFDP.layout(a, SFDP.Point2f0,tol=0.1,C=1,K=1,iterations=100); # generate 2D layout"
   ]
  },
  {
   "cell_type": "code",
   "execution_count": 29,
   "metadata": {},
   "outputs": [
    {
     "data": {
      "text/plain": [
       "100-element Array{GeometryTypes.Point{2,Float32},1}:\n",
       " [-0.43548554, 0.14765806]\n",
       " [1.2296945, 1.7062477]   \n",
       " [2.1912417, 0.6951312]   \n",
       " [3.0114853, 0.021430397] \n",
       " [3.5530148, -0.99133754] \n",
       " [3.376857, -1.6925583]   \n",
       " [2.8231547, -2.1399338]  \n",
       " [1.3453618, -2.6026156]  \n",
       " [-0.20257454, -2.5968268]\n",
       " [-1.6456802, -1.7098107] \n",
       " [-2.5244284, -1.1493495] \n",
       " [-2.8456357, -0.6717401] \n",
       " [-2.6911018, 0.014092861]\n",
       " ⋮                        \n",
       " [-0.9048457, 4.289484]   \n",
       " [-1.3385223, 4.196994]   \n",
       " [-1.7812834, 4.056197]   \n",
       " [-2.2366362, 3.8774278]  \n",
       " [-2.7612793, 3.652895]   \n",
       " [-3.173953, 3.3482828]   \n",
       " [-3.4105868, 2.9304862]  \n",
       " [-3.0652685, 2.6389983]  \n",
       " [-2.528042, 2.628106]    \n",
       " [-1.9271559, 2.8786712]  \n",
       " [-1.2189499, 2.876444]   \n",
       " [0.005069375, 2.473912]  "
      ]
     },
     "execution_count": 29,
     "metadata": {},
     "output_type": "execute_result"
    }
   ],
   "source": [
    "network"
   ]
  },
  {
   "cell_type": "code",
   "execution_count": null,
   "metadata": {},
   "outputs": [],
   "source": []
  }
 ],
 "metadata": {
  "kernelspec": {
   "display_name": "Julia 1.2.0",
   "language": "julia",
   "name": "julia-1.2"
  },
  "language_info": {
   "file_extension": ".jl",
   "mimetype": "application/julia",
   "name": "julia",
   "version": "1.2.0"
  }
 },
 "nbformat": 4,
 "nbformat_minor": 4
}
