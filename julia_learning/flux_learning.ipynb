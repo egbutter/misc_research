{
 "cells": [
  {
   "cell_type": "markdown",
   "metadata": {},
   "source": [
    "## Installing Packages\n",
    "\n",
    "\\\\:turtle: TAB gives you a turtle!\n"
   ]
  },
  {
   "cell_type": "code",
   "execution_count": 1,
   "metadata": {},
   "outputs": [],
   "source": [
    "#  ] add ..."
   ]
  },
  {
   "cell_type": "markdown",
   "metadata": {},
   "source": [
    "## Inspecting objects"
   ]
  },
  {
   "cell_type": "code",
   "execution_count": 2,
   "metadata": {},
   "outputs": [
    {
     "data": {
      "text/plain": [
       "5"
      ]
     },
     "execution_count": 2,
     "metadata": {},
     "output_type": "execute_result"
    }
   ],
   "source": [
    "x = 5"
   ]
  },
  {
   "cell_type": "code",
   "execution_count": 3,
   "metadata": {},
   "outputs": [
    {
     "data": {
      "text/plain": [
       "Int64"
      ]
     },
     "execution_count": 3,
     "metadata": {},
     "output_type": "execute_result"
    }
   ],
   "source": [
    "typeof(x)"
   ]
  },
  {
   "cell_type": "code",
   "execution_count": 4,
   "metadata": {},
   "outputs": [
    {
     "data": {
      "text/plain": [
       "3×2 Array{Int64,2}:\n",
       " 1  2\n",
       " 3  4\n",
       " 5  6"
      ]
     },
     "execution_count": 4,
     "metadata": {},
     "output_type": "execute_result"
    }
   ],
   "source": [
    "a = [1 2; 3 4; 5 6]"
   ]
  },
  {
   "cell_type": "code",
   "execution_count": 5,
   "metadata": {},
   "outputs": [
    {
     "data": {
      "text/plain": [
       "(3, 2)"
      ]
     },
     "execution_count": 5,
     "metadata": {},
     "output_type": "execute_result"
    }
   ],
   "source": [
    "size(a)"
   ]
  },
  {
   "cell_type": "code",
   "execution_count": 6,
   "metadata": {},
   "outputs": [
    {
     "data": {
      "text/plain": [
       "6"
      ]
     },
     "execution_count": 6,
     "metadata": {},
     "output_type": "execute_result"
    }
   ],
   "source": [
    "length(a)"
   ]
  },
  {
   "cell_type": "markdown",
   "metadata": {},
   "source": [
    "## Slicing"
   ]
  },
  {
   "cell_type": "code",
   "execution_count": 7,
   "metadata": {},
   "outputs": [
    {
     "data": {
      "text/plain": [
       "2-element Array{Int64,1}:\n",
       " 1\n",
       " 3"
      ]
     },
     "execution_count": 7,
     "metadata": {},
     "output_type": "execute_result"
    }
   ],
   "source": [
    "a[1:2 ,1]"
   ]
  },
  {
   "cell_type": "code",
   "execution_count": 8,
   "metadata": {},
   "outputs": [
    {
     "data": {
      "text/plain": [
       "6-element Array{Int64,1}:\n",
       " 1\n",
       " 3\n",
       " 5\n",
       " 2\n",
       " 4\n",
       " 6"
      ]
     },
     "execution_count": 8,
     "metadata": {},
     "output_type": "execute_result"
    }
   ],
   "source": [
    "a[1:end]"
   ]
  },
  {
   "cell_type": "code",
   "execution_count": 9,
   "metadata": {},
   "outputs": [
    {
     "data": {
      "text/plain": [
       "\"World\""
      ]
     },
     "execution_count": 9,
     "metadata": {},
     "output_type": "execute_result"
    }
   ],
   "source": [
    "greet = \"Hello\"\n",
    "whom = \"World\""
   ]
  },
  {
   "cell_type": "code",
   "execution_count": 10,
   "metadata": {},
   "outputs": [
    {
     "data": {
      "text/plain": [
       "\"Hello, World, 2!\""
      ]
     },
     "execution_count": 10,
     "metadata": {},
     "output_type": "execute_result"
    }
   ],
   "source": [
    "\"$greet, $whom, $(1+1)!\""
   ]
  },
  {
   "cell_type": "markdown",
   "metadata": {},
   "source": [
    "## parse and eval"
   ]
  },
  {
   "cell_type": "code",
   "execution_count": 11,
   "metadata": {},
   "outputs": [
    {
     "data": {
      "text/plain": [
       ":(1 + 2)"
      ]
     },
     "execution_count": 11,
     "metadata": {},
     "output_type": "execute_result"
    }
   ],
   "source": [
    "Meta.parse(\"1+2\")"
   ]
  },
  {
   "cell_type": "markdown",
   "metadata": {},
   "source": [
    "# is in, \\in, \\notin"
   ]
  },
  {
   "cell_type": "code",
   "execution_count": 12,
   "metadata": {},
   "outputs": [
    {
     "data": {
      "text/plain": [
       "true"
      ]
     },
     "execution_count": 12,
     "metadata": {},
     "output_type": "execute_result"
    }
   ],
   "source": [
    "'a' ∈ \"banana\""
   ]
  },
  {
   "cell_type": "code",
   "execution_count": 13,
   "metadata": {},
   "outputs": [
    {
     "data": {
      "text/plain": [
       "true"
      ]
     },
     "execution_count": 13,
     "metadata": {},
     "output_type": "execute_result"
    }
   ],
   "source": [
    "'e' ∉ \"banana\""
   ]
  },
  {
   "cell_type": "code",
   "execution_count": 14,
   "metadata": {},
   "outputs": [
    {
     "name": "stdout",
     "output_type": "stream",
     "text": [
      "a = [1 2; 3 4; 5 6]\n"
     ]
    },
    {
     "data": {
      "text/plain": [
       "3×2 Array{Int64,2}:\n",
       " 1  2\n",
       " 3  4\n",
       " 5  6"
      ]
     },
     "execution_count": 14,
     "metadata": {},
     "output_type": "execute_result"
    }
   ],
   "source": [
    "@show a  # useful to print stuff debuggin"
   ]
  },
  {
   "cell_type": "markdown",
   "metadata": {},
   "source": [
    "## Object equivalence\n",
    "\n",
    "\\equiv TAB or ==="
   ]
  },
  {
   "cell_type": "code",
   "execution_count": 15,
   "metadata": {},
   "outputs": [
    {
     "data": {
      "text/plain": [
       "\"banana\""
      ]
     },
     "execution_count": 15,
     "metadata": {},
     "output_type": "execute_result"
    }
   ],
   "source": [
    "a = \"banana\"\n",
    "b = \"banana\""
   ]
  },
  {
   "cell_type": "code",
   "execution_count": 16,
   "metadata": {},
   "outputs": [
    {
     "data": {
      "text/plain": [
       "true"
      ]
     },
     "execution_count": 16,
     "metadata": {},
     "output_type": "execute_result"
    }
   ],
   "source": [
    "a === b"
   ]
  },
  {
   "cell_type": "code",
   "execution_count": 17,
   "metadata": {},
   "outputs": [
    {
     "data": {
      "text/plain": [
       "(1, 1)"
      ]
     },
     "execution_count": 17,
     "metadata": {},
     "output_type": "execute_result"
    }
   ],
   "source": [
    "x, y = (1, 1)"
   ]
  },
  {
   "cell_type": "code",
   "execution_count": 18,
   "metadata": {},
   "outputs": [
    {
     "data": {
      "text/plain": [
       "true"
      ]
     },
     "execution_count": 18,
     "metadata": {},
     "output_type": "execute_result"
    }
   ],
   "source": [
    "x === y"
   ]
  },
  {
   "cell_type": "code",
   "execution_count": 19,
   "metadata": {},
   "outputs": [
    {
     "name": "stdout",
     "output_type": "stream",
     "text": [
      "x = 1\n",
      "y = 1\n"
     ]
    },
    {
     "data": {
      "text/plain": [
       "1"
      ]
     },
     "execution_count": 19,
     "metadata": {},
     "output_type": "execute_result"
    }
   ],
   "source": [
    "@show x y"
   ]
  },
  {
   "cell_type": "code",
   "execution_count": 20,
   "metadata": {},
   "outputs": [
    {
     "data": {
      "text/plain": [
       "fibonacci"
      ]
     },
     "execution_count": 20,
     "metadata": {},
     "output_type": "execute_result"
    }
   ],
   "source": [
    "known = Dict(0=>0, 1=>1)\n",
    "\"\"\"\n",
    "This is a doc string. It shows up when you do `?fibonacci`\n",
    "\"\"\"\n",
    "function fibonacci(n)\n",
    "    if n ∈ keys(known)\n",
    "        return known[n]\n",
    "    end\n",
    "    res = fibonacci(n-1) + fibonacci(n-2)\n",
    "    known[n] = res\n",
    "    res\n",
    "end"
   ]
  },
  {
   "cell_type": "code",
   "execution_count": 21,
   "metadata": {},
   "outputs": [
    {
     "name": "stdout",
     "output_type": "stream",
     "text": [
      "search: \u001b[0m\u001b[1mf\u001b[22m\u001b[0m\u001b[1mi\u001b[22m\u001b[0m\u001b[1mb\u001b[22m\u001b[0m\u001b[1mo\u001b[22m\u001b[0m\u001b[1mn\u001b[22m\u001b[0m\u001b[1ma\u001b[22m\u001b[0m\u001b[1mc\u001b[22m\u001b[0m\u001b[1mc\u001b[22m\u001b[0m\u001b[1mi\u001b[22m\n",
      "\n"
     ]
    },
    {
     "data": {
      "text/latex": [
       "This is a doc string. It shows up when you do \\texttt{?fibonacci}\n",
       "\n"
      ],
      "text/markdown": [
       "This is a doc string. It shows up when you do `?fibonacci`\n"
      ],
      "text/plain": [
       "  This is a doc string. It shows up when you do \u001b[36m?fibonacci\u001b[39m"
      ]
     },
     "execution_count": 21,
     "metadata": {},
     "output_type": "execute_result"
    }
   ],
   "source": [
    "?fibonacci"
   ]
  },
  {
   "cell_type": "code",
   "execution_count": 22,
   "metadata": {},
   "outputs": [
    {
     "data": {
      "text/plain": [
       "2-element Array{Any,1}:\n",
       "  'a'\n",
       " 1   "
      ]
     },
     "execution_count": 22,
     "metadata": {},
     "output_type": "execute_result"
    }
   ],
   "source": [
    "['a', 1]"
   ]
  },
  {
   "cell_type": "code",
   "execution_count": 23,
   "metadata": {},
   "outputs": [
    {
     "name": "stdout",
     "output_type": "stream",
     "text": [
      "('a', 1)\n",
      "('b', 2)\n",
      "('c', 3)\n"
     ]
    }
   ],
   "source": [
    "s = \"abc\"\n",
    "t = [1, 2, 3]\n",
    "for pair in zip(s, t)\n",
    "    println(pair)\n",
    "end"
   ]
  },
  {
   "cell_type": "code",
   "execution_count": 24,
   "metadata": {},
   "outputs": [
    {
     "data": {
      "text/plain": [
       "3-element Array{Tuple{Char,Char},1}:\n",
       " ('A', 'E')\n",
       " ('n', 'l')\n",
       " ('n', 'f')"
      ]
     },
     "execution_count": 24,
     "metadata": {},
     "output_type": "execute_result"
    }
   ],
   "source": [
    "collect(zip(\"Anne\", \"Elf\"))"
   ]
  },
  {
   "cell_type": "code",
   "execution_count": 25,
   "metadata": {},
   "outputs": [
    {
     "name": "stdout",
     "output_type": "stream",
     "text": [
      "1 a\n",
      "2 b\n",
      "3 c\n"
     ]
    }
   ],
   "source": [
    "for (index, element) in enumerate(\"abc\")\n",
    "    println(index, \" \", element)\n",
    "end"
   ]
  },
  {
   "cell_type": "markdown",
   "metadata": {},
   "source": [
    "## structs\n",
    "\n",
    "structs are immutable by default"
   ]
  },
  {
   "cell_type": "code",
   "execution_count": 26,
   "metadata": {},
   "outputs": [],
   "source": [
    "struct Point\n",
    "    x\n",
    "    y\n",
    "end"
   ]
  },
  {
   "cell_type": "code",
   "execution_count": 27,
   "metadata": {},
   "outputs": [],
   "source": [
    "p = Point(3.0, 4.0);"
   ]
  },
  {
   "cell_type": "code",
   "execution_count": 28,
   "metadata": {},
   "outputs": [
    {
     "data": {
      "text/plain": [
       "3.0"
      ]
     },
     "execution_count": 28,
     "metadata": {},
     "output_type": "execute_result"
    }
   ],
   "source": [
    "p.x"
   ]
  },
  {
   "cell_type": "code",
   "execution_count": 29,
   "metadata": {},
   "outputs": [
    {
     "name": "stdout",
     "output_type": "stream",
     "text": [
      "box = Rectangle(100.0, 200.0, MPoint(0.0, 0.0))\n",
      "box = Rectangle(100.0, 200.0, MPoint(100, 0.0))\n"
     ]
    },
    {
     "data": {
      "text/plain": [
       "Rectangle(100.0, 200.0, MPoint(100, 0.0))"
      ]
     },
     "execution_count": 29,
     "metadata": {},
     "output_type": "execute_result"
    }
   ],
   "source": [
    "mutable struct MPoint\n",
    "    x\n",
    "    y\n",
    "end\n",
    "\n",
    "struct Rectangle\n",
    "    width\n",
    "    height\n",
    "    corner\n",
    "end\n",
    "\n",
    "origin = MPoint(0., 0.)\n",
    "\n",
    "box = Rectangle(100., 200., origin)\n",
    "@show box\n",
    "\n",
    "box.corner.x = 100\n",
    "@show box"
   ]
  },
  {
   "cell_type": "code",
   "execution_count": 30,
   "metadata": {},
   "outputs": [
    {
     "data": {
      "text/plain": [
       "true"
      ]
     },
     "execution_count": 30,
     "metadata": {},
     "output_type": "execute_result"
    }
   ],
   "source": [
    "fieldnames(Rectangle)\n",
    "isdefined(p, :x)"
   ]
  },
  {
   "cell_type": "code",
   "execution_count": 31,
   "metadata": {},
   "outputs": [],
   "source": [
    "struct MyTime\n",
    "    hour :: Int64\n",
    "    minute :: Int64\n",
    "    second :: Int64\n",
    "    function MyTime(hour::Int64=0, minute::Int64=0, second::Int64=0)\n",
    "        @assert(0 ≤ minute < 60, \"Minute is not between 0 and 60.\")\n",
    "        @assert(0 ≤ second < 60, \"Second is not between 0 and 60.\")\n",
    "        new(hour, minute, second)\n",
    "    end\n",
    "end"
   ]
  },
  {
   "cell_type": "code",
   "execution_count": null,
   "metadata": {},
   "outputs": [],
   "source": []
  },
  {
   "cell_type": "code",
   "execution_count": 32,
   "metadata": {},
   "outputs": [],
   "source": [
    "# Not a complete example, but showing\n",
    "# inheritance, overloading Base functiomn with your type,\n",
    "# operator overloading\n",
    "\n",
    "import Base.<\n",
    "\n",
    "const suit_names = [\"♣\", \"♦\", \"♥\", \"♠\"]\n",
    "const rank_names = [\"A\", \"2\", \"3\", \"4\", \"5\", \"6\", \"7\", \"8\", \"9\", \"10\", \"J\", \"Q\", \"K\"]\n",
    "\n",
    "\n",
    "struct Card\n",
    "    suit :: Int64\n",
    "    rank :: Int64\n",
    "    function Card(suit::Int64, rank::Int64)\n",
    "        @assert(1 ≤ suit ≤ 4, \"suit is not between 1 and 4\")\n",
    "        @assert(1 ≤ rank ≤ 13, \"rank is not between 1 and 13\")\n",
    "        new(suit, rank)\n",
    "    end\n",
    "end\n",
    "\n",
    "function <(c1::Card, c2::Card)\n",
    "    (c1.suit, c1.rank) < (c2.suit, c2.rank)\n",
    "end\n",
    "\n",
    "\n",
    "abstract type CardSet end   # Parent type\n",
    "\n",
    "struct Deck <: CardSet      # The \"<:\" means CardSet is the parent\n",
    "    cards :: Array{Card, 1}\n",
    "end\n",
    "\n",
    "struct Hand <: CardSet\n",
    "    cards :: Array{Card, 1}\n",
    "    label :: String\n",
    "end\n",
    "\n",
    "function Base.show(io::IO, cs::CardSet)    # Now we control multiple dispatch with the parent\n",
    "    for card in cs.cards\n",
    "        print(io, card, \" \")\n",
    "    end\n",
    "end\n"
   ]
  },
  {
   "cell_type": "markdown",
   "metadata": {},
   "source": [
    "## functors\n",
    "\n",
    "Any arbitrary Julia object can be made “callable”. Such “callable” objects are sometimes called functors."
   ]
  },
  {
   "cell_type": "code",
   "execution_count": 33,
   "metadata": {},
   "outputs": [],
   "source": [
    "struct Polynomial{R}\n",
    "    coeff::Vector{R}\n",
    "end\n",
    "\n",
    "function (p::Polynomial)(x)\n",
    "    val = p.coeff[end]\n",
    "    for coeff in p.coeff[end-1:-1:1]\n",
    "        val = val * x + coeff\n",
    "    end\n",
    "    val\n",
    "end"
   ]
  },
  {
   "cell_type": "code",
   "execution_count": 34,
   "metadata": {},
   "outputs": [
    {
     "data": {
      "text/plain": [
       "\"/home/jovyan\""
      ]
     },
     "execution_count": 34,
     "metadata": {},
     "output_type": "execute_result"
    }
   ],
   "source": [
    "ENV[\"HOME\"]"
   ]
  },
  {
   "cell_type": "code",
   "execution_count": 35,
   "metadata": {},
   "outputs": [
    {
     "data": {
      "text/plain": [
       "\"all\""
      ]
     },
     "execution_count": 35,
     "metadata": {},
     "output_type": "execute_result"
    }
   ],
   "source": [
    "ENV[\"JULIA_DEBUG\"]=\"all\""
   ]
  },
  {
   "cell_type": "code",
   "execution_count": 36,
   "metadata": {},
   "outputs": [
    {
     "name": "stderr",
     "output_type": "stream",
     "text": [
      "┌ Warning: This is a warning\n",
      "└ @ Main In[36]:1\n"
     ]
    }
   ],
   "source": [
    "@warn \"This is a warning\""
   ]
  },
  {
   "cell_type": "code",
   "execution_count": 37,
   "metadata": {},
   "outputs": [
    {
     "data": {
      "text/plain": [
       "\"error\""
      ]
     },
     "execution_count": 37,
     "metadata": {},
     "output_type": "execute_result"
    }
   ],
   "source": [
    "ENV[\"JULIA_DEBUG\"]=\"error\""
   ]
  },
  {
   "cell_type": "code",
   "execution_count": 38,
   "metadata": {},
   "outputs": [
    {
     "name": "stderr",
     "output_type": "stream",
     "text": [
      "┌ Warning: This is a warning\n",
      "└ @ Main In[38]:1\n"
     ]
    }
   ],
   "source": [
    "@warn \"This is a warning\""
   ]
  },
  {
   "cell_type": "code",
   "execution_count": 39,
   "metadata": {},
   "outputs": [],
   "source": [
    "struct MyStruct{T<:Real}\n",
    "    x::T\n",
    "    y::T\n",
    "end"
   ]
  },
  {
   "cell_type": "code",
   "execution_count": 40,
   "metadata": {},
   "outputs": [],
   "source": [
    "struct AlsoMyStruct\n",
    "    x::Real\n",
    "    y::Real\n",
    "end"
   ]
  },
  {
   "cell_type": "code",
   "execution_count": 41,
   "metadata": {},
   "outputs": [],
   "source": [
    "using InteractiveUtils"
   ]
  },
  {
   "cell_type": "code",
   "execution_count": 42,
   "metadata": {},
   "outputs": [
    {
     "data": {
      "text/plain": [
       "CodeInfo(\n",
       "\u001b[90m1 ─\u001b[39m       Core.NewvarNode(:(res))\n",
       "\u001b[90m│  \u001b[39m %2  = Main.keys(Main.known)\n",
       "\u001b[90m│  \u001b[39m %3  = n ∈ %2\n",
       "\u001b[90m└──\u001b[39m       goto #3 if not %3\n",
       "\u001b[90m2 ─\u001b[39m %5  = Base.getindex(Main.known, n)\n",
       "\u001b[90m└──\u001b[39m       return %5\n",
       "\u001b[90m3 ─\u001b[39m %7  = n - 1\n",
       "\u001b[90m│  \u001b[39m %8  = Main.fibonacci(%7)\n",
       "\u001b[90m│  \u001b[39m %9  = n - 2\n",
       "\u001b[90m│  \u001b[39m %10 = Main.fibonacci(%9)\n",
       "\u001b[90m│  \u001b[39m       res = %8 + %10\n",
       "\u001b[90m│  \u001b[39m       Base.setindex!(Main.known, res, n)\n",
       "\u001b[90m└──\u001b[39m       return res\n",
       ")"
      ]
     },
     "execution_count": 42,
     "metadata": {},
     "output_type": "execute_result"
    }
   ],
   "source": [
    "@code_lowered fibonacci(4)"
   ]
  },
  {
   "cell_type": "code",
   "execution_count": 43,
   "metadata": {},
   "outputs": [
    {
     "data": {
      "text/plain": [
       "CodeInfo(\n",
       "\u001b[90m1 ─\u001b[39m %1  = Main.keys(Main.known)\u001b[36m::Any\u001b[39m\n",
       "\u001b[90m│  \u001b[39m %2  = (n ∈ %1)\u001b[36m::Any\u001b[39m\n",
       "\u001b[90m└──\u001b[39m       goto #3 if not %2\n",
       "\u001b[90m2 ─\u001b[39m %4  = Base.getindex(Main.known, n)\u001b[36m::Any\u001b[39m\n",
       "\u001b[90m└──\u001b[39m       return %4\n",
       "\u001b[90m3 ─\u001b[39m %6  = Base.sub_int(n, 1)\u001b[36m::Int64\u001b[39m\n",
       "\u001b[90m│  \u001b[39m %7  = invoke Main.fibonacci(%6::Int64)\u001b[36m::Any\u001b[39m\n",
       "\u001b[90m│  \u001b[39m %8  = Base.sub_int(n, 2)\u001b[36m::Int64\u001b[39m\n",
       "\u001b[90m│  \u001b[39m %9  = invoke Main.fibonacci(%8::Int64)\u001b[36m::Any\u001b[39m\n",
       "\u001b[90m│  \u001b[39m %10 = (%7 + %9)\u001b[36m::Any\u001b[39m\n",
       "\u001b[90m│  \u001b[39m       Base.setindex!(Main.known, %10, n)\u001b[90m::Any\u001b[39m\n",
       "\u001b[90m└──\u001b[39m       return %10\n",
       ") => Any"
      ]
     },
     "execution_count": 43,
     "metadata": {},
     "output_type": "execute_result"
    }
   ],
   "source": [
    "@code_typed fibonacci(4)"
   ]
  },
  {
   "cell_type": "code",
   "execution_count": 44,
   "metadata": {},
   "outputs": [
    {
     "name": "stdout",
     "output_type": "stream",
     "text": [
      "\n",
      ";  @ In[20]:6 within `fibonacci'\n",
      "define nonnull %jl_value_t addrspace(10)* @julia_fibonacci_17116.1(i64) {\n",
      "top:\n",
      "  %1 = alloca %jl_value_t addrspace(10)*, i32 4\n",
      "  %gcframe = alloca %jl_value_t addrspace(10)*, i32 5\n",
      "  %2 = bitcast %jl_value_t addrspace(10)** %gcframe to i8*\n",
      "  call void @llvm.memset.p0i8.i32(i8* %2, i8 0, i32 40, i32 0, i1 false)\n",
      "  %thread_ptr = call i8* asm \"movq %fs:0, $0\", \"=r\"()\n",
      "  %ptls_i8 = getelementptr i8, i8* %thread_ptr, i64 -15560\n",
      "  %ptls = bitcast i8* %ptls_i8 to %jl_value_t***\n",
      "  %3 = getelementptr %jl_value_t addrspace(10)*, %jl_value_t addrspace(10)** %gcframe, i32 0\n",
      "  %4 = bitcast %jl_value_t addrspace(10)** %3 to i64*\n",
      "  store i64 6, i64* %4\n",
      "  %5 = getelementptr %jl_value_t**, %jl_value_t*** %ptls, i32 0\n",
      "  %6 = getelementptr %jl_value_t addrspace(10)*, %jl_value_t addrspace(10)** %gcframe, i32 1\n",
      "  %7 = bitcast %jl_value_t addrspace(10)** %6 to %jl_value_t***\n",
      "  %8 = load %jl_value_t**, %jl_value_t*** %5\n",
      "  store %jl_value_t** %8, %jl_value_t*** %7\n",
      "  %9 = bitcast %jl_value_t*** %5 to %jl_value_t addrspace(10)***\n",
      "  store %jl_value_t addrspace(10)** %gcframe, %jl_value_t addrspace(10)*** %9\n",
      "  %10 = load %jl_value_t addrspace(10)*, %jl_value_t addrspace(10)** inttoptr (i64 140179567608552 to %jl_value_t addrspace(10)**), align 8\n",
      "  %11 = getelementptr %jl_value_t addrspace(10)*, %jl_value_t addrspace(10)** %gcframe, i32 2\n",
      "  store %jl_value_t addrspace(10)* %10, %jl_value_t addrspace(10)** %11\n",
      "  %12 = getelementptr %jl_value_t addrspace(10)*, %jl_value_t addrspace(10)** %1, i32 0\n",
      "  store %jl_value_t addrspace(10)* addrspacecast (%jl_value_t* inttoptr (i64 140179643322656 to %jl_value_t*) to %jl_value_t addrspace(10)*), %jl_value_t addrspace(10)** %12\n",
      "  %13 = getelementptr %jl_value_t addrspace(10)*, %jl_value_t addrspace(10)** %1, i32 1\n",
      "  store %jl_value_t addrspace(10)* %10, %jl_value_t addrspace(10)** %13\n",
      "  %14 = call nonnull %jl_value_t addrspace(10)* @jl_apply_generic(%jl_value_t addrspace(10)** %1, i32 2)\n",
      "  %15 = getelementptr %jl_value_t addrspace(10)*, %jl_value_t addrspace(10)** %gcframe, i32 2\n",
      "  store %jl_value_t addrspace(10)* %14, %jl_value_t addrspace(10)** %15\n",
      "  %16 = call %jl_value_t addrspace(10)* @jl_box_int64(i64 signext %0)\n",
      "  %17 = getelementptr %jl_value_t addrspace(10)*, %jl_value_t addrspace(10)** %gcframe, i32 3\n",
      "  store %jl_value_t addrspace(10)* %16, %jl_value_t addrspace(10)** %17\n",
      "  %18 = getelementptr %jl_value_t addrspace(10)*, %jl_value_t addrspace(10)** %1, i32 0\n",
      "  store %jl_value_t addrspace(10)* addrspacecast (%jl_value_t* inttoptr (i64 140179633629712 to %jl_value_t*) to %jl_value_t addrspace(10)*), %jl_value_t addrspace(10)** %18\n",
      "  %19 = getelementptr %jl_value_t addrspace(10)*, %jl_value_t addrspace(10)** %1, i32 1\n",
      "  store %jl_value_t addrspace(10)* %16, %jl_value_t addrspace(10)** %19\n",
      "  %20 = getelementptr %jl_value_t addrspace(10)*, %jl_value_t addrspace(10)** %1, i32 2\n",
      "  store %jl_value_t addrspace(10)* %14, %jl_value_t addrspace(10)** %20\n",
      "  %21 = call nonnull %jl_value_t addrspace(10)* @jl_apply_generic(%jl_value_t addrspace(10)** %1, i32 3)\n",
      "  %22 = bitcast %jl_value_t addrspace(10)* %21 to i64 addrspace(10)*\n",
      "  %23 = getelementptr i64, i64 addrspace(10)* %22, i64 -1\n",
      "  %24 = load i64, i64 addrspace(10)* %23\n",
      "  %25 = and i64 %24, -16\n",
      "  %26 = inttoptr i64 %25 to %jl_value_t*\n",
      "  %27 = addrspacecast %jl_value_t* %26 to %jl_value_t addrspace(10)*\n",
      "  %28 = icmp eq %jl_value_t addrspace(10)* %27, addrspacecast (%jl_value_t* inttoptr (i64 140179532139376 to %jl_value_t*) to %jl_value_t addrspace(10)*)\n",
      "  br i1 %28, label %pass, label %fail\n",
      "\n",
      "L4:                                               ; preds = %pass\n",
      ";  @ In[20]:7 within `fibonacci'\n",
      "  %29 = load %jl_value_t addrspace(10)*, %jl_value_t addrspace(10)** inttoptr (i64 140179567608552 to %jl_value_t addrspace(10)**), align 8\n",
      "  %30 = getelementptr %jl_value_t addrspace(10)*, %jl_value_t addrspace(10)** %gcframe, i32 3\n",
      "  store %jl_value_t addrspace(10)* %29, %jl_value_t addrspace(10)** %30\n",
      "  %31 = call %jl_value_t addrspace(10)* @jl_box_int64(i64 signext %0)\n",
      "  %32 = getelementptr %jl_value_t addrspace(10)*, %jl_value_t addrspace(10)** %gcframe, i32 2\n",
      "  store %jl_value_t addrspace(10)* %31, %jl_value_t addrspace(10)** %32\n",
      "  %33 = getelementptr %jl_value_t addrspace(10)*, %jl_value_t addrspace(10)** %1, i32 0\n",
      "  store %jl_value_t addrspace(10)* addrspacecast (%jl_value_t* inttoptr (i64 140179658180272 to %jl_value_t*) to %jl_value_t addrspace(10)*), %jl_value_t addrspace(10)** %33\n",
      "  %34 = getelementptr %jl_value_t addrspace(10)*, %jl_value_t addrspace(10)** %1, i32 1\n",
      "  store %jl_value_t addrspace(10)* %29, %jl_value_t addrspace(10)** %34\n",
      "  %35 = getelementptr %jl_value_t addrspace(10)*, %jl_value_t addrspace(10)** %1, i32 2\n",
      "  store %jl_value_t addrspace(10)* %31, %jl_value_t addrspace(10)** %35\n",
      "  %36 = call nonnull %jl_value_t addrspace(10)* @jl_apply_generic(%jl_value_t addrspace(10)** %1, i32 3)\n",
      "  %37 = getelementptr %jl_value_t addrspace(10)*, %jl_value_t addrspace(10)** %gcframe, i32 1\n",
      "  %38 = load %jl_value_t addrspace(10)*, %jl_value_t addrspace(10)** %37\n",
      "  %39 = getelementptr %jl_value_t**, %jl_value_t*** %ptls, i32 0\n",
      "  %40 = bitcast %jl_value_t*** %39 to %jl_value_t addrspace(10)**\n",
      "  store %jl_value_t addrspace(10)* %38, %jl_value_t addrspace(10)** %40\n",
      "  ret %jl_value_t addrspace(10)* %36\n",
      "\n",
      "L6:                                               ; preds = %pass\n",
      ";  @ In[20]:9 within `fibonacci'\n",
      "; ┌ @ int.jl:52 within `-'\n",
      "   %41 = add i64 %0, -1\n",
      "; └\n",
      "  %42 = call nonnull %jl_value_t addrspace(10)* @julia_fibonacci_17116(i64 %41)\n",
      "; ┌ @ int.jl:52 within `-'\n",
      "   %43 = add i64 %0, -2\n",
      "   %44 = getelementptr %jl_value_t addrspace(10)*, %jl_value_t addrspace(10)** %gcframe, i32 3\n",
      "   store %jl_value_t addrspace(10)* %42, %jl_value_t addrspace(10)** %44\n",
      "; └\n",
      "  %45 = call nonnull %jl_value_t addrspace(10)* @julia_fibonacci_17116(i64 %43)\n",
      "  %46 = getelementptr %jl_value_t addrspace(10)*, %jl_value_t addrspace(10)** %gcframe, i32 2\n",
      "  store %jl_value_t addrspace(10)* %45, %jl_value_t addrspace(10)** %46\n",
      "  %47 = getelementptr %jl_value_t addrspace(10)*, %jl_value_t addrspace(10)** %1, i32 0\n",
      "  store %jl_value_t addrspace(10)* addrspacecast (%jl_value_t* inttoptr (i64 140179650694352 to %jl_value_t*) to %jl_value_t addrspace(10)*), %jl_value_t addrspace(10)** %47\n",
      "  %48 = getelementptr %jl_value_t addrspace(10)*, %jl_value_t addrspace(10)** %1, i32 1\n",
      "  store %jl_value_t addrspace(10)* %42, %jl_value_t addrspace(10)** %48\n",
      "  %49 = getelementptr %jl_value_t addrspace(10)*, %jl_value_t addrspace(10)** %1, i32 2\n",
      "  store %jl_value_t addrspace(10)* %45, %jl_value_t addrspace(10)** %49\n",
      "  %50 = call nonnull %jl_value_t addrspace(10)* @jl_apply_generic(%jl_value_t addrspace(10)** %1, i32 3)\n",
      ";  @ In[20]:10 within `fibonacci'\n",
      "  %51 = load %jl_value_t addrspace(10)*, %jl_value_t addrspace(10)** inttoptr (i64 140179567608552 to %jl_value_t addrspace(10)**), align 8\n",
      "  %52 = getelementptr %jl_value_t addrspace(10)*, %jl_value_t addrspace(10)** %gcframe, i32 4\n",
      "  store %jl_value_t addrspace(10)* %50, %jl_value_t addrspace(10)** %52\n",
      "  %53 = getelementptr %jl_value_t addrspace(10)*, %jl_value_t addrspace(10)** %gcframe, i32 3\n",
      "  store %jl_value_t addrspace(10)* %51, %jl_value_t addrspace(10)** %53\n",
      "  %54 = call %jl_value_t addrspace(10)* @jl_box_int64(i64 signext %0)\n",
      "  %55 = getelementptr %jl_value_t addrspace(10)*, %jl_value_t addrspace(10)** %gcframe, i32 2\n",
      "  store %jl_value_t addrspace(10)* %54, %jl_value_t addrspace(10)** %55\n",
      "  %56 = getelementptr %jl_value_t addrspace(10)*, %jl_value_t addrspace(10)** %1, i32 0\n",
      "  store %jl_value_t addrspace(10)* addrspacecast (%jl_value_t* inttoptr (i64 140179658180288 to %jl_value_t*) to %jl_value_t addrspace(10)*), %jl_value_t addrspace(10)** %56\n",
      "  %57 = getelementptr %jl_value_t addrspace(10)*, %jl_value_t addrspace(10)** %1, i32 1\n",
      "  store %jl_value_t addrspace(10)* %51, %jl_value_t addrspace(10)** %57\n",
      "  %58 = getelementptr %jl_value_t addrspace(10)*, %jl_value_t addrspace(10)** %1, i32 2\n",
      "  store %jl_value_t addrspace(10)* %50, %jl_value_t addrspace(10)** %58\n",
      "  %59 = getelementptr %jl_value_t addrspace(10)*, %jl_value_t addrspace(10)** %1, i32 3\n",
      "  store %jl_value_t addrspace(10)* %54, %jl_value_t addrspace(10)** %59\n",
      "  %60 = call nonnull %jl_value_t addrspace(10)* @jl_apply_generic(%jl_value_t addrspace(10)** %1, i32 4)\n",
      ";  @ In[20]:11 within `fibonacci'\n",
      "  %61 = getelementptr %jl_value_t addrspace(10)*, %jl_value_t addrspace(10)** %gcframe, i32 1\n",
      "  %62 = load %jl_value_t addrspace(10)*, %jl_value_t addrspace(10)** %61\n",
      "  %63 = getelementptr %jl_value_t**, %jl_value_t*** %ptls, i32 0\n",
      "  %64 = bitcast %jl_value_t*** %63 to %jl_value_t addrspace(10)**\n",
      "  store %jl_value_t addrspace(10)* %62, %jl_value_t addrspace(10)** %64\n",
      "  ret %jl_value_t addrspace(10)* %50\n",
      "\n",
      "fail:                                             ; preds = %top\n",
      ";  @ In[20]:6 within `fibonacci'\n",
      "  %65 = addrspacecast %jl_value_t addrspace(10)* %21 to %jl_value_t addrspace(12)*\n",
      "  %66 = getelementptr %jl_value_t addrspace(10)*, %jl_value_t addrspace(10)** %gcframe, i32 2\n",
      "  store %jl_value_t addrspace(10)* %21, %jl_value_t addrspace(10)** %66\n",
      "  call void @jl_type_error(i8* inttoptr (i64 21457728 to i8*), %jl_value_t addrspace(10)* addrspacecast (%jl_value_t* inttoptr (i64 140179532139376 to %jl_value_t*) to %jl_value_t addrspace(10)*), %jl_value_t addrspace(12)* %65)\n",
      "  unreachable\n",
      "\n",
      "pass:                                             ; preds = %top\n",
      "  %67 = icmp eq %jl_value_t addrspace(10)* %21, addrspacecast (%jl_value_t* inttoptr (i64 140179528842816 to %jl_value_t*) to %jl_value_t addrspace(10)*)\n",
      "  br i1 %67, label %L6, label %L4\n",
      "}\n"
     ]
    }
   ],
   "source": [
    "@code_llvm fibonacci(4)"
   ]
  },
  {
   "cell_type": "code",
   "execution_count": 45,
   "metadata": {},
   "outputs": [
    {
     "name": "stdout",
     "output_type": "stream",
     "text": [
      "\t.text\n",
      "; ┌ @ In[20]:6 within `fibonacci'\n",
      "\tpushq\t%rbp\n",
      "\tmovq\t%rsp, %rbp\n",
      "\tpushq\t%r15\n",
      "\tpushq\t%r14\n",
      "\tpushq\t%r13\n",
      "\tpushq\t%r12\n",
      "\tpushq\t%rbx\n",
      "\tandq\t$-32, %rsp\n",
      "\tsubq\t$96, %rsp\n",
      "\tmovq\t%rdi, %r14\n",
      "\tvxorps\t%xmm0, %xmm0, %xmm0\n",
      "\tvmovaps\t%ymm0, 32(%rsp)\n",
      "\tmovq\t$0, 64(%rsp)\n",
      "\tmovq\t%fs:0, %r12\n",
      "\tmovq\t$6, 32(%rsp)\n",
      "\tmovq\t-15560(%r12), %rax\n",
      "\tmovq\t%rax, 40(%rsp)\n",
      "\tmovabsq\t$140179567608552, %rcx  # imm = 0x7F7E195502E8\n",
      "\tleaq\t32(%rsp), %rax\n",
      "\tmovq\t%rax, -15560(%r12)\n",
      "\tmovq\t(%rcx), %rax\n",
      "\tmovq\t%rax, 48(%rsp)\n",
      "\tmovabsq\t$jl_system_image_data, %rcx\n",
      "\tmovq\t%rcx, (%rsp)\n",
      "\tmovq\t%rax, 8(%rsp)\n",
      "\tmovabsq\t$jl_apply_generic, %r13\n",
      "\tmovq\t%rsp, %r15\n",
      "\tmovl\t$2, %esi\n",
      "\tmovq\t%r15, %rdi\n",
      "\tvzeroupper\n",
      "\tcallq\t*%r13\n",
      "\tmovq\t%rax, %rbx\n",
      "\tmovq\t%rbx, 48(%rsp)\n",
      "\tmovabsq\t$jl_box_int64, %rax\n",
      "\tmovq\t%r14, %rdi\n",
      "\tcallq\t*%rax\n",
      "\tmovq\t%rax, 56(%rsp)\n",
      "\tmovabsq\t$jl_system_image_data, %rcx\n",
      "\tmovq\t%rcx, (%rsp)\n",
      "\tmovq\t%rax, 8(%rsp)\n",
      "\tmovq\t%rbx, 16(%rsp)\n",
      "\tmovl\t$3, %esi\n",
      "\tmovq\t%r15, %rdi\n",
      "\tcallq\t*%r13\n",
      "\tmovq\t-8(%rax), %rcx\n",
      "\tshrq\t$4, %rcx\n",
      "\tmovabsq\t$8761220758711, %rdx    # imm = 0x7F7E1737CB7\n",
      "\tcmpq\t%rdx, %rcx\n",
      "\tjne\tL545\n",
      "\taddq\t$-15560, %r12           # imm = 0xC338\n",
      "; │ @ In[20]:6 within `fibonacci'\n",
      "\tmovabsq\t$140179528842816, %rcx  # imm = 0x7F7E17057E40\n",
      "\tcmpq\t%rcx, %rax\n",
      "\tje\tL360\n",
      "; │ @ In[20]:7 within `fibonacci'\n",
      "\tmovabsq\t$140179567608552, %rax  # imm = 0x7F7E195502E8\n",
      "\tmovq\t(%rax), %rbx\n",
      "\tmovq\t%rbx, 56(%rsp)\n",
      "\tmovq\t%r14, %rdi\n",
      "\tmovabsq\t$jl_box_int64, %rax\n",
      "\tcallq\t*%rax\n",
      "\tmovq\t%rax, 48(%rsp)\n",
      "\tmovabsq\t$jl_system_image_data, %rcx\n",
      "\tmovq\t%rcx, (%rsp)\n",
      "\tmovq\t%rbx, 8(%rsp)\n",
      "\tmovq\t%rax, 16(%rsp)\n",
      "\tmovq\t%rsp, %rdi\n",
      "\tmovl\t$3, %esi\n",
      "\tcallq\t*%r13\n",
      "\tmovq\t40(%rsp), %rcx\n",
      "\tmovq\t%rcx, (%r12)\n",
      "\tleaq\t-40(%rbp), %rsp\n",
      "\tpopq\t%rbx\n",
      "\tpopq\t%r12\n",
      "\tpopq\t%r13\n",
      "\tpopq\t%r14\n",
      "\tpopq\t%r15\n",
      "\tpopq\t%rbp\n",
      "\tretq\n",
      "; │ @ In[20]:9 within `fibonacci'\n",
      "; │┌ @ int.jl:52 within `-'\n",
      "L360:\n",
      "\tleaq\t-1(%r14), %rdi\n",
      "; │└\n",
      "\tmovabsq\t$fibonacci, %r15\n",
      "\tcallq\t*%r15\n",
      "\tmovq\t%rax, %rbx\n",
      "; │┌ @ int.jl:52 within `-'\n",
      "\tleaq\t-2(%r14), %rdi\n",
      "\tmovq\t%rbx, 56(%rsp)\n",
      "; │└\n",
      "\tcallq\t*%r15\n",
      "\tmovq\t%rax, 48(%rsp)\n",
      "\tmovabsq\t$jl_system_image_data, %rcx\n",
      "\tmovq\t%rcx, (%rsp)\n",
      "\tmovq\t%rbx, 8(%rsp)\n",
      "\tmovq\t%rax, 16(%rsp)\n",
      "\tmovq\t%rsp, %rdi\n",
      "\tmovl\t$3, %esi\n",
      "\tcallq\t*%r13\n",
      "\tmovq\t%rax, %rbx\n",
      "; │ @ In[20]:10 within `fibonacci'\n",
      "\tmovabsq\t$140179567608552, %rax  # imm = 0x7F7E195502E8\n",
      "\tmovq\t(%rax), %r15\n",
      "\tmovq\t%rbx, 64(%rsp)\n",
      "\tmovq\t%r15, 56(%rsp)\n",
      "\tmovq\t%r14, %rdi\n",
      "\tmovabsq\t$jl_box_int64, %rax\n",
      "\tcallq\t*%rax\n",
      "\tmovq\t%rax, 48(%rsp)\n",
      "\tmovabsq\t$jl_system_image_data, %rcx\n",
      "\tmovq\t%rcx, (%rsp)\n",
      "\tmovq\t%r15, 8(%rsp)\n",
      "\tmovq\t%rbx, 16(%rsp)\n",
      "\tmovq\t%rax, 24(%rsp)\n",
      "\tmovl\t$4, %esi\n",
      "\tmovq\t%rsp, %rdi\n",
      "\tcallq\t*%r13\n",
      "; │ @ In[20]:11 within `fibonacci'\n",
      "\tmovq\t40(%rsp), %rax\n",
      "\tmovq\t%rax, (%r12)\n",
      "\tmovq\t%rbx, %rax\n",
      "\tleaq\t-40(%rbp), %rsp\n",
      "\tpopq\t%rbx\n",
      "\tpopq\t%r12\n",
      "\tpopq\t%r13\n",
      "\tpopq\t%r14\n",
      "\tpopq\t%r15\n",
      "\tpopq\t%rbp\n",
      "\tretq\n",
      "L545:\n",
      "\tmovq\t%rax, 48(%rsp)\n",
      "; │ @ In[20]:6 within `fibonacci'\n",
      "\tmovabsq\t$jl_type_error, %rcx\n",
      "\tmovabsq\t$140179532139376, %rsi  # imm = 0x7F7E1737CB70\n",
      "\tmovl\t$21457728, %edi         # imm = 0x1476B40\n",
      "\tmovq\t%rax, %rdx\n",
      "\tcallq\t*%rcx\n",
      "\tnopw\t%cs:(%rax,%rax)\n",
      "; └\n"
     ]
    }
   ],
   "source": [
    "@code_native fibonacci(4)"
   ]
  },
  {
   "cell_type": "markdown",
   "metadata": {},
   "source": [
    "## Importing Packages"
   ]
  },
  {
   "cell_type": "code",
   "execution_count": null,
   "metadata": {},
   "outputs": [],
   "source": []
  },
  {
   "cell_type": "code",
   "execution_count": 46,
   "metadata": {},
   "outputs": [
    {
     "ename": "ArgumentError",
     "evalue": "ArgumentError: Package Flux not found in current path:\n- Run `import Pkg; Pkg.add(\"Flux\")` to install the Flux package.\n",
     "output_type": "error",
     "traceback": [
      "ArgumentError: Package Flux not found in current path:\n- Run `import Pkg; Pkg.add(\"Flux\")` to install the Flux package.\n",
      "",
      "Stacktrace:",
      " [1] require(::Module, ::Symbol) at ./loading.jl:876",
      " [2] top-level scope at In[46]:1"
     ]
    }
   ],
   "source": [
    "using Flux, Plots"
   ]
  },
  {
   "cell_type": "markdown",
   "metadata": {},
   "source": [
    "## Getting Version Numbers"
   ]
  },
  {
   "cell_type": "code",
   "execution_count": 47,
   "metadata": {},
   "outputs": [
    {
     "data": {
      "text/plain": [
       "v\"1.2.0\""
      ]
     },
     "execution_count": 47,
     "metadata": {},
     "output_type": "execute_result"
    }
   ],
   "source": [
    "VERSION"
   ]
  },
  {
   "cell_type": "code",
   "execution_count": 48,
   "metadata": {},
   "outputs": [
    {
     "ename": "UndefVarError",
     "evalue": "UndefVarError: Pkg not defined",
     "output_type": "error",
     "traceback": [
      "UndefVarError: Pkg not defined",
      "",
      "Stacktrace:",
      " [1] top-level scope at In[48]:1"
     ]
    }
   ],
   "source": [
    "Pkg.installed()"
   ]
  },
  {
   "cell_type": "markdown",
   "metadata": {},
   "source": [
    "## Getting Help"
   ]
  },
  {
   "cell_type": "code",
   "execution_count": 49,
   "metadata": {},
   "outputs": [
    {
     "name": "stdout",
     "output_type": "stream",
     "text": [
      "\"\u001b[36mσ\u001b[39m\" can be typed by \u001b[36m\\sigma<tab>\u001b[39m\n",
      "\n",
      "search:\n",
      "\n",
      "Couldn't find \u001b[36mσ\u001b[39m\n",
      "Perhaps you meant <, a, b, p, s, t, x, y, !, %, &, *, +, -, /, :, >, \\, ^ or |\n"
     ]
    },
    {
     "data": {
      "text/latex": [
       "No documentation found.\n",
       "\n",
       "Binding \\texttt{σ} does not exist.\n",
       "\n"
      ],
      "text/markdown": [
       "No documentation found.\n",
       "\n",
       "Binding `σ` does not exist.\n"
      ],
      "text/plain": [
       "  No documentation found.\n",
       "\n",
       "  Binding \u001b[36mσ\u001b[39m does not exist."
      ]
     },
     "execution_count": 49,
     "metadata": {},
     "output_type": "execute_result"
    }
   ],
   "source": [
    "?σ"
   ]
  },
  {
   "cell_type": "markdown",
   "metadata": {},
   "source": [
    "## Plots API"
   ]
  },
  {
   "cell_type": "code",
   "execution_count": 50,
   "metadata": {},
   "outputs": [
    {
     "ename": "UndefVarError",
     "evalue": "UndefVarError: plot not defined",
     "output_type": "error",
     "traceback": [
      "UndefVarError: plot not defined",
      "",
      "Stacktrace:",
      " [1] top-level scope at In[50]:1"
     ]
    }
   ],
   "source": [
    "plot(σ, -5, 5, label=\"\\\\sigma\", xlabel=\"x\", ylabel=\"\\\\sigma\\\\(x\\\\)\")"
   ]
  },
  {
   "cell_type": "code",
   "execution_count": 179,
   "metadata": {},
   "outputs": [
    {
     "data": {
      "image/svg+xml": [
       "<?xml version=\"1.0\" encoding=\"utf-8\"?>\n",
       "<svg xmlns=\"http://www.w3.org/2000/svg\" xmlns:xlink=\"http://www.w3.org/1999/xlink\" width=\"600\" height=\"400\" viewBox=\"0 0 2400 1600\">\n",
       "<defs>\n",
       "  <clipPath id=\"clip4700\">\n",
       "    <rect x=\"0\" y=\"0\" width=\"2400\" height=\"1600\"/>\n",
       "  </clipPath>\n",
       "</defs>\n",
       "<path clip-path=\"url(#clip4700)\" d=\"\n",
       "M0 1600 L2400 1600 L2400 0 L0 0  Z\n",
       "  \" fill=\"#ffffff\" fill-rule=\"evenodd\" fill-opacity=\"1\"/>\n",
       "<defs>\n",
       "  <clipPath id=\"clip4701\">\n",
       "    <rect x=\"480\" y=\"0\" width=\"1681\" height=\"1600\"/>\n",
       "  </clipPath>\n",
       "</defs>\n",
       "<path clip-path=\"url(#clip4700)\" d=\"\n",
       "M47.2441 219.423 L1152.76 219.423 L1152.76 47.2441 L47.2441 47.2441  Z\n",
       "  \" fill=\"#ffffff\" fill-rule=\"evenodd\" fill-opacity=\"1\"/>\n",
       "<defs>\n",
       "  <clipPath id=\"clip4702\">\n",
       "    <rect x=\"47\" y=\"47\" width=\"1107\" height=\"173\"/>\n",
       "  </clipPath>\n",
       "</defs>\n",
       "<polyline clip-path=\"url(#clip4700)\" style=\"stroke:#000000; stroke-width:4; stroke-opacity:1; fill:none\" points=\"\n",
       "  47.2441,219.423 1152.76,219.423 \n",
       "  \"/>\n",
       "<polyline clip-path=\"url(#clip4700)\" style=\"stroke:#000000; stroke-width:4; stroke-opacity:1; fill:none\" points=\"\n",
       "  47.2441,219.423 47.2441,47.2441 \n",
       "  \"/>\n",
       "<polyline clip-path=\"url(#clip4702)\" style=\"stroke:#009af9; stroke-width:4; stroke-opacity:1; fill:none\" points=\"\n",
       "  78.5322,157.13 89.0669,206.328 99.6016,89.5121 110.136,109.377 120.671,61.0139 131.206,131.79 141.74,144.158 152.275,170.837 162.81,196.944 173.344,137.988 \n",
       "  183.879,125.503 194.414,87.3404 204.949,148.337 215.483,104.679 226.018,66.4621 236.553,146.477 247.087,167.865 257.622,113.672 268.157,177.798 278.692,74.9233 \n",
       "  289.226,187.092 299.761,152.925 310.296,142.24 320.83,73.4676 331.365,168.198 341.9,130.867 352.434,189.312 362.969,163.68 373.504,179.577 384.039,197.736 \n",
       "  394.573,83.8432 405.108,133.816 415.643,71.7186 426.177,154.287 436.712,103.255 447.247,138.935 457.781,59.4304 468.316,200.597 478.851,209.532 489.386,88.3523 \n",
       "  499.92,159.088 510.455,80.4155 520.99,152.024 531.524,125.133 542.059,189.535 552.594,80.0401 563.129,149.378 573.663,63.5995 584.198,79.6479 594.733,61.2411 \n",
       "  605.267,88.4852 615.802,122.965 626.337,189.376 636.871,214.55 647.406,149.124 657.941,106.407 668.476,176.692 679.01,193.348 689.545,104.985 700.08,62.6994 \n",
       "  710.614,207.033 721.149,204.248 731.684,52.1171 742.219,76.0041 752.753,89.2882 763.288,96.0917 773.823,59.5491 784.357,138.93 794.892,125.2 805.427,120.402 \n",
       "  815.961,111.37 826.496,163.84 837.031,180.155 847.566,86.5844 858.1,164.887 868.635,156.888 879.17,84.9979 889.704,170.231 900.239,154.008 910.774,125.486 \n",
       "  921.308,137.401 931.843,96.9515 942.378,195.463 952.913,180.988 963.447,146.012 973.982,121.734 984.517,196.284 995.051,99.6334 1005.59,110.497 1016.12,107.661 \n",
       "  1026.66,205.376 1037.19,109.449 1047.72,89.4674 1058.26,75.4291 1068.79,64.711 1079.33,118.932 1089.86,212.273 1100.4,134.307 1110.93,193.246 1121.47,187.109 \n",
       "  \n",
       "  \"/>\n",
       "<path clip-path=\"url(#clip4700)\" d=\"\n",
       "M1247.24 219.423 L2352.76 219.423 L2352.76 47.2441 L1247.24 47.2441  Z\n",
       "  \" fill=\"#ffffff\" fill-rule=\"evenodd\" fill-opacity=\"1\"/>\n",
       "<defs>\n",
       "  <clipPath id=\"clip4703\">\n",
       "    <rect x=\"1247\" y=\"47\" width=\"1107\" height=\"173\"/>\n",
       "  </clipPath>\n",
       "</defs>\n",
       "<polyline clip-path=\"url(#clip4700)\" style=\"stroke:#000000; stroke-width:4; stroke-opacity:1; fill:none\" points=\"\n",
       "  1247.24,219.423 2352.76,219.423 \n",
       "  \"/>\n",
       "<polyline clip-path=\"url(#clip4700)\" style=\"stroke:#000000; stroke-width:4; stroke-opacity:1; fill:none\" points=\"\n",
       "  1247.24,219.423 1247.24,47.2441 \n",
       "  \"/>\n",
       "<polyline clip-path=\"url(#clip4703)\" style=\"stroke:#009af9; stroke-width:4; stroke-opacity:1; fill:none\" points=\"\n",
       "  1278.53,139.667 1289.07,52.7613 1299.6,113.282 1310.14,52.497 1320.67,123.113 1331.21,150.99 1341.74,109.325 1352.28,152.821 1362.81,124.421 1373.34,102.339 \n",
       "  1383.88,80.9009 1394.41,152.528 1404.95,194.092 1415.48,204.041 1426.02,85.643 1436.55,99.6691 1447.09,165.184 1457.62,104.239 1468.16,114.955 1478.69,179.302 \n",
       "  1489.23,135.055 1499.76,81.356 1510.3,152.828 1520.83,153.04 1531.37,148.236 1541.9,193.4 1552.43,198.654 1562.97,52.2714 1573.5,137.274 1584.04,92.8197 \n",
       "  1594.57,162.616 1605.11,102.694 1615.64,115.328 1626.18,138.359 1636.71,171.524 1647.25,164.684 1657.78,124.46 1668.32,119.701 1678.85,72.6411 1689.39,52.7847 \n",
       "  1699.92,120.427 1710.46,143.642 1720.99,154.834 1731.52,197.033 1742.06,56.8017 1752.59,190.759 1763.13,207.535 1773.66,52.1171 1784.2,81.0639 1794.73,92.5006 \n",
       "  1805.27,118.827 1815.8,175.023 1826.34,174.688 1836.87,104.538 1847.41,162.545 1857.94,113.178 1868.48,100.244 1879.01,168.413 1889.54,185.059 1900.08,60.1987 \n",
       "  1910.61,144.026 1921.15,85.2729 1931.68,185.68 1942.22,148.635 1952.75,176.777 1963.29,214.122 1973.82,195.681 1984.36,70.0458 1994.89,79.6773 2005.43,133.215 \n",
       "  2015.96,138.129 2026.5,96.4355 2037.03,194.802 2047.57,121.33 2058.1,113.793 2068.63,120.443 2079.17,143.824 2089.7,157.899 2100.24,213.766 2110.77,70.423 \n",
       "  2121.31,214.55 2131.84,68.4623 2142.38,177.694 2152.91,209.678 2163.45,56.2621 2173.98,181.916 2184.52,116.461 2195.05,74.4108 2205.59,75.3966 2216.12,194.844 \n",
       "  2226.66,179.606 2237.19,171.584 2247.72,140.769 2258.26,96.166 2268.79,161.361 2279.33,189.177 2289.86,197.323 2300.4,85.6443 2310.93,165.95 2321.47,197.834 \n",
       "  \n",
       "  \"/>\n",
       "<path clip-path=\"url(#clip4700)\" d=\"\n",
       "M47.2441 486.089 L1152.76 486.089 L1152.76 313.911 L47.2441 313.911  Z\n",
       "  \" fill=\"#ffffff\" fill-rule=\"evenodd\" fill-opacity=\"1\"/>\n",
       "<defs>\n",
       "  <clipPath id=\"clip4704\">\n",
       "    <rect x=\"47\" y=\"313\" width=\"1107\" height=\"173\"/>\n",
       "  </clipPath>\n",
       "</defs>\n",
       "<polyline clip-path=\"url(#clip4700)\" style=\"stroke:#000000; stroke-width:4; stroke-opacity:1; fill:none\" points=\"\n",
       "  47.2441,486.089 1152.76,486.089 \n",
       "  \"/>\n",
       "<polyline clip-path=\"url(#clip4700)\" style=\"stroke:#000000; stroke-width:4; stroke-opacity:1; fill:none\" points=\"\n",
       "  47.2441,486.089 47.2441,313.911 \n",
       "  \"/>\n",
       "<polyline clip-path=\"url(#clip4704)\" style=\"stroke:#009af9; stroke-width:4; stroke-opacity:1; fill:none\" points=\"\n",
       "  78.5322,347.798 89.0669,406.922 99.6016,418.618 110.136,453.33 120.671,469.965 131.206,389.976 141.74,459.262 152.275,359.778 162.81,379.102 173.344,479.604 \n",
       "  183.879,448.816 194.414,446.655 204.949,392.336 215.483,362.575 226.018,446.547 236.553,393.845 247.087,362.829 257.622,467.302 268.157,343.761 278.692,481.216 \n",
       "  289.226,405.37 299.761,344.525 310.296,408.022 320.83,403.811 331.365,421.836 341.9,349.663 352.434,334.057 362.969,366.018 373.504,380.225 384.039,434.434 \n",
       "  394.573,343.995 405.108,389.622 415.643,381.493 426.177,447.738 436.712,476.415 447.247,426.433 457.781,333.122 468.316,426.997 478.851,441.678 489.386,409.766 \n",
       "  499.92,411.253 510.455,342.476 520.99,433.536 531.524,448.231 542.059,472.735 552.594,395.594 563.129,361.169 573.663,425.571 584.198,455.523 594.733,397.915 \n",
       "  605.267,363.716 615.802,414.62 626.337,427.008 636.871,412.24 647.406,390.086 657.941,370.595 668.476,384.92 679.01,341.396 689.545,474.381 700.08,453.975 \n",
       "  710.614,361.575 721.149,438.892 731.684,323.672 742.219,333.272 752.753,441.564 763.288,466.719 773.823,471.526 784.357,418 794.892,464.135 805.427,465.816 \n",
       "  815.961,393.043 826.496,473.362 837.031,457.633 847.566,327.027 858.1,322.631 868.635,403.282 879.17,323.001 889.704,318.784 900.239,426.178 910.774,430.149 \n",
       "  921.308,321.388 931.843,448.079 942.378,323.506 952.913,424.892 963.447,433.897 973.982,378.096 984.517,377.11 995.051,325.89 1005.59,362.136 1016.12,418.228 \n",
       "  1026.66,446.257 1037.19,374.416 1047.72,405.927 1058.26,363.8 1068.79,340.122 1079.33,446.685 1089.86,365.33 1100.4,407.612 1110.93,406.129 1121.47,387.633 \n",
       "  \n",
       "  \"/>\n",
       "<path clip-path=\"url(#clip4700)\" d=\"\n",
       "M1247.24 486.089 L2352.76 486.089 L2352.76 313.911 L1247.24 313.911  Z\n",
       "  \" fill=\"#ffffff\" fill-rule=\"evenodd\" fill-opacity=\"1\"/>\n",
       "<defs>\n",
       "  <clipPath id=\"clip4705\">\n",
       "    <rect x=\"1247\" y=\"313\" width=\"1107\" height=\"173\"/>\n",
       "  </clipPath>\n",
       "</defs>\n",
       "<polyline clip-path=\"url(#clip4700)\" style=\"stroke:#000000; stroke-width:4; stroke-opacity:1; fill:none\" points=\"\n",
       "  1247.24,486.089 2352.76,486.089 \n",
       "  \"/>\n",
       "<polyline clip-path=\"url(#clip4700)\" style=\"stroke:#000000; stroke-width:4; stroke-opacity:1; fill:none\" points=\"\n",
       "  1247.24,486.089 1247.24,313.911 \n",
       "  \"/>\n",
       "<polyline clip-path=\"url(#clip4705)\" style=\"stroke:#009af9; stroke-width:4; stroke-opacity:1; fill:none\" points=\"\n",
       "  1278.53,331.258 1289.07,424.96 1299.6,357.619 1310.14,470.451 1320.67,436.019 1331.21,362.453 1341.74,368.938 1352.28,324.077 1362.81,463.594 1373.34,395.377 \n",
       "  1383.88,342.176 1394.41,373.483 1404.95,443.558 1415.48,324.397 1426.02,431.711 1436.55,335.998 1447.09,443.579 1457.62,353.162 1468.16,400.701 1478.69,427.008 \n",
       "  1489.23,466.781 1499.76,412.41 1510.3,449.649 1520.83,384.401 1531.37,402.087 1541.9,432.12 1552.43,453.278 1562.97,415.726 1573.5,468.308 1584.04,367.064 \n",
       "  1594.57,409.943 1605.11,417.176 1615.64,425.568 1626.18,351.28 1636.71,468.937 1647.25,468.906 1657.78,383.421 1668.32,409.002 1678.85,335.821 1689.39,334.438 \n",
       "  1699.92,472.576 1710.46,413.612 1720.99,476.051 1731.52,431.369 1742.06,366.438 1752.59,392.773 1763.13,355.447 1773.66,462.071 1784.2,363.995 1794.73,430.539 \n",
       "  1805.27,405.718 1815.8,425.855 1826.34,355.536 1836.87,396.824 1847.41,481.216 1857.94,474.676 1868.48,426.883 1879.01,348.941 1889.54,480.201 1900.08,418.476 \n",
       "  1910.61,466.7 1921.15,426.463 1931.68,358.597 1942.22,475.407 1952.75,318.784 1963.29,358.471 1973.82,372.342 1984.36,379.464 1994.89,353.65 2005.43,387.253 \n",
       "  2015.96,398.214 2026.5,434.4 2037.03,461.908 2047.57,435.687 2058.1,442.527 2068.63,356.578 2079.17,366.519 2089.7,338.009 2100.24,404.859 2110.77,367.487 \n",
       "  2121.31,416.369 2131.84,410.166 2142.38,455.659 2152.91,374.639 2163.45,470.799 2173.98,470.456 2184.52,395.696 2195.05,394.847 2205.59,450.027 2216.12,461.614 \n",
       "  2226.66,397.213 2237.19,416.327 2247.72,420.38 2258.26,428.247 2268.79,320.176 2279.33,329.019 2289.86,397.122 2300.4,331.351 2310.93,409.665 2321.47,379.033 \n",
       "  \n",
       "  \"/>\n",
       "<path clip-path=\"url(#clip4700)\" d=\"\n",
       "M47.2441 752.756 L1152.76 752.756 L1152.76 580.577 L47.2441 580.577  Z\n",
       "  \" fill=\"#ffffff\" fill-rule=\"evenodd\" fill-opacity=\"1\"/>\n",
       "<defs>\n",
       "  <clipPath id=\"clip4706\">\n",
       "    <rect x=\"47\" y=\"580\" width=\"1107\" height=\"173\"/>\n",
       "  </clipPath>\n",
       "</defs>\n",
       "<polyline clip-path=\"url(#clip4700)\" style=\"stroke:#000000; stroke-width:4; stroke-opacity:1; fill:none\" points=\"\n",
       "  47.2441,752.756 1152.76,752.756 \n",
       "  \"/>\n",
       "<polyline clip-path=\"url(#clip4700)\" style=\"stroke:#000000; stroke-width:4; stroke-opacity:1; fill:none\" points=\"\n",
       "  47.2441,752.756 47.2441,580.577 \n",
       "  \"/>\n",
       "<polyline clip-path=\"url(#clip4706)\" style=\"stroke:#009af9; stroke-width:4; stroke-opacity:1; fill:none\" points=\"\n",
       "  78.5322,623.773 89.0669,641.571 99.6016,654.714 110.136,585.45 120.671,651.759 131.206,606.995 141.74,710.255 152.275,688.719 162.81,610.396 173.344,731.639 \n",
       "  183.879,703.104 194.414,614.188 204.949,650.754 215.483,744.723 226.018,699.372 236.553,616.19 247.087,596.949 257.622,632.715 268.157,647.229 278.692,586.46 \n",
       "  289.226,609.851 299.761,747.479 310.296,606.84 320.83,726.091 331.365,591.432 341.9,657.166 352.434,730.077 362.969,633.23 373.504,669.417 384.039,594.113 \n",
       "  394.573,587.529 405.108,659.304 415.643,632.543 426.177,607.526 436.712,747.883 447.247,625.782 457.781,694.593 468.316,717.124 478.851,607.78 489.386,587.857 \n",
       "  499.92,637.913 510.455,603.028 520.99,636.41 531.524,646.585 542.059,654.59 552.594,743.859 563.129,690.286 573.663,601.037 584.198,642.539 594.733,593.696 \n",
       "  605.267,587.549 615.802,644.667 626.337,695.838 636.871,649.002 647.406,725.573 657.941,716.502 668.476,674.823 679.01,617.113 689.545,665.351 700.08,658.789 \n",
       "  710.614,601.949 721.149,643.721 731.684,589.945 742.219,740.232 752.753,658.049 763.288,695.201 773.823,719.438 784.357,679.438 794.892,739.857 805.427,608.985 \n",
       "  815.961,602.767 826.496,599.533 837.031,678.063 847.566,680.135 858.1,732.571 868.635,732.072 879.17,638.441 889.704,712.698 900.239,698.621 910.774,648.522 \n",
       "  921.308,618.777 931.843,680.746 942.378,624.504 952.913,699.027 963.447,682.268 973.982,619.038 984.517,653.479 995.051,700.944 1005.59,639.6 1016.12,666.066 \n",
       "  1026.66,674.745 1037.19,744.708 1047.72,632.574 1058.26,648.465 1068.79,609.633 1079.33,607.749 1089.86,647.395 1100.4,602.35 1110.93,632.292 1121.47,722.089 \n",
       "  \n",
       "  \"/>\n",
       "<path clip-path=\"url(#clip4700)\" d=\"\n",
       "M1247.24 752.756 L2352.76 752.756 L2352.76 580.577 L1247.24 580.577  Z\n",
       "  \" fill=\"#ffffff\" fill-rule=\"evenodd\" fill-opacity=\"1\"/>\n",
       "<defs>\n",
       "  <clipPath id=\"clip4707\">\n",
       "    <rect x=\"1247\" y=\"580\" width=\"1107\" height=\"173\"/>\n",
       "  </clipPath>\n",
       "</defs>\n",
       "<polyline clip-path=\"url(#clip4700)\" style=\"stroke:#000000; stroke-width:4; stroke-opacity:1; fill:none\" points=\"\n",
       "  1247.24,752.756 2352.76,752.756 \n",
       "  \"/>\n",
       "<polyline clip-path=\"url(#clip4700)\" style=\"stroke:#000000; stroke-width:4; stroke-opacity:1; fill:none\" points=\"\n",
       "  1247.24,752.756 1247.24,580.577 \n",
       "  \"/>\n",
       "<polyline clip-path=\"url(#clip4707)\" style=\"stroke:#009af9; stroke-width:4; stroke-opacity:1; fill:none\" points=\"\n",
       "  1278.53,718.399 1289.07,592.36 1299.6,648.917 1310.14,731.86 1320.67,725.792 1331.21,712.838 1341.74,689.202 1352.28,635.203 1362.81,727.614 1373.34,592.551 \n",
       "  1383.88,624.605 1394.41,620.529 1404.95,695.343 1415.48,606.635 1426.02,720.158 1436.55,740.953 1447.09,631.2 1457.62,712.329 1468.16,654.355 1478.69,711.671 \n",
       "  1489.23,663.927 1499.76,723.998 1510.3,594.201 1520.83,741.068 1531.37,747.509 1541.9,744.421 1552.43,703.966 1562.97,647.475 1573.5,681.414 1584.04,722.905 \n",
       "  1594.57,627.774 1605.11,625.58 1615.64,632.781 1626.18,711.636 1636.71,677.371 1647.25,730.54 1657.78,637.688 1668.32,714.137 1678.85,664.153 1689.39,620.889 \n",
       "  1699.92,747.579 1710.46,699.235 1720.99,608.79 1731.52,588.584 1742.06,613.1 1752.59,623.318 1763.13,741.411 1773.66,670.295 1784.2,732.514 1794.73,621.001 \n",
       "  1805.27,740.094 1815.8,624.147 1826.34,647.343 1836.87,610.017 1847.41,658.834 1857.94,610.366 1868.48,692.461 1879.01,636.497 1889.54,595.014 1900.08,642.227 \n",
       "  1910.61,688.802 1921.15,725.394 1931.68,688.681 1942.22,653.634 1952.75,706.984 1963.29,738.723 1973.82,694.818 1984.36,604.654 1994.89,720.678 2005.43,671.805 \n",
       "  2015.96,621.862 2026.5,695.929 2037.03,726.719 2047.57,649.204 2058.1,656.666 2068.63,747.883 2079.17,683.521 2089.7,656.302 2100.24,630.712 2110.77,592.11 \n",
       "  2121.31,660.073 2131.84,680.817 2142.38,719.955 2152.91,702.826 2163.45,594.368 2173.98,693.544 2184.52,613.57 2195.05,665.074 2205.59,680.313 2216.12,627.108 \n",
       "  2226.66,610.51 2237.19,592.099 2247.72,585.45 2258.26,590.993 2268.79,674.408 2279.33,589.38 2289.86,613.764 2300.4,633.928 2310.93,670.171 2321.47,666.891 \n",
       "  \n",
       "  \"/>\n",
       "<path clip-path=\"url(#clip4700)\" d=\"\n",
       "M47.2441 1019.42 L1152.76 1019.42 L1152.76 847.244 L47.2441 847.244  Z\n",
       "  \" fill=\"#ffffff\" fill-rule=\"evenodd\" fill-opacity=\"1\"/>\n",
       "<defs>\n",
       "  <clipPath id=\"clip4708\">\n",
       "    <rect x=\"47\" y=\"847\" width=\"1107\" height=\"173\"/>\n",
       "  </clipPath>\n",
       "</defs>\n",
       "<polyline clip-path=\"url(#clip4700)\" style=\"stroke:#000000; stroke-width:4; stroke-opacity:1; fill:none\" points=\"\n",
       "  47.2441,1019.42 1152.76,1019.42 \n",
       "  \"/>\n",
       "<polyline clip-path=\"url(#clip4700)\" style=\"stroke:#000000; stroke-width:4; stroke-opacity:1; fill:none\" points=\"\n",
       "  47.2441,1019.42 47.2441,847.244 \n",
       "  \"/>\n",
       "<polyline clip-path=\"url(#clip4708)\" style=\"stroke:#009af9; stroke-width:4; stroke-opacity:1; fill:none\" points=\"\n",
       "  78.5322,976.217 89.0669,1003.52 99.6016,872.002 110.136,852.117 120.671,1001.61 131.206,878.467 141.74,931.063 152.275,980.921 162.81,915.048 173.344,947.226 \n",
       "  183.879,946.261 194.414,871.836 204.949,870.699 215.483,993.372 226.018,892.749 236.553,949.269 247.087,918.292 257.622,969.077 268.157,855.334 278.692,881.956 \n",
       "  289.226,854.484 299.761,1007.62 310.296,864.471 320.83,880.766 331.365,952.636 341.9,874.537 352.434,863.329 362.969,974.923 373.504,883.775 384.039,869.482 \n",
       "  394.573,924.88 405.108,887.969 415.643,1008.48 426.177,854.292 436.712,969.791 447.247,861.308 457.781,977.967 468.316,947.156 478.851,994.305 489.386,861.082 \n",
       "  499.92,868.899 510.455,977.173 520.99,907.715 531.524,891.272 542.059,858.868 552.594,956.07 563.129,930.26 573.663,1014.55 584.198,940.357 594.733,997.068 \n",
       "  605.267,965.144 615.802,978.72 626.337,933.592 636.871,1010.89 647.406,975.772 657.941,853.657 668.476,976.66 679.01,867.889 689.545,932.514 700.08,979.527 \n",
       "  710.614,983.167 721.149,960.394 731.684,934.236 742.219,932.893 752.753,1003.63 763.288,869.678 773.823,870.51 784.357,897.332 794.892,876.502 805.427,951.675 \n",
       "  815.961,965.307 826.496,940.593 837.031,920.964 847.566,983.453 858.1,885.345 868.635,930.322 879.17,973.46 889.704,860.842 900.239,861.264 910.774,907.465 \n",
       "  921.308,931.411 931.843,940.366 942.378,979.803 952.913,898.791 963.447,945.603 973.982,1013.35 984.517,926.832 995.051,927.278 1005.59,866.165 1016.12,889.088 \n",
       "  1026.66,950.732 1037.19,897.065 1047.72,911.391 1058.26,939.463 1068.79,884.348 1079.33,972.409 1089.86,988.197 1100.4,885.224 1110.93,980.01 1121.47,943.927 \n",
       "  \n",
       "  \"/>\n",
       "<path clip-path=\"url(#clip4700)\" d=\"\n",
       "M1247.24 1019.42 L2352.76 1019.42 L2352.76 847.244 L1247.24 847.244  Z\n",
       "  \" fill=\"#ffffff\" fill-rule=\"evenodd\" fill-opacity=\"1\"/>\n",
       "<defs>\n",
       "  <clipPath id=\"clip4709\">\n",
       "    <rect x=\"1247\" y=\"847\" width=\"1107\" height=\"173\"/>\n",
       "  </clipPath>\n",
       "</defs>\n",
       "<polyline clip-path=\"url(#clip4700)\" style=\"stroke:#000000; stroke-width:4; stroke-opacity:1; fill:none\" points=\"\n",
       "  1247.24,1019.42 2352.76,1019.42 \n",
       "  \"/>\n",
       "<polyline clip-path=\"url(#clip4700)\" style=\"stroke:#000000; stroke-width:4; stroke-opacity:1; fill:none\" points=\"\n",
       "  1247.24,1019.42 1247.24,847.244 \n",
       "  \"/>\n",
       "<polyline clip-path=\"url(#clip4709)\" style=\"stroke:#009af9; stroke-width:4; stroke-opacity:1; fill:none\" points=\"\n",
       "  1278.53,906.021 1289.07,857.133 1299.6,942.1 1310.14,874.781 1320.67,895.355 1331.21,964.305 1341.74,864.765 1352.28,907.281 1362.81,949.932 1373.34,895.384 \n",
       "  1383.88,867.079 1394.41,995.311 1404.95,985.206 1415.48,965.697 1426.02,934.1 1436.55,1006.87 1447.09,1008.69 1457.62,888.375 1468.16,861.621 1478.69,859.464 \n",
       "  1489.23,947.251 1499.76,863.466 1510.3,972.967 1520.83,973.852 1531.37,959.779 1541.9,859.599 1552.43,955.128 1562.97,885.632 1573.5,986.129 1584.04,968.393 \n",
       "  1594.57,964.873 1605.11,994.382 1615.64,878.193 1626.18,963.631 1636.71,949.529 1647.25,853.706 1657.78,939.668 1668.32,852.117 1678.85,940.252 1689.39,998.16 \n",
       "  1699.92,936.287 1710.46,852.646 1720.99,1005.4 1731.52,854.3 1742.06,884.368 1752.59,860.265 1763.13,916.087 1773.66,882.097 1784.2,933.799 1794.73,943.204 \n",
       "  1805.27,928.307 1815.8,995.287 1826.34,982.715 1836.87,922.062 1847.41,879.792 1857.94,1014.55 1868.48,908.892 1879.01,874.829 1889.54,989.816 1900.08,947.24 \n",
       "  1910.61,984.577 1921.15,977.238 1931.68,1004.21 1942.22,940.432 1952.75,873.405 1963.29,914.079 1973.82,984.473 1984.36,971.288 1994.89,1011.62 2005.43,856.186 \n",
       "  2015.96,924.924 2026.5,996.621 2037.03,961.826 2047.57,928.813 2058.1,1013.13 2068.63,1009.67 2079.17,981.417 2089.7,947.958 2100.24,973.065 2110.77,967.795 \n",
       "  2121.31,881.341 2131.84,997.666 2142.38,906.455 2152.91,946.767 2163.45,861.83 2173.98,973.58 2184.52,908.766 2195.05,968.305 2205.59,865.388 2216.12,971.621 \n",
       "  2226.66,984.892 2237.19,957.883 2247.72,897.899 2258.26,907.134 2268.79,991.426 2279.33,918.66 2289.86,873.671 2300.4,920.485 2310.93,853.815 2321.47,950.886 \n",
       "  \n",
       "  \"/>\n",
       "<path clip-path=\"url(#clip4700)\" d=\"\n",
       "M47.2441 1286.09 L1152.76 1286.09 L1152.76 1113.91 L47.2441 1113.91  Z\n",
       "  \" fill=\"#ffffff\" fill-rule=\"evenodd\" fill-opacity=\"1\"/>\n",
       "<defs>\n",
       "  <clipPath id=\"clip4710\">\n",
       "    <rect x=\"47\" y=\"1113\" width=\"1107\" height=\"173\"/>\n",
       "  </clipPath>\n",
       "</defs>\n",
       "<polyline clip-path=\"url(#clip4700)\" style=\"stroke:#000000; stroke-width:4; stroke-opacity:1; fill:none\" points=\"\n",
       "  47.2441,1286.09 1152.76,1286.09 \n",
       "  \"/>\n",
       "<polyline clip-path=\"url(#clip4700)\" style=\"stroke:#000000; stroke-width:4; stroke-opacity:1; fill:none\" points=\"\n",
       "  47.2441,1286.09 47.2441,1113.91 \n",
       "  \"/>\n",
       "<polyline clip-path=\"url(#clip4710)\" style=\"stroke:#009af9; stroke-width:4; stroke-opacity:1; fill:none\" points=\"\n",
       "  78.5322,1170.25 89.0669,1118.98 99.6016,1177.82 110.136,1153.85 120.671,1133.02 131.206,1210.17 141.74,1244.3 152.275,1230.25 162.81,1242.85 173.344,1281.22 \n",
       "  183.879,1135.96 194.414,1137.31 204.949,1225.89 215.483,1235.44 226.018,1223.37 236.553,1162.95 247.087,1181.01 257.622,1122.45 268.157,1270.84 278.692,1280.23 \n",
       "  289.226,1246.03 299.761,1118.78 310.296,1129.58 320.83,1155.26 331.365,1162.08 341.9,1214.73 352.434,1159.28 362.969,1151.52 373.504,1126.05 384.039,1165.97 \n",
       "  394.573,1262.2 405.108,1183.79 415.643,1238.48 426.177,1268.13 436.712,1260.08 447.247,1247.41 457.781,1248.97 468.316,1194.97 478.851,1126.23 489.386,1242.36 \n",
       "  499.92,1257.42 510.455,1190.33 520.99,1181.41 531.524,1131.39 542.059,1167.15 552.594,1225.58 563.129,1172.7 573.663,1254.42 584.198,1239.77 594.733,1230.38 \n",
       "  605.267,1126.51 615.802,1237.59 626.337,1198.83 636.871,1275.48 647.406,1156.19 657.941,1240.2 668.476,1170.18 679.01,1164.52 689.545,1207.72 700.08,1206.64 \n",
       "  710.614,1242.18 721.149,1155.68 731.684,1132.13 742.219,1240.57 752.753,1223.65 763.288,1209.71 773.823,1203 784.357,1261.07 794.892,1281.17 805.427,1275.73 \n",
       "  815.961,1190.11 826.496,1269.7 837.031,1241.93 847.566,1223.69 858.1,1195.75 868.635,1193.99 879.17,1264.13 889.704,1171.5 900.239,1266.44 910.774,1263.56 \n",
       "  921.308,1164.85 931.843,1263.09 942.378,1225.89 952.913,1257.81 963.447,1179.74 973.982,1188.52 984.517,1229.63 995.051,1163.89 1005.59,1272.17 1016.12,1206.37 \n",
       "  1026.66,1177.8 1037.19,1124.88 1047.72,1236.28 1058.26,1189.64 1068.79,1128.12 1079.33,1238.2 1089.86,1213.48 1100.4,1231.56 1110.93,1174.12 1121.47,1280.72 \n",
       "  \n",
       "  \"/>\n",
       "<path clip-path=\"url(#clip4700)\" d=\"\n",
       "M1247.24 1286.09 L2352.76 1286.09 L2352.76 1113.91 L1247.24 1113.91  Z\n",
       "  \" fill=\"#ffffff\" fill-rule=\"evenodd\" fill-opacity=\"1\"/>\n",
       "<defs>\n",
       "  <clipPath id=\"clip4711\">\n",
       "    <rect x=\"1247\" y=\"1113\" width=\"1107\" height=\"173\"/>\n",
       "  </clipPath>\n",
       "</defs>\n",
       "<polyline clip-path=\"url(#clip4700)\" style=\"stroke:#000000; stroke-width:4; stroke-opacity:1; fill:none\" points=\"\n",
       "  1247.24,1286.09 2352.76,1286.09 \n",
       "  \"/>\n",
       "<polyline clip-path=\"url(#clip4700)\" style=\"stroke:#000000; stroke-width:4; stroke-opacity:1; fill:none\" points=\"\n",
       "  1247.24,1286.09 1247.24,1113.91 \n",
       "  \"/>\n",
       "<polyline clip-path=\"url(#clip4711)\" style=\"stroke:#009af9; stroke-width:4; stroke-opacity:1; fill:none\" points=\"\n",
       "  1278.53,1194.66 1289.07,1281.22 1299.6,1171.39 1310.14,1205.87 1320.67,1208.66 1331.21,1230.9 1341.74,1165.54 1352.28,1144.41 1362.81,1279.78 1373.34,1266.82 \n",
       "  1383.88,1169.76 1394.41,1155.61 1404.95,1206.32 1415.48,1138.06 1426.02,1118.78 1436.55,1139.08 1447.09,1236.32 1457.62,1169.69 1468.16,1246.61 1478.69,1268.95 \n",
       "  1489.23,1245.31 1499.76,1258.94 1510.3,1134.4 1520.83,1229.35 1531.37,1162 1541.9,1140.81 1552.43,1244.06 1562.97,1186.51 1573.5,1217.26 1584.04,1126.89 \n",
       "  1594.57,1164.39 1605.11,1231.53 1615.64,1191.72 1626.18,1195.81 1636.71,1231.23 1647.25,1182.49 1657.78,1248.94 1668.32,1156.45 1678.85,1209.89 1689.39,1128.65 \n",
       "  1699.92,1142.27 1710.46,1224.01 1720.99,1259.8 1731.52,1197.65 1742.06,1273.36 1752.59,1239.32 1763.13,1216.78 1773.66,1141.68 1784.2,1275.68 1794.73,1187.69 \n",
       "  1805.27,1130.82 1815.8,1192.92 1826.34,1134.06 1836.87,1223.49 1847.41,1172.77 1857.94,1190.76 1868.48,1218.46 1879.01,1215.08 1889.54,1255.24 1900.08,1139.97 \n",
       "  1910.61,1179.48 1921.15,1241.94 1931.68,1233.74 1942.22,1233.63 1952.75,1224.14 1963.29,1135.32 1973.82,1216.32 1984.36,1249.18 1994.89,1245.4 2005.43,1170.13 \n",
       "  2015.96,1224.59 2026.5,1277.5 2037.03,1264.64 2047.57,1140.5 2058.1,1174.59 2068.63,1231.62 2079.17,1127.53 2089.7,1281.19 2100.24,1262.11 2110.77,1193.23 \n",
       "  2121.31,1123.8 2131.84,1125.61 2142.38,1124.25 2152.91,1205.43 2163.45,1129.98 2173.98,1178.52 2184.52,1144.42 2195.05,1232.99 2205.59,1154.56 2216.12,1160.26 \n",
       "  2226.66,1174.28 2237.19,1133.8 2247.72,1274.85 2258.26,1185.07 2268.79,1151.86 2279.33,1126.42 2289.86,1217.56 2300.4,1217.24 2310.93,1120.53 2321.47,1231.85 \n",
       "  \n",
       "  \"/>\n",
       "<path clip-path=\"url(#clip4700)\" d=\"\n",
       "M47.2441 1552.76 L1152.76 1552.76 L1152.76 1380.58 L47.2441 1380.58  Z\n",
       "  \" fill=\"#ffffff\" fill-rule=\"evenodd\" fill-opacity=\"1\"/>\n",
       "<defs>\n",
       "  <clipPath id=\"clip4712\">\n",
       "    <rect x=\"47\" y=\"1380\" width=\"1107\" height=\"173\"/>\n",
       "  </clipPath>\n",
       "</defs>\n",
       "<polyline clip-path=\"url(#clip4700)\" style=\"stroke:#000000; stroke-width:4; stroke-opacity:1; fill:none\" points=\"\n",
       "  47.2441,1552.76 1152.76,1552.76 \n",
       "  \"/>\n",
       "<polyline clip-path=\"url(#clip4700)\" style=\"stroke:#000000; stroke-width:4; stroke-opacity:1; fill:none\" points=\"\n",
       "  47.2441,1552.76 47.2441,1380.58 \n",
       "  \"/>\n",
       "<polyline clip-path=\"url(#clip4712)\" style=\"stroke:#009af9; stroke-width:4; stroke-opacity:1; fill:none\" points=\"\n",
       "  78.5322,1525.43 89.0669,1415.44 99.6016,1529.42 110.136,1437.08 120.671,1520.82 131.206,1515.11 141.74,1517.06 152.275,1461.36 162.81,1471.31 173.344,1493.06 \n",
       "  183.879,1440.9 194.414,1526.09 204.949,1547.88 215.483,1542.67 226.018,1406.58 236.553,1535.42 247.087,1529.81 257.622,1499.08 268.157,1491.62 278.692,1502.13 \n",
       "  289.226,1544.79 299.761,1403.61 310.296,1429.37 320.83,1385.45 331.365,1498.69 341.9,1400.03 352.434,1418.69 362.969,1468.87 373.504,1533.84 384.039,1515.27 \n",
       "  394.573,1473.25 405.108,1399.02 415.643,1433.02 426.177,1483.81 436.712,1486.75 447.247,1498.67 457.781,1418.05 468.316,1488.77 478.851,1475.6 489.386,1496.41 \n",
       "  499.92,1464.18 510.455,1533.08 520.99,1540.15 531.524,1524 542.059,1407.13 552.594,1388.91 563.129,1475.2 573.663,1420.79 584.198,1418.86 594.733,1484.75 \n",
       "  605.267,1474.25 615.802,1544.67 626.337,1489.37 636.871,1519.89 647.406,1496.95 657.941,1435.25 668.476,1476.64 679.01,1467.29 689.545,1395.35 700.08,1458.94 \n",
       "  710.614,1409.31 721.149,1402.21 731.684,1477.23 742.219,1521.69 752.753,1438.82 763.288,1498.83 773.823,1543.85 784.357,1406.38 794.892,1426.02 805.427,1476.68 \n",
       "  815.961,1438.18 826.496,1501.5 837.031,1406.61 847.566,1512.11 858.1,1476.51 868.635,1402.09 879.17,1397.78 889.704,1462.89 900.239,1537.4 910.774,1461.96 \n",
       "  921.308,1520.42 931.843,1413.23 942.378,1518.49 952.913,1453.2 963.447,1416.26 973.982,1452.98 984.517,1397.67 995.051,1503.19 1005.59,1482.24 1016.12,1496.58 \n",
       "  1026.66,1392.65 1037.19,1531.06 1047.72,1405.89 1058.26,1430.14 1068.79,1460.96 1079.33,1492.27 1089.86,1430.68 1100.4,1396.88 1110.93,1391.39 1121.47,1480.69 \n",
       "  \n",
       "  \"/>\n",
       "<path clip-path=\"url(#clip4700)\" d=\"\n",
       "M1247.24 1552.76 L2352.76 1552.76 L2352.76 1380.58 L1247.24 1380.58  Z\n",
       "  \" fill=\"#ffffff\" fill-rule=\"evenodd\" fill-opacity=\"1\"/>\n",
       "<defs>\n",
       "  <clipPath id=\"clip4713\">\n",
       "    <rect x=\"1247\" y=\"1380\" width=\"1107\" height=\"173\"/>\n",
       "  </clipPath>\n",
       "</defs>\n",
       "<polyline clip-path=\"url(#clip4700)\" style=\"stroke:#000000; stroke-width:4; stroke-opacity:1; fill:none\" points=\"\n",
       "  1247.24,1552.76 2352.76,1552.76 \n",
       "  \"/>\n",
       "<polyline clip-path=\"url(#clip4700)\" style=\"stroke:#000000; stroke-width:4; stroke-opacity:1; fill:none\" points=\"\n",
       "  1247.24,1552.76 1247.24,1380.58 \n",
       "  \"/>\n",
       "<polyline clip-path=\"url(#clip4713)\" style=\"stroke:#009af9; stroke-width:4; stroke-opacity:1; fill:none\" points=\"\n",
       "  1278.53,1420.28 1289.07,1471.79 1299.6,1482.3 1310.14,1435.83 1320.67,1428.94 1331.21,1542.46 1341.74,1510 1352.28,1389.92 1362.81,1461.96 1373.34,1502.44 \n",
       "  1383.88,1542.23 1394.41,1547.88 1404.95,1423.87 1415.48,1511.97 1426.02,1395.59 1436.55,1453.08 1447.09,1434.01 1457.62,1396.37 1468.16,1464.77 1478.69,1531.54 \n",
       "  1489.23,1465.93 1499.76,1397.62 1510.3,1508.69 1520.83,1479.68 1531.37,1424.8 1541.9,1520.6 1552.43,1546.56 1562.97,1543.71 1573.5,1516.19 1584.04,1429.3 \n",
       "  1594.57,1492.91 1605.11,1461.97 1615.64,1545.39 1626.18,1391.21 1636.71,1418.95 1647.25,1526.23 1657.78,1505.73 1668.32,1473.16 1678.85,1502.39 1689.39,1413.51 \n",
       "  1699.92,1444.2 1710.46,1496.43 1720.99,1480.66 1731.52,1436.77 1742.06,1466.28 1752.59,1545.34 1763.13,1414.96 1773.66,1504.65 1784.2,1492.5 1794.73,1510.07 \n",
       "  1805.27,1434.14 1815.8,1398.06 1826.34,1547.47 1836.87,1496.13 1847.41,1393.52 1857.94,1411.01 1868.48,1469.51 1879.01,1508.15 1889.54,1502.46 1900.08,1538.26 \n",
       "  1910.61,1499.74 1921.15,1501.13 1931.68,1481.58 1942.22,1442.67 1952.75,1425.84 1963.29,1433.86 1973.82,1475.26 1984.36,1385.45 1994.89,1413.09 2005.43,1500.41 \n",
       "  2015.96,1536.84 2026.5,1408.12 2037.03,1472.78 2047.57,1545.19 2058.1,1457.48 2068.63,1444.89 2079.17,1535.08 2089.7,1431.9 2100.24,1462.6 2110.77,1478.33 \n",
       "  2121.31,1389.92 2131.84,1546.88 2142.38,1424.17 2152.91,1426.14 2163.45,1524.67 2173.98,1403.78 2184.52,1475.61 2195.05,1525.28 2205.59,1514.97 2216.12,1528.56 \n",
       "  2226.66,1474.38 2237.19,1411.02 2247.72,1424.08 2258.26,1444.97 2268.79,1447.5 2279.33,1477.67 2289.86,1412.83 2300.4,1464.55 2310.93,1405.89 2321.47,1492.96 \n",
       "  \n",
       "  \"/>\n",
       "</svg>\n"
      ]
     },
     "execution_count": 179,
     "metadata": {},
     "output_type": "execute_result"
    }
   ],
   "source": [
    "plot(rand(100,12), layout=(6,2), legend=false, ticks=false)"
   ]
  },
  {
   "cell_type": "code",
   "execution_count": 191,
   "metadata": {},
   "outputs": [
    {
     "ename": "MethodError",
     "evalue": "MethodError: no method matching iterate(::Surface{Array{Float64,2}})\nClosest candidates are:\n  iterate(!Matched::Core.SimpleVector) at essentials.jl:604\n  iterate(!Matched::Core.SimpleVector, !Matched::Any) at essentials.jl:604\n  iterate(!Matched::ExponentialBackOff) at error.jl:214\n  ...",
     "output_type": "error",
     "traceback": [
      "MethodError: no method matching iterate(::Surface{Array{Float64,2}})\nClosest candidates are:\n  iterate(!Matched::Core.SimpleVector) at essentials.jl:604\n  iterate(!Matched::Core.SimpleVector, !Matched::Any) at essentials.jl:604\n  iterate(!Matched::ExponentialBackOff) at error.jl:214\n  ...",
      "",
      "Stacktrace:",
      " [1] copyto!(::Array{Float64,1}, ::Surface{Array{Float64,2}}) at ./abstractarray.jl:722",
      " [2] _collect(::UnitRange{Int64}, ::Surface{Array{Float64,2}}, ::Base.HasEltype, ::Base.HasLength) at ./array.jl:550",
      " [3] collect(::Surface{Array{Float64,2}}) at ./array.jl:544",
      " [4] has_attribute_segments(::Plots.Series) at /opt/julia/packages/Plots/qZHsp/src/utils.jl:702",
      " [5] iter_segments(::Plots.Series) at /opt/julia/packages/Plots/qZHsp/src/utils.jl:202",
      " [6] gr_display(::Plots.Subplot{Plots.GRBackend}, ::Measures.Length{:mm,Float64}, ::Measures.Length{:mm,Float64}, ::Array{Float64,1}) at /opt/julia/packages/Plots/qZHsp/src/backends/gr.jl:1603",
      " [7] gr_display(::Plots.Plot{Plots.GRBackend}, ::String) at /opt/julia/packages/Plots/qZHsp/src/backends/gr.jl:713",
      " [8] _show(::Base.GenericIOBuffer{Array{UInt8,1}}, ::MIME{Symbol(\"image/svg+xml\")}, ::Plots.Plot{Plots.GRBackend}) at /opt/julia/packages/Plots/qZHsp/src/backends/gr.jl:1949",
      " [9] show(::Base.GenericIOBuffer{Array{UInt8,1}}, ::MIME{Symbol(\"image/svg+xml\")}, ::Plots.Plot{Plots.GRBackend}) at /opt/julia/packages/Plots/qZHsp/src/output.jl:199",
      " [10] #sprint#342(::Nothing, ::Int64, ::typeof(sprint), ::Function, ::MIME{Symbol(\"image/svg+xml\")}, ::Vararg{Any,N} where N) at ./strings/io.jl:107",
      " [11] sprint(::Function, ::MIME{Symbol(\"image/svg+xml\")}, ::Vararg{Any,N} where N) at ./strings/io.jl:103",
      " [12] _ijulia_display_dict(::Plots.Plot{Plots.GRBackend}) at /opt/julia/packages/Plots/qZHsp/src/ijulia.jl:53",
      " [13] display_dict(::Plots.Plot{Plots.GRBackend}) at /opt/julia/packages/Plots/qZHsp/src/init.jl:83",
      " [14] #invokelatest#1 at ./essentials.jl:790 [inlined]",
      " [15] invokelatest at ./essentials.jl:789 [inlined]",
      " [16] execute_request(::ZMQ.Socket, ::IJulia.Msg) at /opt/julia/packages/IJulia/F1GUo/src/execute_request.jl:112",
      " [17] #invokelatest#1 at ./essentials.jl:790 [inlined]",
      " [18] invokelatest at ./essentials.jl:789 [inlined]",
      " [19] eventloop(::ZMQ.Socket) at /opt/julia/packages/IJulia/F1GUo/src/eventloop.jl:8",
      " [20] (::getfield(IJulia, Symbol(\"##15#18\")))() at ./task.jl:268"
     ]
    }
   ],
   "source": [
    "x = 0:10:100\n",
    "y = x/2\n",
    "plot(x, y, (x, y) -> sin(x)+cos(y), nlevels=10, fill=true)"
   ]
  },
  {
   "cell_type": "code",
   "execution_count": 184,
   "metadata": {},
   "outputs": [
    {
     "name": "stdout",
     "output_type": "stream",
     "text": [
      "search: \u001b[0m\u001b[1mc\u001b[22m\u001b[0m\u001b[1mo\u001b[22m\u001b[0m\u001b[1mn\u001b[22m\u001b[0m\u001b[1mt\u001b[22m\u001b[0m\u001b[1mo\u001b[22m\u001b[0m\u001b[1mu\u001b[22m\u001b[0m\u001b[1mr\u001b[22m \u001b[0m\u001b[1mc\u001b[22m\u001b[0m\u001b[1mo\u001b[22m\u001b[0m\u001b[1mn\u001b[22m\u001b[0m\u001b[1mt\u001b[22m\u001b[0m\u001b[1mo\u001b[22m\u001b[0m\u001b[1mu\u001b[22m\u001b[0m\u001b[1mr\u001b[22mf \u001b[0m\u001b[1mc\u001b[22m\u001b[0m\u001b[1mo\u001b[22m\u001b[0m\u001b[1mn\u001b[22m\u001b[0m\u001b[1mt\u001b[22m\u001b[0m\u001b[1mo\u001b[22m\u001b[0m\u001b[1mu\u001b[22m\u001b[0m\u001b[1mr\u001b[22m! \u001b[0m\u001b[1mc\u001b[22m\u001b[0m\u001b[1mo\u001b[22m\u001b[0m\u001b[1mn\u001b[22m\u001b[0m\u001b[1mt\u001b[22m\u001b[0m\u001b[1mo\u001b[22m\u001b[0m\u001b[1mu\u001b[22m\u001b[0m\u001b[1mr\u001b[22mf! \u001b[0m\u001b[1mc\u001b[22m\u001b[0m\u001b[1mo\u001b[22m\u001b[0m\u001b[1mn\u001b[22m\u001b[0m\u001b[1mt\u001b[22m\u001b[0m\u001b[1mo\u001b[22m\u001b[0m\u001b[1mu\u001b[22m\u001b[0m\u001b[1mr\u001b[22m3d \u001b[0m\u001b[1mc\u001b[22m\u001b[0m\u001b[1mo\u001b[22m\u001b[0m\u001b[1mn\u001b[22m\u001b[0m\u001b[1mt\u001b[22m\u001b[0m\u001b[1mo\u001b[22m\u001b[0m\u001b[1mu\u001b[22m\u001b[0m\u001b[1mr\u001b[22m3d! \u001b[0m\u001b[1mc\u001b[22m\u001b[0m\u001b[1mo\u001b[22mu\u001b[0m\u001b[1mn\u001b[22m\u001b[0m\u001b[1mt\u001b[22m_\u001b[0m\u001b[1mo\u001b[22mnes\n",
      "\n"
     ]
    },
    {
     "data": {
      "text/latex": [
       "\\begin{verbatim}\n",
       "contour(x,y,z)\n",
       "contour!(x,y,z)\n",
       "\\end{verbatim}\n",
       "Draw contour lines of the \\texttt{Surface} z.\n",
       "\n",
       "\\section{Arguments}\n",
       "\\begin{itemize}\n",
       "\\item \\texttt{levels}: Contour levels (if \\texttt{AbstractVector}) or number of levels (if \\texttt{Integer})\n",
       "\n",
       "\n",
       "\\item \\texttt{fill}: Bool. Fill area between contours or draw contours only (false by default)\n",
       "\n",
       "\\end{itemize}\n",
       "\\section{Example}\n",
       "\\begin{verbatim}\n",
       "julia> x = y = range(-20, 20, length = 100)\n",
       "julia> contour(x, y, (x, y) -> x^2 + y^2)\n",
       "\\end{verbatim}\n"
      ],
      "text/markdown": [
       "```\n",
       "contour(x,y,z)\n",
       "contour!(x,y,z)\n",
       "```\n",
       "\n",
       "Draw contour lines of the `Surface` z.\n",
       "\n",
       "# Arguments\n",
       "\n",
       "  * `levels`: Contour levels (if `AbstractVector`) or number of levels (if `Integer`)\n",
       "  * `fill`: Bool. Fill area between contours or draw contours only (false by default)\n",
       "\n",
       "# Example\n",
       "\n",
       "```julia-repl\n",
       "julia> x = y = range(-20, 20, length = 100)\n",
       "julia> contour(x, y, (x, y) -> x^2 + y^2)\n",
       "```\n"
      ],
      "text/plain": [
       "\u001b[36m  contour(x,y,z)\u001b[39m\n",
       "\u001b[36m  contour!(x,y,z)\u001b[39m\n",
       "\n",
       "  Draw contour lines of the \u001b[36mSurface\u001b[39m z.\n",
       "\n",
       "\u001b[1m  Arguments\u001b[22m\n",
       "\u001b[1m  ≡≡≡≡≡≡≡≡≡≡≡\u001b[22m\n",
       "\n",
       "    •    \u001b[36mlevels\u001b[39m: Contour levels (if \u001b[36mAbstractVector\u001b[39m) or number of levels (if\n",
       "        \u001b[36mInteger\u001b[39m)\n",
       "\n",
       "    •    \u001b[36mfill\u001b[39m: Bool. Fill area between contours or draw contours only\n",
       "        (false by default)\n",
       "\n",
       "\u001b[1m  Example\u001b[22m\n",
       "\u001b[1m  ≡≡≡≡≡≡≡≡≡\u001b[22m\n",
       "\n",
       "\u001b[36m  julia> x = y = range(-20, 20, length = 100)\u001b[39m\n",
       "\u001b[36m  julia> contour(x, y, (x, y) -> x^2 + y^2)\u001b[39m"
      ]
     },
     "execution_count": 184,
     "metadata": {},
     "output_type": "execute_result"
    }
   ],
   "source": [
    "?contour"
   ]
  },
  {
   "cell_type": "code",
   "execution_count": 8,
   "metadata": {},
   "outputs": [
    {
     "data": {
      "text/plain": [
       "Dense(2, 1, σ)"
      ]
     },
     "execution_count": 8,
     "metadata": {},
     "output_type": "execute_result"
    }
   ],
   "source": [
    "model = Dense(2, 1, σ)"
   ]
  },
  {
   "cell_type": "code",
   "execution_count": 9,
   "metadata": {},
   "outputs": [
    {
     "data": {
      "text/plain": [
       "1×2 Array{Float32,2}:\n",
       " 0.98265  -1.20867"
      ]
     },
     "execution_count": 9,
     "metadata": {},
     "output_type": "execute_result"
    }
   ],
   "source": [
    "model.W"
   ]
  },
  {
   "cell_type": "code",
   "execution_count": 10,
   "metadata": {},
   "outputs": [
    {
     "data": {
      "text/plain": [
       "1-element Array{Float32,1}:\n",
       " 0.0"
      ]
     },
     "execution_count": 10,
     "metadata": {},
     "output_type": "execute_result"
    }
   ],
   "source": [
    "model.b"
   ]
  },
  {
   "cell_type": "code",
   "execution_count": 11,
   "metadata": {},
   "outputs": [
    {
     "data": {
      "text/plain": [
       "Array{Float32,2}"
      ]
     },
     "execution_count": 11,
     "metadata": {},
     "output_type": "execute_result"
    }
   ],
   "source": [
    "typeof(model.W)"
   ]
  },
  {
   "cell_type": "code",
   "execution_count": 12,
   "metadata": {},
   "outputs": [
    {
     "data": {
      "text/plain": [
       "1-element Array{Float32,1}:\n",
       " 0.64563525"
      ]
     },
     "execution_count": 12,
     "metadata": {},
     "output_type": "execute_result"
    }
   ],
   "source": [
    "x = rand(2)\n",
    "model(x)"
   ]
  },
  {
   "cell_type": "code",
   "execution_count": 13,
   "metadata": {},
   "outputs": [
    {
     "data": {
      "text/plain": [
       "1-element Array{Float64,1}:\n",
       " 0.6456351999405945"
      ]
     },
     "execution_count": 13,
     "metadata": {},
     "output_type": "execute_result"
    }
   ],
   "source": [
    "σ.(model.W*x + model.b)"
   ]
  },
  {
   "cell_type": "code",
   "execution_count": 14,
   "metadata": {},
   "outputs": [
    {
     "data": {
      "text/html": [
       "1 method for generic function <b>mse</b>:<ul><li> mse(ŷ, y) in Flux at <a href=\"file:///opt/julia/packages/Flux/oX9Pi/src/layers/stateless.jl\" target=\"_blank\">/opt/julia/packages/Flux/oX9Pi/src/layers/stateless.jl:6</a></li> </ul>"
      ],
      "text/plain": [
       "# 1 method for generic function \"mse\":\n",
       "[1] mse(ŷ, y) in Flux at /opt/julia/packages/Flux/oX9Pi/src/layers/stateless.jl:6"
      ]
     },
     "execution_count": 14,
     "metadata": {},
     "output_type": "execute_result"
    }
   ],
   "source": [
    "methods(Flux.mse)"
   ]
  },
  {
   "cell_type": "code",
   "execution_count": 21,
   "metadata": {},
   "outputs": [
    {
     "data": {
      "text/plain": [
       "(1, 2)"
      ]
     },
     "execution_count": 21,
     "metadata": {},
     "output_type": "execute_result"
    }
   ],
   "source": [
    "size(model.W)"
   ]
  },
  {
   "cell_type": "code",
   "execution_count": 36,
   "metadata": {},
   "outputs": [
    {
     "data": {
      "text/latex": [
       "No documentation found.\n",
       "\n",
       "Binding \\texttt{Flux.SGD} does not exist.\n",
       "\n"
      ],
      "text/markdown": [
       "No documentation found.\n",
       "\n",
       "Binding `Flux.SGD` does not exist.\n"
      ],
      "text/plain": [
       "  No documentation found.\n",
       "\n",
       "  Binding \u001b[36mFlux.SGD\u001b[39m does not exist."
      ]
     },
     "execution_count": 36,
     "metadata": {},
     "output_type": "execute_result"
    }
   ],
   "source": [
    "?Flux.SGD"
   ]
  },
  {
   "cell_type": "code",
   "execution_count": 38,
   "metadata": {},
   "outputs": [
    {
     "data": {
      "text/latex": [
       "\\begin{verbatim}\n",
       "train!(loss, params, data, opt; cb)\n",
       "\\end{verbatim}\n",
       "For each datapoint \\texttt{d} in \\texttt{data} computes the gradient of \\texttt{loss(d...)} through backpropagation and calls the optimizer \\texttt{opt}.\n",
       "\n",
       "Takes a callback as keyword argument \\texttt{cb}. For example, this will print \"training\" every 10 seconds:\n",
       "\n",
       "\\begin{verbatim}\n",
       "Flux.train!(loss, params, data, opt,\n",
       "            cb = throttle(() -> println(\"training\"), 10))\n",
       "\\end{verbatim}\n",
       "The callback can call \\texttt{Flux.stop()} to interrupt the training loop.\n",
       "\n",
       "Multiple optimisers and callbacks can be passed to \\texttt{opt} and \\texttt{cb} as arrays.\n",
       "\n"
      ],
      "text/markdown": [
       "```\n",
       "train!(loss, params, data, opt; cb)\n",
       "```\n",
       "\n",
       "For each datapoint `d` in `data` computes the gradient of `loss(d...)` through backpropagation and calls the optimizer `opt`.\n",
       "\n",
       "Takes a callback as keyword argument `cb`. For example, this will print \"training\" every 10 seconds:\n",
       "\n",
       "```julia\n",
       "Flux.train!(loss, params, data, opt,\n",
       "            cb = throttle(() -> println(\"training\"), 10))\n",
       "```\n",
       "\n",
       "The callback can call `Flux.stop()` to interrupt the training loop.\n",
       "\n",
       "Multiple optimisers and callbacks can be passed to `opt` and `cb` as arrays.\n"
      ],
      "text/plain": [
       "\u001b[36m  train!(loss, params, data, opt; cb)\u001b[39m\n",
       "\n",
       "  For each datapoint \u001b[36md\u001b[39m in \u001b[36mdata\u001b[39m computes the gradient of \u001b[36mloss(d...)\u001b[39m through\n",
       "  backpropagation and calls the optimizer \u001b[36mopt\u001b[39m.\n",
       "\n",
       "  Takes a callback as keyword argument \u001b[36mcb\u001b[39m. For example, this will print\n",
       "  \"training\" every 10 seconds:\n",
       "\n",
       "\u001b[36m  Flux.train!(loss, params, data, opt,\u001b[39m\n",
       "\u001b[36m              cb = throttle(() -> println(\"training\"), 10))\u001b[39m\n",
       "\n",
       "  The callback can call \u001b[36mFlux.stop()\u001b[39m to interrupt the training loop.\n",
       "\n",
       "  Multiple optimisers and callbacks can be passed to \u001b[36mopt\u001b[39m and \u001b[36mcb\u001b[39m as arrays."
      ]
     },
     "execution_count": 38,
     "metadata": {},
     "output_type": "execute_result"
    }
   ],
   "source": [
    "?Flux.train!"
   ]
  },
  {
   "cell_type": "code",
   "execution_count": null,
   "metadata": {},
   "outputs": [],
   "source": []
  }
 ],
 "metadata": {
  "kernelspec": {
   "display_name": "Julia 1.2.0",
   "language": "julia",
   "name": "julia-1.2"
  },
  "language_info": {
   "file_extension": ".jl",
   "mimetype": "application/julia",
   "name": "julia",
   "version": "1.2.0"
  }
 },
 "nbformat": 4,
 "nbformat_minor": 4
}
