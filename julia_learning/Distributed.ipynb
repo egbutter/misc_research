{
 "cells": [
  {
   "cell_type": "code",
   "execution_count": 1,
   "metadata": {},
   "outputs": [],
   "source": [
    "using Distributed, LinearAlgebra, Statistics"
   ]
  },
  {
   "cell_type": "code",
   "execution_count": 2,
   "metadata": {},
   "outputs": [
    {
     "data": {
      "text/plain": [
       "1"
      ]
     },
     "execution_count": 2,
     "metadata": {},
     "output_type": "execute_result"
    }
   ],
   "source": [
    "nprocs()"
   ]
  },
  {
   "cell_type": "code",
   "execution_count": 3,
   "metadata": {},
   "outputs": [
    {
     "data": {
      "text/plain": [
       "4-element Array{Int64,1}:\n",
       " 2\n",
       " 3\n",
       " 4\n",
       " 5"
      ]
     },
     "execution_count": 3,
     "metadata": {},
     "output_type": "execute_result"
    }
   ],
   "source": [
    "addprocs(4)"
   ]
  },
  {
   "cell_type": "code",
   "execution_count": 4,
   "metadata": {},
   "outputs": [
    {
     "data": {
      "text/plain": [
       "5"
      ]
     },
     "execution_count": 4,
     "metadata": {},
     "output_type": "execute_result"
    }
   ],
   "source": [
    "nprocs()"
   ]
  },
  {
   "cell_type": "code",
   "execution_count": 5,
   "metadata": {},
   "outputs": [],
   "source": [
    "A = rand(100);"
   ]
  },
  {
   "cell_type": "code",
   "execution_count": 6,
   "metadata": {},
   "outputs": [
    {
     "data": {
      "text/plain": [
       "47.03562619033149"
      ]
     },
     "execution_count": 6,
     "metadata": {},
     "output_type": "execute_result"
    }
   ],
   "source": [
    "sum(A)"
   ]
  },
  {
   "cell_type": "code",
   "execution_count": 7,
   "metadata": {},
   "outputs": [
    {
     "data": {
      "text/plain": [
       "0.4703562619033149"
      ]
     },
     "execution_count": 7,
     "metadata": {},
     "output_type": "execute_result"
    }
   ],
   "source": [
    "mean(A)"
   ]
  },
  {
   "cell_type": "code",
   "execution_count": 8,
   "metadata": {},
   "outputs": [
    {
     "name": "stdout",
     "output_type": "stream",
     "text": [
      "search: \u001b[0m\u001b[1mp\u001b[22m\u001b[0m\u001b[1mm\u001b[22m\u001b[0m\u001b[1ma\u001b[22m\u001b[0m\u001b[1mp\u001b[22m \u001b[0m\u001b[1mp\u001b[22mro\u001b[0m\u001b[1mm\u001b[22mote_sh\u001b[0m\u001b[1ma\u001b[22m\u001b[0m\u001b[1mp\u001b[22me ty\u001b[0m\u001b[1mp\u001b[22me\u001b[0m\u001b[1mm\u001b[22m\u001b[0m\u001b[1ma\u001b[22mx \u001b[0m\u001b[1mP\u001b[22mer\u001b[0m\u001b[1mm\u001b[22mutedDims\u001b[0m\u001b[1mA\u001b[22mrray \u001b[0m\u001b[1mp\u001b[22mrocess_\u001b[0m\u001b[1mm\u001b[22mess\u001b[0m\u001b[1ma\u001b[22mges\n",
      "\n"
     ]
    },
    {
     "data": {
      "text/latex": [
       "\\begin{verbatim}\n",
       "pmap(f, [::AbstractWorkerPool], c...; distributed=true, batch_size=1, on_error=nothing, retry_delays=[], retry_check=nothing) -> collection\n",
       "\\end{verbatim}\n",
       "Transform collection \\texttt{c} by applying \\texttt{f} to each element using available workers and tasks.\n",
       "\n",
       "For multiple collection arguments, apply \\texttt{f} elementwise.\n",
       "\n",
       "Note that \\texttt{f} must be made available to all worker processes; see \\href{@ref code-availability}{Code Availability and Loading Packages} for details.\n",
       "\n",
       "If a worker pool is not specified, all available workers, i.e., the default worker pool is used.\n",
       "\n",
       "By default, \\texttt{pmap} distributes the computation over all specified workers. To use only the local process and distribute over tasks, specify \\texttt{distributed=false}. This is equivalent to using \\href{@ref}{\\texttt{asyncmap}}. For example, \\texttt{pmap(f, c; distributed=false)} is equivalent to \\texttt{asyncmap(f,c; ntasks=()->nworkers())}\n",
       "\n",
       "\\texttt{pmap} can also use a mix of processes and tasks via the \\texttt{batch\\_size} argument. For batch sizes greater than 1, the collection is processed in multiple batches, each of length \\texttt{batch\\_size} or less. A batch is sent as a single request to a free worker, where a local \\href{@ref}{\\texttt{asyncmap}} processes elements from the batch using multiple concurrent tasks.\n",
       "\n",
       "Any error stops \\texttt{pmap} from processing the remainder of the collection. To override this behavior you can specify an error handling function via argument \\texttt{on\\_error} which takes in a single argument, i.e., the exception. The function can stop the processing by rethrowing the error, or, to continue, return any value which is then returned inline with the results to the caller.\n",
       "\n",
       "Consider the following two examples. The first one returns the exception object inline, the second a 0 in place of any exception:\n",
       "\n",
       "\\begin{verbatim}\n",
       "julia> pmap(x->iseven(x) ? error(\"foo\") : x, 1:4; on_error=identity)\n",
       "4-element Array{Any,1}:\n",
       " 1\n",
       "  ErrorException(\"foo\")\n",
       " 3\n",
       "  ErrorException(\"foo\")\n",
       "\n",
       "julia> pmap(x->iseven(x) ? error(\"foo\") : x, 1:4; on_error=ex->0)\n",
       "4-element Array{Int64,1}:\n",
       " 1\n",
       " 0\n",
       " 3\n",
       " 0\n",
       "\\end{verbatim}\n",
       "Errors can also be handled by retrying failed computations. Keyword arguments \\texttt{retry\\_delays} and \\texttt{retry\\_check} are passed through to \\href{@ref}{\\texttt{retry}} as keyword arguments \\texttt{delays} and \\texttt{check} respectively. If batching is specified, and an entire batch fails, all items in the batch are retried.\n",
       "\n",
       "Note that if both \\texttt{on\\_error} and \\texttt{retry\\_delays} are specified, the \\texttt{on\\_error} hook is called before retrying. If \\texttt{on\\_error} does not throw (or rethrow) an exception, the element will not be retried.\n",
       "\n",
       "Example: On errors, retry \\texttt{f} on an element a maximum of 3 times without any delay between retries.\n",
       "\n",
       "\\begin{verbatim}\n",
       "pmap(f, c; retry_delays = zeros(3))\n",
       "\\end{verbatim}\n",
       "Example: Retry \\texttt{f} only if the exception is not of type \\href{@ref}{\\texttt{InexactError}}, with exponentially increasing delays up to 3 times. Return a \\texttt{NaN} in place for all \\texttt{InexactError} occurrences.\n",
       "\n",
       "\\begin{verbatim}\n",
       "pmap(f, c; on_error = e->(isa(e, InexactError) ? NaN : rethrow()), retry_delays = ExponentialBackOff(n = 3))\n",
       "\\end{verbatim}\n"
      ],
      "text/markdown": [
       "```\n",
       "pmap(f, [::AbstractWorkerPool], c...; distributed=true, batch_size=1, on_error=nothing, retry_delays=[], retry_check=nothing) -> collection\n",
       "```\n",
       "\n",
       "Transform collection `c` by applying `f` to each element using available workers and tasks.\n",
       "\n",
       "For multiple collection arguments, apply `f` elementwise.\n",
       "\n",
       "Note that `f` must be made available to all worker processes; see [Code Availability and Loading Packages](@ref code-availability) for details.\n",
       "\n",
       "If a worker pool is not specified, all available workers, i.e., the default worker pool is used.\n",
       "\n",
       "By default, `pmap` distributes the computation over all specified workers. To use only the local process and distribute over tasks, specify `distributed=false`. This is equivalent to using [`asyncmap`](@ref). For example, `pmap(f, c; distributed=false)` is equivalent to `asyncmap(f,c; ntasks=()->nworkers())`\n",
       "\n",
       "`pmap` can also use a mix of processes and tasks via the `batch_size` argument. For batch sizes greater than 1, the collection is processed in multiple batches, each of length `batch_size` or less. A batch is sent as a single request to a free worker, where a local [`asyncmap`](@ref) processes elements from the batch using multiple concurrent tasks.\n",
       "\n",
       "Any error stops `pmap` from processing the remainder of the collection. To override this behavior you can specify an error handling function via argument `on_error` which takes in a single argument, i.e., the exception. The function can stop the processing by rethrowing the error, or, to continue, return any value which is then returned inline with the results to the caller.\n",
       "\n",
       "Consider the following two examples. The first one returns the exception object inline, the second a 0 in place of any exception:\n",
       "\n",
       "```julia-repl\n",
       "julia> pmap(x->iseven(x) ? error(\"foo\") : x, 1:4; on_error=identity)\n",
       "4-element Array{Any,1}:\n",
       " 1\n",
       "  ErrorException(\"foo\")\n",
       " 3\n",
       "  ErrorException(\"foo\")\n",
       "\n",
       "julia> pmap(x->iseven(x) ? error(\"foo\") : x, 1:4; on_error=ex->0)\n",
       "4-element Array{Int64,1}:\n",
       " 1\n",
       " 0\n",
       " 3\n",
       " 0\n",
       "```\n",
       "\n",
       "Errors can also be handled by retrying failed computations. Keyword arguments `retry_delays` and `retry_check` are passed through to [`retry`](@ref) as keyword arguments `delays` and `check` respectively. If batching is specified, and an entire batch fails, all items in the batch are retried.\n",
       "\n",
       "Note that if both `on_error` and `retry_delays` are specified, the `on_error` hook is called before retrying. If `on_error` does not throw (or rethrow) an exception, the element will not be retried.\n",
       "\n",
       "Example: On errors, retry `f` on an element a maximum of 3 times without any delay between retries.\n",
       "\n",
       "```julia\n",
       "pmap(f, c; retry_delays = zeros(3))\n",
       "```\n",
       "\n",
       "Example: Retry `f` only if the exception is not of type [`InexactError`](@ref), with exponentially increasing delays up to 3 times. Return a `NaN` in place for all `InexactError` occurrences.\n",
       "\n",
       "```julia\n",
       "pmap(f, c; on_error = e->(isa(e, InexactError) ? NaN : rethrow()), retry_delays = ExponentialBackOff(n = 3))\n",
       "```\n"
      ],
      "text/plain": [
       "\u001b[36m  pmap(f, [::AbstractWorkerPool], c...; distributed=true, batch_size=1, on_error=nothing, retry_delays=[], retry_check=nothing) -> collection\u001b[39m\n",
       "\n",
       "  Transform collection \u001b[36mc\u001b[39m by applying \u001b[36mf\u001b[39m to each element using available workers\n",
       "  and tasks.\n",
       "\n",
       "  For multiple collection arguments, apply \u001b[36mf\u001b[39m elementwise.\n",
       "\n",
       "  Note that \u001b[36mf\u001b[39m must be made available to all worker processes; see Code\n",
       "  Availability and Loading Packages for details.\n",
       "\n",
       "  If a worker pool is not specified, all available workers, i.e., the default\n",
       "  worker pool is used.\n",
       "\n",
       "  By default, \u001b[36mpmap\u001b[39m distributes the computation over all specified workers. To\n",
       "  use only the local process and distribute over tasks, specify\n",
       "  \u001b[36mdistributed=false\u001b[39m. This is equivalent to using \u001b[36masyncmap\u001b[39m. For example,\n",
       "  \u001b[36mpmap(f, c; distributed=false)\u001b[39m is equivalent to \u001b[36masyncmap(f,c;\n",
       "  ntasks=()->nworkers())\u001b[39m\n",
       "\n",
       "  \u001b[36mpmap\u001b[39m can also use a mix of processes and tasks via the \u001b[36mbatch_size\u001b[39m argument.\n",
       "  For batch sizes greater than 1, the collection is processed in multiple\n",
       "  batches, each of length \u001b[36mbatch_size\u001b[39m or less. A batch is sent as a single\n",
       "  request to a free worker, where a local \u001b[36masyncmap\u001b[39m processes elements from the\n",
       "  batch using multiple concurrent tasks.\n",
       "\n",
       "  Any error stops \u001b[36mpmap\u001b[39m from processing the remainder of the collection. To\n",
       "  override this behavior you can specify an error handling function via\n",
       "  argument \u001b[36mon_error\u001b[39m which takes in a single argument, i.e., the exception. The\n",
       "  function can stop the processing by rethrowing the error, or, to continue,\n",
       "  return any value which is then returned inline with the results to the\n",
       "  caller.\n",
       "\n",
       "  Consider the following two examples. The first one returns the exception\n",
       "  object inline, the second a 0 in place of any exception:\n",
       "\n",
       "\u001b[36m  julia> pmap(x->iseven(x) ? error(\"foo\") : x, 1:4; on_error=identity)\u001b[39m\n",
       "\u001b[36m  4-element Array{Any,1}:\u001b[39m\n",
       "\u001b[36m   1\u001b[39m\n",
       "\u001b[36m    ErrorException(\"foo\")\u001b[39m\n",
       "\u001b[36m   3\u001b[39m\n",
       "\u001b[36m    ErrorException(\"foo\")\u001b[39m\n",
       "\u001b[36m  \u001b[39m\n",
       "\u001b[36m  julia> pmap(x->iseven(x) ? error(\"foo\") : x, 1:4; on_error=ex->0)\u001b[39m\n",
       "\u001b[36m  4-element Array{Int64,1}:\u001b[39m\n",
       "\u001b[36m   1\u001b[39m\n",
       "\u001b[36m   0\u001b[39m\n",
       "\u001b[36m   3\u001b[39m\n",
       "\u001b[36m   0\u001b[39m\n",
       "\n",
       "  Errors can also be handled by retrying failed computations. Keyword\n",
       "  arguments \u001b[36mretry_delays\u001b[39m and \u001b[36mretry_check\u001b[39m are passed through to \u001b[36mretry\u001b[39m as\n",
       "  keyword arguments \u001b[36mdelays\u001b[39m and \u001b[36mcheck\u001b[39m respectively. If batching is specified,\n",
       "  and an entire batch fails, all items in the batch are retried.\n",
       "\n",
       "  Note that if both \u001b[36mon_error\u001b[39m and \u001b[36mretry_delays\u001b[39m are specified, the \u001b[36mon_error\u001b[39m hook\n",
       "  is called before retrying. If \u001b[36mon_error\u001b[39m does not throw (or rethrow) an\n",
       "  exception, the element will not be retried.\n",
       "\n",
       "  Example: On errors, retry \u001b[36mf\u001b[39m on an element a maximum of 3 times without any\n",
       "  delay between retries.\n",
       "\n",
       "\u001b[36m  pmap(f, c; retry_delays = zeros(3))\u001b[39m\n",
       "\n",
       "  Example: Retry \u001b[36mf\u001b[39m only if the exception is not of type \u001b[36mInexactError\u001b[39m, with\n",
       "  exponentially increasing delays up to 3 times. Return a \u001b[36mNaN\u001b[39m in place for all\n",
       "  \u001b[36mInexactError\u001b[39m occurrences.\n",
       "\n",
       "\u001b[36m  pmap(f, c; on_error = e->(isa(e, InexactError) ? NaN : rethrow()), retry_delays = ExponentialBackOff(n = 3))\u001b[39m"
      ]
     },
     "execution_count": 8,
     "metadata": {},
     "output_type": "execute_result"
    }
   ],
   "source": [
    "?pmap"
   ]
  },
  {
   "cell_type": "code",
   "execution_count": null,
   "metadata": {},
   "outputs": [],
   "source": []
  },
  {
   "cell_type": "code",
   "execution_count": null,
   "metadata": {},
   "outputs": [],
   "source": []
  },
  {
   "cell_type": "code",
   "execution_count": 9,
   "metadata": {},
   "outputs": [
    {
     "data": {
      "text/plain": [
       "Future(2, 1, 7, nothing)"
      ]
     },
     "execution_count": 9,
     "metadata": {},
     "output_type": "execute_result"
    }
   ],
   "source": [
    "r1 = remotecall(rand, 2, 2, 2)\n",
    "r2 = remotecall(rand, 2, 1:8, 3, 4)"
   ]
  },
  {
   "cell_type": "code",
   "execution_count": 10,
   "metadata": {},
   "outputs": [
    {
     "data": {
      "text/plain": [
       "2×2 Array{Float64,2}:\n",
       " 0.984883   0.0781281\n",
       " 0.0874078  0.524966"
      ]
     },
     "execution_count": 10,
     "metadata": {},
     "output_type": "execute_result"
    }
   ],
   "source": [
    "fetch(r1)"
   ]
  },
  {
   "cell_type": "code",
   "execution_count": 11,
   "metadata": {},
   "outputs": [
    {
     "data": {
      "text/plain": [
       "3×4 Array{Int64,2}:\n",
       " 6  7  6  2\n",
       " 2  2  5  4\n",
       " 8  2  2  4"
      ]
     },
     "execution_count": 11,
     "metadata": {},
     "output_type": "execute_result"
    }
   ],
   "source": [
    "fetch(r2)"
   ]
  },
  {
   "cell_type": "code",
   "execution_count": 12,
   "metadata": {},
   "outputs": [
    {
     "data": {
      "text/plain": [
       "Future(2, 1, 6, Some([0.98488338931112 0.07812808525097914; 0.08740779845484892 0.5249656669290184]))"
      ]
     },
     "execution_count": 12,
     "metadata": {},
     "output_type": "execute_result"
    }
   ],
   "source": [
    "r1"
   ]
  },
  {
   "cell_type": "code",
   "execution_count": 13,
   "metadata": {},
   "outputs": [
    {
     "data": {
      "text/plain": [
       "Future"
      ]
     },
     "execution_count": 13,
     "metadata": {},
     "output_type": "execute_result"
    }
   ],
   "source": [
    "typeof(r1)"
   ]
  },
  {
   "cell_type": "code",
   "execution_count": 14,
   "metadata": {},
   "outputs": [
    {
     "data": {
      "text/plain": [
       "2×2 Array{Float64,2}:\n",
       " 0.984883   0.0781281\n",
       " 0.0874078  0.524966"
      ]
     },
     "execution_count": 14,
     "metadata": {},
     "output_type": "execute_result"
    }
   ],
   "source": [
    "r3 = fetch(r1)"
   ]
  },
  {
   "cell_type": "code",
   "execution_count": 15,
   "metadata": {},
   "outputs": [
    {
     "data": {
      "text/plain": [
       "Future(3, 1, 11, nothing)"
      ]
     },
     "execution_count": 15,
     "metadata": {},
     "output_type": "execute_result"
    }
   ],
   "source": [
    "s2 = @spawnat 2 rand(2, 2)\n",
    "s3 = @spawnat 3 1 .+ fetch(s2)"
   ]
  },
  {
   "cell_type": "code",
   "execution_count": 16,
   "metadata": {},
   "outputs": [
    {
     "data": {
      "text/plain": [
       "2×2 Array{Float64,2}:\n",
       " 1.34205  1.63544\n",
       " 1.18633  1.65805"
      ]
     },
     "execution_count": 16,
     "metadata": {},
     "output_type": "execute_result"
    }
   ],
   "source": [
    "fetch(s3)"
   ]
  },
  {
   "cell_type": "code",
   "execution_count": 17,
   "metadata": {},
   "outputs": [
    {
     "data": {
      "text/latex": [
       "\\begin{verbatim}\n",
       "@everywhere [procs()] expr\n",
       "\\end{verbatim}\n",
       "Execute an expression under \\texttt{Main} on all \\texttt{procs}. Errors on any of the processes are collected into a \\href{@ref}{\\texttt{CompositeException}} and thrown. For example:\n",
       "\n",
       "\\begin{verbatim}\n",
       "@everywhere bar = 1\n",
       "\\end{verbatim}\n",
       "will define \\texttt{Main.bar} on all processes.\n",
       "\n",
       "Unlike \\href{@ref}{\\texttt{@spawnat}}, \\texttt{@everywhere} does not capture any local variables. Instead, local variables can be broadcast using interpolation:\n",
       "\n",
       "\\begin{verbatim}\n",
       "foo = 1\n",
       "@everywhere bar = $foo\n",
       "\\end{verbatim}\n",
       "The optional argument \\texttt{procs} allows specifying a subset of all processes to have execute the expression.\n",
       "\n",
       "Equivalent to calling \\texttt{remotecall\\_eval(Main, procs, expr)}.\n",
       "\n"
      ],
      "text/markdown": [
       "```\n",
       "@everywhere [procs()] expr\n",
       "```\n",
       "\n",
       "Execute an expression under `Main` on all `procs`. Errors on any of the processes are collected into a [`CompositeException`](@ref) and thrown. For example:\n",
       "\n",
       "```\n",
       "@everywhere bar = 1\n",
       "```\n",
       "\n",
       "will define `Main.bar` on all processes.\n",
       "\n",
       "Unlike [`@spawnat`](@ref), `@everywhere` does not capture any local variables. Instead, local variables can be broadcast using interpolation:\n",
       "\n",
       "```\n",
       "foo = 1\n",
       "@everywhere bar = $foo\n",
       "```\n",
       "\n",
       "The optional argument `procs` allows specifying a subset of all processes to have execute the expression.\n",
       "\n",
       "Equivalent to calling `remotecall_eval(Main, procs, expr)`.\n"
      ],
      "text/plain": [
       "\u001b[36m  @everywhere [procs()] expr\u001b[39m\n",
       "\n",
       "  Execute an expression under \u001b[36mMain\u001b[39m on all \u001b[36mprocs\u001b[39m. Errors on any of the\n",
       "  processes are collected into a \u001b[36mCompositeException\u001b[39m and thrown. For example:\n",
       "\n",
       "\u001b[36m  @everywhere bar = 1\u001b[39m\n",
       "\n",
       "  will define \u001b[36mMain.bar\u001b[39m on all processes.\n",
       "\n",
       "  Unlike \u001b[36m@spawnat\u001b[39m, \u001b[36m@everywhere\u001b[39m does not capture any local variables. Instead,\n",
       "  local variables can be broadcast using interpolation:\n",
       "\n",
       "\u001b[36m  foo = 1\u001b[39m\n",
       "\u001b[36m  @everywhere bar = $foo\u001b[39m\n",
       "\n",
       "  The optional argument \u001b[36mprocs\u001b[39m allows specifying a subset of all processes to\n",
       "  have execute the expression.\n",
       "\n",
       "  Equivalent to calling \u001b[36mremotecall_eval(Main, procs, expr)\u001b[39m."
      ]
     },
     "execution_count": 17,
     "metadata": {},
     "output_type": "execute_result"
    }
   ],
   "source": [
    "? @everywhere"
   ]
  },
  {
   "cell_type": "markdown",
   "metadata": {},
   "source": [
    "# Dead Simple Paraellism"
   ]
  },
  {
   "cell_type": "code",
   "execution_count": 18,
   "metadata": {},
   "outputs": [
    {
     "data": {
      "text/plain": [
       "5"
      ]
     },
     "execution_count": 18,
     "metadata": {},
     "output_type": "execute_result"
    }
   ],
   "source": [
    "nprocs()"
   ]
  },
  {
   "cell_type": "code",
   "execution_count": 19,
   "metadata": {},
   "outputs": [],
   "source": [
    "# svd will use threads (but not hyperthreads); we force svd to only use 1 thread just to\n",
    "# show the typical pattern (we don't care about svd; just using it as an example)\n",
    "BLAS.set_num_threads(1)"
   ]
  },
  {
   "cell_type": "code",
   "execution_count": 20,
   "metadata": {},
   "outputs": [],
   "source": [
    "# A collecton of 10 matrices\n",
    "M = Matrix{Float64}[rand(1000, 1000) for i = 1:10];"
   ]
  },
  {
   "cell_type": "code",
   "execution_count": null,
   "metadata": {},
   "outputs": [],
   "source": []
  },
  {
   "cell_type": "code",
   "execution_count": 21,
   "metadata": {},
   "outputs": [
    {
     "name": "stdout",
     "output_type": "stream",
     "text": [
      "  6.545078 seconds (226.13 k allocations: 470.770 MiB, 2.64% gc time)\n"
     ]
    }
   ],
   "source": [
    "# I want the svd for all of them\n",
    "@time begin\n",
    "    for i in 1:length(M)\n",
    "        svd(M[i]);\n",
    "    end\n",
    "end"
   ]
  },
  {
   "cell_type": "code",
   "execution_count": 22,
   "metadata": {},
   "outputs": [
    {
     "name": "stdout",
     "output_type": "stream",
     "text": [
      "  2.887047 seconds (1.28 M allocations: 225.899 MiB, 0.69% gc time)\n"
     ]
    }
   ],
   "source": [
    "@time pmap(svd, M); # Compute the svd for each of them."
   ]
  },
  {
   "cell_type": "code",
   "execution_count": 23,
   "metadata": {},
   "outputs": [
    {
     "data": {
      "text/plain": [
       "1"
      ]
     },
     "execution_count": 23,
     "metadata": {},
     "output_type": "execute_result"
    }
   ],
   "source": [
    "myid()"
   ]
  },
  {
   "cell_type": "code",
   "execution_count": 24,
   "metadata": {},
   "outputs": [],
   "source": [
    "M = Matrix{Float64}[rand(800, 800), rand(600, 600), rand(800, 800), rand(600, 600)];"
   ]
  },
  {
   "cell_type": "code",
   "execution_count": 25,
   "metadata": {},
   "outputs": [
    {
     "data": {
      "text/plain": [
       "f_pmap (generic function with 1 method)"
      ]
     },
     "execution_count": 25,
     "metadata": {},
     "output_type": "execute_result"
    }
   ],
   "source": [
    "# The arguments are: 1) a function 'f' and 2) a list with the input.\n",
    "function f_pmap(f, lst)\n",
    "    np = nprocs()            # Number of processes available.\n",
    "    n  = length(lst)         # Number of elements to apply the function.\n",
    "    results = Vector{Any}(undef, n) # Where we will write the results. As we do not know\n",
    "                             # the type (Integer, Tuple...) we write \"Any\"\n",
    "    i = 1\n",
    "    nextidx() = (idx = i; i += 1; idx) # Function to know which is the next work item.\n",
    "                                       # In this case it is just an index.\n",
    "    @sync begin # See below the discussion about all this part.\n",
    "        for p = 1:np\n",
    "            if p != myid() || np == 1\n",
    "                @async begin\n",
    "                    while true\n",
    "                        idx = nextidx()\n",
    "                        if idx > n\n",
    "                            break\n",
    "                        end\n",
    "                        results[idx] = remotecall_fetch(f, p, lst[idx])\n",
    "                    end\n",
    "                end\n",
    "            end\n",
    "        end\n",
    "    end\n",
    "    results\n",
    "end"
   ]
  },
  {
   "cell_type": "code",
   "execution_count": 27,
   "metadata": {},
   "outputs": [
    {
     "name": "stdout",
     "output_type": "stream",
     "text": [
      "  0.424848 seconds (1.02 k allocations: 30.572 MiB)\n"
     ]
    }
   ],
   "source": [
    "@time f_pmap(svd, M);"
   ]
  },
  {
   "cell_type": "code",
   "execution_count": 28,
   "metadata": {},
   "outputs": [
    {
     "data": {
      "text/plain": [
       "(4,)"
      ]
     },
     "execution_count": 28,
     "metadata": {},
     "output_type": "execute_result"
    }
   ],
   "source": [
    "size(M)"
   ]
  },
  {
   "cell_type": "code",
   "execution_count": 29,
   "metadata": {},
   "outputs": [
    {
     "name": "stdout",
     "output_type": "stream",
     "text": [
      "  1.009041 seconds (58 allocations: 91.897 MiB, 1.15% gc time)\n"
     ]
    }
   ],
   "source": [
    "@time begin\n",
    "rlin = Array{Any}(undef, length(M))\n",
    "for i in 1:length(M)\n",
    "    rlin[i] = svd(M[i])\n",
    "end\n",
    "end"
   ]
  },
  {
   "cell_type": "code",
   "execution_count": 38,
   "metadata": {},
   "outputs": [],
   "source": []
  },
  {
   "cell_type": "code",
   "execution_count": null,
   "metadata": {},
   "outputs": [],
   "source": []
  }
 ],
 "metadata": {
  "kernelspec": {
   "display_name": "Julia 1.4.1",
   "language": "julia",
   "name": "julia-1.4"
  },
  "language_info": {
   "file_extension": ".jl",
   "mimetype": "application/julia",
   "name": "julia",
   "version": "1.4.1"
  }
 },
 "nbformat": 4,
 "nbformat_minor": 2
}
