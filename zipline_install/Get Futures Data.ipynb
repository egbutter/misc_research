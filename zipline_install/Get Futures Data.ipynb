{
 "cells": [
  {
   "cell_type": "code",
   "execution_count": 1,
   "metadata": {},
   "outputs": [
    {
     "name": "stderr",
     "output_type": "stream",
     "text": [
      "/anaconda3/envs/env_zipline/lib/python3.5/site-packages/empyrical/utils.py:32: UserWarning: Unable to import pandas_datareader. Suppressing import error and continuing. All data reading functionality will raise errors; but has been deprecated and will be removed in a later version.\n",
      "  warnings.warn(msg)\n",
      "<string>:205: UserWarning: Overwriting bundle with name 'futures'\n"
     ]
    }
   ],
   "source": [
    "import os\n",
    "import pandas as pd\n",
    "from zipline.data import bundles\n",
    "from zipline.data.data_portal import DataPortal\n",
    "from zipline.utils.calendars import get_calendar\n",
    "from zipline.utils.run_algo import load_extensions\n",
    "\n",
    "# Load extensions.py; this allows you access to custom bundles\n",
    "load_extensions(\n",
    "    default=True,\n",
    "    extensions=[],\n",
    "    strict=True,\n",
    "    environ=os.environ,\n",
    ")\n",
    "\n",
    "# Set-Up Pricing Data Access\n",
    "trading_calendar = get_calendar('CME')\n",
    "bundle = 'futures'\n",
    "bundle_data = bundles.load(bundle)"
   ]
  },
  {
   "cell_type": "code",
   "execution_count": 2,
   "metadata": {},
   "outputs": [
    {
     "data": {
      "text/plain": [
       "Table('futures_exchanges', MetaData(bind=Engine(sqlite:////Users/jonathan/.zipline/data/futures/2018-09-21T16;09;21.325717/assets-6.sqlite)), Column('exchange', TEXT(), table=<futures_exchanges>, primary_key=True, nullable=False), Column('timezone', TEXT(), table=<futures_exchanges>), schema=None)"
      ]
     },
     "execution_count": 2,
     "metadata": {},
     "output_type": "execute_result"
    }
   ],
   "source": [
    "bundle_data.asset_finder.futures_exchanges"
   ]
  },
  {
   "cell_type": "code",
   "execution_count": 3,
   "metadata": {},
   "outputs": [
    {
     "data": {
      "text/plain": [
       "Table('futures_root_symbols', MetaData(bind=Engine(sqlite:////Users/jonathan/.zipline/data/futures/2018-09-21T16;09;21.325717/assets-6.sqlite)), Column('root_symbol', TEXT(), table=<futures_root_symbols>, primary_key=True, nullable=False), Column('root_symbol_id', INTEGER(), table=<futures_root_symbols>), Column('sector', TEXT(), table=<futures_root_symbols>), Column('description', TEXT(), table=<futures_root_symbols>), Column('exchange', TEXT(), ForeignKey('futures_exchanges.exchange'), table=<futures_root_symbols>), schema=None)"
      ]
     },
     "execution_count": 3,
     "metadata": {},
     "output_type": "execute_result"
    }
   ],
   "source": [
    "bundle_data.asset_finder.futures_root_symbols"
   ]
  },
  {
   "cell_type": "code",
   "execution_count": 4,
   "metadata": {},
   "outputs": [],
   "source": [
    "data = DataPortal(\n",
    "    bundle_data.asset_finder,\n",
    "    trading_calendar=trading_calendar,\n",
    "    first_trading_day=bundle_data.equity_daily_bar_reader.first_trading_day,\n",
    "    equity_minute_reader=None,\n",
    "    equity_daily_reader=bundle_data.equity_daily_bar_reader,\n",
    "    future_daily_reader=bundle_data.equity_daily_bar_reader,\n",
    "    adjustment_reader=bundle_data.adjustment_reader,\n",
    ")"
   ]
  },
  {
   "cell_type": "code",
   "execution_count": 5,
   "metadata": {},
   "outputs": [
    {
     "data": {
      "text/plain": [
       "Table('futures_contracts', MetaData(bind=Engine(sqlite:////Users/jonathan/.zipline/data/futures/2018-09-21T16;09;21.325717/assets-6.sqlite)), Column('sid', INTEGER(), table=<futures_contracts>, primary_key=True, nullable=False), Column('symbol', TEXT(), table=<futures_contracts>), Column('root_symbol', TEXT(), ForeignKey('futures_root_symbols.root_symbol'), table=<futures_contracts>), Column('asset_name', TEXT(), table=<futures_contracts>), Column('start_date', INTEGER(), table=<futures_contracts>, nullable=False), Column('end_date', INTEGER(), table=<futures_contracts>, nullable=False), Column('first_traded', INTEGER(), table=<futures_contracts>), Column('exchange', TEXT(), ForeignKey('futures_exchanges.exchange'), table=<futures_contracts>), Column('notice_date', INTEGER(), table=<futures_contracts>, nullable=False), Column('expiration_date', INTEGER(), table=<futures_contracts>, nullable=False), Column('auto_close_date', INTEGER(), table=<futures_contracts>, nullable=False), Column('multiplier', FLOAT(), table=<futures_contracts>), Column('tick_size', FLOAT(), table=<futures_contracts>), schema=None)"
      ]
     },
     "execution_count": 5,
     "metadata": {},
     "output_type": "execute_result"
    }
   ],
   "source": [
    "bundle_data.asset_finder.futures_contracts"
   ]
  },
  {
   "cell_type": "code",
   "execution_count": 6,
   "metadata": {},
   "outputs": [
    {
     "data": {
      "text/plain": [
       "Table('futures_root_symbols', MetaData(bind=Engine(sqlite:////Users/jonathan/.zipline/data/futures/2018-09-21T16;09;21.325717/assets-6.sqlite)), Column('root_symbol', TEXT(), table=<futures_root_symbols>, primary_key=True, nullable=False), Column('root_symbol_id', INTEGER(), table=<futures_root_symbols>), Column('sector', TEXT(), table=<futures_root_symbols>), Column('description', TEXT(), table=<futures_root_symbols>), Column('exchange', TEXT(), ForeignKey('futures_exchanges.exchange'), table=<futures_root_symbols>), schema=None)"
      ]
     },
     "execution_count": 6,
     "metadata": {},
     "output_type": "execute_result"
    }
   ],
   "source": [
    "bundle_data.asset_finder.futures_root_symbols"
   ]
  },
  {
   "cell_type": "code",
   "execution_count": 7,
   "metadata": {},
   "outputs": [
    {
     "data": {
      "text/plain": [
       "Table('futures_exchanges', MetaData(bind=Engine(sqlite:////Users/jonathan/.zipline/data/futures/2018-09-21T16;09;21.325717/assets-6.sqlite)), Column('exchange', TEXT(), table=<futures_exchanges>, primary_key=True, nullable=False), Column('timezone', TEXT(), table=<futures_exchanges>), schema=None)"
      ]
     },
     "execution_count": 7,
     "metadata": {},
     "output_type": "execute_result"
    }
   ],
   "source": [
    "bundle_data.asset_finder.futures_exchanges"
   ]
  },
  {
   "cell_type": "code",
   "execution_count": 8,
   "metadata": {},
   "outputs": [],
   "source": [
    "bundle_data.asset_finder.reload_symbol_maps()"
   ]
  },
  {
   "cell_type": "code",
   "execution_count": 9,
   "metadata": {},
   "outputs": [],
   "source": [
    "fut = bundle_data.asset_finder.lookup_future_symbol('SPZ18')"
   ]
  },
  {
   "cell_type": "code",
   "execution_count": 10,
   "metadata": {},
   "outputs": [
    {
     "data": {
      "text/plain": [
       "(0, 1, 2, 3, 4, 5, 6, 7, 8, 9)"
      ]
     },
     "execution_count": 10,
     "metadata": {},
     "output_type": "execute_result"
    }
   ],
   "source": [
    "bundle_data.asset_finder.futures_sids[0:10]"
   ]
  },
  {
   "cell_type": "code",
   "execution_count": 11,
   "metadata": {},
   "outputs": [
    {
     "data": {
      "text/plain": [
       "{'asset_name': '',\n",
       " 'auto_close_date': Timestamp('2018-07-26 00:00:00+0000', tz='UTC'),\n",
       " 'end_date': Timestamp('2018-07-25 00:00:00+0000', tz='UTC'),\n",
       " 'exchange': 'EXCH',\n",
       " 'exchange_full': 'EXCH',\n",
       " 'expiration_date': Timestamp('2018-12-21 00:00:00+0000', tz='UTC'),\n",
       " 'first_traded': None,\n",
       " 'multiplier': 1.0,\n",
       " 'notice_date': Timestamp('2018-07-26 00:00:00+0000', tz='UTC'),\n",
       " 'root_symbol': 'SP',\n",
       " 'sid': 2072,\n",
       " 'start_date': Timestamp('2018-01-01 00:00:00+0000', tz='UTC'),\n",
       " 'symbol': 'SPZ18',\n",
       " 'tick_size': 0.0001}"
      ]
     },
     "execution_count": 11,
     "metadata": {},
     "output_type": "execute_result"
    }
   ],
   "source": [
    "fut.to_dict()"
   ]
  },
  {
   "cell_type": "code",
   "execution_count": 12,
   "metadata": {},
   "outputs": [
    {
     "name": "stderr",
     "output_type": "stream",
     "text": [
      "/anaconda3/envs/env_zipline/lib/python3.5/site-packages/ipykernel_launcher.py:2: FutureWarning: offset is deprecated. Use freq instead\n",
      "  \n",
      "/anaconda3/envs/env_zipline/lib/python3.5/site-packages/ipykernel_launcher.py:3: FutureWarning: offset is deprecated. Use freq instead\n",
      "  This is separate from the ipykernel package so we can avoid doing imports until\n"
     ]
    }
   ],
   "source": [
    "\n",
    "start_dt = pd.Timestamp('2018-01-02', tz='UTC', offset='C')\n",
    "end_dt = pd.Timestamp('2018-07-25', tz='UTC', offset='C')\n",
    "\n",
    "end_loc = trading_calendar.closes.index.get_loc(end_dt)\n",
    "start_loc = trading_calendar.closes.index.get_loc(start_dt)    \n",
    "    \n",
    "dat = data.get_history_window(\n",
    "    assets=[fut],\n",
    "    end_dt=end_dt,\n",
    "    bar_count=end_loc - start_loc,\n",
    "    frequency='1d',\n",
    "    field='close',\n",
    "    data_frequency='daily'\n",
    ")\n"
   ]
  },
  {
   "cell_type": "code",
   "execution_count": 13,
   "metadata": {},
   "outputs": [
    {
     "data": {
      "text/html": [
       "<div>\n",
       "<style scoped>\n",
       "    .dataframe tbody tr th:only-of-type {\n",
       "        vertical-align: middle;\n",
       "    }\n",
       "\n",
       "    .dataframe tbody tr th {\n",
       "        vertical-align: top;\n",
       "    }\n",
       "\n",
       "    .dataframe thead th {\n",
       "        text-align: right;\n",
       "    }\n",
       "</style>\n",
       "<table border=\"1\" class=\"dataframe\">\n",
       "  <thead>\n",
       "    <tr style=\"text-align: right;\">\n",
       "      <th></th>\n",
       "      <th>Future(2072 [SPZ18])</th>\n",
       "    </tr>\n",
       "  </thead>\n",
       "  <tbody>\n",
       "    <tr>\n",
       "      <th>2018-01-03 00:00:00+00:00</th>\n",
       "      <td>2720.0</td>\n",
       "    </tr>\n",
       "    <tr>\n",
       "      <th>2018-01-04 00:00:00+00:00</th>\n",
       "      <td>2734.1</td>\n",
       "    </tr>\n",
       "    <tr>\n",
       "      <th>2018-01-05 00:00:00+00:00</th>\n",
       "      <td>2753.1</td>\n",
       "    </tr>\n",
       "    <tr>\n",
       "      <th>2018-01-08 00:00:00+00:00</th>\n",
       "      <td>2757.3</td>\n",
       "    </tr>\n",
       "    <tr>\n",
       "      <th>2018-01-09 00:00:00+00:00</th>\n",
       "      <td>2762.9</td>\n",
       "    </tr>\n",
       "    <tr>\n",
       "      <th>2018-01-10 00:00:00+00:00</th>\n",
       "      <td>2761.4</td>\n",
       "    </tr>\n",
       "    <tr>\n",
       "      <th>2018-01-11 00:00:00+00:00</th>\n",
       "      <td>2780.5</td>\n",
       "    </tr>\n",
       "    <tr>\n",
       "      <th>2018-01-12 00:00:00+00:00</th>\n",
       "      <td>2799.9</td>\n",
       "    </tr>\n",
       "    <tr>\n",
       "      <th>2018-01-15 00:00:00+00:00</th>\n",
       "      <td>2799.9</td>\n",
       "    </tr>\n",
       "    <tr>\n",
       "      <th>2018-01-16 00:00:00+00:00</th>\n",
       "      <td>2794.6</td>\n",
       "    </tr>\n",
       "    <tr>\n",
       "      <th>2018-01-17 00:00:00+00:00</th>\n",
       "      <td>2817.0</td>\n",
       "    </tr>\n",
       "    <tr>\n",
       "      <th>2018-01-18 00:00:00+00:00</th>\n",
       "      <td>2809.5</td>\n",
       "    </tr>\n",
       "    <tr>\n",
       "      <th>2018-01-19 00:00:00+00:00</th>\n",
       "      <td>2825.7</td>\n",
       "    </tr>\n",
       "    <tr>\n",
       "      <th>2018-01-22 00:00:00+00:00</th>\n",
       "      <td>2850.9</td>\n",
       "    </tr>\n",
       "    <tr>\n",
       "      <th>2018-01-23 00:00:00+00:00</th>\n",
       "      <td>2855.6</td>\n",
       "    </tr>\n",
       "    <tr>\n",
       "      <th>2018-01-24 00:00:00+00:00</th>\n",
       "      <td>2856.4</td>\n",
       "    </tr>\n",
       "    <tr>\n",
       "      <th>2018-01-25 00:00:00+00:00</th>\n",
       "      <td>2856.8</td>\n",
       "    </tr>\n",
       "    <tr>\n",
       "      <th>2018-01-26 00:00:00+00:00</th>\n",
       "      <td>2890.7</td>\n",
       "    </tr>\n",
       "    <tr>\n",
       "      <th>2018-01-29 00:00:00+00:00</th>\n",
       "      <td>2869.8</td>\n",
       "    </tr>\n",
       "    <tr>\n",
       "      <th>2018-01-30 00:00:00+00:00</th>\n",
       "      <td>2840.8</td>\n",
       "    </tr>\n",
       "    <tr>\n",
       "      <th>2018-01-31 00:00:00+00:00</th>\n",
       "      <td>2841.9</td>\n",
       "    </tr>\n",
       "    <tr>\n",
       "      <th>2018-02-01 00:00:00+00:00</th>\n",
       "      <td>2838.6</td>\n",
       "    </tr>\n",
       "    <tr>\n",
       "      <th>2018-02-02 00:00:00+00:00</th>\n",
       "      <td>2772.0</td>\n",
       "    </tr>\n",
       "    <tr>\n",
       "      <th>2018-02-05 00:00:00+00:00</th>\n",
       "      <td>2621.1</td>\n",
       "    </tr>\n",
       "    <tr>\n",
       "      <th>2018-02-06 00:00:00+00:00</th>\n",
       "      <td>2708.3</td>\n",
       "    </tr>\n",
       "    <tr>\n",
       "      <th>2018-02-07 00:00:00+00:00</th>\n",
       "      <td>2681.7</td>\n",
       "    </tr>\n",
       "    <tr>\n",
       "      <th>2018-02-08 00:00:00+00:00</th>\n",
       "      <td>2606.3</td>\n",
       "    </tr>\n",
       "    <tr>\n",
       "      <th>2018-02-09 00:00:00+00:00</th>\n",
       "      <td>2630.1</td>\n",
       "    </tr>\n",
       "    <tr>\n",
       "      <th>2018-02-12 00:00:00+00:00</th>\n",
       "      <td>2666.8</td>\n",
       "    </tr>\n",
       "    <tr>\n",
       "      <th>2018-02-13 00:00:00+00:00</th>\n",
       "      <td>2673.9</td>\n",
       "    </tr>\n",
       "    <tr>\n",
       "      <th>...</th>\n",
       "      <td>...</td>\n",
       "    </tr>\n",
       "    <tr>\n",
       "      <th>2018-06-14 00:00:00+00:00</th>\n",
       "      <td>2792.8</td>\n",
       "    </tr>\n",
       "    <tr>\n",
       "      <th>2018-06-15 00:00:00+00:00</th>\n",
       "      <td>2788.9</td>\n",
       "    </tr>\n",
       "    <tr>\n",
       "      <th>2018-06-18 00:00:00+00:00</th>\n",
       "      <td>2783.9</td>\n",
       "    </tr>\n",
       "    <tr>\n",
       "      <th>2018-06-19 00:00:00+00:00</th>\n",
       "      <td>2770.1</td>\n",
       "    </tr>\n",
       "    <tr>\n",
       "      <th>2018-06-20 00:00:00+00:00</th>\n",
       "      <td>2775.9</td>\n",
       "    </tr>\n",
       "    <tr>\n",
       "      <th>2018-06-21 00:00:00+00:00</th>\n",
       "      <td>2756.2</td>\n",
       "    </tr>\n",
       "    <tr>\n",
       "      <th>2018-06-22 00:00:00+00:00</th>\n",
       "      <td>2763.2</td>\n",
       "    </tr>\n",
       "    <tr>\n",
       "      <th>2018-06-25 00:00:00+00:00</th>\n",
       "      <td>2725.6</td>\n",
       "    </tr>\n",
       "    <tr>\n",
       "      <th>2018-06-26 00:00:00+00:00</th>\n",
       "      <td>2732.0</td>\n",
       "    </tr>\n",
       "    <tr>\n",
       "      <th>2018-06-27 00:00:00+00:00</th>\n",
       "      <td>2708.1</td>\n",
       "    </tr>\n",
       "    <tr>\n",
       "      <th>2018-06-28 00:00:00+00:00</th>\n",
       "      <td>2722.6</td>\n",
       "    </tr>\n",
       "    <tr>\n",
       "      <th>2018-06-29 00:00:00+00:00</th>\n",
       "      <td>2724.9</td>\n",
       "    </tr>\n",
       "    <tr>\n",
       "      <th>2018-07-02 00:00:00+00:00</th>\n",
       "      <td>2730.6</td>\n",
       "    </tr>\n",
       "    <tr>\n",
       "      <th>2018-07-03 00:00:00+00:00</th>\n",
       "      <td>2716.7</td>\n",
       "    </tr>\n",
       "    <tr>\n",
       "      <th>2018-07-04 00:00:00+00:00</th>\n",
       "      <td>NaN</td>\n",
       "    </tr>\n",
       "    <tr>\n",
       "      <th>2018-07-05 00:00:00+00:00</th>\n",
       "      <td>2742.2</td>\n",
       "    </tr>\n",
       "    <tr>\n",
       "      <th>2018-07-06 00:00:00+00:00</th>\n",
       "      <td>2766.6</td>\n",
       "    </tr>\n",
       "    <tr>\n",
       "      <th>2018-07-09 00:00:00+00:00</th>\n",
       "      <td>2791.2</td>\n",
       "    </tr>\n",
       "    <tr>\n",
       "      <th>2018-07-10 00:00:00+00:00</th>\n",
       "      <td>2800.5</td>\n",
       "    </tr>\n",
       "    <tr>\n",
       "      <th>2018-07-11 00:00:00+00:00</th>\n",
       "      <td>2777.8</td>\n",
       "    </tr>\n",
       "    <tr>\n",
       "      <th>2018-07-12 00:00:00+00:00</th>\n",
       "      <td>2802.3</td>\n",
       "    </tr>\n",
       "    <tr>\n",
       "      <th>2018-07-13 00:00:00+00:00</th>\n",
       "      <td>2807.0</td>\n",
       "    </tr>\n",
       "    <tr>\n",
       "      <th>2018-07-16 00:00:00+00:00</th>\n",
       "      <td>2800.4</td>\n",
       "    </tr>\n",
       "    <tr>\n",
       "      <th>2018-07-17 00:00:00+00:00</th>\n",
       "      <td>2815.3</td>\n",
       "    </tr>\n",
       "    <tr>\n",
       "      <th>2018-07-18 00:00:00+00:00</th>\n",
       "      <td>2820.0</td>\n",
       "    </tr>\n",
       "    <tr>\n",
       "      <th>2018-07-19 00:00:00+00:00</th>\n",
       "      <td>2809.2</td>\n",
       "    </tr>\n",
       "    <tr>\n",
       "      <th>2018-07-20 00:00:00+00:00</th>\n",
       "      <td>2804.6</td>\n",
       "    </tr>\n",
       "    <tr>\n",
       "      <th>2018-07-23 00:00:00+00:00</th>\n",
       "      <td>2815.9</td>\n",
       "    </tr>\n",
       "    <tr>\n",
       "      <th>2018-07-24 00:00:00+00:00</th>\n",
       "      <td>2824.9</td>\n",
       "    </tr>\n",
       "    <tr>\n",
       "      <th>2018-07-25 00:00:00+00:00</th>\n",
       "      <td>2845.4</td>\n",
       "    </tr>\n",
       "  </tbody>\n",
       "</table>\n",
       "<p>145 rows × 1 columns</p>\n",
       "</div>"
      ],
      "text/plain": [
       "                           Future(2072 [SPZ18])\n",
       "2018-01-03 00:00:00+00:00                2720.0\n",
       "2018-01-04 00:00:00+00:00                2734.1\n",
       "2018-01-05 00:00:00+00:00                2753.1\n",
       "2018-01-08 00:00:00+00:00                2757.3\n",
       "2018-01-09 00:00:00+00:00                2762.9\n",
       "2018-01-10 00:00:00+00:00                2761.4\n",
       "2018-01-11 00:00:00+00:00                2780.5\n",
       "2018-01-12 00:00:00+00:00                2799.9\n",
       "2018-01-15 00:00:00+00:00                2799.9\n",
       "2018-01-16 00:00:00+00:00                2794.6\n",
       "2018-01-17 00:00:00+00:00                2817.0\n",
       "2018-01-18 00:00:00+00:00                2809.5\n",
       "2018-01-19 00:00:00+00:00                2825.7\n",
       "2018-01-22 00:00:00+00:00                2850.9\n",
       "2018-01-23 00:00:00+00:00                2855.6\n",
       "2018-01-24 00:00:00+00:00                2856.4\n",
       "2018-01-25 00:00:00+00:00                2856.8\n",
       "2018-01-26 00:00:00+00:00                2890.7\n",
       "2018-01-29 00:00:00+00:00                2869.8\n",
       "2018-01-30 00:00:00+00:00                2840.8\n",
       "2018-01-31 00:00:00+00:00                2841.9\n",
       "2018-02-01 00:00:00+00:00                2838.6\n",
       "2018-02-02 00:00:00+00:00                2772.0\n",
       "2018-02-05 00:00:00+00:00                2621.1\n",
       "2018-02-06 00:00:00+00:00                2708.3\n",
       "2018-02-07 00:00:00+00:00                2681.7\n",
       "2018-02-08 00:00:00+00:00                2606.3\n",
       "2018-02-09 00:00:00+00:00                2630.1\n",
       "2018-02-12 00:00:00+00:00                2666.8\n",
       "2018-02-13 00:00:00+00:00                2673.9\n",
       "...                                         ...\n",
       "2018-06-14 00:00:00+00:00                2792.8\n",
       "2018-06-15 00:00:00+00:00                2788.9\n",
       "2018-06-18 00:00:00+00:00                2783.9\n",
       "2018-06-19 00:00:00+00:00                2770.1\n",
       "2018-06-20 00:00:00+00:00                2775.9\n",
       "2018-06-21 00:00:00+00:00                2756.2\n",
       "2018-06-22 00:00:00+00:00                2763.2\n",
       "2018-06-25 00:00:00+00:00                2725.6\n",
       "2018-06-26 00:00:00+00:00                2732.0\n",
       "2018-06-27 00:00:00+00:00                2708.1\n",
       "2018-06-28 00:00:00+00:00                2722.6\n",
       "2018-06-29 00:00:00+00:00                2724.9\n",
       "2018-07-02 00:00:00+00:00                2730.6\n",
       "2018-07-03 00:00:00+00:00                2716.7\n",
       "2018-07-04 00:00:00+00:00                   NaN\n",
       "2018-07-05 00:00:00+00:00                2742.2\n",
       "2018-07-06 00:00:00+00:00                2766.6\n",
       "2018-07-09 00:00:00+00:00                2791.2\n",
       "2018-07-10 00:00:00+00:00                2800.5\n",
       "2018-07-11 00:00:00+00:00                2777.8\n",
       "2018-07-12 00:00:00+00:00                2802.3\n",
       "2018-07-13 00:00:00+00:00                2807.0\n",
       "2018-07-16 00:00:00+00:00                2800.4\n",
       "2018-07-17 00:00:00+00:00                2815.3\n",
       "2018-07-18 00:00:00+00:00                2820.0\n",
       "2018-07-19 00:00:00+00:00                2809.2\n",
       "2018-07-20 00:00:00+00:00                2804.6\n",
       "2018-07-23 00:00:00+00:00                2815.9\n",
       "2018-07-24 00:00:00+00:00                2824.9\n",
       "2018-07-25 00:00:00+00:00                2845.4\n",
       "\n",
       "[145 rows x 1 columns]"
      ]
     },
     "execution_count": 13,
     "metadata": {},
     "output_type": "execute_result"
    }
   ],
   "source": [
    "dat"
   ]
  },
  {
   "cell_type": "code",
   "execution_count": 14,
   "metadata": {},
   "outputs": [
    {
     "data": {
      "text/plain": [
       "<matplotlib.axes._subplots.AxesSubplot at 0x1a237b7eb8>"
      ]
     },
     "execution_count": 14,
     "metadata": {},
     "output_type": "execute_result"
    },
    {
     "data": {
      "image/png": "[encoded data removed]",
      "text/plain": [
       "<Figure size 432x288 with 1 Axes>"
      ]
     },
     "metadata": {
      "needs_background": "light"
     },
     "output_type": "display_data"
    }
   ],
   "source": [
    "%matplotlib inline\n",
    "dat.plot()"
   ]
  },
  {
   "cell_type": "code",
   "execution_count": 18,
   "metadata": {},
   "outputs": [],
   "source": [
    "cf = bundle_data.asset_finder.create_continuous_future('SP', 0, 'volume', None)"
   ]
  },
  {
   "cell_type": "code",
   "execution_count": 54,
   "metadata": {},
   "outputs": [],
   "source": [
    "oc = bundle_data.asset_finder.get_ordered_contracts('SP')"
   ]
  },
  {
   "cell_type": "code",
   "execution_count": 21,
   "metadata": {},
   "outputs": [
    {
     "data": {
      "text/plain": [
       "{'end_date': Timestamp('2018-07-25 00:00:00+0000', tz='UTC'),\n",
       " 'exchange': 'EXCH',\n",
       " 'offset': 0,\n",
       " 'roll_style': 'volume',\n",
       " 'root_symbol': 'SP',\n",
       " 'sid': 95507978051911680,\n",
       " 'start_date': Timestamp('2018-01-01 00:00:00+0000', tz='UTC')}"
      ]
     },
     "execution_count": 21,
     "metadata": {},
     "output_type": "execute_result"
    }
   ],
   "source": []
  },
  {
   "cell_type": "code",
   "execution_count": null,
   "metadata": {},
   "outputs": [],
   "source": []
  }
 ],
 "metadata": {
  "kernelspec": {
   "display_name": "Python 3.5 (env_zipline)",
   "language": "python",
   "name": "env_zipline"
  },
  "language_info": {
   "codemirror_mode": {
    "name": "ipython",
    "version": 3
   },
   "file_extension": ".py",
   "mimetype": "text/x-python",
   "name": "python",
   "nbconvert_exporter": "python",
   "pygments_lexer": "ipython3",
   "version": "3.5.5"
  }
 },
 "nbformat": 4,
 "nbformat_minor": 2
}
