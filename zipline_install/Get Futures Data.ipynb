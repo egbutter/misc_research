{
 "cells": [
  {
   "cell_type": "code",
   "execution_count": 1,
   "metadata": {},
   "outputs": [
    {
     "name": "stderr",
     "output_type": "stream",
     "text": [
      "/anaconda3/envs/env_zipline/lib/python3.5/site-packages/empyrical/utils.py:32: UserWarning: Unable to import pandas_datareader. Suppressing import error and continuing. All data reading functionality will raise errors; but has been deprecated and will be removed in a later version.\n",
      "  warnings.warn(msg)\n",
      "<string>:261: UserWarning: Overwriting bundle with name 'futures'\n"
     ]
    }
   ],
   "source": [
    "import os\n",
    "import pandas as pd\n",
    "from zipline.data import bundles\n",
    "from zipline.data.data_portal import DataPortal\n",
    "from zipline.utils.calendars import get_calendar\n",
    "from zipline.utils.run_algo import load_extensions\n",
    "\n",
    "# Load extensions.py; this allows you access to custom bundles\n",
    "load_extensions(\n",
    "    default=True,\n",
    "    extensions=[],\n",
    "    strict=True,\n",
    "    environ=os.environ,\n",
    ")\n",
    "\n",
    "# Set-Up Pricing Data Access\n",
    "trading_calendar = get_calendar('CME')\n",
    "bundle = 'futures'\n",
    "bundle_data = bundles.load(bundle)"
   ]
  },
  {
   "cell_type": "code",
   "execution_count": 2,
   "metadata": {},
   "outputs": [
    {
     "data": {
      "text/plain": [
       "Table('futures_exchanges', MetaData(bind=Engine(sqlite:////Users/jonathan/.zipline/data/futures/2018-09-21T21;52;35.273413/assets-6.sqlite)), Column('exchange', TEXT(), table=<futures_exchanges>, primary_key=True, nullable=False), Column('timezone', TEXT(), table=<futures_exchanges>), schema=None)"
      ]
     },
     "execution_count": 2,
     "metadata": {},
     "output_type": "execute_result"
    }
   ],
   "source": [
    "bundle_data.asset_finder.futures_exchanges"
   ]
  },
  {
   "cell_type": "code",
   "execution_count": 3,
   "metadata": {},
   "outputs": [
    {
     "data": {
      "text/plain": [
       "Table('futures_root_symbols', MetaData(bind=Engine(sqlite:////Users/jonathan/.zipline/data/futures/2018-09-21T21;52;35.273413/assets-6.sqlite)), Column('root_symbol', TEXT(), table=<futures_root_symbols>, primary_key=True, nullable=False), Column('root_symbol_id', INTEGER(), table=<futures_root_symbols>), Column('sector', TEXT(), table=<futures_root_symbols>), Column('description', TEXT(), table=<futures_root_symbols>), Column('exchange', TEXT(), ForeignKey('futures_exchanges.exchange'), table=<futures_root_symbols>), schema=None)"
      ]
     },
     "execution_count": 3,
     "metadata": {},
     "output_type": "execute_result"
    }
   ],
   "source": [
    "bundle_data.asset_finder.futures_root_symbols"
   ]
  },
  {
   "cell_type": "code",
   "execution_count": 4,
   "metadata": {},
   "outputs": [],
   "source": [
    "data = DataPortal(\n",
    "    bundle_data.asset_finder,\n",
    "    trading_calendar=trading_calendar,\n",
    "    first_trading_day=bundle_data.equity_daily_bar_reader.first_trading_day,\n",
    "    equity_minute_reader=None,\n",
    "    equity_daily_reader=bundle_data.equity_daily_bar_reader,\n",
    "    future_daily_reader=bundle_data.equity_daily_bar_reader,\n",
    "    adjustment_reader=bundle_data.adjustment_reader,\n",
    ")"
   ]
  },
  {
   "cell_type": "code",
   "execution_count": 5,
   "metadata": {},
   "outputs": [
    {
     "data": {
      "text/plain": [
       "Table('futures_contracts', MetaData(bind=Engine(sqlite:////Users/jonathan/.zipline/data/futures/2018-09-21T21;52;35.273413/assets-6.sqlite)), Column('sid', INTEGER(), table=<futures_contracts>, primary_key=True, nullable=False), Column('symbol', TEXT(), table=<futures_contracts>), Column('root_symbol', TEXT(), ForeignKey('futures_root_symbols.root_symbol'), table=<futures_contracts>), Column('asset_name', TEXT(), table=<futures_contracts>), Column('start_date', INTEGER(), table=<futures_contracts>, nullable=False), Column('end_date', INTEGER(), table=<futures_contracts>, nullable=False), Column('first_traded', INTEGER(), table=<futures_contracts>), Column('exchange', TEXT(), ForeignKey('futures_exchanges.exchange'), table=<futures_contracts>), Column('notice_date', INTEGER(), table=<futures_contracts>, nullable=False), Column('expiration_date', INTEGER(), table=<futures_contracts>, nullable=False), Column('auto_close_date', INTEGER(), table=<futures_contracts>, nullable=False), Column('multiplier', FLOAT(), table=<futures_contracts>), Column('tick_size', FLOAT(), table=<futures_contracts>), schema=None)"
      ]
     },
     "execution_count": 5,
     "metadata": {},
     "output_type": "execute_result"
    }
   ],
   "source": [
    "bundle_data.asset_finder.futures_contracts"
   ]
  },
  {
   "cell_type": "code",
   "execution_count": 6,
   "metadata": {},
   "outputs": [
    {
     "data": {
      "text/plain": [
       "Table('futures_root_symbols', MetaData(bind=Engine(sqlite:////Users/jonathan/.zipline/data/futures/2018-09-21T21;52;35.273413/assets-6.sqlite)), Column('root_symbol', TEXT(), table=<futures_root_symbols>, primary_key=True, nullable=False), Column('root_symbol_id', INTEGER(), table=<futures_root_symbols>), Column('sector', TEXT(), table=<futures_root_symbols>), Column('description', TEXT(), table=<futures_root_symbols>), Column('exchange', TEXT(), ForeignKey('futures_exchanges.exchange'), table=<futures_root_symbols>), schema=None)"
      ]
     },
     "execution_count": 6,
     "metadata": {},
     "output_type": "execute_result"
    }
   ],
   "source": [
    "bundle_data.asset_finder.futures_root_symbols"
   ]
  },
  {
   "cell_type": "code",
   "execution_count": 7,
   "metadata": {},
   "outputs": [
    {
     "data": {
      "text/plain": [
       "Table('futures_exchanges', MetaData(bind=Engine(sqlite:////Users/jonathan/.zipline/data/futures/2018-09-21T21;52;35.273413/assets-6.sqlite)), Column('exchange', TEXT(), table=<futures_exchanges>, primary_key=True, nullable=False), Column('timezone', TEXT(), table=<futures_exchanges>), schema=None)"
      ]
     },
     "execution_count": 7,
     "metadata": {},
     "output_type": "execute_result"
    }
   ],
   "source": [
    "bundle_data.asset_finder.futures_exchanges"
   ]
  },
  {
   "cell_type": "code",
   "execution_count": 8,
   "metadata": {},
   "outputs": [],
   "source": [
    "bundle_data.asset_finder.reload_symbol_maps()"
   ]
  },
  {
   "cell_type": "code",
   "execution_count": 24,
   "metadata": {},
   "outputs": [],
   "source": [
    "fut = bundle_data.asset_finder.lookup_future_symbol('EDU2018')"
   ]
  },
  {
   "cell_type": "code",
   "execution_count": 25,
   "metadata": {},
   "outputs": [
    {
     "data": {
      "text/plain": [
       "(0, 1, 2, 3, 4, 5, 6, 7, 8, 9)"
      ]
     },
     "execution_count": 25,
     "metadata": {},
     "output_type": "execute_result"
    }
   ],
   "source": [
    "bundle_data.asset_finder.futures_sids[0:10]"
   ]
  },
  {
   "cell_type": "code",
   "execution_count": 26,
   "metadata": {},
   "outputs": [
    {
     "data": {
      "text/plain": [
       "{'asset_name': '',\n",
       " 'auto_close_date': Timestamp('2018-09-18 00:00:00+0000', tz='UTC'),\n",
       " 'end_date': Timestamp('2018-09-17 00:00:00+0000', tz='UTC'),\n",
       " 'exchange': 'EXCH',\n",
       " 'exchange_full': 'EXCH',\n",
       " 'expiration_date': Timestamp('2019-12-20 00:00:00+0000', tz='UTC'),\n",
       " 'first_traded': None,\n",
       " 'multiplier': 1.0,\n",
       " 'notice_date': Timestamp('2018-09-18 00:00:00+0000', tz='UTC'),\n",
       " 'root_symbol': 'Z',\n",
       " 'sid': 2811,\n",
       " 'start_date': Timestamp('2018-01-02 00:00:00+0000', tz='UTC'),\n",
       " 'symbol': 'EDU2018',\n",
       " 'tick_size': 0.0001}"
      ]
     },
     "execution_count": 26,
     "metadata": {},
     "output_type": "execute_result"
    }
   ],
   "source": [
    "fut.to_dict()"
   ]
  },
  {
   "cell_type": "code",
   "execution_count": 27,
   "metadata": {},
   "outputs": [
    {
     "name": "stderr",
     "output_type": "stream",
     "text": [
      "/anaconda3/envs/env_zipline/lib/python3.5/site-packages/ipykernel_launcher.py:2: FutureWarning: offset is deprecated. Use freq instead\n",
      "  \n",
      "/anaconda3/envs/env_zipline/lib/python3.5/site-packages/ipykernel_launcher.py:3: FutureWarning: offset is deprecated. Use freq instead\n",
      "  This is separate from the ipykernel package so we can avoid doing imports until\n"
     ]
    }
   ],
   "source": [
    "\n",
    "start_dt = pd.Timestamp('2018-01-02', tz='UTC', offset='C')\n",
    "end_dt = pd.Timestamp('2018-07-25', tz='UTC', offset='C')\n",
    "\n",
    "end_loc = trading_calendar.closes.index.get_loc(end_dt)\n",
    "start_loc = trading_calendar.closes.index.get_loc(start_dt)    \n",
    "    \n",
    "dat = data.get_history_window(\n",
    "    assets=[fut],\n",
    "    end_dt=end_dt,\n",
    "    bar_count=end_loc - start_loc,\n",
    "    frequency='1d',\n",
    "    field='close',\n",
    "    data_frequency='daily'\n",
    ")\n"
   ]
  },
  {
   "cell_type": "code",
   "execution_count": 28,
   "metadata": {},
   "outputs": [
    {
     "data": {
      "text/html": [
       "<div>\n",
       "<style scoped>\n",
       "    .dataframe tbody tr th:only-of-type {\n",
       "        vertical-align: middle;\n",
       "    }\n",
       "\n",
       "    .dataframe tbody tr th {\n",
       "        vertical-align: top;\n",
       "    }\n",
       "\n",
       "    .dataframe thead th {\n",
       "        text-align: right;\n",
       "    }\n",
       "</style>\n",
       "<table border=\"1\" class=\"dataframe\">\n",
       "  <thead>\n",
       "    <tr style=\"text-align: right;\">\n",
       "      <th></th>\n",
       "      <th>Future(2811 [EDU2018])</th>\n",
       "    </tr>\n",
       "  </thead>\n",
       "  <tbody>\n",
       "    <tr>\n",
       "      <th>2018-01-03 00:00:00+00:00</th>\n",
       "      <td>97.920</td>\n",
       "    </tr>\n",
       "    <tr>\n",
       "      <th>2018-01-04 00:00:00+00:00</th>\n",
       "      <td>97.895</td>\n",
       "    </tr>\n",
       "    <tr>\n",
       "      <th>2018-01-05 00:00:00+00:00</th>\n",
       "      <td>97.885</td>\n",
       "    </tr>\n",
       "    <tr>\n",
       "      <th>2018-01-08 00:00:00+00:00</th>\n",
       "      <td>97.885</td>\n",
       "    </tr>\n",
       "    <tr>\n",
       "      <th>2018-01-09 00:00:00+00:00</th>\n",
       "      <td>97.875</td>\n",
       "    </tr>\n",
       "    <tr>\n",
       "      <th>2018-01-10 00:00:00+00:00</th>\n",
       "      <td>97.875</td>\n",
       "    </tr>\n",
       "    <tr>\n",
       "      <th>2018-01-11 00:00:00+00:00</th>\n",
       "      <td>97.875</td>\n",
       "    </tr>\n",
       "    <tr>\n",
       "      <th>2018-01-12 00:00:00+00:00</th>\n",
       "      <td>97.850</td>\n",
       "    </tr>\n",
       "    <tr>\n",
       "      <th>2018-01-15 00:00:00+00:00</th>\n",
       "      <td>NaN</td>\n",
       "    </tr>\n",
       "    <tr>\n",
       "      <th>2018-01-16 00:00:00+00:00</th>\n",
       "      <td>97.825</td>\n",
       "    </tr>\n",
       "    <tr>\n",
       "      <th>2018-01-17 00:00:00+00:00</th>\n",
       "      <td>97.800</td>\n",
       "    </tr>\n",
       "    <tr>\n",
       "      <th>2018-01-18 00:00:00+00:00</th>\n",
       "      <td>97.800</td>\n",
       "    </tr>\n",
       "    <tr>\n",
       "      <th>2018-01-19 00:00:00+00:00</th>\n",
       "      <td>97.795</td>\n",
       "    </tr>\n",
       "    <tr>\n",
       "      <th>2018-01-22 00:00:00+00:00</th>\n",
       "      <td>97.800</td>\n",
       "    </tr>\n",
       "    <tr>\n",
       "      <th>2018-01-23 00:00:00+00:00</th>\n",
       "      <td>97.825</td>\n",
       "    </tr>\n",
       "    <tr>\n",
       "      <th>2018-01-24 00:00:00+00:00</th>\n",
       "      <td>97.815</td>\n",
       "    </tr>\n",
       "    <tr>\n",
       "      <th>2018-01-25 00:00:00+00:00</th>\n",
       "      <td>97.800</td>\n",
       "    </tr>\n",
       "    <tr>\n",
       "      <th>2018-01-26 00:00:00+00:00</th>\n",
       "      <td>97.775</td>\n",
       "    </tr>\n",
       "    <tr>\n",
       "      <th>2018-01-29 00:00:00+00:00</th>\n",
       "      <td>97.770</td>\n",
       "    </tr>\n",
       "    <tr>\n",
       "      <th>2018-01-30 00:00:00+00:00</th>\n",
       "      <td>97.770</td>\n",
       "    </tr>\n",
       "    <tr>\n",
       "      <th>2018-01-31 00:00:00+00:00</th>\n",
       "      <td>97.760</td>\n",
       "    </tr>\n",
       "    <tr>\n",
       "      <th>2018-02-01 00:00:00+00:00</th>\n",
       "      <td>97.740</td>\n",
       "    </tr>\n",
       "    <tr>\n",
       "      <th>2018-02-02 00:00:00+00:00</th>\n",
       "      <td>97.735</td>\n",
       "    </tr>\n",
       "    <tr>\n",
       "      <th>2018-02-05 00:00:00+00:00</th>\n",
       "      <td>97.820</td>\n",
       "    </tr>\n",
       "    <tr>\n",
       "      <th>2018-02-06 00:00:00+00:00</th>\n",
       "      <td>97.755</td>\n",
       "    </tr>\n",
       "    <tr>\n",
       "      <th>2018-02-07 00:00:00+00:00</th>\n",
       "      <td>97.760</td>\n",
       "    </tr>\n",
       "    <tr>\n",
       "      <th>2018-02-08 00:00:00+00:00</th>\n",
       "      <td>97.755</td>\n",
       "    </tr>\n",
       "    <tr>\n",
       "      <th>2018-02-09 00:00:00+00:00</th>\n",
       "      <td>97.750</td>\n",
       "    </tr>\n",
       "    <tr>\n",
       "      <th>2018-02-12 00:00:00+00:00</th>\n",
       "      <td>97.745</td>\n",
       "    </tr>\n",
       "    <tr>\n",
       "      <th>2018-02-13 00:00:00+00:00</th>\n",
       "      <td>97.745</td>\n",
       "    </tr>\n",
       "    <tr>\n",
       "      <th>...</th>\n",
       "      <td>...</td>\n",
       "    </tr>\n",
       "    <tr>\n",
       "      <th>2018-06-14 00:00:00+00:00</th>\n",
       "      <td>97.510</td>\n",
       "    </tr>\n",
       "    <tr>\n",
       "      <th>2018-06-15 00:00:00+00:00</th>\n",
       "      <td>97.530</td>\n",
       "    </tr>\n",
       "    <tr>\n",
       "      <th>2018-06-18 00:00:00+00:00</th>\n",
       "      <td>97.535</td>\n",
       "    </tr>\n",
       "    <tr>\n",
       "      <th>2018-06-19 00:00:00+00:00</th>\n",
       "      <td>97.535</td>\n",
       "    </tr>\n",
       "    <tr>\n",
       "      <th>2018-06-20 00:00:00+00:00</th>\n",
       "      <td>97.525</td>\n",
       "    </tr>\n",
       "    <tr>\n",
       "      <th>2018-06-21 00:00:00+00:00</th>\n",
       "      <td>97.530</td>\n",
       "    </tr>\n",
       "    <tr>\n",
       "      <th>2018-06-22 00:00:00+00:00</th>\n",
       "      <td>97.535</td>\n",
       "    </tr>\n",
       "    <tr>\n",
       "      <th>2018-06-25 00:00:00+00:00</th>\n",
       "      <td>97.545</td>\n",
       "    </tr>\n",
       "    <tr>\n",
       "      <th>2018-06-26 00:00:00+00:00</th>\n",
       "      <td>97.540</td>\n",
       "    </tr>\n",
       "    <tr>\n",
       "      <th>2018-06-27 00:00:00+00:00</th>\n",
       "      <td>97.555</td>\n",
       "    </tr>\n",
       "    <tr>\n",
       "      <th>2018-06-28 00:00:00+00:00</th>\n",
       "      <td>97.550</td>\n",
       "    </tr>\n",
       "    <tr>\n",
       "      <th>2018-06-29 00:00:00+00:00</th>\n",
       "      <td>97.550</td>\n",
       "    </tr>\n",
       "    <tr>\n",
       "      <th>2018-07-02 00:00:00+00:00</th>\n",
       "      <td>97.540</td>\n",
       "    </tr>\n",
       "    <tr>\n",
       "      <th>2018-07-03 00:00:00+00:00</th>\n",
       "      <td>97.550</td>\n",
       "    </tr>\n",
       "    <tr>\n",
       "      <th>2018-07-04 00:00:00+00:00</th>\n",
       "      <td>NaN</td>\n",
       "    </tr>\n",
       "    <tr>\n",
       "      <th>2018-07-05 00:00:00+00:00</th>\n",
       "      <td>97.540</td>\n",
       "    </tr>\n",
       "    <tr>\n",
       "      <th>2018-07-06 00:00:00+00:00</th>\n",
       "      <td>97.545</td>\n",
       "    </tr>\n",
       "    <tr>\n",
       "      <th>2018-07-09 00:00:00+00:00</th>\n",
       "      <td>97.540</td>\n",
       "    </tr>\n",
       "    <tr>\n",
       "      <th>2018-07-10 00:00:00+00:00</th>\n",
       "      <td>97.540</td>\n",
       "    </tr>\n",
       "    <tr>\n",
       "      <th>2018-07-11 00:00:00+00:00</th>\n",
       "      <td>97.540</td>\n",
       "    </tr>\n",
       "    <tr>\n",
       "      <th>2018-07-12 00:00:00+00:00</th>\n",
       "      <td>97.540</td>\n",
       "    </tr>\n",
       "    <tr>\n",
       "      <th>2018-07-13 00:00:00+00:00</th>\n",
       "      <td>97.540</td>\n",
       "    </tr>\n",
       "    <tr>\n",
       "      <th>2018-07-16 00:00:00+00:00</th>\n",
       "      <td>97.540</td>\n",
       "    </tr>\n",
       "    <tr>\n",
       "      <th>2018-07-17 00:00:00+00:00</th>\n",
       "      <td>97.540</td>\n",
       "    </tr>\n",
       "    <tr>\n",
       "      <th>2018-07-18 00:00:00+00:00</th>\n",
       "      <td>97.535</td>\n",
       "    </tr>\n",
       "    <tr>\n",
       "      <th>2018-07-19 00:00:00+00:00</th>\n",
       "      <td>97.545</td>\n",
       "    </tr>\n",
       "    <tr>\n",
       "      <th>2018-07-20 00:00:00+00:00</th>\n",
       "      <td>97.560</td>\n",
       "    </tr>\n",
       "    <tr>\n",
       "      <th>2018-07-23 00:00:00+00:00</th>\n",
       "      <td>97.565</td>\n",
       "    </tr>\n",
       "    <tr>\n",
       "      <th>2018-07-24 00:00:00+00:00</th>\n",
       "      <td>97.575</td>\n",
       "    </tr>\n",
       "    <tr>\n",
       "      <th>2018-07-25 00:00:00+00:00</th>\n",
       "      <td>97.580</td>\n",
       "    </tr>\n",
       "  </tbody>\n",
       "</table>\n",
       "<p>145 rows × 1 columns</p>\n",
       "</div>"
      ],
      "text/plain": [
       "                           Future(2811 [EDU2018])\n",
       "2018-01-03 00:00:00+00:00                  97.920\n",
       "2018-01-04 00:00:00+00:00                  97.895\n",
       "2018-01-05 00:00:00+00:00                  97.885\n",
       "2018-01-08 00:00:00+00:00                  97.885\n",
       "2018-01-09 00:00:00+00:00                  97.875\n",
       "2018-01-10 00:00:00+00:00                  97.875\n",
       "2018-01-11 00:00:00+00:00                  97.875\n",
       "2018-01-12 00:00:00+00:00                  97.850\n",
       "2018-01-15 00:00:00+00:00                     NaN\n",
       "2018-01-16 00:00:00+00:00                  97.825\n",
       "2018-01-17 00:00:00+00:00                  97.800\n",
       "2018-01-18 00:00:00+00:00                  97.800\n",
       "2018-01-19 00:00:00+00:00                  97.795\n",
       "2018-01-22 00:00:00+00:00                  97.800\n",
       "2018-01-23 00:00:00+00:00                  97.825\n",
       "2018-01-24 00:00:00+00:00                  97.815\n",
       "2018-01-25 00:00:00+00:00                  97.800\n",
       "2018-01-26 00:00:00+00:00                  97.775\n",
       "2018-01-29 00:00:00+00:00                  97.770\n",
       "2018-01-30 00:00:00+00:00                  97.770\n",
       "2018-01-31 00:00:00+00:00                  97.760\n",
       "2018-02-01 00:00:00+00:00                  97.740\n",
       "2018-02-02 00:00:00+00:00                  97.735\n",
       "2018-02-05 00:00:00+00:00                  97.820\n",
       "2018-02-06 00:00:00+00:00                  97.755\n",
       "2018-02-07 00:00:00+00:00                  97.760\n",
       "2018-02-08 00:00:00+00:00                  97.755\n",
       "2018-02-09 00:00:00+00:00                  97.750\n",
       "2018-02-12 00:00:00+00:00                  97.745\n",
       "2018-02-13 00:00:00+00:00                  97.745\n",
       "...                                           ...\n",
       "2018-06-14 00:00:00+00:00                  97.510\n",
       "2018-06-15 00:00:00+00:00                  97.530\n",
       "2018-06-18 00:00:00+00:00                  97.535\n",
       "2018-06-19 00:00:00+00:00                  97.535\n",
       "2018-06-20 00:00:00+00:00                  97.525\n",
       "2018-06-21 00:00:00+00:00                  97.530\n",
       "2018-06-22 00:00:00+00:00                  97.535\n",
       "2018-06-25 00:00:00+00:00                  97.545\n",
       "2018-06-26 00:00:00+00:00                  97.540\n",
       "2018-06-27 00:00:00+00:00                  97.555\n",
       "2018-06-28 00:00:00+00:00                  97.550\n",
       "2018-06-29 00:00:00+00:00                  97.550\n",
       "2018-07-02 00:00:00+00:00                  97.540\n",
       "2018-07-03 00:00:00+00:00                  97.550\n",
       "2018-07-04 00:00:00+00:00                     NaN\n",
       "2018-07-05 00:00:00+00:00                  97.540\n",
       "2018-07-06 00:00:00+00:00                  97.545\n",
       "2018-07-09 00:00:00+00:00                  97.540\n",
       "2018-07-10 00:00:00+00:00                  97.540\n",
       "2018-07-11 00:00:00+00:00                  97.540\n",
       "2018-07-12 00:00:00+00:00                  97.540\n",
       "2018-07-13 00:00:00+00:00                  97.540\n",
       "2018-07-16 00:00:00+00:00                  97.540\n",
       "2018-07-17 00:00:00+00:00                  97.540\n",
       "2018-07-18 00:00:00+00:00                  97.535\n",
       "2018-07-19 00:00:00+00:00                  97.545\n",
       "2018-07-20 00:00:00+00:00                  97.560\n",
       "2018-07-23 00:00:00+00:00                  97.565\n",
       "2018-07-24 00:00:00+00:00                  97.575\n",
       "2018-07-25 00:00:00+00:00                  97.580\n",
       "\n",
       "[145 rows x 1 columns]"
      ]
     },
     "execution_count": 28,
     "metadata": {},
     "output_type": "execute_result"
    }
   ],
   "source": [
    "dat"
   ]
  },
  {
   "cell_type": "code",
   "execution_count": 30,
   "metadata": {},
   "outputs": [
    {
     "data": {
      "text/plain": [
       "<matplotlib.axes._subplots.AxesSubplot at 0x1a2a9466a0>"
      ]
     },
     "execution_count": 30,
     "metadata": {},
     "output_type": "execute_result"
    },
    {
     "data": {
      "image/png": "[encoded data removed]",
      "text/plain": [
       "<Figure size 432x288 with 1 Axes>"
      ]
     },
     "metadata": {
      "needs_background": "light"
     },
     "output_type": "display_data"
    }
   ],
   "source": [
    "%matplotlib inline\n",
    "dat.plot()"
   ]
  },
  {
   "cell_type": "code",
   "execution_count": 33,
   "metadata": {},
   "outputs": [
    {
     "ename": "IndexError",
     "evalue": "bytearray index out of range",
     "output_type": "error",
     "traceback": [
      "\u001b[0;31m---------------------------------------------------------------------------\u001b[0m",
      "\u001b[0;31mIndexError\u001b[0m                                Traceback (most recent call last)",
      "\u001b[0;32m<ipython-input-33-d3c02336792b>\u001b[0m in \u001b[0;36m<module>\u001b[0;34m()\u001b[0m\n\u001b[0;32m----> 1\u001b[0;31m \u001b[0mcf\u001b[0m \u001b[0;34m=\u001b[0m \u001b[0mbundle_data\u001b[0m\u001b[0;34m.\u001b[0m\u001b[0masset_finder\u001b[0m\u001b[0;34m.\u001b[0m\u001b[0mcreate_continuous_future\u001b[0m\u001b[0;34m(\u001b[0m\u001b[0;34m'Z'\u001b[0m\u001b[0;34m,\u001b[0m \u001b[0;36m0\u001b[0m\u001b[0;34m,\u001b[0m \u001b[0;34m'calendar'\u001b[0m\u001b[0;34m,\u001b[0m \u001b[0;32mNone\u001b[0m\u001b[0;34m)\u001b[0m\u001b[0;34m\u001b[0m\u001b[0m\n\u001b[0m",
      "\u001b[0;32m/anaconda3/envs/env_zipline/lib/python3.5/site-packages/zipline/assets/assets.py\u001b[0m in \u001b[0;36mcreate_continuous_future\u001b[0;34m(self, root_symbol, offset, roll_style, adjustment)\u001b[0m\n\u001b[1;32m   1038\u001b[0m         sid = _encode_continuous_future_sid(root_symbol, offset,\n\u001b[1;32m   1039\u001b[0m                                             \u001b[0mroll_style\u001b[0m\u001b[0;34m,\u001b[0m\u001b[0;34m\u001b[0m\u001b[0m\n\u001b[0;32m-> 1040\u001b[0;31m                                             None)\n\u001b[0m\u001b[1;32m   1041\u001b[0m         mul_sid = _encode_continuous_future_sid(root_symbol, offset,\n\u001b[1;32m   1042\u001b[0m                                                 \u001b[0mroll_style\u001b[0m\u001b[0;34m,\u001b[0m\u001b[0;34m\u001b[0m\u001b[0m\n",
      "\u001b[0;32m/anaconda3/envs/env_zipline/lib/python3.5/site-packages/zipline/assets/assets.py\u001b[0m in \u001b[0;36m_encode_continuous_future_sid\u001b[0;34m(root_symbol, offset, roll_style, adjustment_style)\u001b[0m\n\u001b[1;32m    232\u001b[0m     values = (SID_TYPE_IDS[ContinuousFuture],\n\u001b[1;32m    233\u001b[0m               \u001b[0mrs\u001b[0m\u001b[0;34m[\u001b[0m\u001b[0;36m0\u001b[0m\u001b[0;34m]\u001b[0m\u001b[0;34m,\u001b[0m\u001b[0;34m\u001b[0m\u001b[0m\n\u001b[0;32m--> 234\u001b[0;31m               \u001b[0mrs\u001b[0m\u001b[0;34m[\u001b[0m\u001b[0;36m1\u001b[0m\u001b[0;34m]\u001b[0m\u001b[0;34m,\u001b[0m\u001b[0;34m\u001b[0m\u001b[0m\n\u001b[0m\u001b[1;32m    235\u001b[0m               \u001b[0moffset\u001b[0m\u001b[0;34m,\u001b[0m\u001b[0;34m\u001b[0m\u001b[0m\n\u001b[1;32m    236\u001b[0m               \u001b[0mCONTINUOUS_FUTURE_ROLL_STYLE_IDS\u001b[0m\u001b[0;34m[\u001b[0m\u001b[0mroll_style\u001b[0m\u001b[0;34m]\u001b[0m\u001b[0;34m,\u001b[0m\u001b[0;34m\u001b[0m\u001b[0m\n",
      "\u001b[0;31mIndexError\u001b[0m: bytearray index out of range"
     ]
    }
   ],
   "source": [
    "cf = bundle_data.asset_finder.create_continuous_future('Z', 0, 'calendar', None)"
   ]
  },
  {
   "cell_type": "code",
   "execution_count": 40,
   "metadata": {},
   "outputs": [],
   "source": [
    "oc = bundle_data.asset_finder.get_ordered_contracts('SP')"
   ]
  },
  {
   "cell_type": "code",
   "execution_count": 39,
   "metadata": {},
   "outputs": [
    {
     "data": {
      "text/plain": [
       "{}"
      ]
     },
     "execution_count": 39,
     "metadata": {},
     "output_type": "execute_result"
    }
   ],
   "source": []
  },
  {
   "cell_type": "code",
   "execution_count": null,
   "metadata": {},
   "outputs": [],
   "source": []
  }
 ],
 "metadata": {
  "kernelspec": {
   "display_name": "Python 3.5 (env_zipline)",
   "language": "python",
   "name": "env_zipline"
  },
  "language_info": {
   "codemirror_mode": {
    "name": "ipython",
    "version": 3
   },
   "file_extension": ".py",
   "mimetype": "text/x-python",
   "name": "python",
   "nbconvert_exporter": "python",
   "pygments_lexer": "ipython3",
   "version": "3.5.5"
  }
 },
 "nbformat": 4,
 "nbformat_minor": 2
}
