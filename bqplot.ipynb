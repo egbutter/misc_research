{
 "cells": [
  {
   "cell_type": "code",
   "execution_count": 1,
   "metadata": {},
   "outputs": [],
   "source": [
    "import bqplot\n",
    "from bqplot import LinearScale, Lines, Figure, Axis, DateScale, DateColorScale, Scatter, Tooltip\n",
    "from ipywidgets import Layout, Label\n",
    "from bqplot.interacts import BrushIntervalSelector\n",
    "import ipywidgets as widgets\n",
    "import numpy as np\n",
    "import pandas as pd\n",
    "import qgrid\n",
    "\n",
    "periods = 1000\n",
    "security_1 = np.cumsum(np.random.randn(periods)) + 100.\n",
    "security_2 = security_1 + np.cumsum(np.random.randn(periods))*0.5 \n",
    "dates = pd.date_range(start='06-01-2007', periods=periods, freq='d')\n",
    "df = pd.DataFrame(index=dates, data={'security_1':security_1, 'security_2':security_2})\n",
    "qg = qgrid.show_grid(df)"
   ]
  },
  {
   "cell_type": "code",
   "execution_count": 2,
   "metadata": {},
   "outputs": [],
   "source": [
    "def plot_and_brush_df(df):\n",
    "    \n",
    "    margins = dict(left=25, top=50, bottom=50, right=25)\n",
    "\n",
    "    x_dt = DateScale()\n",
    "    scale_y = LinearScale()\n",
    "    line = Lines(x=dates, y=security_1, scales={'x': x_dt, 'y': scale_y})\n",
    "    ax_x = Axis(scale=x_dt, grid_lines='solid')\n",
    "    ax_y = Axis(scale=scale_y, orientation='vertical', tick_format='0.0f')\n",
    "    brush = BrushIntervalSelector(scale=x_dt)\n",
    "    fig = Figure(axes=[ax_x, ax_y], marks=[line], fig_margin=margins, interaction=brush)\n",
    "\n",
    "\n",
    "    # we will share the same y scale\n",
    "    x_dt2 = DateScale()\n",
    "    ax_x2 = Axis(scale=x_dt2, grid_lines='solid')\n",
    "    ax_y2 = Axis(scale=scale_y, orientation='vertical',tick_format='0.0f')\n",
    "    line2 = Lines(x=[], y=[], scales={'x': x_dt2, 'y': scale_y})\n",
    "    fig2 = Figure(axes=[ax_x2, ax_y2], marks=[line2], fig_margin=margins)\n",
    "\n",
    "    def event_handler(name):\n",
    "        sel = brush.selected\n",
    "        if sel is None or len(sel) < 2:\n",
    "            line2.x=[]\n",
    "            line2.y=[]\n",
    "        else:\n",
    "            t_0 = pd.to_datetime(str(sel[0]))\n",
    "            t_1 = pd.to_datetime(str(sel[1]))\n",
    "            df_selected = df[t_0:t_1]\n",
    "            line2.x=df_selected.index\n",
    "            line2.y=df_selected.values.T[0]\n",
    "\n",
    "    brush.observe(event_handler)\n",
    "    return fig, fig2"
   ]
  },
  {
   "cell_type": "code",
   "execution_count": 3,
   "metadata": {},
   "outputs": [],
   "source": [
    "f1, f2 = plot_and_brush_df(df)"
   ]
  },
  {
   "cell_type": "code",
   "execution_count": 4,
   "metadata": {},
   "outputs": [
    {
     "data": {
      "application/vnd.jupyter.widget-view+json": {
       "model_id": "ea641c98ec6d4deab2aba9d38fb30cc8",
       "version_major": 2,
       "version_minor": 0
      },
      "text/plain": [
       "HBox(children=(Figure(axes=[Axis(scale=DateScale()), Axis(orientation='vertical', scale=LinearScale(), tick_fo…"
      ]
     },
     "metadata": {},
     "output_type": "display_data"
    }
   ],
   "source": [
    "widgets.HBox([f1, f2])"
   ]
  },
  {
   "cell_type": "code",
   "execution_count": 5,
   "metadata": {},
   "outputs": [],
   "source": [
    "from sklearn.linear_model import LinearRegression\n",
    "from sklearn.metrics import r2_score"
   ]
  },
  {
   "cell_type": "code",
   "execution_count": 6,
   "metadata": {},
   "outputs": [],
   "source": [
    "def plot_and_brush_scatter(df):\n",
    "\n",
    "    lr = LinearRegression()\n",
    "    \n",
    "    margins = dict(left=25, top=50, bottom=50, right=25)\n",
    "\n",
    "    x_dt = DateScale()\n",
    "    scale_y = LinearScale()\n",
    "    line_c = Lines(x=[], y=[], scales={'x': x_dt, 'y': scale_y})\n",
    "    line_c.opacities = [0.65, 0.90]\n",
    "    ax_x = Axis(scale=x_dt, grid_lines='solid')\n",
    "    ax_y = Axis(scale=scale_y, orientation='vertical', tick_format='0.0f')\n",
    "    brush_s = BrushIntervalSelector(scale=x_dt)\n",
    "    fig_comp = Figure(axes=[ax_x, ax_y], marks=[line_c], fig_margin=margins, interaction=brush_s)\n",
    "\n",
    "    color_scale = DateColorScale(scheme='Blues')\n",
    "    scale_s_x = LinearScale()\n",
    "    scale_s_y = LinearScale()\n",
    "    reg_line = Lines(x=[], y=[], scales={'x': scale_s_x, 'y': scale_s_y})\n",
    "\n",
    "    label = Label()\n",
    "    def on_hover(w, target):\n",
    "        label.value = dots.dates[target['data']['index']].strftime(\"%b-%Y\")\n",
    "\n",
    "    dots = Scatter(x=[], y=[], color=[], scales={'x': scale_s_x, 'y': scale_s_y, 'color': color_scale},\n",
    "                  tooltip=label, unhovered_style={'opacity':0.40})\n",
    "    dots.on_hover(on_hover)\n",
    "\n",
    "    ax_s_x = Axis(scale=scale_s_x, grid_lines='solid')\n",
    "    ax_s_y = Axis(scale=scale_s_x, orientation='vertical')\n",
    "    \n",
    "    fig_s = Figure(axes=[ax_s_x, ax_s_y], marks=[dots, reg_line], fig_margin=margins)\n",
    "\n",
    "        \n",
    "    def event_handler(name):\n",
    "        global dates\n",
    "        sel = brush_s.selected\n",
    "        if sel is None or len(sel) < 2:\n",
    "            dots.x = []\n",
    "            dots.y = []\n",
    "            reg_line.x = []\n",
    "            reg_line.y = []\n",
    "            fig_s.title = ''\n",
    "        else:\n",
    "            t_0 = pd.to_datetime(str(sel[0]))\n",
    "            t_1 = pd.to_datetime(str(sel[1]))\n",
    "            df = pd.DataFrame(data={'a':fig_comp.marks[0].y[0], 'b':fig_comp.marks[0].y[1]}, index=fig_comp.marks[0].x)\n",
    "            df_selected = df[t_0:t_1]\n",
    "            dots.x = df_selected.values[:,0]\n",
    "            dots.y = df_selected.values[:,1]\n",
    "            dots.dates = df_selected.index   # you can stick anything into dots (?)\n",
    "            #dots.color = df_selected.index\n",
    "            fig_s.title = fig_comp.title\n",
    "            try:\n",
    "                lr.fit(dots.x[:, np.newaxis], dots.y)\n",
    "                # clear them first so the line animation isn't janky\n",
    "                y = lr.predict(dots.x[:, np.newaxis])\n",
    "                r2 = r2_score(dots.y, y)\n",
    "                reg_line.opacities = [max(r2, 0.15)]\n",
    "                reg_line.x = []\n",
    "                reg_line.y = []            \n",
    "                reg_line.x = dots.x\n",
    "                reg_line.y = y\n",
    "            except:\n",
    "                reg_line.x = []\n",
    "                reg_line.y = []\n",
    "\n",
    "    brush_s.observe(event_handler)\n",
    "    \n",
    "    fig_comp.marks[0].y = [df.values[:,0], df.values[:,1]] # joint.values[:,1] #\n",
    "    fig_comp.marks[0].x = df.index.values\n",
    "    \n",
    "    return fig_comp, fig_s, brush_s"
   ]
  },
  {
   "cell_type": "code",
   "execution_count": 7,
   "metadata": {},
   "outputs": [],
   "source": [
    "f3, f4, brush = plot_and_brush_scatter(df)"
   ]
  },
  {
   "cell_type": "code",
   "execution_count": 8,
   "metadata": {},
   "outputs": [
    {
     "data": {
      "application/vnd.jupyter.widget-view+json": {
       "model_id": "9eb2522f55b544388bb9585376e21be0",
       "version_major": 2,
       "version_minor": 0
      },
      "text/plain": [
       "HBox(children=(Figure(axes=[Axis(scale=DateScale()), Axis(orientation='vertical', scale=LinearScale(), tick_fo…"
      ]
     },
     "metadata": {},
     "output_type": "display_data"
    }
   ],
   "source": [
    "widgets.HBox([f3, f4])"
   ]
  },
  {
   "cell_type": "code",
   "execution_count": null,
   "metadata": {},
   "outputs": [],
   "source": []
  },
  {
   "cell_type": "code",
   "execution_count": null,
   "metadata": {},
   "outputs": [],
   "source": []
  }
 ],
 "metadata": {
  "kernelspec": {
   "display_name": "Python 3",
   "language": "python",
   "name": "python3"
  },
  "language_info": {
   "codemirror_mode": {
    "name": "ipython",
    "version": 3
   },
   "file_extension": ".py",
   "mimetype": "text/x-python",
   "name": "python",
   "nbconvert_exporter": "python",
   "pygments_lexer": "ipython3",
   "version": "3.6.6"
  }
 },
 "nbformat": 4,
 "nbformat_minor": 2
}
