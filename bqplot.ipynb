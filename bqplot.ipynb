{
 "cells": [
  {
   "cell_type": "code",
   "execution_count": 1,
   "metadata": {},
   "outputs": [],
   "source": [
    "import bqplot\n",
    "from bqplot import LinearScale, Lines, Figure, Axis, DateScale, DateColorScale, Scatter, Tooltip, ColorScale,Toolbar\n",
    "from ipywidgets import Layout, Label\n",
    "from bqplot.interacts import BrushIntervalSelector, LassoSelector, PanZoom\n",
    "from traitlets import link\n",
    "from collections import OrderedDict\n",
    "import ipywidgets as widgets\n",
    "import numpy as np\n",
    "import pandas as pd\n",
    "import qgrid\n",
    "\n",
    "periods = 100\n",
    "security_1 = np.cumsum(np.random.randn(periods)) + 100.\n",
    "security_2 = security_1 + np.cumsum(np.random.randn(periods))*0.5 \n",
    "dates = pd.date_range(start='06-01-2007', periods=periods, freq='d')\n",
    "df = pd.DataFrame(index=dates, data={'security_1':security_1, 'security_2':security_2})\n",
    "qg = qgrid.show_grid(df)"
   ]
  },
  {
   "cell_type": "markdown",
   "metadata": {},
   "source": [
    "# Plot and Brush"
   ]
  },
  {
   "cell_type": "code",
   "execution_count": 2,
   "metadata": {},
   "outputs": [],
   "source": [
    "def plot_and_brush_df(df):\n",
    "    \n",
    "    margins = dict(left=25, top=50, bottom=50, right=25)\n",
    "\n",
    "    x_dt = DateScale()\n",
    "    scale_y = LinearScale()\n",
    "    line = Lines(x=dates, y=security_1, scales={'x': x_dt, 'y': scale_y})\n",
    "    ax_x = Axis(scale=x_dt, grid_lines='solid')\n",
    "    ax_y = Axis(scale=scale_y, orientation='vertical', tick_format='0.0f')\n",
    "    brush = BrushIntervalSelector(scale=x_dt)\n",
    "    fig = Figure(axes=[ax_x, ax_y], marks=[line], fig_margin=margins, interaction=brush)\n",
    "\n",
    "\n",
    "    # we will share the same y scale\n",
    "    x_dt2 = DateScale()\n",
    "    ax_x2 = Axis(scale=x_dt2, grid_lines='solid')\n",
    "    ax_y2 = Axis(scale=scale_y, orientation='vertical',tick_format='0.0f')\n",
    "    line2 = Lines(x=[], y=[], scales={'x': x_dt2, 'y': scale_y})\n",
    "    fig2 = Figure(axes=[ax_x2, ax_y2], marks=[line2], fig_margin=margins)\n",
    "\n",
    "    def event_handler(name):\n",
    "        sel = brush.selected\n",
    "        if sel is None or len(sel) < 2:\n",
    "            line2.x=[]\n",
    "            line2.y=[]\n",
    "        else:\n",
    "            t_0 = pd.to_datetime(str(sel[0]))\n",
    "            t_1 = pd.to_datetime(str(sel[1]))\n",
    "            df_selected = df[t_0:t_1]\n",
    "            line2.x=df_selected.index\n",
    "            line2.y=df_selected.values.T[0]\n",
    "\n",
    "    brush.observe(event_handler)\n",
    "    return fig, fig2"
   ]
  },
  {
   "cell_type": "code",
   "execution_count": 3,
   "metadata": {},
   "outputs": [],
   "source": [
    "f1, f2 = plot_and_brush_df(df)"
   ]
  },
  {
   "cell_type": "code",
   "execution_count": 4,
   "metadata": {},
   "outputs": [
    {
     "data": {
      "application/vnd.jupyter.widget-view+json": {
       "model_id": "a768a2c790f24086a918c470d2385f32",
       "version_major": 2,
       "version_minor": 0
      },
      "text/plain": [
       "HBox(children=(Figure(axes=[Axis(scale=DateScale()), Axis(orientation='vertical', scale=LinearScale(), tick_fo…"
      ]
     },
     "metadata": {},
     "output_type": "display_data"
    }
   ],
   "source": [
    "widgets.HBox([f1, f2])"
   ]
  },
  {
   "cell_type": "markdown",
   "metadata": {},
   "source": [
    "# Plot and Brush Scatter"
   ]
  },
  {
   "cell_type": "code",
   "execution_count": 5,
   "metadata": {},
   "outputs": [],
   "source": [
    "from sklearn.linear_model import LinearRegression\n",
    "from sklearn.metrics import r2_score"
   ]
  },
  {
   "cell_type": "code",
   "execution_count": 6,
   "metadata": {},
   "outputs": [],
   "source": [
    "def plot_and_brush_scatter(df):\n",
    "\n",
    "    lr = LinearRegression()\n",
    "    \n",
    "    margins = dict(left=25, top=50, bottom=50, right=25)\n",
    "\n",
    "    x_dt = DateScale()\n",
    "    scale_y = LinearScale()\n",
    "    line_c = Lines(x=[], y=[], scales={'x': x_dt, 'y': scale_y})\n",
    "    line_c.opacities = [0.65, 0.90]\n",
    "    ax_x = Axis(scale=x_dt, grid_lines='solid')\n",
    "    ax_y = Axis(scale=scale_y, orientation='vertical', tick_format='0.0f')\n",
    "    brush_s = BrushIntervalSelector(scale=x_dt)\n",
    "    fig_comp = Figure(axes=[ax_x, ax_y], marks=[line_c], fig_margin=margins, interaction=brush_s)\n",
    "\n",
    "    color_scale = DateColorScale(scheme='Blues')\n",
    "    scale_s_x = LinearScale()\n",
    "    scale_s_y = LinearScale()\n",
    "    reg_line = Lines(x=[], y=[], scales={'x': scale_s_x, 'y': scale_s_y})\n",
    "\n",
    "    label = Label()\n",
    "    def on_hover(w, target):\n",
    "        label.value = dots.dates[target['data']['index']].strftime(\"%b-%Y\")\n",
    "\n",
    "    dots = Scatter(x=[], y=[], color=[], scales={'x': scale_s_x, 'y': scale_s_y, 'color': color_scale},\n",
    "                  tooltip=label, unhovered_style={'opacity':0.40})\n",
    "    dots.on_hover(on_hover)\n",
    "\n",
    "    ax_s_x = Axis(scale=scale_s_x, grid_lines='solid')\n",
    "    ax_s_y = Axis(scale=scale_s_x, orientation='vertical')\n",
    "    \n",
    "    fig_s = Figure(axes=[ax_s_x, ax_s_y], marks=[dots, reg_line], fig_margin=margins, animation_duration = 0)\n",
    "\n",
    "        \n",
    "    def event_handler(name):\n",
    "        global dates\n",
    "        sel = brush_s.selected\n",
    "        if sel is None or len(sel) < 2:\n",
    "            dots.x = []\n",
    "            dots.y = []\n",
    "            reg_line.x = []\n",
    "            reg_line.y = []\n",
    "            fig_s.title = ''\n",
    "        else:\n",
    "            t_0 = pd.to_datetime(str(sel[0]))\n",
    "            t_1 = pd.to_datetime(str(sel[1]))\n",
    "            df = pd.DataFrame(data={'a':fig_comp.marks[0].y[0], 'b':fig_comp.marks[0].y[1]}, index=fig_comp.marks[0].x)\n",
    "            df_selected = df[t_0:t_1]\n",
    "            dots.x = df_selected.values[:,0]\n",
    "            dots.y = df_selected.values[:,1]\n",
    "            dots.dates = df_selected.index   # you can stick anything into dots (?)\n",
    "            #dots.color = df_selected.index\n",
    "            fig_s.title = fig_comp.title\n",
    "            try:\n",
    "                lr.fit(dots.x[:, np.newaxis], dots.y)\n",
    "                with reg_line.hold_sync():\n",
    "                    # clear them first so the line animation isn't janky\n",
    "                    y = lr.predict(dots.x[:, np.newaxis])\n",
    "                    r2 = r2_score(dots.y, y)\n",
    "                    reg_line.opacities = [max(r2, 0.15)]\n",
    "                    reg_line.x = []\n",
    "                    reg_line.y = []            \n",
    "                    reg_line.x = dots.x\n",
    "                    reg_line.y = y\n",
    "            except:\n",
    "                reg_line.x = []\n",
    "                reg_line.y = []\n",
    "\n",
    "    brush_s.observe(event_handler)\n",
    "    \n",
    "    fig_comp.marks[0].y = [df.values[:,0], df.values[:,1]] # joint.values[:,1] #\n",
    "    fig_comp.marks[0].x = df.index.values\n",
    "    \n",
    "    return fig_comp, fig_s, brush_s"
   ]
  },
  {
   "cell_type": "code",
   "execution_count": 7,
   "metadata": {},
   "outputs": [],
   "source": [
    "f3, f4, brush = plot_and_brush_scatter(df)"
   ]
  },
  {
   "cell_type": "code",
   "execution_count": 8,
   "metadata": {},
   "outputs": [
    {
     "data": {
      "application/vnd.jupyter.widget-view+json": {
       "model_id": "631dd83d964242059ce44ca9b6242025",
       "version_major": 2,
       "version_minor": 0
      },
      "text/plain": [
       "HBox(children=(Figure(axes=[Axis(scale=DateScale()), Axis(orientation='vertical', scale=LinearScale(), tick_fo…"
      ]
     },
     "metadata": {},
     "output_type": "display_data"
    }
   ],
   "source": [
    "widgets.HBox([f3, f4])"
   ]
  },
  {
   "cell_type": "markdown",
   "metadata": {},
   "source": [
    "# Scatter Lasso\n"
   ]
  },
  {
   "cell_type": "code",
   "execution_count": 83,
   "metadata": {},
   "outputs": [],
   "source": [
    "sc_x, sc_y = LinearScale(), LinearScale()\n",
    "sc_c1 = ColorScale()\n",
    "sc_size = LinearScale()\n",
    "sc_opacity = LinearScale()\n",
    "\n",
    "sc_x_pz = LinearScale()\n",
    "sc_y_pz = LinearScale()\n",
    "\n",
    "colors = np.random.randn(len(df))\n",
    "sizes = np.random.rand(len(df))\n",
    "\n",
    "scatter = Scatter(\n",
    "    x=df['security_1'],\n",
    "    y=df['security_2'],\n",
    "    scales={'x': sc_x,\n",
    "            'y': sc_y,\n",
    "            'color': sc_c1,\n",
    "            'size': sc_size,\n",
    "            'opacity': sc_opacity},\n",
    "    color=colors,\n",
    "    size=sizes,\n",
    "    default_size=128)\n",
    "scatter.default_opacities = [0.75]\n",
    "scatter.opacity = df.index.values"
   ]
  },
  {
   "cell_type": "code",
   "execution_count": 84,
   "metadata": {},
   "outputs": [],
   "source": [
    "sc_c1.colors = ['blue', 'green', 'yellow']"
   ]
  },
  {
   "cell_type": "code",
   "execution_count": 85,
   "metadata": {},
   "outputs": [],
   "source": [
    "ls = LassoSelector()\n",
    "ls.marks = [scatter]"
   ]
  },
  {
   "cell_type": "code",
   "execution_count": 86,
   "metadata": {},
   "outputs": [],
   "source": [
    "ax_x = Axis(scale=sc_x, grid_lines='none', visible=False)\n",
    "ax_y = Axis(scale=sc_y, grid_lines='none', orientation='vertical', visible=False)"
   ]
  },
  {
   "cell_type": "code",
   "execution_count": null,
   "metadata": {},
   "outputs": [],
   "source": []
  },
  {
   "cell_type": "code",
   "execution_count": null,
   "metadata": {},
   "outputs": [],
   "source": []
  },
  {
   "cell_type": "code",
   "execution_count": 87,
   "metadata": {},
   "outputs": [
    {
     "data": {
      "text/plain": [
       "<traitlets.traitlets.link at 0x7fdd4d2f4128>"
      ]
     },
     "execution_count": 87,
     "metadata": {},
     "output_type": "execute_result"
    }
   ],
   "source": [
    "margins = dict(left=2, top=2, bottom=2, right=2)\n",
    "fig = Figure(marks=[scatter],  axes=[ax_x, ax_y],  fig_margin=margins)\n",
    "\n",
    "#fig.layout.width = '95%'\n",
    "#fig.layout.height = 'auto'\n",
    "buttonWidth = '50px'\n",
    "\n",
    "pz = PanZoom(scales={'x': [sc_x], 'y': [sc_y]})\n",
    "\n",
    "zoom_interacts = widgets.ToggleButtons(\n",
    "    options=OrderedDict([\n",
    "        ('xy ', pz),\n",
    "        ('a ', ls),   \n",
    "        (' ', None)]),\n",
    "    icons = [\"arrows\", \"pencil\", \"stop\"],\n",
    "    tooltips = [\"zoom/pan in x & y\", \"select\", \"cancel zoom/pan\"]\n",
    ")\n",
    "\n",
    "zoom_interacts.style.button_width = buttonWidth\n",
    "\n",
    "ResetZoomButton = widgets.Button(\n",
    "    description='',\n",
    "    disabled=False,\n",
    "    button_style='', # 'success', 'info', 'warning', 'danger' or ''\n",
    "    tooltip='Reset zoom',\n",
    "    icon='arrows-alt'\n",
    ")\n",
    "\n",
    "def resetZoom(new):\n",
    "    fig.interaction = None  # clear any lasso\n",
    "    fig.animation_duration = 1000\n",
    "    with fig.hold_sync():\n",
    "    # Reset the x and y axes on the figure\n",
    "        fig.axes[0].scale.min = None\n",
    "        fig.axes[1].scale.min = None\n",
    "        fig.axes[0].scale.max = None\n",
    "        fig.axes[1].scale.max = None\n",
    "    fig.animation_duration = 0\n",
    "\n",
    "    \n",
    "ResetZoomButton.on_click(resetZoom)\n",
    "ResetZoomButton.layout.width = buttonWidth\n",
    "\n",
    "link((zoom_interacts, 'value'), (fig, 'interaction'))\n"
   ]
  },
  {
   "cell_type": "code",
   "execution_count": 88,
   "metadata": {},
   "outputs": [],
   "source": [
    "# Creating the figure to be displayed as the tooltip\n",
    "def make_tooltip_box():\n",
    "    fig_layout = Layout(width='95%', height='200px')\n",
    "    margins = dict(left=2, top=2, bottom=2, right=2)\n",
    "    \n",
    "    sc_x_dt = DateScale()\n",
    "    sc_y = LinearScale()\n",
    "    ax_x = Axis(scale=sc_x_dt, visible=False)\n",
    "    ax_y = Axis(scale=sc_y, orientation='vertical', visible=False)\n",
    "\n",
    "    line_a = Lines(x=dates, y=[], scales={'x': sc_x_dt, 'y': sc_y}, colors=['blue'])\n",
    "    fig_line_a = Figure(marks=[line_a], axes=[ax_x, ax_y], layout=fig_layout, fig_margin=margins, animation_duration=1000)\n",
    "    \n",
    "    line_b = Lines(x=dates, y=[], scales={'x': sc_x_dt, 'y': sc_y}, colors=['green'])\n",
    "    fig_line_b = Figure(marks=[line_b], axes=[ax_x, ax_y], layout=fig_layout, fig_margin=margins, animation_duration=1000)\n",
    "\n",
    "    fig_tooltip = widgets.VBox([fig_line_a, fig_line_b], layout=Layout(width='220px', height='400px'))\n",
    "    \n",
    "    return fig_line_a, fig_line_b, fig_tooltip"
   ]
  },
  {
   "cell_type": "code",
   "execution_count": null,
   "metadata": {},
   "outputs": [],
   "source": []
  },
  {
   "cell_type": "code",
   "execution_count": 89,
   "metadata": {},
   "outputs": [],
   "source": [
    "fig_line_a, fig_line_b, fig_tooltip = make_tooltip_box()"
   ]
  },
  {
   "cell_type": "code",
   "execution_count": 90,
   "metadata": {},
   "outputs": [],
   "source": [
    "def on_hover(w, target):\n",
    "    selected_date_index = target['data']['index']\n",
    "    start_idx = max(0, selected_date_index-20)\n",
    "    end_idx = start_idx + 60\n",
    "    \n",
    "    with fig_line_a.hold_sync():\n",
    "        fig_line_a.marks[0].y = df.values[start_idx:end_idx, 0]\n",
    "        fig_line_a.marks[0].x = df.index.values\n",
    "    \n",
    "    with fig_line_b.hold_sync():\n",
    "        fig_line_b.marks[0].y = df.values[start_idx:end_idx, 1]\n",
    "        fig_line_b.marks[0].x = df.index.values\n",
    "\n",
    "scatter.tooltip = None\n",
    "scatter.on_hover(on_hover)"
   ]
  },
  {
   "cell_type": "code",
   "execution_count": null,
   "metadata": {},
   "outputs": [],
   "source": []
  },
  {
   "cell_type": "code",
   "execution_count": 97,
   "metadata": {},
   "outputs": [
    {
     "data": {
      "application/vnd.jupyter.widget-view+json": {
       "model_id": "4289a393912b43659f0583bb59754669",
       "version_major": 2,
       "version_minor": 0
      },
      "text/plain": [
       "VBox(children=(HBox(children=(ToggleButtons(icons=('arrows', 'pencil', 'stop'), options=OrderedDict([('xy ', P…"
      ]
     },
     "metadata": {},
     "output_type": "display_data"
    }
   ],
   "source": [
    "widgets.VBox([\n",
    "        widgets.HBox([zoom_interacts,ResetZoomButton]),\n",
    "        widgets.HBox([fig, fig_tooltip])\n",
    "])"
   ]
  },
  {
   "cell_type": "code",
   "execution_count": null,
   "metadata": {},
   "outputs": [],
   "source": []
  },
  {
   "cell_type": "code",
   "execution_count": 19,
   "metadata": {},
   "outputs": [],
   "source": [
    "scatter.opacity = df.index.values"
   ]
  },
  {
   "cell_type": "code",
   "execution_count": 20,
   "metadata": {},
   "outputs": [
    {
     "data": {
      "text/html": [
       "<div>\n",
       "<style scoped>\n",
       "    .dataframe tbody tr th:only-of-type {\n",
       "        vertical-align: middle;\n",
       "    }\n",
       "\n",
       "    .dataframe tbody tr th {\n",
       "        vertical-align: top;\n",
       "    }\n",
       "\n",
       "    .dataframe thead th {\n",
       "        text-align: right;\n",
       "    }\n",
       "</style>\n",
       "<table border=\"1\" class=\"dataframe\">\n",
       "  <thead>\n",
       "    <tr style=\"text-align: right;\">\n",
       "      <th></th>\n",
       "      <th>security_1</th>\n",
       "      <th>security_2</th>\n",
       "    </tr>\n",
       "  </thead>\n",
       "  <tbody>\n",
       "  </tbody>\n",
       "</table>\n",
       "</div>"
      ],
      "text/plain": [
       "Empty DataFrame\n",
       "Columns: [security_1, security_2]\n",
       "Index: []"
      ]
     },
     "execution_count": 20,
     "metadata": {},
     "output_type": "execute_result"
    }
   ],
   "source": [
    "df.iloc[scatter.selected, :]"
   ]
  },
  {
   "cell_type": "markdown",
   "metadata": {},
   "source": [
    "# Graph Lasso"
   ]
  },
  {
   "cell_type": "code",
   "execution_count": 21,
   "metadata": {},
   "outputs": [],
   "source": [
    "# from bqplot.marks import Graph\n",
    "# fig_layout = Layout(width='960px', height='800px')"
   ]
  },
  {
   "cell_type": "code",
   "execution_count": 22,
   "metadata": {},
   "outputs": [],
   "source": [
    "# lasso_sel = LassoSelector()"
   ]
  },
  {
   "cell_type": "code",
   "execution_count": 23,
   "metadata": {},
   "outputs": [],
   "source": [
    "# node_data = list('ABCDEFG')\n",
    "\n",
    "# link_matrix = np.zeros((7, 7))\n",
    "# xs = LinearScale()\n",
    "# ys = LinearScale()\n",
    "# x = [100, 200, 200, 300, 300, 300, 300]\n",
    "# y = [2, .5, 4, 8, 6, 4, 1]\n",
    "# graph = Graph(node_data=node_data, link_matrix=link_matrix, link_type='line', \n",
    "#               colors=['orange'] * 7,\n",
    "#               scales={'x': xs, 'y': ys, }, x=x, y=y, \n",
    "#               directed=False)\n",
    "# fig = Figure(marks=[graph], layout=fig_layout, interaction=lasso_sel)\n",
    "# lasso_sel.marks = [graph]"
   ]
  },
  {
   "cell_type": "code",
   "execution_count": 24,
   "metadata": {},
   "outputs": [],
   "source": [
    "#fig"
   ]
  },
  {
   "cell_type": "code",
   "execution_count": 25,
   "metadata": {},
   "outputs": [],
   "source": [
    "# graph.selected"
   ]
  },
  {
   "cell_type": "code",
   "execution_count": 26,
   "metadata": {
    "scrolled": true
   },
   "outputs": [],
   "source": [
    "# from bqplot.interacts import PanZoom\n",
    "# import ipywidgets as widgets\n",
    "# import bqplot as bq\n",
    "# from traitlets import link\n",
    "# from collections import OrderedDict\n",
    "\n",
    "# import numpy as np\n",
    "\n",
    "# buttonWidth = '50px'\n",
    "\n",
    "# x_sc = bq.LinearScale()\n",
    "# y_sc = bq.LinearScale()\n",
    "\n",
    "# x_data = np.arange(500)\n",
    "# y_data = np.random.randn(3, 500)\n",
    "\n",
    "# line_chart = bq.Lines(x=x_data, y=y_data, scales= {'x': x_sc, 'y': y_sc}, \n",
    "#                        display_legend=True, labels=[\"line 1\", \"line 2\", \"line 3\"] )\n",
    "\n",
    "# ax_x = bq.Axis(scale=x_sc)\n",
    "# ax_y = bq.Axis(scale=y_sc, orientation='vertical', tick_format='0.2f')\n",
    "\n",
    "# fig = bq.Figure(marks=[line_chart], axes=[ax_x, ax_y])\n",
    "# fig.layout.width = '95%'\n",
    "\n",
    "# pz = PanZoom(scales={'x': [x_sc], 'y': [y_sc]})\n",
    "# pzx = PanZoom(scales={'x': [x_sc]})\n",
    "# pzy = PanZoom(scales={'y': [y_sc], })\n",
    "\n",
    "# #\n",
    "# zoom_interacts = widgets.ToggleButtons(\n",
    "#                                         options=OrderedDict([\n",
    "#                                             ('xy ', pz), \n",
    "#                                             ('x ', pzx), \n",
    "#                                             ('y ', pzy),   \n",
    "#                                             (' ', None)]),\n",
    "#                                             icons = [\"arrows\", \"arrows-h\", \"arrows-v\", \"pencil\"],\n",
    "#                                             tooltips = [\"zoom/pan in x & y\", \"zoom/pan in x only\", \"zoom/pan in y only\", \"cancel zoom/pan\"]\n",
    "#                                         )\n",
    "# zoom_interacts.style.button_width = buttonWidth\n",
    "\n",
    "# ResetZoomButton = widgets.Button(\n",
    "#     description='',\n",
    "#     disabled=False,\n",
    "#     button_style='', # 'success', 'info', 'warning', 'danger' or ''\n",
    "#     tooltip='Reset zoom',\n",
    "#     icon='arrows-alt'\n",
    "# )\n",
    "\n",
    "# def resetZoom(new):\n",
    "#     # Reset the x and y axes on the figure\n",
    "#     fig.axes[0].scale.min = None\n",
    "#     fig.axes[1].scale.min = None\n",
    "#     fig.axes[0].scale.max = None\n",
    "#     fig.axes[1].scale.max = None  \n",
    "    \n",
    "# ResetZoomButton.on_click(resetZoom)\n",
    "# ResetZoomButton.layout.width = buttonWidth\n",
    "\n",
    "# link((zoom_interacts, 'value'), (fig, 'interaction'))\n",
    "# widgets.VBox([fig, widgets.HBox([zoom_interacts,ResetZoomButton])], align_self='stretch')"
   ]
  },
  {
   "cell_type": "code",
   "execution_count": null,
   "metadata": {},
   "outputs": [],
   "source": [
    "\n"
   ]
  },
  {
   "cell_type": "code",
   "execution_count": null,
   "metadata": {},
   "outputs": [],
   "source": []
  },
  {
   "cell_type": "code",
   "execution_count": null,
   "metadata": {},
   "outputs": [],
   "source": []
  }
 ],
 "metadata": {
  "kernelspec": {
   "display_name": "Python 3",
   "language": "python",
   "name": "python3"
  },
  "language_info": {
   "codemirror_mode": {
    "name": "ipython",
    "version": 3
   },
   "file_extension": ".py",
   "mimetype": "text/x-python",
   "name": "python",
   "nbconvert_exporter": "python",
   "pygments_lexer": "ipython3",
   "version": "3.6.6"
  }
 },
 "nbformat": 4,
 "nbformat_minor": 2
}
