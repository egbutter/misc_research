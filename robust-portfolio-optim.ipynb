{
 "cells": [
  {
   "cell_type": "markdown",
   "metadata": {},
   "source": [
    "https://web.stanford.edu/~boyd/papers/pdf/cvx_portfolio.pdf\n",
    "\n"
   ]
  },
  {
   "cell_type": "code",
   "execution_count": 14,
   "metadata": {},
   "outputs": [],
   "source": [
    "%matplotlib inline\n",
    "\n",
    "import cvxportfolio as cp\n",
    "import matplotlib.pyplot as plt\n",
    "import numpy as np\n",
    "import pandas as pd\n",
    "from research_tools.research_tools import run_pipeline, get_pricing, get_symbols\n",
    "from research_tools.ics.ics_scheme import Sector\n",
    "from zipline.pipeline.data import USEquityPricing as USEP\n",
    "from zipline.pipeline.factors import Returns, AverageDollarVolume, AnnualizedVolatility\n",
    "from zipline.pipeline import Pipeline"
   ]
  },
  {
   "cell_type": "code",
   "execution_count": 15,
   "metadata": {},
   "outputs": [],
   "source": [
    "universe = AverageDollarVolume(window_length=120).top(500)\n",
    "my_factor = (\n",
    "    -Returns(mask=universe, window_length=5).\n",
    "    demean(groupby=Sector()).\n",
    "    rank().\n",
    "    zscore()\n",
    ")\n",
    "\n",
    "p = Pipeline(screen=universe)\n",
    "p.add(Sector(), 'Sector')\n",
    "p.add(AnnualizedVolatility(window_length=120, mask=universe), \"Volatility\")\n",
    "p.add(USEP.close.latest, \"Price\")\n",
    "p.add(my_factor, '5d_MR_Sector_Neutral_Rank')\n",
    "\n",
    "start_date = '2017-01-04'\n",
    "end_date = '2017-01-04'\n",
    "\n",
    "df = run_pipeline(p, start_date, end_date)"
   ]
  },
  {
   "cell_type": "code",
   "execution_count": 16,
   "metadata": {},
   "outputs": [],
   "source": [
    "df['expec_return'] = 0.02*df['5d_MR_Sector_Neutral_Rank']*df['Volatility']/np.sqrt(252)"
   ]
  },
  {
   "cell_type": "code",
   "execution_count": 17,
   "metadata": {},
   "outputs": [
    {
     "data": {
      "text/plain": [
       "0.00265080291491987"
      ]
     },
     "execution_count": 17,
     "metadata": {},
     "output_type": "execute_result"
    }
   ],
   "source": [
    "df.expec_return.max()"
   ]
  },
  {
   "cell_type": "code",
   "execution_count": 18,
   "metadata": {},
   "outputs": [],
   "source": [
    "df.index = df.index.droplevel(0)"
   ]
  },
  {
   "cell_type": "code",
   "execution_count": 19,
   "metadata": {},
   "outputs": [],
   "source": [
    "df.dropna(inplace=True)"
   ]
  },
  {
   "cell_type": "code",
   "execution_count": 20,
   "metadata": {},
   "outputs": [
    {
     "data": {
      "text/html": [
       "<div>\n",
       "<style scoped>\n",
       "    .dataframe tbody tr th:only-of-type {\n",
       "        vertical-align: middle;\n",
       "    }\n",
       "\n",
       "    .dataframe tbody tr th {\n",
       "        vertical-align: top;\n",
       "    }\n",
       "\n",
       "    .dataframe thead th {\n",
       "        text-align: right;\n",
       "    }\n",
       "</style>\n",
       "<table border=\"1\" class=\"dataframe\">\n",
       "  <thead>\n",
       "    <tr style=\"text-align: right;\">\n",
       "      <th></th>\n",
       "      <th>5d_MR_Sector_Neutral_Rank</th>\n",
       "      <th>Price</th>\n",
       "      <th>Sector</th>\n",
       "      <th>Volatility</th>\n",
       "      <th>expec_return</th>\n",
       "    </tr>\n",
       "  </thead>\n",
       "  <tbody>\n",
       "    <tr>\n",
       "      <th>Equity(0 [A])</th>\n",
       "      <td>-0.371702</td>\n",
       "      <td>46.49</td>\n",
       "      <td>0</td>\n",
       "      <td>0.210912</td>\n",
       "      <td>-0.000099</td>\n",
       "    </tr>\n",
       "    <tr>\n",
       "      <th>Equity(2 [AAL])</th>\n",
       "      <td>1.659247</td>\n",
       "      <td>46.30</td>\n",
       "      <td>2</td>\n",
       "      <td>0.293127</td>\n",
       "      <td>0.000613</td>\n",
       "    </tr>\n",
       "    <tr>\n",
       "      <th>Equity(7 [AAP])</th>\n",
       "      <td>-0.478998</td>\n",
       "      <td>170.60</td>\n",
       "      <td>2</td>\n",
       "      <td>0.295419</td>\n",
       "      <td>-0.000178</td>\n",
       "    </tr>\n",
       "    <tr>\n",
       "      <th>Equity(8 [AAPL])</th>\n",
       "      <td>0.869860</td>\n",
       "      <td>116.15</td>\n",
       "      <td>6</td>\n",
       "      <td>0.195097</td>\n",
       "      <td>0.000214</td>\n",
       "    </tr>\n",
       "    <tr>\n",
       "      <th>Equity(12 [ABBV])</th>\n",
       "      <td>0.149447</td>\n",
       "      <td>62.41</td>\n",
       "      <td>0</td>\n",
       "      <td>0.230412</td>\n",
       "      <td>0.000043</td>\n",
       "    </tr>\n",
       "  </tbody>\n",
       "</table>\n",
       "</div>"
      ],
      "text/plain": [
       "                   5d_MR_Sector_Neutral_Rank   Price  Sector  Volatility  \\\n",
       "Equity(0 [A])                      -0.371702   46.49       0    0.210912   \n",
       "Equity(2 [AAL])                     1.659247   46.30       2    0.293127   \n",
       "Equity(7 [AAP])                    -0.478998  170.60       2    0.295419   \n",
       "Equity(8 [AAPL])                    0.869860  116.15       6    0.195097   \n",
       "Equity(12 [ABBV])                   0.149447   62.41       0    0.230412   \n",
       "\n",
       "                   expec_return  \n",
       "Equity(0 [A])         -0.000099  \n",
       "Equity(2 [AAL])        0.000613  \n",
       "Equity(7 [AAP])       -0.000178  \n",
       "Equity(8 [AAPL])       0.000214  \n",
       "Equity(12 [ABBV])      0.000043  "
      ]
     },
     "execution_count": 20,
     "metadata": {},
     "output_type": "execute_result"
    }
   ],
   "source": [
    "df.head()"
   ]
  },
  {
   "cell_type": "code",
   "execution_count": 21,
   "metadata": {},
   "outputs": [],
   "source": [
    "symbols = list(df.index.values)"
   ]
  },
  {
   "cell_type": "code",
   "execution_count": 22,
   "metadata": {},
   "outputs": [],
   "source": [
    "symbols = symbols"
   ]
  },
  {
   "cell_type": "code",
   "execution_count": 23,
   "metadata": {},
   "outputs": [],
   "source": [
    "r_hat = pd.DataFrame(\n",
    "    index=symbols,\n",
    "    columns=[end_date],\n",
    "    data=df.expec_return.values\n",
    ").T"
   ]
  },
  {
   "cell_type": "code",
   "execution_count": 24,
   "metadata": {},
   "outputs": [
    {
     "data": {
      "text/html": [
       "<div>\n",
       "<style scoped>\n",
       "    .dataframe tbody tr th:only-of-type {\n",
       "        vertical-align: middle;\n",
       "    }\n",
       "\n",
       "    .dataframe tbody tr th {\n",
       "        vertical-align: top;\n",
       "    }\n",
       "\n",
       "    .dataframe thead th {\n",
       "        text-align: right;\n",
       "    }\n",
       "</style>\n",
       "<table border=\"1\" class=\"dataframe\">\n",
       "  <thead>\n",
       "    <tr style=\"text-align: right;\">\n",
       "      <th></th>\n",
       "      <th>Equity(0 [A])</th>\n",
       "      <th>Equity(2 [AAL])</th>\n",
       "      <th>Equity(7 [AAP])</th>\n",
       "      <th>Equity(8 [AAPL])</th>\n",
       "      <th>Equity(12 [ABBV])</th>\n",
       "      <th>Equity(13 [ABC])</th>\n",
       "      <th>Equity(20 [ABT])</th>\n",
       "      <th>Equity(37 [ACN])</th>\n",
       "      <th>Equity(45 [ADBE])</th>\n",
       "      <th>Equity(48 [ADI])</th>\n",
       "      <th>...</th>\n",
       "      <th>Equity(3148 [XEC])</th>\n",
       "      <th>Equity(3149 [XEL])</th>\n",
       "      <th>Equity(3151 [XLNX])</th>\n",
       "      <th>Equity(3156 [XOM])</th>\n",
       "      <th>Equity(3163 [XRAY])</th>\n",
       "      <th>Equity(3171 [YELP])</th>\n",
       "      <th>Equity(3175 [YUM])</th>\n",
       "      <th>Equity(3180 [ZBH])</th>\n",
       "      <th>Equity(3188 [ZION])</th>\n",
       "      <th>Equity(3197 [ZTS])</th>\n",
       "    </tr>\n",
       "  </thead>\n",
       "  <tbody>\n",
       "    <tr>\n",
       "      <th>2017-01-04</th>\n",
       "      <td>-0.000099</td>\n",
       "      <td>0.000613</td>\n",
       "      <td>-0.000178</td>\n",
       "      <td>0.000214</td>\n",
       "      <td>0.000043</td>\n",
       "      <td>-0.000757</td>\n",
       "      <td>-0.000252</td>\n",
       "      <td>-0.000057</td>\n",
       "      <td>0.000093</td>\n",
       "      <td>0.000323</td>\n",
       "      <td>...</td>\n",
       "      <td>-0.000605</td>\n",
       "      <td>-0.000066</td>\n",
       "      <td>0.000352</td>\n",
       "      <td>-0.000209</td>\n",
       "      <td>0.000141</td>\n",
       "      <td>0.000806</td>\n",
       "      <td>0.000052</td>\n",
       "      <td>-0.000214</td>\n",
       "      <td>0.000447</td>\n",
       "      <td>0.000068</td>\n",
       "    </tr>\n",
       "  </tbody>\n",
       "</table>\n",
       "<p>1 rows × 452 columns</p>\n",
       "</div>"
      ],
      "text/plain": [
       "            Equity(0 [A])  Equity(2 [AAL])  Equity(7 [AAP])  Equity(8 [AAPL])  \\\n",
       "2017-01-04      -0.000099         0.000613        -0.000178          0.000214   \n",
       "\n",
       "            Equity(12 [ABBV])  Equity(13 [ABC])  Equity(20 [ABT])  \\\n",
       "2017-01-04           0.000043         -0.000757         -0.000252   \n",
       "\n",
       "            Equity(37 [ACN])  Equity(45 [ADBE])  Equity(48 [ADI])  \\\n",
       "2017-01-04         -0.000057           0.000093          0.000323   \n",
       "\n",
       "                   ...          Equity(3148 [XEC])  Equity(3149 [XEL])  \\\n",
       "2017-01-04         ...                   -0.000605           -0.000066   \n",
       "\n",
       "            Equity(3151 [XLNX])  Equity(3156 [XOM])  Equity(3163 [XRAY])  \\\n",
       "2017-01-04             0.000352           -0.000209             0.000141   \n",
       "\n",
       "            Equity(3171 [YELP])  Equity(3175 [YUM])  Equity(3180 [ZBH])  \\\n",
       "2017-01-04             0.000806            0.000052           -0.000214   \n",
       "\n",
       "            Equity(3188 [ZION])  Equity(3197 [ZTS])  \n",
       "2017-01-04             0.000447            0.000068  \n",
       "\n",
       "[1 rows x 452 columns]"
      ]
     },
     "execution_count": 24,
     "metadata": {},
     "output_type": "execute_result"
    }
   ],
   "source": [
    "r_hat"
   ]
  },
  {
   "cell_type": "code",
   "execution_count": 25,
   "metadata": {},
   "outputs": [],
   "source": [
    "r_hat['USDOLLAR'] = 0.01/365.0"
   ]
  },
  {
   "cell_type": "code",
   "execution_count": 26,
   "metadata": {},
   "outputs": [],
   "source": [
    "prices = pd.DataFrame(\n",
    "    index=symbols,\n",
    "    columns=[end_date],\n",
    "    data=df.Price.values\n",
    ").T\n"
   ]
  },
  {
   "cell_type": "code",
   "execution_count": 27,
   "metadata": {},
   "outputs": [
    {
     "data": {
      "text/html": [
       "<div>\n",
       "<style scoped>\n",
       "    .dataframe tbody tr th:only-of-type {\n",
       "        vertical-align: middle;\n",
       "    }\n",
       "\n",
       "    .dataframe tbody tr th {\n",
       "        vertical-align: top;\n",
       "    }\n",
       "\n",
       "    .dataframe thead th {\n",
       "        text-align: right;\n",
       "    }\n",
       "</style>\n",
       "<table border=\"1\" class=\"dataframe\">\n",
       "  <thead>\n",
       "    <tr style=\"text-align: right;\">\n",
       "      <th></th>\n",
       "      <th>Equity(0 [A])</th>\n",
       "      <th>Equity(2 [AAL])</th>\n",
       "      <th>Equity(7 [AAP])</th>\n",
       "      <th>Equity(8 [AAPL])</th>\n",
       "      <th>Equity(12 [ABBV])</th>\n",
       "      <th>Equity(13 [ABC])</th>\n",
       "      <th>Equity(20 [ABT])</th>\n",
       "      <th>Equity(37 [ACN])</th>\n",
       "      <th>Equity(45 [ADBE])</th>\n",
       "      <th>Equity(48 [ADI])</th>\n",
       "      <th>...</th>\n",
       "      <th>Equity(3148 [XEC])</th>\n",
       "      <th>Equity(3149 [XEL])</th>\n",
       "      <th>Equity(3151 [XLNX])</th>\n",
       "      <th>Equity(3156 [XOM])</th>\n",
       "      <th>Equity(3163 [XRAY])</th>\n",
       "      <th>Equity(3171 [YELP])</th>\n",
       "      <th>Equity(3175 [YUM])</th>\n",
       "      <th>Equity(3180 [ZBH])</th>\n",
       "      <th>Equity(3188 [ZION])</th>\n",
       "      <th>Equity(3197 [ZTS])</th>\n",
       "    </tr>\n",
       "  </thead>\n",
       "  <tbody>\n",
       "    <tr>\n",
       "      <th>2017-01-04</th>\n",
       "      <td>46.49</td>\n",
       "      <td>46.3</td>\n",
       "      <td>170.6</td>\n",
       "      <td>116.15</td>\n",
       "      <td>62.41</td>\n",
       "      <td>82.61</td>\n",
       "      <td>39.05</td>\n",
       "      <td>116.46</td>\n",
       "      <td>103.48</td>\n",
       "      <td>72.505</td>\n",
       "      <td>...</td>\n",
       "      <td>138.79</td>\n",
       "      <td>40.62</td>\n",
       "      <td>59.07</td>\n",
       "      <td>90.89</td>\n",
       "      <td>58.62</td>\n",
       "      <td>38.22</td>\n",
       "      <td>63.21</td>\n",
       "      <td>103.33</td>\n",
       "      <td>43.18</td>\n",
       "      <td>53.59</td>\n",
       "    </tr>\n",
       "  </tbody>\n",
       "</table>\n",
       "<p>1 rows × 452 columns</p>\n",
       "</div>"
      ],
      "text/plain": [
       "            Equity(0 [A])  Equity(2 [AAL])  Equity(7 [AAP])  Equity(8 [AAPL])  \\\n",
       "2017-01-04          46.49             46.3            170.6            116.15   \n",
       "\n",
       "            Equity(12 [ABBV])  Equity(13 [ABC])  Equity(20 [ABT])  \\\n",
       "2017-01-04              62.41             82.61             39.05   \n",
       "\n",
       "            Equity(37 [ACN])  Equity(45 [ADBE])  Equity(48 [ADI])  \\\n",
       "2017-01-04            116.46             103.48            72.505   \n",
       "\n",
       "                   ...          Equity(3148 [XEC])  Equity(3149 [XEL])  \\\n",
       "2017-01-04         ...                      138.79               40.62   \n",
       "\n",
       "            Equity(3151 [XLNX])  Equity(3156 [XOM])  Equity(3163 [XRAY])  \\\n",
       "2017-01-04                59.07               90.89                58.62   \n",
       "\n",
       "            Equity(3171 [YELP])  Equity(3175 [YUM])  Equity(3180 [ZBH])  \\\n",
       "2017-01-04                38.22               63.21              103.33   \n",
       "\n",
       "            Equity(3188 [ZION])  Equity(3197 [ZTS])  \n",
       "2017-01-04                43.18               53.59  \n",
       "\n",
       "[1 rows x 452 columns]"
      ]
     },
     "execution_count": 27,
     "metadata": {},
     "output_type": "execute_result"
    }
   ],
   "source": [
    "prices"
   ]
  },
  {
   "cell_type": "code",
   "execution_count": 28,
   "metadata": {},
   "outputs": [],
   "source": [
    "prices['USDOLLAR'] = 1.0"
   ]
  },
  {
   "cell_type": "code",
   "execution_count": 29,
   "metadata": {},
   "outputs": [],
   "source": [
    "factor_loadings = pd.get_dummies(df.Sector)\n",
    "factor_loadings = factor_loadings.T\n",
    "#factor_loadings['USDOLLAR'] = 0\n",
    "factor_loadings = factor_loadings.T"
   ]
  },
  {
   "cell_type": "code",
   "execution_count": null,
   "metadata": {},
   "outputs": [],
   "source": []
  },
  {
   "cell_type": "code",
   "execution_count": null,
   "metadata": {},
   "outputs": [],
   "source": []
  },
  {
   "cell_type": "code",
   "execution_count": null,
   "metadata": {},
   "outputs": [],
   "source": []
  },
  {
   "cell_type": "code",
   "execution_count": 30,
   "metadata": {},
   "outputs": [],
   "source": [
    "tcost_model=cp.TcostModel(half_spread=0.00025)\n",
    "hcost_model=cp.HcostModel(borrow_costs=1E-4)\n",
    "\n",
    "#risk_model = cp.(Sigma_hat)\n",
    "gamma_risk, gamma_trade, gamma_hold = 5., 1., 1.\n",
    "\n",
    "\n",
    "#spo_policy = cp.SinglePeriodOpt(return_forecast=r_hat, \n",
    "#                                costs=[gamma_risk*risk_model, gamma_trade*tcost_model, gamma_hold*hcost_model],\n",
    "#constraints=[leverage_limit])"
   ]
  },
  {
   "cell_type": "code",
   "execution_count": 49,
   "metadata": {},
   "outputs": [],
   "source": [
    "spo_policy = cp.SinglePeriodOpt(\n",
    "    return_forecast=r_hat,\n",
    "    costs=[\n",
    "        #gamma_trade*tcost_model,\n",
    "        #gamma_hold*hcost_model\n",
    "    ],\n",
    "    constraints=[\n",
    "        cp.LeverageLimit(1),\n",
    "        cp.constraints.DollarNeutral(),\n",
    "        cp.MaxWeights(0.02),\n",
    "        cp.MinWeights(-0.02),\n",
    "        cp.FactorMaxLimit(factor_loadings.values, 0.01),\n",
    "        cp.FactorMinLimit(factor_loadings.values, -0.01)\n",
    "    ]\n",
    ")"
   ]
  },
  {
   "cell_type": "code",
   "execution_count": 50,
   "metadata": {},
   "outputs": [
    {
     "name": "stdout",
     "output_type": "stream",
     "text": [
      "> /Users/jonathan/devwork/cvxportfolio/cvxportfolio/constraints.py(226)_weight_expr()\n",
      "-> if isinstance(self.limit, pd.Series):\n",
      "(Pdb) c\n"
     ]
    }
   ],
   "source": [
    "current_portfolio = pd.Series(index=r_hat.columns, data=0)\n",
    "current_portfolio.USDOLLAR=10e6\n",
    "\n",
    "shares_to_trade = spo_policy.get_rounded_trades(\n",
    "    current_portfolio,\n",
    "    prices,\n",
    "    t='2017-01-04'\n",
    ")\n"
   ]
  },
  {
   "cell_type": "code",
   "execution_count": 51,
   "metadata": {},
   "outputs": [
    {
     "data": {
      "text/plain": [
       "<matplotlib.axes._subplots.AxesSubplot at 0xb13c59f10>"
      ]
     },
     "execution_count": 51,
     "metadata": {},
     "output_type": "execute_result"
    },
    {
     "data": {
      "image/png": "[encoded data removed]",
      "text/plain": [
       "<Figure size 432x288 with 1 Axes>"
      ]
     },
     "metadata": {},
     "output_type": "display_data"
    }
   ],
   "source": [
    "(shares_to_trade*prices).plot.bar(legend=False)"
   ]
  },
  {
   "cell_type": "code",
   "execution_count": 52,
   "metadata": {},
   "outputs": [],
   "source": [
    "notl = shares_to_trade*prices.T[:-1].T\n",
    "weights = notl/current_portfolio.USDOLLAR"
   ]
  },
  {
   "cell_type": "code",
   "execution_count": 53,
   "metadata": {},
   "outputs": [
    {
     "data": {
      "text/plain": [
       "(452,)"
      ]
     },
     "execution_count": 53,
     "metadata": {},
     "output_type": "execute_result"
    }
   ],
   "source": [
    "shares_to_trade.shape"
   ]
  },
  {
   "cell_type": "code",
   "execution_count": 54,
   "metadata": {},
   "outputs": [
    {
     "data": {
      "text/plain": [
       "(1, 453)"
      ]
     },
     "execution_count": 54,
     "metadata": {},
     "output_type": "execute_result"
    }
   ],
   "source": [
    "prices.shape"
   ]
  },
  {
   "cell_type": "code",
   "execution_count": 55,
   "metadata": {},
   "outputs": [
    {
     "data": {
      "text/plain": [
       "(1, 452)"
      ]
     },
     "execution_count": 55,
     "metadata": {},
     "output_type": "execute_result"
    }
   ],
   "source": [
    "weights.shape"
   ]
  },
  {
   "cell_type": "code",
   "execution_count": 56,
   "metadata": {},
   "outputs": [
    {
     "data": {
      "text/plain": [
       "(452, 8)"
      ]
     },
     "execution_count": 56,
     "metadata": {},
     "output_type": "execute_result"
    }
   ],
   "source": [
    "factor_loadings.shape"
   ]
  },
  {
   "cell_type": "code",
   "execution_count": 57,
   "metadata": {},
   "outputs": [
    {
     "data": {
      "text/html": [
       "<div>\n",
       "<style scoped>\n",
       "    .dataframe tbody tr th:only-of-type {\n",
       "        vertical-align: middle;\n",
       "    }\n",
       "\n",
       "    .dataframe tbody tr th {\n",
       "        vertical-align: top;\n",
       "    }\n",
       "\n",
       "    .dataframe thead th {\n",
       "        text-align: right;\n",
       "    }\n",
       "</style>\n",
       "<table border=\"1\" class=\"dataframe\">\n",
       "  <thead>\n",
       "    <tr style=\"text-align: right;\">\n",
       "      <th></th>\n",
       "      <th>2017-01-04</th>\n",
       "    </tr>\n",
       "  </thead>\n",
       "  <tbody>\n",
       "    <tr>\n",
       "      <th>0</th>\n",
       "      <td>0.009731</td>\n",
       "    </tr>\n",
       "    <tr>\n",
       "      <th>1</th>\n",
       "      <td>0.010081</td>\n",
       "    </tr>\n",
       "    <tr>\n",
       "      <th>2</th>\n",
       "      <td>-0.010036</td>\n",
       "    </tr>\n",
       "    <tr>\n",
       "      <th>3</th>\n",
       "      <td>-0.010218</td>\n",
       "    </tr>\n",
       "    <tr>\n",
       "      <th>4</th>\n",
       "      <td>0.009028</td>\n",
       "    </tr>\n",
       "    <tr>\n",
       "      <th>5</th>\n",
       "      <td>0.008906</td>\n",
       "    </tr>\n",
       "    <tr>\n",
       "      <th>6</th>\n",
       "      <td>-0.010130</td>\n",
       "    </tr>\n",
       "    <tr>\n",
       "      <th>7</th>\n",
       "      <td>-0.007492</td>\n",
       "    </tr>\n",
       "  </tbody>\n",
       "</table>\n",
       "</div>"
      ],
      "text/plain": [
       "   2017-01-04\n",
       "0    0.009731\n",
       "1    0.010081\n",
       "2   -0.010036\n",
       "3   -0.010218\n",
       "4    0.009028\n",
       "5    0.008906\n",
       "6   -0.010130\n",
       "7   -0.007492"
      ]
     },
     "execution_count": 57,
     "metadata": {},
     "output_type": "execute_result"
    }
   ],
   "source": [
    "factor_loadings.T.dot(weights.T)"
   ]
  },
  {
   "cell_type": "code",
   "execution_count": 1,
   "metadata": {},
   "outputs": [],
   "source": []
  },
  {
   "cell_type": "code",
   "execution_count": 13,
   "metadata": {},
   "outputs": [
    {
     "name": "stdout",
     "output_type": "stream",
     "text": [
      "> /Users/jonathan/devwork/cvxportfolio/cvxportfolio/constraints.py(226)_weight_expr()\n",
      "-> if isinstance(self.limit, pd.Series):\n",
      "(Pdb) c\n"
     ]
    },
    {
     "name": "stderr",
     "output_type": "stream",
     "text": [
      "ERROR:root:The solver None failed. Defaulting to no trades\n"
     ]
    }
   ],
   "source": [
    "import numpy as np\n",
    "import pandas as pd\n",
    "import cvxportfolio as cp\n",
    "\n",
    "np.random.seed(100)\n",
    "\n",
    "factor_loadings = pd.get_dummies(pd.Series(np.random.randint(0,2,100)))\n",
    "\n",
    "r_hat_s = pd.Series(np.random.random(100))\n",
    "r_hat_s.T['USDOLLAR']=0\n",
    "r_hat = pd.DataFrame(r_hat_s, columns=[pd.Timestamp('2017-01-03')]).T\n",
    "\n",
    "prices_s = pd.Series(np.random.randint(20, 75, 100))\n",
    "prices_noUSD = pd.DataFrame(prices_s, columns=[pd.Timestamp('2017-01-03')]).T\n",
    "prices_s.T['USDOLLAR']=1.0\n",
    "prices = pd.DataFrame(prices_s, columns=[pd.Timestamp('2017-01-03')]).T\n",
    "\n",
    "\n",
    "spo_policy = cp.SinglePeriodOpt(\n",
    "    return_forecast=r_hat,\n",
    "    costs=[],\n",
    "    constraints=[\n",
    "        cp.LeverageLimit(1),\n",
    "        cp.DollarNeutral(),\n",
    "        cp.MaxWeights(0.10),\n",
    "        cp.MinWeights(-0.10),\n",
    "        cp.FactorMaxLimit(factor_loadings.values, 0.2),\n",
    "        cp.FactorMinLimit(factor_loadings.values, 0.2)        \n",
    "    ]\n",
    ")\n",
    "\n",
    "current_portfolio = pd.Series(index=r_hat.columns, data=0)\n",
    "current_portfolio.USDOLLAR=100000\n",
    "\n",
    "shares_to_trade = spo_policy.get_rounded_trades(\n",
    "    current_portfolio,\n",
    "    prices,\n",
    "    t=pd.Timestamp('2017-01-04')\n",
    ")"
   ]
  },
  {
   "cell_type": "code",
   "execution_count": 11,
   "metadata": {},
   "outputs": [
    {
     "data": {
      "text/html": [
       "<div>\n",
       "<style scoped>\n",
       "    .dataframe tbody tr th:only-of-type {\n",
       "        vertical-align: middle;\n",
       "    }\n",
       "\n",
       "    .dataframe tbody tr th {\n",
       "        vertical-align: top;\n",
       "    }\n",
       "\n",
       "    .dataframe thead th {\n",
       "        text-align: right;\n",
       "    }\n",
       "</style>\n",
       "<table border=\"1\" class=\"dataframe\">\n",
       "  <thead>\n",
       "    <tr style=\"text-align: right;\">\n",
       "      <th></th>\n",
       "      <th>0</th>\n",
       "      <th>1</th>\n",
       "    </tr>\n",
       "  </thead>\n",
       "  <tbody>\n",
       "    <tr>\n",
       "      <th>0</th>\n",
       "      <td>1</td>\n",
       "      <td>0</td>\n",
       "    </tr>\n",
       "    <tr>\n",
       "      <th>1</th>\n",
       "      <td>1</td>\n",
       "      <td>0</td>\n",
       "    </tr>\n",
       "    <tr>\n",
       "      <th>2</th>\n",
       "      <td>0</td>\n",
       "      <td>1</td>\n",
       "    </tr>\n",
       "    <tr>\n",
       "      <th>3</th>\n",
       "      <td>0</td>\n",
       "      <td>1</td>\n",
       "    </tr>\n",
       "    <tr>\n",
       "      <th>4</th>\n",
       "      <td>0</td>\n",
       "      <td>1</td>\n",
       "    </tr>\n",
       "    <tr>\n",
       "      <th>5</th>\n",
       "      <td>0</td>\n",
       "      <td>1</td>\n",
       "    </tr>\n",
       "    <tr>\n",
       "      <th>6</th>\n",
       "      <td>1</td>\n",
       "      <td>0</td>\n",
       "    </tr>\n",
       "    <tr>\n",
       "      <th>7</th>\n",
       "      <td>1</td>\n",
       "      <td>0</td>\n",
       "    </tr>\n",
       "    <tr>\n",
       "      <th>8</th>\n",
       "      <td>1</td>\n",
       "      <td>0</td>\n",
       "    </tr>\n",
       "    <tr>\n",
       "      <th>9</th>\n",
       "      <td>1</td>\n",
       "      <td>0</td>\n",
       "    </tr>\n",
       "    <tr>\n",
       "      <th>10</th>\n",
       "      <td>1</td>\n",
       "      <td>0</td>\n",
       "    </tr>\n",
       "    <tr>\n",
       "      <th>11</th>\n",
       "      <td>0</td>\n",
       "      <td>1</td>\n",
       "    </tr>\n",
       "    <tr>\n",
       "      <th>12</th>\n",
       "      <td>1</td>\n",
       "      <td>0</td>\n",
       "    </tr>\n",
       "    <tr>\n",
       "      <th>13</th>\n",
       "      <td>1</td>\n",
       "      <td>0</td>\n",
       "    </tr>\n",
       "    <tr>\n",
       "      <th>14</th>\n",
       "      <td>1</td>\n",
       "      <td>0</td>\n",
       "    </tr>\n",
       "    <tr>\n",
       "      <th>15</th>\n",
       "      <td>1</td>\n",
       "      <td>0</td>\n",
       "    </tr>\n",
       "    <tr>\n",
       "      <th>16</th>\n",
       "      <td>0</td>\n",
       "      <td>1</td>\n",
       "    </tr>\n",
       "    <tr>\n",
       "      <th>17</th>\n",
       "      <td>1</td>\n",
       "      <td>0</td>\n",
       "    </tr>\n",
       "    <tr>\n",
       "      <th>18</th>\n",
       "      <td>1</td>\n",
       "      <td>0</td>\n",
       "    </tr>\n",
       "    <tr>\n",
       "      <th>19</th>\n",
       "      <td>0</td>\n",
       "      <td>1</td>\n",
       "    </tr>\n",
       "    <tr>\n",
       "      <th>20</th>\n",
       "      <td>1</td>\n",
       "      <td>0</td>\n",
       "    </tr>\n",
       "    <tr>\n",
       "      <th>21</th>\n",
       "      <td>0</td>\n",
       "      <td>1</td>\n",
       "    </tr>\n",
       "    <tr>\n",
       "      <th>22</th>\n",
       "      <td>1</td>\n",
       "      <td>0</td>\n",
       "    </tr>\n",
       "    <tr>\n",
       "      <th>23</th>\n",
       "      <td>1</td>\n",
       "      <td>0</td>\n",
       "    </tr>\n",
       "    <tr>\n",
       "      <th>24</th>\n",
       "      <td>1</td>\n",
       "      <td>0</td>\n",
       "    </tr>\n",
       "    <tr>\n",
       "      <th>25</th>\n",
       "      <td>0</td>\n",
       "      <td>1</td>\n",
       "    </tr>\n",
       "    <tr>\n",
       "      <th>26</th>\n",
       "      <td>0</td>\n",
       "      <td>1</td>\n",
       "    </tr>\n",
       "    <tr>\n",
       "      <th>27</th>\n",
       "      <td>0</td>\n",
       "      <td>1</td>\n",
       "    </tr>\n",
       "    <tr>\n",
       "      <th>28</th>\n",
       "      <td>1</td>\n",
       "      <td>0</td>\n",
       "    </tr>\n",
       "    <tr>\n",
       "      <th>29</th>\n",
       "      <td>1</td>\n",
       "      <td>0</td>\n",
       "    </tr>\n",
       "    <tr>\n",
       "      <th>...</th>\n",
       "      <td>...</td>\n",
       "      <td>...</td>\n",
       "    </tr>\n",
       "    <tr>\n",
       "      <th>70</th>\n",
       "      <td>1</td>\n",
       "      <td>0</td>\n",
       "    </tr>\n",
       "    <tr>\n",
       "      <th>71</th>\n",
       "      <td>1</td>\n",
       "      <td>0</td>\n",
       "    </tr>\n",
       "    <tr>\n",
       "      <th>72</th>\n",
       "      <td>1</td>\n",
       "      <td>0</td>\n",
       "    </tr>\n",
       "    <tr>\n",
       "      <th>73</th>\n",
       "      <td>1</td>\n",
       "      <td>0</td>\n",
       "    </tr>\n",
       "    <tr>\n",
       "      <th>74</th>\n",
       "      <td>1</td>\n",
       "      <td>0</td>\n",
       "    </tr>\n",
       "    <tr>\n",
       "      <th>75</th>\n",
       "      <td>1</td>\n",
       "      <td>0</td>\n",
       "    </tr>\n",
       "    <tr>\n",
       "      <th>76</th>\n",
       "      <td>0</td>\n",
       "      <td>1</td>\n",
       "    </tr>\n",
       "    <tr>\n",
       "      <th>77</th>\n",
       "      <td>1</td>\n",
       "      <td>0</td>\n",
       "    </tr>\n",
       "    <tr>\n",
       "      <th>78</th>\n",
       "      <td>0</td>\n",
       "      <td>1</td>\n",
       "    </tr>\n",
       "    <tr>\n",
       "      <th>79</th>\n",
       "      <td>1</td>\n",
       "      <td>0</td>\n",
       "    </tr>\n",
       "    <tr>\n",
       "      <th>80</th>\n",
       "      <td>0</td>\n",
       "      <td>1</td>\n",
       "    </tr>\n",
       "    <tr>\n",
       "      <th>81</th>\n",
       "      <td>1</td>\n",
       "      <td>0</td>\n",
       "    </tr>\n",
       "    <tr>\n",
       "      <th>82</th>\n",
       "      <td>1</td>\n",
       "      <td>0</td>\n",
       "    </tr>\n",
       "    <tr>\n",
       "      <th>83</th>\n",
       "      <td>0</td>\n",
       "      <td>1</td>\n",
       "    </tr>\n",
       "    <tr>\n",
       "      <th>84</th>\n",
       "      <td>0</td>\n",
       "      <td>1</td>\n",
       "    </tr>\n",
       "    <tr>\n",
       "      <th>85</th>\n",
       "      <td>1</td>\n",
       "      <td>0</td>\n",
       "    </tr>\n",
       "    <tr>\n",
       "      <th>86</th>\n",
       "      <td>1</td>\n",
       "      <td>0</td>\n",
       "    </tr>\n",
       "    <tr>\n",
       "      <th>87</th>\n",
       "      <td>1</td>\n",
       "      <td>0</td>\n",
       "    </tr>\n",
       "    <tr>\n",
       "      <th>88</th>\n",
       "      <td>0</td>\n",
       "      <td>1</td>\n",
       "    </tr>\n",
       "    <tr>\n",
       "      <th>89</th>\n",
       "      <td>0</td>\n",
       "      <td>1</td>\n",
       "    </tr>\n",
       "    <tr>\n",
       "      <th>90</th>\n",
       "      <td>0</td>\n",
       "      <td>1</td>\n",
       "    </tr>\n",
       "    <tr>\n",
       "      <th>91</th>\n",
       "      <td>0</td>\n",
       "      <td>1</td>\n",
       "    </tr>\n",
       "    <tr>\n",
       "      <th>92</th>\n",
       "      <td>1</td>\n",
       "      <td>0</td>\n",
       "    </tr>\n",
       "    <tr>\n",
       "      <th>93</th>\n",
       "      <td>1</td>\n",
       "      <td>0</td>\n",
       "    </tr>\n",
       "    <tr>\n",
       "      <th>94</th>\n",
       "      <td>0</td>\n",
       "      <td>1</td>\n",
       "    </tr>\n",
       "    <tr>\n",
       "      <th>95</th>\n",
       "      <td>0</td>\n",
       "      <td>1</td>\n",
       "    </tr>\n",
       "    <tr>\n",
       "      <th>96</th>\n",
       "      <td>1</td>\n",
       "      <td>0</td>\n",
       "    </tr>\n",
       "    <tr>\n",
       "      <th>97</th>\n",
       "      <td>1</td>\n",
       "      <td>0</td>\n",
       "    </tr>\n",
       "    <tr>\n",
       "      <th>98</th>\n",
       "      <td>0</td>\n",
       "      <td>1</td>\n",
       "    </tr>\n",
       "    <tr>\n",
       "      <th>99</th>\n",
       "      <td>1</td>\n",
       "      <td>0</td>\n",
       "    </tr>\n",
       "  </tbody>\n",
       "</table>\n",
       "<p>100 rows × 2 columns</p>\n",
       "</div>"
      ],
      "text/plain": [
       "    0  1\n",
       "0   1  0\n",
       "1   1  0\n",
       "2   0  1\n",
       "3   0  1\n",
       "4   0  1\n",
       "5   0  1\n",
       "6   1  0\n",
       "7   1  0\n",
       "8   1  0\n",
       "9   1  0\n",
       "10  1  0\n",
       "11  0  1\n",
       "12  1  0\n",
       "13  1  0\n",
       "14  1  0\n",
       "15  1  0\n",
       "16  0  1\n",
       "17  1  0\n",
       "18  1  0\n",
       "19  0  1\n",
       "20  1  0\n",
       "21  0  1\n",
       "22  1  0\n",
       "23  1  0\n",
       "24  1  0\n",
       "25  0  1\n",
       "26  0  1\n",
       "27  0  1\n",
       "28  1  0\n",
       "29  1  0\n",
       ".. .. ..\n",
       "70  1  0\n",
       "71  1  0\n",
       "72  1  0\n",
       "73  1  0\n",
       "74  1  0\n",
       "75  1  0\n",
       "76  0  1\n",
       "77  1  0\n",
       "78  0  1\n",
       "79  1  0\n",
       "80  0  1\n",
       "81  1  0\n",
       "82  1  0\n",
       "83  0  1\n",
       "84  0  1\n",
       "85  1  0\n",
       "86  1  0\n",
       "87  1  0\n",
       "88  0  1\n",
       "89  0  1\n",
       "90  0  1\n",
       "91  0  1\n",
       "92  1  0\n",
       "93  1  0\n",
       "94  0  1\n",
       "95  0  1\n",
       "96  1  0\n",
       "97  1  0\n",
       "98  0  1\n",
       "99  1  0\n",
       "\n",
       "[100 rows x 2 columns]"
      ]
     },
     "execution_count": 11,
     "metadata": {},
     "output_type": "execute_result"
    }
   ],
   "source": [
    "factor_loadings"
   ]
  },
  {
   "cell_type": "code",
   "execution_count": 12,
   "metadata": {},
   "outputs": [],
   "source": [
    "notl = shares_to_trade*prices_noUSD\n",
    "weights = notl/current_portfolio.USDOLLAR"
   ]
  },
  {
   "cell_type": "code",
   "execution_count": 91,
   "metadata": {},
   "outputs": [
    {
     "data": {
      "text/plain": [
       "2017-01-03    100033.0\n",
       "dtype: float64"
      ]
     },
     "execution_count": 91,
     "metadata": {},
     "output_type": "execute_result"
    }
   ],
   "source": [
    "notl.abs().sum(axis=1)"
   ]
  },
  {
   "cell_type": "code",
   "execution_count": 107,
   "metadata": {},
   "outputs": [
    {
     "data": {
      "text/html": [
       "<div>\n",
       "<style scoped>\n",
       "    .dataframe tbody tr th:only-of-type {\n",
       "        vertical-align: middle;\n",
       "    }\n",
       "\n",
       "    .dataframe tbody tr th {\n",
       "        vertical-align: top;\n",
       "    }\n",
       "\n",
       "    .dataframe thead th {\n",
       "        text-align: right;\n",
       "    }\n",
       "</style>\n",
       "<table border=\"1\" class=\"dataframe\">\n",
       "  <thead>\n",
       "    <tr style=\"text-align: right;\">\n",
       "      <th></th>\n",
       "      <th>2017-01-03 00:00:00</th>\n",
       "    </tr>\n",
       "  </thead>\n",
       "  <tbody>\n",
       "    <tr>\n",
       "      <th>0</th>\n",
       "      <td>-0.19992</td>\n",
       "    </tr>\n",
       "    <tr>\n",
       "      <th>1</th>\n",
       "      <td>0.00000</td>\n",
       "    </tr>\n",
       "    <tr>\n",
       "      <th>2</th>\n",
       "      <td>0.10098</td>\n",
       "    </tr>\n",
       "    <tr>\n",
       "      <th>3</th>\n",
       "      <td>0.10047</td>\n",
       "    </tr>\n",
       "    <tr>\n",
       "      <th>4</th>\n",
       "      <td>0.00292</td>\n",
       "    </tr>\n",
       "    <tr>\n",
       "      <th>5</th>\n",
       "      <td>0.00046</td>\n",
       "    </tr>\n",
       "  </tbody>\n",
       "</table>\n",
       "</div>"
      ],
      "text/plain": [
       "   2017-01-03\n",
       "0    -0.19992\n",
       "1     0.00000\n",
       "2     0.10098\n",
       "3     0.10047\n",
       "4     0.00292\n",
       "5     0.00046"
      ]
     },
     "execution_count": 107,
     "metadata": {},
     "output_type": "execute_result"
    }
   ],
   "source": [
    "factor_loadings.T.dot(weights.T)"
   ]
  },
  {
   "cell_type": "code",
   "execution_count": null,
   "metadata": {},
   "outputs": [],
   "source": []
  }
 ],
 "metadata": {
  "kernelspec": {
   "display_name": "Python (py27)",
   "language": "python",
   "name": "py27"
  },
  "language_info": {
   "codemirror_mode": {
    "name": "ipython",
    "version": 2
   },
   "file_extension": ".py",
   "mimetype": "text/x-python",
   "name": "python",
   "nbconvert_exporter": "python",
   "pygments_lexer": "ipython2",
   "version": "2.7.15"
  }
 },
 "nbformat": 4,
 "nbformat_minor": 2
}
