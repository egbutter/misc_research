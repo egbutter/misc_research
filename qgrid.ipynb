{
 "cells": [
  {
   "cell_type": "code",
   "execution_count": 45,
   "metadata": {},
   "outputs": [
    {
     "data": {
      "application/vnd.jupyter.widget-view+json": {
       "model_id": "ff64194788c4417d861def8df5af548c",
       "version_major": 2,
       "version_minor": 0
      },
      "text/plain": [
       "QgridWidget(grid_options={'fullWidthRows': True, 'syncColumnCellResize': True, 'forceFitColumns': False, 'defa…"
      ]
     },
     "metadata": {},
     "output_type": "display_data"
    },
    {
     "name": "stdout",
     "output_type": "stream",
     "text": [
      "0    0.566717\n",
      "1    0.254741\n",
      "2    0.689797\n",
      "3    0.175104\n",
      "4    0.740321\n",
      "Name: 4, dtype: float64\n",
      "0    0.343736\n",
      "1    0.504445\n",
      "2    0.320501\n",
      "3    0.387791\n",
      "4    0.028069\n",
      "Name: 2, dtype: float64\n",
      "0    0.702884\n",
      "1    0.547187\n",
      "2    0.453581\n",
      "3    0.591508\n",
      "4    0.428630\n",
      "Name: 3, dtype: float64\n",
      "0    0.566717\n",
      "1    0.254741\n",
      "2    0.689797\n",
      "3    0.175104\n",
      "4    0.740321\n",
      "Name: 4, dtype: float64\n"
     ]
    }
   ],
   "source": [
    "import qgrid\n",
    "import numpy as np\n",
    "import pandas as pd\n",
    "\n",
    "df = pd.DataFrame(np.random.rand(50,5))\n",
    "qg = qgrid.show_grid(df, grid_options={\n",
    "    'forceFitColumns': False,\n",
    "    'defaultColumnWidth': 100,\n",
    "    'maxVisibleRows': 5,\n",
    "    'minVisibleRows': 5,}\n",
    ")\n",
    "qg"
   ]
  },
  {
   "cell_type": "code",
   "execution_count": 46,
   "metadata": {},
   "outputs": [],
   "source": [
    "def handle_selection_changed(event, qgrid_widget):\n",
    "    # update the ipywidgets control above the grid\n",
    "    row = qgrid_widget.get_selected_rows()[0]\n",
    "    df = qg.get_changed_df()\n",
    "    print(df.iloc[row])\n",
    "\n",
    "qg.on('selection_changed', handle_selection_changed)"
   ]
  },
  {
   "cell_type": "code",
   "execution_count": 37,
   "metadata": {},
   "outputs": [
    {
     "data": {
      "text/html": [
       "<div>\n",
       "<style scoped>\n",
       "    .dataframe tbody tr th:only-of-type {\n",
       "        vertical-align: middle;\n",
       "    }\n",
       "\n",
       "    .dataframe tbody tr th {\n",
       "        vertical-align: top;\n",
       "    }\n",
       "\n",
       "    .dataframe thead th {\n",
       "        text-align: right;\n",
       "    }\n",
       "</style>\n",
       "<table border=\"1\" class=\"dataframe\">\n",
       "  <thead>\n",
       "    <tr style=\"text-align: right;\">\n",
       "      <th></th>\n",
       "      <th>0</th>\n",
       "      <th>1</th>\n",
       "      <th>2</th>\n",
       "      <th>3</th>\n",
       "      <th>4</th>\n",
       "    </tr>\n",
       "  </thead>\n",
       "  <tbody>\n",
       "    <tr>\n",
       "      <th>9</th>\n",
       "      <td>0.162785</td>\n",
       "      <td>0.374345</td>\n",
       "      <td>0.477402</td>\n",
       "      <td>0.497566</td>\n",
       "      <td>0.432175</td>\n",
       "    </tr>\n",
       "    <tr>\n",
       "      <th>12</th>\n",
       "      <td>0.114749</td>\n",
       "      <td>0.556150</td>\n",
       "      <td>0.684308</td>\n",
       "      <td>0.964357</td>\n",
       "      <td>0.085947</td>\n",
       "    </tr>\n",
       "    <tr>\n",
       "      <th>13</th>\n",
       "      <td>0.125984</td>\n",
       "      <td>0.223887</td>\n",
       "      <td>0.980796</td>\n",
       "      <td>0.344493</td>\n",
       "      <td>0.364376</td>\n",
       "    </tr>\n",
       "    <tr>\n",
       "      <th>14</th>\n",
       "      <td>0.159357</td>\n",
       "      <td>0.834463</td>\n",
       "      <td>0.627225</td>\n",
       "      <td>0.107921</td>\n",
       "      <td>0.760429</td>\n",
       "    </tr>\n",
       "    <tr>\n",
       "      <th>15</th>\n",
       "      <td>0.129748</td>\n",
       "      <td>0.150646</td>\n",
       "      <td>0.634541</td>\n",
       "      <td>0.899694</td>\n",
       "      <td>0.529778</td>\n",
       "    </tr>\n",
       "    <tr>\n",
       "      <th>36</th>\n",
       "      <td>0.029060</td>\n",
       "      <td>0.339037</td>\n",
       "      <td>0.746405</td>\n",
       "      <td>0.368126</td>\n",
       "      <td>0.885783</td>\n",
       "    </tr>\n",
       "    <tr>\n",
       "      <th>43</th>\n",
       "      <td>0.115185</td>\n",
       "      <td>0.129035</td>\n",
       "      <td>0.089430</td>\n",
       "      <td>0.718040</td>\n",
       "      <td>0.640407</td>\n",
       "    </tr>\n",
       "  </tbody>\n",
       "</table>\n",
       "</div>"
      ],
      "text/plain": [
       "           0         1         2         3         4\n",
       "9   0.162785  0.374345  0.477402  0.497566  0.432175\n",
       "12  0.114749  0.556150  0.684308  0.964357  0.085947\n",
       "13  0.125984  0.223887  0.980796  0.344493  0.364376\n",
       "14  0.159357  0.834463  0.627225  0.107921  0.760429\n",
       "15  0.129748  0.150646  0.634541  0.899694  0.529778\n",
       "36  0.029060  0.339037  0.746405  0.368126  0.885783\n",
       "43  0.115185  0.129035  0.089430  0.718040  0.640407"
      ]
     },
     "execution_count": 37,
     "metadata": {},
     "output_type": "execute_result"
    }
   ],
   "source": []
  },
  {
   "cell_type": "code",
   "execution_count": null,
   "metadata": {},
   "outputs": [],
   "source": []
  },
  {
   "cell_type": "code",
   "execution_count": 48,
   "metadata": {},
   "outputs": [],
   "source": [
    "import base64\n",
    "import pandas as pd\n",
    "from IPython.display import HTML\n",
    "\n",
    "def create_download_link( df, title = \"Download CSV file\", filename = \"data.csv\"):\n",
    "    csv = df.to_csv()\n",
    "    b64 = base64.b64encode(csv.encode())\n",
    "    payload = b64.decode()\n",
    "    html = '<a download=\"{filename}\" href=\"data:text/csv;base64,{payload}\" target=\"_blank\">{title}</a>'\n",
    "    html = html.format(payload=payload,title=title,filename=filename)\n",
    "    return HTML(html)\n",
    "\n",
    "df = pd.DataFrame(data = [[1,2],[3,4]], columns=['Col 1', 'Col 2'])\n",
    "a = create_download_link(df)"
   ]
  },
  {
   "cell_type": "code",
   "execution_count": 50,
   "metadata": {},
   "outputs": [],
   "source": [
    "df = pd.DataFrame(data = [[1,2],[3,4]], columns=['Col 1', 'Col 2'])"
   ]
  },
  {
   "cell_type": "code",
   "execution_count": 62,
   "metadata": {},
   "outputs": [],
   "source": [
    "df.iloc[0,0]= '<a href=\"https://www.apple.com\" </a>'\n",
    "df.iloc[0,1]= '<a href=\"https://www.microsoft.com\" </a>'"
   ]
  },
  {
   "cell_type": "code",
   "execution_count": 63,
   "metadata": {},
   "outputs": [
    {
     "data": {
      "text/html": [
       "<div>\n",
       "<style scoped>\n",
       "    .dataframe tbody tr th:only-of-type {\n",
       "        vertical-align: middle;\n",
       "    }\n",
       "\n",
       "    .dataframe tbody tr th {\n",
       "        vertical-align: top;\n",
       "    }\n",
       "\n",
       "    .dataframe thead th {\n",
       "        text-align: right;\n",
       "    }\n",
       "</style>\n",
       "<table border=\"1\" class=\"dataframe\">\n",
       "  <thead>\n",
       "    <tr style=\"text-align: right;\">\n",
       "      <th></th>\n",
       "      <th>Col 1</th>\n",
       "      <th>Col 2</th>\n",
       "    </tr>\n",
       "  </thead>\n",
       "  <tbody>\n",
       "    <tr>\n",
       "      <th>0</th>\n",
       "      <td>&lt;a href=\"https://www.apple.com\" &lt;/a&gt;</td>\n",
       "      <td>&lt;a href=\"https://www.microsoft.com\" &lt;/a&gt;</td>\n",
       "    </tr>\n",
       "    <tr>\n",
       "      <th>1</th>\n",
       "      <td>3</td>\n",
       "      <td>4</td>\n",
       "    </tr>\n",
       "  </tbody>\n",
       "</table>\n",
       "</div>"
      ],
      "text/plain": [
       "                                  Col 1  \\\n",
       "0  <a href=\"https://www.apple.com\" </a>   \n",
       "1                                     3   \n",
       "\n",
       "                                      Col 2  \n",
       "0  <a href=\"https://www.microsoft.com\" </a>  \n",
       "1                                         4  "
      ]
     },
     "execution_count": 63,
     "metadata": {},
     "output_type": "execute_result"
    }
   ],
   "source": [
    "df"
   ]
  },
  {
   "cell_type": "code",
   "execution_count": 64,
   "metadata": {},
   "outputs": [
    {
     "data": {
      "application/vnd.jupyter.widget-view+json": {
       "model_id": "a141bb7f8bc94adbb7fdcbd2840a6996",
       "version_major": 2,
       "version_minor": 0
      },
      "text/plain": [
       "QgridWidget(grid_options={'fullWidthRows': True, 'syncColumnCellResize': True, 'forceFitColumns': False, 'defa…"
      ]
     },
     "metadata": {},
     "output_type": "display_data"
    }
   ],
   "source": [
    "qg = qgrid.show_grid(df, grid_options={\n",
    "    'forceFitColumns': False,\n",
    "    'defaultColumnWidth': 100,\n",
    "    'maxVisibleRows': 5,\n",
    "    'minVisibleRows': 5,}\n",
    ")\n",
    "qg"
   ]
  },
  {
   "cell_type": "code",
   "execution_count": 70,
   "metadata": {},
   "outputs": [],
   "source": [
    "df = pd.DataFrame(['<a href=\"https://www.apple.com\" </a>', '<a href=\"https://www.microsoft.com\" </a>'])\n"
   ]
  },
  {
   "cell_type": "code",
   "execution_count": 71,
   "metadata": {},
   "outputs": [
    {
     "data": {
      "text/html": [
       "<div>\n",
       "<style scoped>\n",
       "    .dataframe tbody tr th:only-of-type {\n",
       "        vertical-align: middle;\n",
       "    }\n",
       "\n",
       "    .dataframe tbody tr th {\n",
       "        vertical-align: top;\n",
       "    }\n",
       "\n",
       "    .dataframe thead th {\n",
       "        text-align: right;\n",
       "    }\n",
       "</style>\n",
       "<table border=\"1\" class=\"dataframe\">\n",
       "  <thead>\n",
       "    <tr style=\"text-align: right;\">\n",
       "      <th></th>\n",
       "      <th>0</th>\n",
       "    </tr>\n",
       "  </thead>\n",
       "  <tbody>\n",
       "    <tr>\n",
       "      <th>0</th>\n",
       "      <td>&lt;a href=\"https://www.apple.com\" &lt;/a&gt;</td>\n",
       "    </tr>\n",
       "    <tr>\n",
       "      <th>1</th>\n",
       "      <td>&lt;a href=\"https://www.microsoft.com\" &lt;/a&gt;</td>\n",
       "    </tr>\n",
       "  </tbody>\n",
       "</table>\n",
       "</div>"
      ],
      "text/plain": [
       "                                          0\n",
       "0      <a href=\"https://www.apple.com\" </a>\n",
       "1  <a href=\"https://www.microsoft.com\" </a>"
      ]
     },
     "execution_count": 71,
     "metadata": {},
     "output_type": "execute_result"
    }
   ],
   "source": [
    "df"
   ]
  },
  {
   "cell_type": "code",
   "execution_count": 72,
   "metadata": {},
   "outputs": [
    {
     "data": {
      "application/vnd.jupyter.widget-view+json": {
       "model_id": "76167a37d6954f9ab964dcbb6eb46f5a",
       "version_major": 2,
       "version_minor": 0
      },
      "text/plain": [
       "QgridWidget(grid_options={'fullWidthRows': True, 'syncColumnCellResize': True, 'forceFitColumns': False, 'defa…"
      ]
     },
     "metadata": {},
     "output_type": "display_data"
    }
   ],
   "source": [
    "qg = qgrid.show_grid(df, grid_options={\n",
    "    'forceFitColumns': False,\n",
    "    'defaultColumnWidth': 100,\n",
    "    'maxVisibleRows': 5,\n",
    "    'minVisibleRows': 5,}\n",
    ")\n",
    "qg"
   ]
  },
  {
   "cell_type": "code",
   "execution_count": null,
   "metadata": {},
   "outputs": [],
   "source": []
  }
 ],
 "metadata": {
  "kernelspec": {
   "display_name": "Python 3",
   "language": "python",
   "name": "python3"
  },
  "language_info": {
   "codemirror_mode": {
    "name": "ipython",
    "version": 3
   },
   "file_extension": ".py",
   "mimetype": "text/x-python",
   "name": "python",
   "nbconvert_exporter": "python",
   "pygments_lexer": "ipython3",
   "version": "3.6.7"
  },
  "widgets": {
   "application/vnd.jupyter.widget-state+json": {
    "state": {
     "05430a3ad3d44c2ab318ba77d9a53f48": {
      "model_module": "qgrid",
      "model_module_version": "1.1.1",
      "model_name": "QgridModel",
      "state": {
       "_columns": {
        "0": {
         "cssClass": "number",
         "defaultSortAsc": true,
         "editable": true,
         "field": 0,
         "id": 0,
         "minWidth": 30,
         "name": 0,
         "position": 2,
         "resizable": true,
         "sortable": true,
         "toolTip": "",
         "type": "number"
        },
        "1": {
         "cssClass": "number",
         "defaultSortAsc": true,
         "editable": true,
         "field": 1,
         "id": 1,
         "minWidth": 30,
         "name": 1,
         "position": 3,
         "resizable": true,
         "sortable": true,
         "toolTip": "",
         "type": "number"
        },
        "2": {
         "cssClass": "number",
         "defaultSortAsc": true,
         "editable": true,
         "field": 2,
         "id": 2,
         "minWidth": 30,
         "name": 2,
         "position": 4,
         "resizable": true,
         "sortable": true,
         "toolTip": "",
         "type": "number"
        },
        "3": {
         "cssClass": "number",
         "defaultSortAsc": true,
         "editable": true,
         "field": 3,
         "id": 3,
         "minWidth": 30,
         "name": 3,
         "position": 5,
         "resizable": true,
         "sortable": true,
         "toolTip": "",
         "type": "number"
        },
        "4": {
         "cssClass": "number",
         "defaultSortAsc": true,
         "editable": true,
         "field": 4,
         "id": 4,
         "minWidth": 30,
         "name": 4,
         "position": 6,
         "resizable": true,
         "sortable": true,
         "toolTip": "",
         "type": "number"
        },
        "index": {
         "cssClass": "integer first-idx-col idx-col",
         "defaultSortAsc": true,
         "editable": true,
         "field": "index",
         "first_index": true,
         "id": "index",
         "index_display_text": "",
         "is_index": true,
         "level": 0,
         "minWidth": 30,
         "name": "",
         "position": 0,
         "resizable": true,
         "sortable": true,
         "toolTip": "",
         "type": "integer"
        },
        "qgrid_unfiltered_index": {
         "cssClass": "integer",
         "defaultSortAsc": true,
         "editable": true,
         "field": "qgrid_unfiltered_index",
         "id": "qgrid_unfiltered_index",
         "maxWidth": null,
         "minWidth": 30,
         "name": "qgrid_unfiltered_index",
         "position": 1,
         "resizable": true,
         "sortable": true,
         "toolTip": "",
         "type": "integer",
         "width": null
        }
       },
       "_df_json": "{\"schema\": {\"fields\":[{\"name\":\"index\",\"type\":\"integer\"},{\"name\":\"qgrid_unfiltered_index\",\"type\":\"integer\"},{\"name\":0,\"type\":\"number\"},{\"name\":1,\"type\":\"number\"},{\"name\":2,\"type\":\"number\"},{\"name\":3,\"type\":\"number\"},{\"name\":4,\"type\":\"number\"}],\"primaryKey\":[\"index\"],\"pandas_version\":\"0.20.0\"}, \"data\": [{\"index\":0,\"qgrid_unfiltered_index\":0,\"0\":0.69611,\"1\":0.33105,\"2\":0.27071,\"3\":0.14409,\"4\":0.26603},{\"index\":1,\"qgrid_unfiltered_index\":1,\"0\":0.09249,\"1\":0.91426,\"2\":0.19491,\"3\":0.66874,\"4\":0.385},{\"index\":2,\"qgrid_unfiltered_index\":2,\"0\":0.04429,\"1\":0.44848,\"2\":0.5117,\"3\":0.89265,\"4\":0.51075}]}",
       "_df_range": [
        0,
        100
       ],
       "_editable_rows": {},
       "_index_col_name": "qgrid_unfiltered_index",
       "_interval_columns": [],
       "_model_module_version": "1.1.1",
       "_multi_index": false,
       "_row_count": 3,
       "_row_styles": {},
       "_sort_ascending": true,
       "_sort_field": null,
       "_view_module_version": "1.1.1",
       "_viewport_range": [
        0,
        100
       ],
       "grid_options": {
        "autoEdit": false,
        "boldIndex": true,
        "defaultColumnWidth": 100,
        "editable": true,
        "enableColumnReorder": false,
        "enableTextSelectionOnCells": true,
        "explicitInitialization": true,
        "filterable": true,
        "forceFitColumns": false,
        "fullWidthRows": true,
        "highlightSelectedCell": false,
        "highlightSelectedRow": true,
        "maxVisibleRows": 15,
        "minVisibleRows": 8,
        "rowHeight": 28,
        "sortable": true,
        "syncColumnCellResize": true
       },
       "id": "ce0850ad-2307-469d-9a5a-ecbd166f0704",
       "layout": "IPY_MODEL_82cdb878d2304e3cb6bec6e39ea04707",
       "precision": 5,
       "show_toolbar": false
      }
     },
     "083601f9f1554d18a67d8d4219136a8c": {
      "model_module": "qgrid",
      "model_module_version": "1.1.1",
      "model_name": "QgridModel",
      "state": {
       "_columns": {
        "0": {
         "cssClass": "number",
         "defaultSortAsc": true,
         "editable": true,
         "field": 0,
         "id": 0,
         "minWidth": 30,
         "name": 0,
         "position": 2,
         "resizable": true,
         "sortable": true,
         "toolTip": "",
         "type": "number"
        },
        "1": {
         "cssClass": "number",
         "defaultSortAsc": true,
         "editable": true,
         "field": 1,
         "id": 1,
         "minWidth": 30,
         "name": 1,
         "position": 3,
         "resizable": true,
         "sortable": true,
         "toolTip": "",
         "type": "number"
        },
        "2": {
         "cssClass": "number",
         "defaultSortAsc": true,
         "editable": true,
         "field": 2,
         "id": 2,
         "minWidth": 30,
         "name": 2,
         "position": 4,
         "resizable": true,
         "sortable": true,
         "toolTip": "",
         "type": "number"
        },
        "3": {
         "cssClass": "number",
         "defaultSortAsc": true,
         "editable": true,
         "field": 3,
         "id": 3,
         "minWidth": 30,
         "name": 3,
         "position": 5,
         "resizable": true,
         "sortable": true,
         "toolTip": "",
         "type": "number"
        },
        "4": {
         "cssClass": "number",
         "defaultSortAsc": true,
         "editable": true,
         "field": 4,
         "id": 4,
         "minWidth": 30,
         "name": 4,
         "position": 6,
         "resizable": true,
         "sortable": true,
         "toolTip": "",
         "type": "number"
        },
        "index": {
         "cssClass": "integer first-idx-col idx-col",
         "defaultSortAsc": true,
         "editable": true,
         "field": "index",
         "first_index": true,
         "id": "index",
         "index_display_text": "",
         "is_index": true,
         "level": 0,
         "minWidth": 30,
         "name": "",
         "position": 0,
         "resizable": true,
         "sortable": true,
         "toolTip": "",
         "type": "integer"
        },
        "qgrid_unfiltered_index": {
         "cssClass": "integer",
         "defaultSortAsc": true,
         "editable": true,
         "field": "qgrid_unfiltered_index",
         "id": "qgrid_unfiltered_index",
         "maxWidth": null,
         "minWidth": 30,
         "name": "qgrid_unfiltered_index",
         "position": 1,
         "resizable": true,
         "sortable": true,
         "toolTip": "",
         "type": "integer",
         "width": null
        }
       },
       "_df_json": "{\"schema\": {\"fields\":[{\"name\":\"index\",\"type\":\"integer\"},{\"name\":\"qgrid_unfiltered_index\",\"type\":\"integer\"},{\"name\":0,\"type\":\"number\"},{\"name\":1,\"type\":\"number\"},{\"name\":2,\"type\":\"number\"},{\"name\":3,\"type\":\"number\"},{\"name\":4,\"type\":\"number\"}],\"primaryKey\":[\"index\"],\"pandas_version\":\"0.20.0\"}, \"data\": [{\"index\":0,\"qgrid_unfiltered_index\":0,\"0\":0.09835,\"1\":0.65988,\"2\":0.24213,\"3\":0.1324,\"4\":0.21811},{\"index\":1,\"qgrid_unfiltered_index\":1,\"0\":0.11348,\"1\":0.17392,\"2\":0.18452,\"3\":0.25759,\"4\":0.45406},{\"index\":2,\"qgrid_unfiltered_index\":2,\"0\":0.77328,\"1\":0.2921,\"2\":0.37934,\"3\":0.87462,\"4\":0.93311}]}",
       "_df_range": [
        0,
        100
       ],
       "_editable_rows": {},
       "_index_col_name": "qgrid_unfiltered_index",
       "_interval_columns": [],
       "_model_module_version": "1.1.1",
       "_multi_index": false,
       "_row_count": 3,
       "_row_styles": {},
       "_sort_ascending": true,
       "_sort_field": null,
       "_view_module_version": "1.1.1",
       "_viewport_range": [
        0,
        100
       ],
       "grid_options": {
        "autoEdit": false,
        "boldIndex": true,
        "defaultColumnWidth": 150,
        "editable": true,
        "enableColumnReorder": false,
        "enableTextSelectionOnCells": true,
        "explicitInitialization": true,
        "filterable": true,
        "forceFitColumns": true,
        "fullWidthRows": true,
        "highlightSelectedCell": false,
        "highlightSelectedRow": true,
        "maxVisibleRows": 15,
        "minVisibleRows": 8,
        "rowHeight": 28,
        "sortable": true,
        "syncColumnCellResize": true
       },
       "id": "374d9446-5bbd-4b2d-abee-f4aa4e568b0d",
       "layout": "IPY_MODEL_697e6d7634504a93aa772847a0a7c701",
       "precision": 5,
       "show_toolbar": false
      }
     },
     "1888be69088449158a37f2628e70bd42": {
      "model_module": "@jupyter-widgets/base",
      "model_module_version": "1.2.0",
      "model_name": "LayoutModel",
      "state": {}
     },
     "1fa139a4198a4505b39adf99ed11f14c": {
      "model_module": "qgrid",
      "model_module_version": "1.1.1",
      "model_name": "QgridModel",
      "state": {
       "_columns": {
        "0": {
         "cssClass": "number",
         "defaultSortAsc": true,
         "editable": true,
         "field": 0,
         "id": 0,
         "maxWidth": null,
         "minWidth": 30,
         "name": 0,
         "position": 2,
         "resizable": true,
         "sortable": true,
         "toolTip": "",
         "type": "number",
         "width": null
        },
        "1": {
         "cssClass": "number",
         "defaultSortAsc": true,
         "editable": true,
         "field": 1,
         "id": 1,
         "maxWidth": null,
         "minWidth": 30,
         "name": 1,
         "position": 3,
         "resizable": true,
         "sortable": true,
         "toolTip": "",
         "type": "number",
         "width": null
        },
        "2": {
         "cssClass": "number",
         "defaultSortAsc": true,
         "editable": true,
         "field": 2,
         "id": 2,
         "maxWidth": null,
         "minWidth": 30,
         "name": 2,
         "position": 4,
         "resizable": true,
         "sortable": true,
         "toolTip": "",
         "type": "number",
         "width": null
        },
        "3": {
         "cssClass": "number",
         "defaultSortAsc": true,
         "editable": true,
         "field": 3,
         "id": 3,
         "maxWidth": null,
         "minWidth": 30,
         "name": 3,
         "position": 5,
         "resizable": true,
         "sortable": true,
         "toolTip": "",
         "type": "number",
         "width": null
        },
        "4": {
         "cssClass": "number",
         "defaultSortAsc": true,
         "editable": true,
         "field": 4,
         "id": 4,
         "maxWidth": null,
         "minWidth": 30,
         "name": 4,
         "position": 6,
         "resizable": true,
         "sortable": true,
         "toolTip": "",
         "type": "number",
         "width": null
        },
        "index": {
         "cssClass": "integer",
         "defaultSortAsc": true,
         "editable": true,
         "field": "index",
         "first_index": true,
         "id": "index",
         "index_display_text": "",
         "is_index": true,
         "level": 0,
         "maxWidth": null,
         "minWidth": 30,
         "name": "index",
         "position": 0,
         "resizable": true,
         "sortable": true,
         "toolTip": "",
         "type": "integer",
         "width": null
        },
        "qgrid_unfiltered_index": {
         "cssClass": "integer",
         "defaultSortAsc": true,
         "editable": true,
         "field": "qgrid_unfiltered_index",
         "id": "qgrid_unfiltered_index",
         "maxWidth": null,
         "minWidth": 30,
         "name": "qgrid_unfiltered_index",
         "position": 1,
         "resizable": true,
         "sortable": true,
         "toolTip": "",
         "type": "integer",
         "width": null
        }
       },
       "_df_json": "{\"schema\": {\"fields\":[{\"name\":\"index\",\"type\":\"integer\"},{\"name\":\"qgrid_unfiltered_index\",\"type\":\"integer\"},{\"name\":0,\"type\":\"number\"},{\"name\":1,\"type\":\"number\"},{\"name\":2,\"type\":\"number\"},{\"name\":3,\"type\":\"number\"},{\"name\":4,\"type\":\"number\"}],\"primaryKey\":[\"index\"],\"pandas_version\":\"0.20.0\"}, \"data\": [{\"index\":0,\"qgrid_unfiltered_index\":0,\"0\":0.62976,\"1\":0.16175,\"2\":0.35781,\"3\":0.90702,\"4\":0.37236},{\"index\":1,\"qgrid_unfiltered_index\":1,\"0\":0.40017,\"1\":0.93055,\"2\":0.47574,\"3\":0.49548,\"4\":0.67523},{\"index\":2,\"qgrid_unfiltered_index\":2,\"0\":0.5412,\"1\":0.90417,\"2\":0.26297,\"3\":0.1586,\"4\":0.27445}]}",
       "_df_range": [
        0,
        100
       ],
       "_editable_rows": {},
       "_index_col_name": "qgrid_unfiltered_index",
       "_interval_columns": [],
       "_model_module_version": "1.1.1",
       "_multi_index": false,
       "_row_count": 3,
       "_row_styles": {},
       "_sort_ascending": true,
       "_sort_field": null,
       "_view_module_version": "1.1.1",
       "_viewport_range": [
        0,
        100
       ],
       "grid_options": {
        "autoEdit": false,
        "boldIndex": true,
        "defaultColumnWidth": 150,
        "editable": true,
        "enableColumnReorder": false,
        "enableTextSelectionOnCells": true,
        "explicitInitialization": true,
        "filterable": true,
        "forceFitColumns": true,
        "fullWidthRows": true,
        "highlightSelectedCell": false,
        "highlightSelectedRow": true,
        "maxVisibleRows": 15,
        "minVisibleRows": 8,
        "rowHeight": 28,
        "sortable": true,
        "syncColumnCellResize": true
       },
       "id": "5d9cba37-d15e-451f-9639-32bc0d2eec65",
       "layout": "IPY_MODEL_761f962f29f04938a6dec4a95c6b7309",
       "precision": 5,
       "show_toolbar": false
      }
     },
     "697e6d7634504a93aa772847a0a7c701": {
      "model_module": "@jupyter-widgets/base",
      "model_module_version": "1.2.0",
      "model_name": "LayoutModel",
      "state": {}
     },
     "761f962f29f04938a6dec4a95c6b7309": {
      "model_module": "@jupyter-widgets/base",
      "model_module_version": "1.2.0",
      "model_name": "LayoutModel",
      "state": {}
     },
     "82cdb878d2304e3cb6bec6e39ea04707": {
      "model_module": "@jupyter-widgets/base",
      "model_module_version": "1.2.0",
      "model_name": "LayoutModel",
      "state": {}
     },
     "a09abb22990f4ee993b90ade8273186d": {
      "model_module": "qgrid",
      "model_module_version": "1.1.1",
      "model_name": "QgridModel",
      "state": {
       "_columns": {
        "0": {
         "cssClass": "number",
         "defaultSortAsc": true,
         "editable": true,
         "field": 0,
         "id": 0,
         "minWidth": 30,
         "name": 0,
         "position": 2,
         "resizable": true,
         "sortable": true,
         "toolTip": "",
         "type": "number"
        },
        "1": {
         "cssClass": "number",
         "defaultSortAsc": true,
         "editable": true,
         "field": 1,
         "id": 1,
         "minWidth": 30,
         "name": 1,
         "position": 3,
         "resizable": true,
         "sortable": true,
         "toolTip": "",
         "type": "number"
        },
        "2": {
         "cssClass": "number",
         "defaultSortAsc": true,
         "editable": true,
         "field": 2,
         "id": 2,
         "minWidth": 30,
         "name": 2,
         "position": 4,
         "resizable": true,
         "sortable": true,
         "toolTip": "",
         "type": "number"
        },
        "3": {
         "cssClass": "number",
         "defaultSortAsc": true,
         "editable": true,
         "field": 3,
         "id": 3,
         "minWidth": 30,
         "name": 3,
         "position": 5,
         "resizable": true,
         "sortable": true,
         "toolTip": "",
         "type": "number"
        },
        "4": {
         "cssClass": "number",
         "defaultSortAsc": true,
         "editable": true,
         "field": 4,
         "id": 4,
         "minWidth": 30,
         "name": 4,
         "position": 6,
         "resizable": true,
         "sortable": true,
         "toolTip": "",
         "type": "number"
        },
        "index": {
         "cssClass": "integer first-idx-col idx-col",
         "defaultSortAsc": true,
         "editable": true,
         "field": "index",
         "first_index": true,
         "id": "index",
         "index_display_text": "",
         "is_index": true,
         "level": 0,
         "minWidth": 30,
         "name": "",
         "position": 0,
         "resizable": true,
         "sortable": true,
         "toolTip": "",
         "type": "integer"
        },
        "qgrid_unfiltered_index": {
         "cssClass": "integer",
         "defaultSortAsc": true,
         "editable": true,
         "field": "qgrid_unfiltered_index",
         "id": "qgrid_unfiltered_index",
         "maxWidth": null,
         "minWidth": 30,
         "name": "qgrid_unfiltered_index",
         "position": 1,
         "resizable": true,
         "sortable": true,
         "toolTip": "",
         "type": "integer",
         "width": null
        }
       },
       "_df_json": "{\"schema\": {\"fields\":[{\"name\":\"index\",\"type\":\"integer\"},{\"name\":\"qgrid_unfiltered_index\",\"type\":\"integer\"},{\"name\":0,\"type\":\"number\"},{\"name\":1,\"type\":\"number\"},{\"name\":2,\"type\":\"number\"},{\"name\":3,\"type\":\"number\"},{\"name\":4,\"type\":\"number\"}],\"primaryKey\":[\"index\"],\"pandas_version\":\"0.20.0\"}, \"data\": [{\"index\":0,\"qgrid_unfiltered_index\":0,\"0\":0.9756,\"1\":0.5265,\"2\":0.9026,\"3\":0.39847,\"4\":0.95962},{\"index\":1,\"qgrid_unfiltered_index\":1,\"0\":0.17862,\"1\":0.45683,\"2\":0.67416,\"3\":0.0153,\"4\":0.34037},{\"index\":2,\"qgrid_unfiltered_index\":2,\"0\":0.40452,\"1\":0.33241,\"2\":0.87691,\"3\":0.38423,\"4\":0.50374}]}",
       "_df_range": [
        0,
        100
       ],
       "_editable_rows": {},
       "_index_col_name": "qgrid_unfiltered_index",
       "_interval_columns": [],
       "_model_module_version": "1.1.1",
       "_multi_index": false,
       "_row_count": 3,
       "_row_styles": {},
       "_sort_ascending": true,
       "_sort_field": null,
       "_view_module_version": "1.1.1",
       "_viewport_range": [
        0,
        100
       ],
       "grid_options": {
        "autoEdit": false,
        "boldIndex": true,
        "defaultColumnWidth": 150,
        "editable": true,
        "enableColumnReorder": false,
        "enableTextSelectionOnCells": true,
        "explicitInitialization": true,
        "filterable": true,
        "forceFitColumns": true,
        "fullWidthRows": true,
        "highlightSelectedCell": false,
        "highlightSelectedRow": true,
        "maxVisibleRows": 15,
        "minVisibleRows": 8,
        "rowHeight": 28,
        "sortable": true,
        "syncColumnCellResize": true
       },
       "id": "7c8eabad-3eda-425f-9e85-dc39655377d8",
       "layout": "IPY_MODEL_1888be69088449158a37f2628e70bd42",
       "precision": 5,
       "show_toolbar": false
      }
     }
    },
    "version_major": 2,
    "version_minor": 0
   }
  }
 },
 "nbformat": 4,
 "nbformat_minor": 2
}
