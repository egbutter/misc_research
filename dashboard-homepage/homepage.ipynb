{
 "cells": [
  {
   "cell_type": "code",
   "execution_count": 63,
   "metadata": {},
   "outputs": [],
   "source": [
    "#!pip install --user nteract-scrapbook"
   ]
  },
  {
   "cell_type": "code",
   "execution_count": 64,
   "metadata": {},
   "outputs": [],
   "source": [
    "import os\n",
    "import ipyvuetify as v\n",
    "import scrapbook as sb"
   ]
  },
  {
   "cell_type": "code",
   "execution_count": 65,
   "metadata": {},
   "outputs": [],
   "source": [
    "button_list = {\n",
    "    'LINK': 'http://www.google.com',\n",
    "}\n",
    "my_dashboard_name = 'Viola Dashboard Server'\n",
    "voila_base_url = 'http://localhost:8888/'"
   ]
  },
  {
   "cell_type": "code",
   "execution_count": 66,
   "metadata": {},
   "outputs": [],
   "source": [
    "additional = [\n",
    "    {'title': 'Another Link',\n",
    "      'description': 'This is a link from the additional config.',\n",
    "      'link': 'https://github.com'}\n",
    "]"
   ]
  },
  {
   "cell_type": "code",
   "execution_count": 67,
   "metadata": {},
   "outputs": [],
   "source": [
    "lst = [\n",
    "    v.Btn(children=[name], flat=True, href=link, target='_blank')\n",
    "    for name, link in button_list.items()\n",
    "]"
   ]
  },
  {
   "cell_type": "code",
   "execution_count": 68,
   "metadata": {},
   "outputs": [],
   "source": [
    "files = [f for f in os.listdir('.') if os.path.isfile(f)]\n",
    "files.remove('homepage.ipynb')"
   ]
  },
  {
   "cell_type": "code",
   "execution_count": 69,
   "metadata": {},
   "outputs": [],
   "source": [
    "for file in files:\n",
    "    extension = file.split('.')[-1]\n",
    "    if extension != 'ipynb':\n",
    "        files.remove(file)"
   ]
  },
  {
   "cell_type": "code",
   "execution_count": 70,
   "metadata": {},
   "outputs": [],
   "source": [
    "items = []\n",
    "for i, f in enumerate(files):\n",
    "    this_item = {}\n",
    "    this_item['title'] = f\n",
    "    this_item['description'] = 'A Jupyter Notebook.'\n",
    "    this_item['link'] = voila_base_url + f\n",
    "\n",
    "    nb = sb.read_notebook(f)\n",
    "    for key, value in nb.scraps.data_dict.items():\n",
    "        this_item[key] = value\n",
    "    items.append(this_item)"
   ]
  },
  {
   "cell_type": "code",
   "execution_count": 71,
   "metadata": {},
   "outputs": [],
   "source": [
    "items.extend(additional)"
   ]
  },
  {
   "cell_type": "code",
   "execution_count": 72,
   "metadata": {},
   "outputs": [
    {
     "data": {
      "text/plain": [
       "[{'title': 'Dashboard A',\n",
       "  'description': 'Lorem ipsum dolor sit amet, consectetur adipiscing elit.',\n",
       "  'link': 'http://localhost:8888/notebook_a.ipynb'},\n",
       " {'title': 'Dashboard B',\n",
       "  'description': 'Lorem ipsum dolor sit amet, consectetur adipiscing elit, sed do eiusmod tempor incididunt ut labore et dolore magna aliqua.',\n",
       "  'link': 'http://localhost:8888/notebook_b.ipynb'},\n",
       " {'title': 'notebook_c.ipynb',\n",
       "  'description': 'A Jupyter Notebook.',\n",
       "  'link': 'http://localhost:8888/notebook_c.ipynb'},\n",
       " {'title': 'Another Link',\n",
       "  'description': 'This is a link from the additional config.',\n",
       "  'link': 'https://github/com'}]"
      ]
     },
     "execution_count": 72,
     "metadata": {},
     "output_type": "execute_result"
    }
   ],
   "source": [
    "items"
   ]
  },
  {
   "cell_type": "code",
   "execution_count": 73,
   "metadata": {},
   "outputs": [],
   "source": [
    "toolbar = v.Toolbar(\n",
    "    children=[\n",
    "        v.ToolbarTitle(children=[my_dashboard_name]),\n",
    "        v.Spacer(), # Fills empty space\n",
    "        v.ToolbarItems(children=lst)\n",
    "    ],\n",
    "    app=True\n",
    ")"
   ]
  },
  {
   "cell_type": "code",
   "execution_count": 74,
   "metadata": {},
   "outputs": [],
   "source": [
    "cards = [\n",
    "    v.Flex(ma_2=True, children=[\n",
    "        v.Card(elevation=5,\n",
    "               align_center=True,\n",
    "               min_height='200px',\n",
    "               min_width='200px',\n",
    "               max_height='200px',\n",
    "               max_width='200px',\n",
    "               href=details['link'],\n",
    "               target='_blank',\n",
    "               children=[\n",
    "                   v.CardTitle(children=[details['title']]),\n",
    "                   v.CardText(children=[details['description']]),\n",
    "               ])\n",
    "    ])\n",
    "    for details in items\n",
    "]"
   ]
  },
  {
   "cell_type": "code",
   "execution_count": 75,
   "metadata": {},
   "outputs": [],
   "source": [
    "app = v.Container(\n",
    "    fluid = True,\n",
    "    children = [\n",
    "        toolbar,\n",
    "        v.Layout(pa_5=True, wrap=True, children=cards)\n",
    "    ]\n",
    ")"
   ]
  },
  {
   "cell_type": "code",
   "execution_count": 76,
   "metadata": {},
   "outputs": [
    {
     "data": {
      "application/vnd.jupyter.widget-view+json": {
       "model_id": "1657a8d06e9543de96bcbebed0a7c9ec",
       "version_major": 2,
       "version_minor": 0
      },
      "text/plain": [
       "Container(children=[Toolbar(app=True, children=[ToolbarTitle(children=['Viola Dashboard Server']), Spacer(), T…"
      ]
     },
     "metadata": {},
     "output_type": "display_data"
    }
   ],
   "source": [
    "app"
   ]
  },
  {
   "cell_type": "code",
   "execution_count": null,
   "metadata": {},
   "outputs": [],
   "source": []
  },
  {
   "cell_type": "code",
   "execution_count": null,
   "metadata": {},
   "outputs": [],
   "source": []
  },
  {
   "cell_type": "code",
   "execution_count": null,
   "metadata": {},
   "outputs": [],
   "source": []
  }
 ],
 "metadata": {
  "kernelspec": {
   "display_name": "Python 3",
   "language": "python",
   "name": "python3"
  },
  "language_info": {
   "codemirror_mode": {
    "name": "ipython",
    "version": 3
   },
   "file_extension": ".py",
   "mimetype": "text/x-python",
   "name": "python",
   "nbconvert_exporter": "python",
   "pygments_lexer": "ipython3",
   "version": "3.6.6"
  }
 },
 "nbformat": 4,
 "nbformat_minor": 2
}
