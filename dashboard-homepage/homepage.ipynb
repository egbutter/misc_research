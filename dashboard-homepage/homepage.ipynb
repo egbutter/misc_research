{
 "cells": [
  {
   "cell_type": "code",
   "execution_count": 1,
   "metadata": {},
   "outputs": [],
   "source": [
    "#!pip install --user nteract-scrapbook"
   ]
  },
  {
   "cell_type": "code",
   "execution_count": 2,
   "metadata": {},
   "outputs": [],
   "source": [
    "import os\n",
    "import ipyvuetify as v\n",
    "import scrapbook as sb"
   ]
  },
  {
   "cell_type": "code",
   "execution_count": 3,
   "metadata": {},
   "outputs": [],
   "source": [
    "button_list = {\n",
    "    'LINK': 'http://www.google.com',\n",
    "}\n",
    "my_dashboard_name = 'Viola Dashboard Server'\n",
    "voila_base_url = 'http://localhost:8888/'"
   ]
  },
  {
   "cell_type": "code",
   "execution_count": 4,
   "metadata": {},
   "outputs": [],
   "source": [
    "lst = [\n",
    "    v.Btn(children=[name], flat=True, href=link, target='_blank')\n",
    "    for name, link in button_list.items()\n",
    "]"
   ]
  },
  {
   "cell_type": "code",
   "execution_count": 5,
   "metadata": {},
   "outputs": [],
   "source": [
    "files = [f for f in os.listdir('.') if os.path.isfile(f)]\n",
    "files.remove('homepage.ipynb')"
   ]
  },
  {
   "cell_type": "code",
   "execution_count": 6,
   "metadata": {},
   "outputs": [],
   "source": [
    "for file in files:\n",
    "    extension = file.split('.')[-1]\n",
    "    if extension != 'ipynb':\n",
    "        files.remove(file)"
   ]
  },
  {
   "cell_type": "code",
   "execution_count": 7,
   "metadata": {},
   "outputs": [],
   "source": [
    "items = {}\n",
    "for i, f in enumerate(files):\n",
    "    items[i] = {}\n",
    "    items[i]['title'] = f\n",
    "    items[i]['description'] = 'A Jupyter Notebook.'\n",
    "    items[i]['logo'] = 'https://upload.wikimedia.org/wikipedia/commons/3/38/Jupyter_logo.svg'\n",
    "    items[i]['link'] = voila_base_url + f\n",
    "\n",
    "    nb = sb.read_notebook(f)\n",
    "    for key, value in nb.scraps.data_dict.items():\n",
    "        items[i][key] = value"
   ]
  },
  {
   "cell_type": "code",
   "execution_count": 8,
   "metadata": {},
   "outputs": [],
   "source": [
    "toolbar = v.Toolbar(\n",
    "    children=[\n",
    "        v.ToolbarTitle(children=[my_dashboard_name]),\n",
    "        v.Spacer(), # Fills empty space\n",
    "        v.ToolbarItems(children=lst)\n",
    "    ],\n",
    "    app=True\n",
    ")"
   ]
  },
  {
   "cell_type": "code",
   "execution_count": 9,
   "metadata": {},
   "outputs": [],
   "source": [
    "cards = [\n",
    "    v.Flex(ma_2=True, children=[\n",
    "        v.Card(elevation=5,\n",
    "               align_center=True,\n",
    "               min_height='200px',\n",
    "               min_width='200px',\n",
    "               max_height='200px',\n",
    "               max_width='200px',\n",
    "               href=details['link'],\n",
    "               target='_blank',\n",
    "               children=[\n",
    "                   v.CardTitle(children=[details['title'], v.Spacer(), v.Img(max_height='20px', src=details['logo'])]),\n",
    "                   v.CardText(children=[details['description']]),\n",
    "               ])\n",
    "    ])\n",
    "    for name, details in items.items()\n",
    "]"
   ]
  },
  {
   "cell_type": "code",
   "execution_count": 10,
   "metadata": {},
   "outputs": [],
   "source": [
    "app = v.Container(\n",
    "    fluid = True,\n",
    "    children = [\n",
    "        toolbar,\n",
    "        v.Layout(pa_5=True, wrap=True, children=cards)\n",
    "    ]\n",
    ")"
   ]
  },
  {
   "cell_type": "code",
   "execution_count": 11,
   "metadata": {},
   "outputs": [
    {
     "data": {
      "application/vnd.jupyter.widget-view+json": {
       "model_id": "a4e9e34da5af4d0c8ff102bf6679dba1",
       "version_major": 2,
       "version_minor": 0
      },
      "text/plain": [
       "Container(children=[Toolbar(app=True, children=[ToolbarTitle(children=['Viola Dashboard Server']), Spacer(), T…"
      ]
     },
     "metadata": {},
     "output_type": "display_data"
    }
   ],
   "source": [
    "app"
   ]
  },
  {
   "cell_type": "code",
   "execution_count": null,
   "metadata": {},
   "outputs": [],
   "source": []
  },
  {
   "cell_type": "code",
   "execution_count": null,
   "metadata": {},
   "outputs": [],
   "source": []
  },
  {
   "cell_type": "code",
   "execution_count": null,
   "metadata": {},
   "outputs": [],
   "source": []
  }
 ],
 "metadata": {
  "kernelspec": {
   "display_name": "Python 3",
   "language": "python",
   "name": "python3"
  },
  "language_info": {
   "codemirror_mode": {
    "name": "ipython",
    "version": 3
   },
   "file_extension": ".py",
   "mimetype": "text/x-python",
   "name": "python",
   "nbconvert_exporter": "python",
   "pygments_lexer": "ipython3",
   "version": "3.6.6"
  }
 },
 "nbformat": 4,
 "nbformat_minor": 2
}
