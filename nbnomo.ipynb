{
 "cells": [
  {
   "cell_type": "markdown",
   "metadata": {},
   "source": [
    "![cob](https://i.imgur.com/xSzBVj6.png)\n",
    "# A Story of Naive Bayes, the Nomogram, and Machine Learning Interpretablility\n",
    "\n",
    "Downey, Think Bayes; log odd chapter\n",
    "https://www.saedsayad.com/docs/Nomograms.pdf\n",
    "\n",
    "\n",
    "- Bayes Rule\n",
    "- NB from scratch\n",
    "    - Make a frequency table\n",
    "    - Calc class probability\n",
    "    - This is called Multinomial Bayes\n",
    "- NB as a form of Bayesian Network/PGM\n",
    "- Gaussian NB\n",
    "- The Log Odds form of Bayes Rule and NB\n",
    "- Naive Bayes is a Linear Model\n",
    "- ML Interpretability: Feature Importance\n",
    "- Cosmopolitan Bayes\n",
    "\n",
    "Naive Bayes from first principles "
   ]
  },
  {
   "cell_type": "code",
   "execution_count": null,
   "metadata": {},
   "outputs": [],
   "source": []
  },
  {
   "cell_type": "code",
   "execution_count": null,
   "metadata": {},
   "outputs": [],
   "source": []
  },
  {
   "cell_type": "markdown",
   "metadata": {},
   "source": [
    "## Naive Bayes is a Linear Model\n",
    "![gif](https://media.giphy.com/media/glmRyiSI3v5E4/giphy-downsized-large.gif)\n"
   ]
  },
  {
   "cell_type": "code",
   "execution_count": null,
   "metadata": {},
   "outputs": [],
   "source": []
  }
 ],
 "metadata": {
  "kernelspec": {
   "display_name": "Python 3",
   "language": "python",
   "name": "python3"
  },
  "language_info": {
   "codemirror_mode": {
    "name": "ipython",
    "version": 3
   },
   "file_extension": ".py",
   "mimetype": "text/x-python",
   "name": "python",
   "nbconvert_exporter": "python",
   "pygments_lexer": "ipython3",
   "version": "3.6.6"
  }
 },
 "nbformat": 4,
 "nbformat_minor": 2
}
